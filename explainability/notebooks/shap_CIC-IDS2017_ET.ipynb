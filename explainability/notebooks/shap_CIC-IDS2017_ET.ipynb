{
 "cells": [
  {
   "cell_type": "code",
   "execution_count": 1,
   "metadata": {},
   "outputs": [],
   "source": [
    "import pandas as pd \n",
    "import numpy as np\n",
    "import matplotlib.pyplot as plt\n",
    "import glob\n",
    "from sklearn.model_selection import train_test_split\n",
    "from sklearn.preprocessing import LabelEncoder, StandardScaler, MinMaxScaler\n",
    "from sklearn.ensemble import RandomForestClassifier, ExtraTreesClassifier, AdaBoostClassifier\n",
    "import warnings\n",
    "warnings.filterwarnings(\"ignore\")\n",
    "pd.set_option('display.max_columns', 200)\n",
    "pd.set_option('display.max_rows', 200)"
   ]
  },
  {
   "cell_type": "code",
   "execution_count": null,
   "metadata": {},
   "outputs": [],
   "source": []
  },
  {
   "cell_type": "code",
   "execution_count": 2,
   "metadata": {},
   "outputs": [],
   "source": [
    "cols = [ 'expiration_id', 'protocol', 'src_port', 'dst_port',\n",
    "       'ip_version',   'bidirectional_duration_ms', 'bidirectional_packets',\n",
    "       'bidirectional_bytes', 'src2dst_duration_ms', 'src2dst_packets',\n",
    "       'src2dst_bytes', 'dst2src_duration_ms', 'dst2src_packets', 'dst2src_bytes',\n",
    "       'bidirectional_min_ps', 'bidirectional_mean_ps',\n",
    "       'bidirectional_stddev_ps', 'bidirectional_max_ps',\n",
    "       'src2dst_min_ps', 'src2dst_mean_ps', 'src2dst_stddev_ps',\n",
    "       'src2dst_max_ps', 'dst2src_min_ps', 'dst2src_mean_ps',\n",
    "       'dst2src_stddev_ps', 'dst2src_max_ps', 'bidirectional_min_piat_ms',\n",
    "       'bidirectional_mean_piat_ms', 'bidirectional_stddev_piat_ms',\n",
    "       'bidirectional_max_piat_ms', 'src2dst_min_piat_ms',\n",
    "       'src2dst_mean_piat_ms', 'src2dst_stddev_piat_ms',\n",
    "       'src2dst_max_piat_ms', 'dst2src_min_piat_ms',\n",
    "       'dst2src_mean_piat_ms', 'dst2src_stddev_piat_ms',\n",
    "       'dst2src_max_piat_ms', 'bidirectional_syn_packets', 'bidirectional_ack_packets',\n",
    "       'bidirectional_psh_packets', 'bidirectional_rst_packets',\n",
    "       'bidirectional_fin_packets', 'src2dst_syn_packets', 'src2dst_ack_packets',\n",
    "       'src2dst_psh_packets', 'src2dst_rst_packets',\n",
    "       'src2dst_fin_packets', 'dst2src_syn_packets', 'dst2src_ack_packets',\n",
    "       'dst2src_psh_packets', 'dst2src_rst_packets',\n",
    "       'dst2src_fin_packets','application_name',\n",
    "       'application_category_name', 'application_is_guessed',\n",
    "       'application_confidence', 'content_type', 'udps.num_pkts_up_to_128_bytes',\n",
    "       'udps.num_pkts_128_to_256_bytes', 'udps.num_pkts_256_to_512_bytes',\n",
    "       'udps.num_pkts_512_to_1024_bytes',\n",
    "       'udps.num_pkts_1024_to_1514_bytes', 'udps.min_ttl', 'udps.max_ttl',\n",
    "       'udps.min_ip_pkt_len', 'udps.max_ip_pkt_len', 'udps.src2dst_flags',\n",
    "       'udps.dst2src_flags', 'udps.tcp_flags', 'udps.tcp_win_max_in',\n",
    "       'udps.tcp_win_max_out', 'udps.icmp_type', 'udps.icmp_v4_type',\n",
    "       'udps.dns_query_id', 'udps.dns_query_type', 'udps.dns_ttl_answer',\n",
    "       'udps.ftp_command_ret_code', 'udps.retransmitted_in_packets',\n",
    "       'udps.retransmitted_out_packets', 'udps.retransmitted_in_bytes',\n",
    "       'udps.retransmitted_out_bytes', 'udps.src_to_dst_second_bytes',\n",
    "       'udps.dst_to_src_second_bytes', 'udps.src_to_dst_avg_throughput',\n",
    "       'udps.dst_to_src_avg_throughput', 'udps.src_to_dst_second_bytes2',\n",
    "       'udps.dst_to_src_second_bytes2', 'udps.src_to_dst_avg_throughput2',\n",
    "       'udps.dst_to_src_avg_throughput2', 'udps.tcp_init_ms',\n",
    "       'udps.tcp_synack_ack_ms', 'udps.tcp_half_closed_time_ms',\n",
    "       'udps.num_pkts_after_termination',\n",
    "       'udps.src2dst_first_packet_payload_len',\n",
    "       'udps.dst2src_first_packet_payload_len',\n",
    "       'udps.bidirectional_transport_bytes',\n",
    "       'udps.bidirectional_payload_bytes', 'udps.src2dst_transport_bytes',\n",
    "       'udps.src2dst_payload_bytes', 'udps.dst2src_transport_bytes',\n",
    "       'udps.dst2src_payload_bytes',\n",
    "       'udps.src2dst_most_freq_payload_ratio',\n",
    "       'udps.src2dst_most_freq_payload_len',\n",
    "       'udps.dst2src_most_freq_payload_ratio',\n",
    "       'udps.dst2src_most_freq_payload_len',\n",
    "       'udps.bidirectional_mean_packet_relative_times',\n",
    "       'udps.bidirectional_stddev_packet_relative_times',\n",
    "       'udps.bidirectional_variance_packet_relative_times',\n",
    "       'udps.bidirectional_coeff_of_var_packet_relative_times',\n",
    "       'udps.bidirectional_skew_from_median_packet_relative_times',\n",
    "       'udps.src2dst_mean_packet_relative_times',\n",
    "       'udps.src2dst_stddev_packet_relative_times',\n",
    "       'udps.src2dst_variance_packet_relative_times',\n",
    "       'udps.src2dst_coeff_of_var_packet_relative_times',\n",
    "       'udps.src2dst_skew_from_median_packet_relative_times',\n",
    "       'udps.dst2src_mean_packet_relative_times',\n",
    "       'udps.dst2src_stddev_packet_relative_times',\n",
    "       'udps.dst2src_variance_packet_relative_times',\n",
    "       'udps.dst2src_coeff_of_var_packet_relative_times',\n",
    "       'udps.dst2src_skew_from_median_packet_relative_times',\n",
    "       'udps.min_req_res_time_diff', 'udps.max_req_res_time_diff',\n",
    "       'udps.mean_req_res_time_diff', 'udps.stddev_req_res_time_diff',\n",
    "       'udps.variance_req_res_time_diff',\n",
    "       'udps.coeff_of_var_req_res_time_diff',\n",
    "       'udps.skew_from_median_req_res_time_diff',\n",
    "       'udps.src2dst_small_packet_payload_packets',\n",
    "       'udps.src2dst_small_packet_payload_ratio',\n",
    "       'udps.dst2src_small_packet_payload_packets',\n",
    "       'udps.dst2src_small_packet_payload_ratio',\n",
    "       'udps.sent_recv_packet_ratio',\n",
    "       'udps.bidirectional_ps_first_quartile',\n",
    "       'udps.bidirectional_ps_second_quartile',\n",
    "       'udps.bidirectional_ps_third_quartile',\n",
    "       'udps.bidirectional_ps_median_absoulte_deviation',\n",
    "       'udps.bidirectional_ps_skewness', 'udps.bidirectional_ps_kurtosis',\n",
    "       'udps.bidirectional_piat_first_quartile',\n",
    "       'udps.bidirectional_piat_second_quartile',\n",
    "       'udps.bidirectional_piat_third_quartile',\n",
    "       'udps.bidirectional_piat_median_absoulte_deviation',\n",
    "       'udps.bidirectional_piat_skewness',\n",
    "       'udps.bidirectional_piat_kurtosis',\n",
    "       'udps.median_req_res_time_diff', 'Attack']"
   ]
  },
  {
   "cell_type": "code",
   "execution_count": 3,
   "metadata": {},
   "outputs": [],
   "source": [
    "def normalize_content_type(x):\n",
    "    if str(x).isspace():\n",
    "        return \"unkown/unkown\"\n",
    "    elif \"/\" not in str(x):\n",
    "        return str(x)+\"/unkown\"\n",
    "    else:\n",
    "        return x"
   ]
  },
  {
   "cell_type": "code",
   "execution_count": 4,
   "metadata": {},
   "outputs": [],
   "source": [
    "def encode(df, cols):\n",
    "    \"\"\"\n",
    "    @param df pandas DataFrame\n",
    "    @param cols a list of columns to encode \n",
    "    @return a DataFrame with one-hot encoding\n",
    "    \"\"\"\n",
    "    les = {}\n",
    "    for each in cols:\n",
    "        le_col = LabelEncoder()\n",
    "        df[each] = le_col.fit_transform(df[each])\n",
    "        les[each] = le_col\n",
    "       \n",
    "    return df, les"
   ]
  },
  {
   "cell_type": "code",
   "execution_count": 6,
   "metadata": {},
   "outputs": [],
   "source": [
    "timeouts = [(0.5, 60), (0.5, 4), (0.5, 30), (0.5, 2)]"
   ]
  },
  {
   "cell_type": "code",
   "execution_count": 26,
   "metadata": {},
   "outputs": [
    {
     "name": "stdout",
     "output_type": "stream",
     "text": [
      "Processing timeout :  (0.5, 60)\n"
     ]
    },
    {
     "name": "stderr",
     "output_type": "stream",
     "text": [
      "[Parallel(n_jobs=-1)]: Using backend ThreadingBackend with 112 concurrent workers.\n",
      "[Parallel(n_jobs=-1)]: Done  79 out of 100 | elapsed:   13.2s remaining:    3.5s\n",
      "[Parallel(n_jobs=-1)]: Done 100 out of 100 | elapsed:   15.0s finished\n"
     ]
    },
    {
     "name": "stdout",
     "output_type": "stream",
     "text": [
      "Processing timeout :  (0.5, 4)\n"
     ]
    },
    {
     "name": "stderr",
     "output_type": "stream",
     "text": [
      "[Parallel(n_jobs=-1)]: Using backend ThreadingBackend with 112 concurrent workers.\n",
      "[Parallel(n_jobs=-1)]: Done  79 out of 100 | elapsed:   14.1s remaining:    3.7s\n",
      "[Parallel(n_jobs=-1)]: Done 100 out of 100 | elapsed:   15.3s finished\n"
     ]
    },
    {
     "name": "stdout",
     "output_type": "stream",
     "text": [
      "Processing timeout :  (0.5, 30)\n"
     ]
    },
    {
     "name": "stderr",
     "output_type": "stream",
     "text": [
      "[Parallel(n_jobs=-1)]: Using backend ThreadingBackend with 112 concurrent workers.\n",
      "[Parallel(n_jobs=-1)]: Done  79 out of 100 | elapsed:   13.6s remaining:    3.6s\n",
      "[Parallel(n_jobs=-1)]: Done 100 out of 100 | elapsed:   15.1s finished\n"
     ]
    },
    {
     "name": "stdout",
     "output_type": "stream",
     "text": [
      "Processing timeout :  (0.5, 2)\n"
     ]
    },
    {
     "name": "stderr",
     "output_type": "stream",
     "text": [
      "[Parallel(n_jobs=-1)]: Using backend ThreadingBackend with 112 concurrent workers.\n",
      "[Parallel(n_jobs=-1)]: Done  79 out of 100 | elapsed:   13.5s remaining:    3.6s\n",
      "[Parallel(n_jobs=-1)]: Done 100 out of 100 | elapsed:   15.1s finished\n"
     ]
    }
   ],
   "source": [
    "import pandas as pd\n",
    "from sklearn.model_selection import train_test_split\n",
    "from sklearn.ensemble import ExtraTreesClassifier\n",
    "import shap\n",
    "\n",
    "\n",
    "for timeout in timeouts:\n",
    "    print(\"Processing timeout : \", timeout)\n",
    "    idle, active = timeout\n",
    "    out_dir = f'/home/meryem.janati/lustre/nlp_team-um6p-st-sccs-id7fz1zvotk/IDS/janati/IDS/timeouts-IDS/NFStream/extractions/new_idle_{idle}min_active_{active}min/CIC-IDS-2017'\n",
    "    df = pd.read_csv(out_dir+\"/CIC-IDS-2017.csv\")\n",
    "\n",
    "    df = df[(~df.Attack.str.contains('Attempted')) & (~df.Attack.str.contains('Heartbleed')) ]\n",
    "    df = df.sort_values(by=['bidirectional_last_seen_ms']).reset_index(drop=True)\n",
    "    df_new = df[cols]\n",
    "    df_new['application_name'] = df_new['application_name'].apply(lambda x: x.split(\".\")[0])\n",
    "    df_new['content_type'] = df_new['content_type'].fillna(\"unkown/unkown\")\n",
    "    df_new['content_type'] = df_new['content_type'].apply(lambda x: normalize_content_type(x))\n",
    "    df_new['content_sub_type'] = df_new['content_type'].apply(lambda x: x.split(\"/\")[1])\n",
    "    df_new['content_type'] = df_new['content_type'].apply(lambda x: x.split(\"/\")[0])\n",
    "    # df_new['src_port'] = df_new['src_port'].apply(lambda x: port_feature(x))\n",
    "    # df_new['dst_port'] = df_new['dst_port'].apply(lambda x: port_feature(x))\n",
    "    df_new = df_new.fillna(0)\n",
    "    categ_cols = [\"application_name\", \"application_category_name\", \"content_sub_type\", \"content_type\" ]\n",
    "    df_new, lbl_encoders = encode(df_new,categ_cols)    \n",
    "\n",
    "    # Split df into features and labels\n",
    "    X = df_new.drop(columns=['Attack'])  # Assuming 'label' is the target variable\n",
    "    y = df_new['Attack']\n",
    "    class_names = ['Benign', 'Botnet', 'DDoS', 'DoS GoldenEye', 'DoS Hulk', 'DoS Slowhttptest',\n",
    "                'DoS Slowloris', 'FTP-Patator', 'Infiltration', 'Infiltration-Portscan',\n",
    "                 'Portscan', 'SSH-Patator', 'Web Attack-Brute Force',\n",
    "                 'Web Attack-SQL Injection', 'Web Attack-XSS']\n",
    "    feature_mapping = {class_name: f'F{i + 1}' for i, class_name in enumerate(X.columns)}    # 2. Train/Test Split\n",
    "\n",
    "    # 2. Train/Test Split\n",
    "    X_train, X_test, y_train, y_test = train_test_split(X, y, test_size=0.2, random_state=42)\n",
    "\n",
    "    # 4. Initialize Extra Trees Classifier and Fit the Model on the subset\n",
    "    clf = ExtraTreesClassifier(n_estimators=100, random_state=42, n_jobs=-1, verbose=1)\n",
    "    clf.fit(X, y)\n",
    "    \n",
    "    explainer = shap.TreeExplainer(clf)\n",
    "\n",
    "    sample_indices = np.random.choice(X_test.index, size=200, replace=False)\n",
    "    X_test_sample = X_test.loc[sample_indices]\n",
    "\n",
    "    # Calculate SHAP values for the selected samples\n",
    "    shap_values = explainer.shap_values(X_test_sample)\n",
    "\n",
    "    # Visualize SHAP values\n",
    "    # Let's plot the summary for the first class (adjust the index for your model's output)\n",
    "    #shap.summary_plot(shap_values[1], X_test_sample, feature_names=X.columns,show=False)\n",
    "    #plt.figure(figsize=(10, 18))\n",
    "\n",
    "    shap.summary_plot(shap_values, X_test_sample, plot_type=\"bar\", class_names= class_names,\n",
    "                      feature_names = list(feature_mapping.values()), max_display=10, plot_size=[10,8], show=False)\n",
    "    \n",
    "    plt.gca().set_yticklabels(plt.gca().get_yticklabels(), fontsize=26) \n",
    "    plt.gca().set_xticklabels(plt.gca().get_xticklabels(), fontsize=26) # Change font size for y-tick labels (features)\n",
    "    plt.gca().set_xlabel(plt.gca().get_xlabel(), fontsize=22)\n",
    "    #plt.legend(prop={'size':20})\n",
    "    plt.legend(loc=4, fontsize=14)\n",
    "        \n",
    "    plt.savefig(f'../figures/CIC-IDS2017/bestTimeouts/summary_plot_cic17_{timeout}_v3.pdf', format='pdf', dpi=600, bbox_inches='tight')\n",
    "    \n",
    "    plt.close() \n"
   ]
  },
  {
   "cell_type": "code",
   "execution_count": null,
   "metadata": {},
   "outputs": [],
   "source": []
  },
  {
   "cell_type": "markdown",
   "metadata": {},
   "source": [
    "# Explain One sample"
   ]
  },
  {
   "cell_type": "code",
   "execution_count": null,
   "metadata": {},
   "outputs": [],
   "source": [
    "import pandas as pd\n",
    "from sklearn.model_selection import train_test_split\n",
    "from sklearn.ensemble import ExtraTreesClassifier\n",
    "import shap\n",
    "\n",
    "idle, active = (0.5, 2)\n",
    "out_dir = f'/home/meryem.janati/lustre/nlp_team-um6p-st-sccs-id7fz1zvotk/IDS/janati/IDS/timeouts-IDS/NFStream/extractions/new_idle_{idle}min_active_{active}min/USTC-TF2016'\n",
    "df = pd.read_csv(out_dir+\"/USTC-TF2016.csv\")\n",
    "\n",
    "'''\n",
    "try:\n",
    "    df = df.rename(columns={\"attack_category\": \"Attack\"})\n",
    "    df.to_csv(out_dir+\"/USTC-TF2016.csv\", index=False, header=True)\n",
    "except:\n",
    "    pass\n",
    "'''\n",
    "\n",
    "df = df[~df.Attack.str.contains('direction_flip')]\n",
    "df = df.sort_values(by=['bidirectional_last_seen_ms']).reset_index(drop=True)\n",
    "df_new = df[cols]\n",
    "df_new['application_name'] = df_new['application_name'].apply(lambda x: x.split(\".\")[0])\n",
    "df_new['content_type'] = df_new['content_type'].fillna(\"unkown/unkown\")\n",
    "df_new['content_sub_type'] = df_new['content_type'].apply(lambda x: x.split(\"/\")[1])\n",
    "df_new['content_type'] = df_new['content_type'].apply(lambda x: x.split(\"/\")[0])\n",
    "#df_new['src_port'] = df_new['src_port'].apply(lambda x: port_feature(x))\n",
    "#df_new['dst_port'] = df_new['dst_port'].apply(lambda x: port_feature(x))\n",
    "df_new = df_new.fillna(0)\n",
    "categ_cols = [\"application_name\", \"application_category_name\", \"content_sub_type\", \"content_type\" ]\n",
    "df_new, lbl_encoders = encode(df_new,categ_cols)    \n",
    "\n",
    "# Split df into features and labels\n",
    "X = df_new.drop(columns=['Attack'])  # Assuming 'label' is the target variable\n",
    "y = df_new['Attack']\n",
    "    \n",
    "\n",
    "# 2. Train/Test Split\n",
    "X_train, X_test, y_train, y_test = train_test_split(X, y, test_size=0.2, random_state=42)\n",
    "print(X_train.shape, X_test.shape)\n",
    "\n",
    "# 4. Initialize Extra Trees Classifier and Fit the Model on the subset\n",
    "clf = ExtraTreesClassifier(n_estimators=100, random_state=42, verbose=1)\n",
    "clf.fit(X, y)\n",
    "\n",
    "explainer = shap.TreeExplainer(clf)\n",
    "single_sample = X_test.iloc[[0]]\n",
    "shap_values_single = explainer.shap_values(single_sample)\n",
    "shap_values_for_waterfall = shap_values_single[1]  # Adjust the index for your model's output\n",
    "\n",
    "# Create a SHAP object for the single prediction\n",
    "shap_value_obj = shap.Explanation(values=shap_values_for_waterfall[0], \n",
    "                                  base_values=explainer.expected_value[1], \n",
    "                                  data=single_sample.values[0], \n",
    "                                  feature_names=X.columns)\n",
    "\n",
    "# Generate the waterfall plot\n",
    "shap.plots.waterfall(shap_value_obj, max_display=20, show=False)\n",
    "plt.savefig('../figures/ustc/waterfall_plot_ustc.pdf', format='pdf', dpi=600, bbox_inches='tight')"
   ]
  },
  {
   "cell_type": "code",
   "execution_count": null,
   "metadata": {},
   "outputs": [],
   "source": []
  },
  {
   "cell_type": "code",
   "execution_count": null,
   "metadata": {},
   "outputs": [
    {
     "name": "stdout",
     "output_type": "stream",
     "text": [
      "(469460, 147) (117366, 147)\n"
     ]
    },
    {
     "name": "stderr",
     "output_type": "stream",
     "text": [
      "[Parallel(n_jobs=1)]: Using backend SequentialBackend with 1 concurrent workers.\n",
      "[Parallel(n_jobs=1)]: Done 100 out of 100 | elapsed:   46.5s finished\n"
     ]
    }
   ],
   "source": [
    "import shap\n",
    "\n",
    "idle, active = (0.5, 2)\n",
    "out_dir = f'/home/meryem.janati/lustre/nlp_team-um6p-st-sccs-id7fz1zvotk/IDS/janati/IDS/timeouts-IDS/NFStream/extractions/new_idle_{idle}min_active_{active}min/USTC-TF2016'\n",
    "df = pd.read_csv(out_dir+\"/USTC-TF2016.csv\")\n",
    "\n",
    "'''\n",
    "try:\n",
    "    df = df.rename(columns={\"attack_category\": \"Attack\"})\n",
    "    df.to_csv(out_dir+\"/USTC-TF2016.csv\", index=False, header=True)\n",
    "except:\n",
    "    pass\n",
    "'''\n",
    "\n",
    "df = df[~df.Attack.str.contains('direction_flip')]\n",
    "df = df.sort_values(by=['bidirectional_last_seen_ms']).reset_index(drop=True)\n",
    "df_new = df[cols]\n",
    "df_new['application_name'] = df_new['application_name'].apply(lambda x: x.split(\".\")[0])\n",
    "df_new['content_type'] = df_new['content_type'].fillna(\"unkown/unkown\")\n",
    "df_new['content_sub_type'] = df_new['content_type'].apply(lambda x: x.split(\"/\")[1])\n",
    "df_new['content_type'] = df_new['content_type'].apply(lambda x: x.split(\"/\")[0])\n",
    "#df_new['src_port'] = df_new['src_port'].apply(lambda x: port_feature(x))\n",
    "#df_new['dst_port'] = df_new['dst_port'].apply(lambda x: port_feature(x))\n",
    "df_new = df_new.fillna(0)\n",
    "categ_cols = [\"application_name\", \"application_category_name\", \"content_sub_type\", \"content_type\" ]\n",
    "df_new, lbl_encoders = encode(df_new,categ_cols)    \n",
    "\n",
    "# Split df into features and labels\n",
    "X = df_new.drop(columns=['Attack'])  # Assuming 'label' is the target variable\n",
    "y = df_new['Attack']\n",
    "    \n",
    "\n",
    "# 2. Train/Test Split\n",
    "X_train, X_test, y_train, y_test = train_test_split(X, y, test_size=0.2, random_state=42)\n",
    "print(X_train.shape, X_test.shape)\n",
    "\n",
    "# 4. Initialize Extra Trees Classifier and Fit the Model on the subset\n",
    "clf = ExtraTreesClassifier(n_estimators=100, random_state=42, verbose=1)\n",
    "clf.fit(X, y)\n",
    "\n",
    "explainer = shap.TreeExplainer(clf)\n",
    "start_index = 0\n",
    "end_index = 1000\n",
    "shap_values = explainer.shap_values(X_test[start_index:end_index])\n",
    "shap_obj = explainer(test[start_index:end_index])\n",
    "\n",
    "row = 30 # datapoint to explain\n",
    "test2 = X_test\n",
    "X_test = X_test.to_numpy()\n",
    "y_test = y_test.to_numpy()\n",
    "y_test = pd.Series(y_test)\n",
    "\n",
    "prediction = rf.predict(X_test[row:row+1])[0] # Prediction of the sample\n",
    "print(f\"The RF predicted: {prediction}\")\n",
    "print(\"------------------------------------------\")\n",
    "print( 'Actual value', y_test[row:row+1])\n",
    "print(\"------------------------------------------\")\n",
    "#extract the index accordingly to prediction\n",
    "index = y_labels.index(prediction)\n",
    "#generating shap values explainer\n",
    "sv = explainer(X_test[start_index:end_index]) \n",
    "exp = shap.Explanation(sv[:,:,index], sv.base_values[:,index], test2[start_index:end_index], feature_names=test2.columns.tolist())\n",
    "# generating plot\n",
    "shap.waterfall_plot(exp[row],max_display=10,show= None)\n",
    "#plt.savefig('RF_Shap_Waterfall.png')\n",
    "# plt.clf()"
   ]
  },
  {
   "cell_type": "code",
   "execution_count": null,
   "metadata": {},
   "outputs": [],
   "source": []
  },
  {
   "cell_type": "markdown",
   "metadata": {},
   "source": [
    "# Explain 100 samples"
   ]
  },
  {
   "cell_type": "code",
   "execution_count": 27,
   "metadata": {},
   "outputs": [
    {
     "name": "stdout",
     "output_type": "stream",
     "text": [
      "(469460, 147) (117366, 147)\n"
     ]
    },
    {
     "name": "stderr",
     "output_type": "stream",
     "text": [
      "[Parallel(n_jobs=1)]: Using backend SequentialBackend with 1 concurrent workers.\n",
      "[Parallel(n_jobs=1)]: Done 100 out of 100 | elapsed:   46.4s finished\n"
     ]
    },
    {
     "data": {
      "image/png": "[encoded data removed]",
      "text/plain": [
       "<Figure size 576x684 with 2 Axes>"
      ]
     },
     "metadata": {
      "needs_background": "light"
     },
     "output_type": "display_data"
    }
   ],
   "source": [
    "import pandas as pd\n",
    "from sklearn.model_selection import train_test_split\n",
    "from sklearn.ensemble import ExtraTreesClassifier\n",
    "import shap\n",
    "\n",
    "idle, active = (0.5, 2)\n",
    "out_dir = f'/home/meryem.janati/lustre/nlp_team-um6p-st-sccs-id7fz1zvotk/IDS/janati/IDS/timeouts-IDS/NFStream/extractions/new_idle_{idle}min_active_{active}min/USTC-TF2016'\n",
    "df = pd.read_csv(out_dir+\"/USTC-TF2016.csv\")\n",
    "\n",
    "'''\n",
    "try:\n",
    "    df = df.rename(columns={\"attack_category\": \"Attack\"})\n",
    "    df.to_csv(out_dir+\"/USTC-TF2016.csv\", index=False, header=True)\n",
    "except:\n",
    "    pass\n",
    "'''\n",
    "\n",
    "df = df[~df.Attack.str.contains('direction_flip')]\n",
    "df = df.sort_values(by=['bidirectional_last_seen_ms']).reset_index(drop=True)\n",
    "df_new = df[cols]\n",
    "df_new['application_name'] = df_new['application_name'].apply(lambda x: x.split(\".\")[0])\n",
    "df_new['content_type'] = df_new['content_type'].fillna(\"unkown/unkown\")\n",
    "df_new['content_sub_type'] = df_new['content_type'].apply(lambda x: x.split(\"/\")[1])\n",
    "df_new['content_type'] = df_new['content_type'].apply(lambda x: x.split(\"/\")[0])\n",
    "#df_new['src_port'] = df_new['src_port'].apply(lambda x: port_feature(x))\n",
    "#df_new['dst_port'] = df_new['dst_port'].apply(lambda x: port_feature(x))\n",
    "df_new = df_new.fillna(0)\n",
    "categ_cols = [\"application_name\", \"application_category_name\", \"content_sub_type\", \"content_type\" ]\n",
    "df_new, lbl_encoders = encode(df_new,categ_cols)    \n",
    "\n",
    "# Split df into features and labels\n",
    "X = df_new.drop(columns=['Attack'])  # Assuming 'label' is the target variable\n",
    "y = df_new['Attack']\n",
    "    \n",
    "\n",
    "# 2. Train/Test Split\n",
    "X_train, X_test, y_train, y_test = train_test_split(X, y, test_size=0.2, random_state=42)\n",
    "print(X_train.shape, X_test.shape)\n",
    "\n",
    "# 4. Initialize Extra Trees Classifier and Fit the Model on the subset\n",
    "clf = ExtraTreesClassifier(n_estimators=100, random_state=42, verbose=1)\n",
    "clf.fit(X, y)\n",
    "\n",
    "explainer = shap.TreeExplainer(clf)\n",
    "\n",
    "sample_indices = np.random.choice(X_test.index, size=200, replace=False)\n",
    "X_test_sample = X_test.loc[sample_indices]\n",
    "\n",
    "# Calculate SHAP values for the selected samples\n",
    "shap_values = explainer.shap_values(X_test_sample)\n",
    "\n",
    "# Visualize SHAP values\n",
    "# Let's plot the summary for the first class (adjust the index for your model's output)\n",
    "shap.summary_plot(shap_values[1], X_test_sample, feature_names=X.columns,show=False)\n",
    "\n",
    "\n",
    "plt.savefig('../figures/ustc/summary_plot_ustc.pdf', format='pdf', dpi=600, bbox_inches='tight')"
   ]
  },
  {
   "cell_type": "code",
   "execution_count": 14,
   "metadata": {},
   "outputs": [
    {
     "data": {
      "text/plain": [
       "<Figure size 432x288 with 0 Axes>"
      ]
     },
     "metadata": {},
     "output_type": "display_data"
    }
   ],
   "source": []
  }
 ],
 "metadata": {
  "kernelspec": {
   "display_name": "FedLab",
   "language": "python",
   "name": "fedlab"
  },
  "language_info": {
   "codemirror_mode": {
    "name": "ipython",
    "version": 3
   },
   "file_extension": ".py",
   "mimetype": "text/x-python",
   "name": "python",
   "nbconvert_exporter": "python",
   "pygments_lexer": "ipython3",
   "version": "3.8.5"
  }
 },
 "nbformat": 4,
 "nbformat_minor": 4
}
