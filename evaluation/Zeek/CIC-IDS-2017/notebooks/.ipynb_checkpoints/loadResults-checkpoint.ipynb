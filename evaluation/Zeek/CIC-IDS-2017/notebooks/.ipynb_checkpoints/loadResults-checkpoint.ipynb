{
 "cells": [
  {
   "cell_type": "code",
   "execution_count": 3,
   "metadata": {},
   "outputs": [],
   "source": [
    "import json\n",
    "def load_score(path):\n",
    "    with open(path, 'r') as f:\n",
    "        loaded_results = json.load(f)\n",
    "    return loaded_results\n"
   ]
  },
  {
   "cell_type": "code",
   "execution_count": 4,
   "metadata": {},
   "outputs": [],
   "source": [
    "results_ET = load_score('../results/ET_cic17_zeek.json')"
   ]
  },
  {
   "cell_type": "code",
   "execution_count": 5,
   "metadata": {},
   "outputs": [],
   "source": [
    "results_RF = load_score('../results/RF_cic17_zeek.json')"
   ]
  },
  {
   "cell_type": "code",
   "execution_count": 6,
   "metadata": {},
   "outputs": [],
   "source": [
    "results_MLP = load_score('../results/MLP_cic17_zeek.json')"
   ]
  },
  {
   "cell_type": "code",
   "execution_count": 7,
   "metadata": {},
   "outputs": [
    {
     "name": "stdout",
     "output_type": "stream",
     "text": [
      "ET classifier: \n",
      " {'Best score': {'Best Timeout': 0.5, 'Mean Scores (Best)': {'f1Mean': 0.7188808225105922, 'accMean': 0.8816816845227677, 'recMean': 0.737516399604518, 'precMean': 0.7299121367411219}, 'Std Scores (Best)': {'f1Std': 0.059220992575897524, 'accStd': 0.02779048011273995, 'recStd': 0.06577774275561828, 'precStd': 0.05509605539612502}}, 'Worst score': {'Worst Timeout': 4, 'Mean Scores (Worst)': {'f1Mean': 0.6677191479517658, 'accMean': 0.8850962703276053, 'recMean': 0.6981484737469615, 'precMean': 0.6767905681281622}, 'Std Scores (Worst)': {'f1Std': 0.05274526526283913, 'accStd': 0.028387945825920347, 'recStd': 0.06441654529120029, 'precStd': 0.04139702013027459}}, 'Difference': {'Accuracy': -0.34145858048375555, 'F1 Score': 5.116167455882636, 'Precision': 5.3121568612959695, 'Recall': 3.936792585755644}}\n",
      "\n",
      "RF classifier :\n",
      " {'Best score': {'Best Timeout': 1, 'Mean Scores (Best)': {'f1Mean': 0.6783183577278329, 'accMean': 0.7829608448430806, 'recMean': 0.7054322930257093, 'precMean': 0.7120361801271653}, 'Std Scores (Best)': {'f1Std': 0.11530032656479855, 'accStd': 0.2052762992329806, 'recStd': 0.08387104738299167, 'precStd': 0.09127242324708848}}, 'Worst score': {'Worst Timeout': 3, 'Mean Scores (Worst)': {'f1Mean': 0.643224668072998, 'accMean': 0.781459843335642, 'recMean': 0.6731939119386023, 'precMean': 0.6722481703596177}, 'Std Scores (Worst)': {'f1Std': 0.10180783680007752, 'accStd': 0.21702395118883355, 'recStd': 0.07665696849930125, 'precStd': 0.07853209618548683}}, 'Difference': {'Accuracy': 0.1501001507438593, 'F1 Score': 3.5093689654834836, 'Precision': 3.9788009767547594, 'Recall': 3.223838108710697}}\n",
      "\n",
      "MLP classifier : \n",
      " {'Best score': {'Best Timeout': 6, 'Mean Scores (Best)': {'f1Mean': 0.6430668776650493, 'accMean': 0.8244098070977817, 'recMean': 0.7155578779141166, 'precMean': 0.6393762128252443}, 'Std Scores (Best)': {'f1Std': 0.08968687161645668, 'accStd': 0.12251489047694349, 'recStd': 0.05764166761303751, 'precStd': 0.09715678622003268}}, 'Worst score': {'Worst Timeout': 5, 'Mean Scores (Worst)': {'f1Mean': 0.5553699710613901, 'accMean': 0.7629149332221307, 'recMean': 0.6611454472001441, 'precMean': 0.5516345123133874}, 'Std Scores (Worst)': {'f1Std': 0.11129148642286929, 'accStd': 0.17742301498464783, 'recStd': 0.06466800662850354, 'precStd': 0.1219474192596221}}, 'Difference': {'Accuracy': 6.149487387565101, 'F1 Score': 8.769690660365924, 'Precision': 8.774170051185681, 'Recall': 5.441243071397251}}\n"
     ]
    }
   ],
   "source": [
    "print(\"ET classifier: \\n\" , results_ET)\n",
    "print(\"\\nRF classifier :\\n\" , results_RF)\n",
    "print(\"\\nMLP classifier : \\n\" , results_MLP)"
   ]
  },
  {
   "cell_type": "code",
   "execution_count": null,
   "metadata": {},
   "outputs": [],
   "source": []
  }
 ],
 "metadata": {
  "kernelspec": {
   "display_name": "FedLab",
   "language": "python",
   "name": "fedlab"
  },
  "language_info": {
   "codemirror_mode": {
    "name": "ipython",
    "version": 3
   },
   "file_extension": ".py",
   "mimetype": "text/x-python",
   "name": "python",
   "nbconvert_exporter": "python",
   "pygments_lexer": "ipython3",
   "version": "3.8.5"
  }
 },
 "nbformat": 4,
 "nbformat_minor": 4
}
