{
 "cells": [
  {
   "cell_type": "code",
   "execution_count": 6,
   "metadata": {},
   "outputs": [],
   "source": [
    "import json\n",
    "def load_score(path):\n",
    "    with open(path, 'r') as f:\n",
    "        loaded_results = json.load(f)\n",
    "    return loaded_results\n"
   ]
  },
  {
   "cell_type": "code",
   "execution_count": 2,
   "metadata": {},
   "outputs": [],
   "source": [
    "results_ET = load_score('../results/basicFeatures/ET_unsw_nfstream.json')\n"
   ]
  },
  {
   "cell_type": "code",
   "execution_count": 3,
   "metadata": {},
   "outputs": [],
   "source": [
    "results_RF = load_score('../results/basicFeatures/RF_unsw_nfstream.json')\n"
   ]
  },
  {
   "cell_type": "code",
   "execution_count": 4,
   "metadata": {},
   "outputs": [],
   "source": [
    "results_MLP = load_score('../results/basicFeatures/MLP_unsw_nfstream.json')\n"
   ]
  },
  {
   "cell_type": "code",
   "execution_count": 5,
   "metadata": {},
   "outputs": [
    {
     "name": "stdout",
     "output_type": "stream",
     "text": [
      "ET classifier: \n",
      " {'Best score': {'Best Timeout': [4, 5], 'Mean Scores (Best)': {'f1Mean': 0.7248801803566035, 'accMean': 0.9881571398228015, 'recMean': 0.7133492132994818, 'precMean': 0.7684672278434999}, 'Std Scores (Best)': {'f1Std': 0.014988248665003857, 'accStd': 0.0025910006952542496, 'recStd': 0.007482423641287856, 'precStd': 0.062354879123533366}}, 'Worst score': {'Worst Timeout': [0.5, 60], 'Mean Scores (Worst)': {'f1Mean': 0.7175076194450114, 'accMean': 0.987919114896697, 'recMean': 0.7080174387824691, 'precMean': 0.7624302060549981}, 'Std Scores (Worst)': {'f1Std': 0.01802187260336165, 'accStd': 0.0026567002033118852, 'recStd': 0.0033690334837858747, 'precStd': 0.08118695578628274}}, 'Difference': {'Accuracy': 0.023802492610447423, 'F1 Score': 0.7372560911592108, 'Precision': 0.603702178850174, 'Recall': 0.5331774517012611}}\n",
      "\n",
      "RF classifier :\n",
      " {'Best score': {'Best Timeout': [5, 30], 'Mean Scores (Best)': {'f1Mean': 0.7189012132891889, 'accMean': 0.9882962456337477, 'recMean': 0.7067765550314501, 'precMean': 0.7732599346940431}, 'Std Scores (Best)': {'f1Std': 0.018026987837072284, 'accStd': 0.002490052731752237, 'recStd': 0.009180947154530225, 'precStd': 0.08478069339956376}}, 'Worst score': {'Worst Timeout': [5, 60], 'Mean Scores (Worst)': {'f1Mean': 0.7150771221487762, 'accMean': 0.9883313914150111, 'recMean': 0.700850251973622, 'precMean': 0.7633357514259506}, 'Std Scores (Worst)': {'f1Std': 0.017603877459946817, 'accStd': 0.0025107678329924494, 'recStd': 0.006881591886101857, 'precStd': 0.06780196432594333}}, 'Difference': {'Accuracy': -0.003514578126340151, 'F1 Score': 0.3824091140412711, 'Precision': 0.9924183268092523, 'Recall': 0.5926303057828042}}\n",
      "\n",
      "MLP classifier : \n",
      " {'Best score': {'Best Timeout': [0.5, 3], 'Mean Scores (Best)': {'f1Mean': 0.5385025982201224, 'accMean': 0.9854193579415126, 'recMean': 0.5305862878354152, 'precMean': 0.6060281025748958}, 'Std Scores (Best)': {'f1Std': 0.010739693831363853, 'accStd': 0.0024138502891582017, 'recStd': 0.01164069579366274, 'precStd': 0.0372076861655445}}, 'Worst score': {'Worst Timeout': [4, 60], 'Mean Scores (Worst)': {'f1Mean': 0.5114983481436209, 'accMean': 0.9857310347185922, 'recMean': 0.4961080679392261, 'precMean': 0.6287420530341901}, 'Std Scores (Worst)': {'f1Std': 0.010389177322929473, 'accStd': 0.0019387461669609822, 'recStd': 0.016661909039079607, 'precStd': 0.06827471398103704}}, 'Difference': {'Accuracy': -0.031167677707966135, 'F1 Score': 2.7004250076501424, 'Precision': -2.271395045929425, 'Recall': 3.4478219896189044}}\n"
     ]
    }
   ],
   "source": [
    "print(\"ET classifier: \\n\" , results_ET)\n",
    "print(\"\\nRF classifier :\\n\" , results_RF)\n",
    "print(\"\\nMLP classifier : \\n\" , results_MLP)"
   ]
  },
  {
   "cell_type": "code",
   "execution_count": null,
   "metadata": {},
   "outputs": [],
   "source": []
  }
 ],
 "metadata": {
  "kernelspec": {
   "display_name": "FedLab",
   "language": "python",
   "name": "fedlab"
  },
  "language_info": {
   "codemirror_mode": {
    "name": "ipython",
    "version": 3
   },
   "file_extension": ".py",
   "mimetype": "text/x-python",
   "name": "python",
   "nbconvert_exporter": "python",
   "pygments_lexer": "ipython3",
   "version": "3.8.5"
  }
 },
 "nbformat": 4,
 "nbformat_minor": 4
}
