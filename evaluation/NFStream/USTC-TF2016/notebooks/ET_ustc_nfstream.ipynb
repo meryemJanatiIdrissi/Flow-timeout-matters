{
 "cells": [
  {
   "cell_type": "code",
   "execution_count": 1,
   "metadata": {},
   "outputs": [],
   "source": [
    "import pandas as pd \n",
    "import numpy as np\n",
    "import matplotlib.pyplot as plt\n",
    "import seaborn as sns\n",
    "import glob\n",
    "from sklearn.model_selection import train_test_split\n",
    "from sklearn.model_selection import StratifiedKFold\n",
    "from sklearn.metrics import classification_report, f1_score, accuracy_score, precision_score, recall_score, auc, roc_curve\n",
    "from sklearn.preprocessing import LabelEncoder, StandardScaler, MinMaxScaler\n",
    "from sklearn.ensemble import RandomForestClassifier, ExtraTreesClassifier, AdaBoostClassifier\n",
    "from sklearn.neural_network import MLPClassifier\n",
    "from sklearn.tree import DecisionTreeClassifier\n",
    "import matplotlib.pyplot as plt\n",
    "import seaborn as sns\n",
    "from statsmodels.stats.outliers_influence import variance_inflation_factor  \n",
    "import warnings\n",
    "import pickle\n",
    "import os\n",
    "import json\n",
    "\n",
    "warnings.filterwarnings(\"ignore\")\n",
    "pd.set_option('display.max_columns', 200)\n",
    "pd.set_option('display.max_rows', 200)"
   ]
  },
  {
   "cell_type": "code",
   "execution_count": 2,
   "metadata": {
    "jupyter": {
     "source_hidden": true
    }
   },
   "outputs": [],
   "source": [
    "cols = [ 'expiration_id', 'protocol', 'src_port', 'dst_port',\n",
    "       'ip_version',   'bidirectional_duration_ms', 'bidirectional_packets',\n",
    "       'bidirectional_bytes', 'src2dst_duration_ms', 'src2dst_packets',\n",
    "       'src2dst_bytes', 'dst2src_duration_ms', 'dst2src_packets', 'dst2src_bytes',\n",
    "       'bidirectional_min_ps', 'bidirectional_mean_ps',\n",
    "       'bidirectional_stddev_ps', 'bidirectional_max_ps',\n",
    "       'src2dst_min_ps', 'src2dst_mean_ps', 'src2dst_stddev_ps',\n",
    "       'src2dst_max_ps', 'dst2src_min_ps', 'dst2src_mean_ps',\n",
    "       'dst2src_stddev_ps', 'dst2src_max_ps', 'bidirectional_min_piat_ms',\n",
    "       'bidirectional_mean_piat_ms', 'bidirectional_stddev_piat_ms',\n",
    "       'bidirectional_max_piat_ms', 'src2dst_min_piat_ms',\n",
    "       'src2dst_mean_piat_ms', 'src2dst_stddev_piat_ms',\n",
    "       'src2dst_max_piat_ms', 'dst2src_min_piat_ms',\n",
    "       'dst2src_mean_piat_ms', 'dst2src_stddev_piat_ms',\n",
    "       'dst2src_max_piat_ms', 'bidirectional_syn_packets', 'bidirectional_ack_packets',\n",
    "       'bidirectional_psh_packets', 'bidirectional_rst_packets',\n",
    "       'bidirectional_fin_packets', 'src2dst_syn_packets', 'src2dst_ack_packets',\n",
    "       'src2dst_psh_packets', 'src2dst_rst_packets',\n",
    "       'src2dst_fin_packets', 'dst2src_syn_packets', 'dst2src_ack_packets',\n",
    "       'dst2src_psh_packets', 'dst2src_rst_packets',\n",
    "       'dst2src_fin_packets','application_name',\n",
    "       'application_category_name', 'application_is_guessed',\n",
    "       'application_confidence', 'content_type', 'udps.num_pkts_up_to_128_bytes',\n",
    "       'udps.num_pkts_128_to_256_bytes', 'udps.num_pkts_256_to_512_bytes',\n",
    "       'udps.num_pkts_512_to_1024_bytes',\n",
    "       'udps.num_pkts_1024_to_1514_bytes', 'udps.min_ttl', 'udps.max_ttl',\n",
    "       'udps.min_ip_pkt_len', 'udps.max_ip_pkt_len', 'udps.src2dst_flags',\n",
    "       'udps.dst2src_flags', 'udps.tcp_flags', 'udps.tcp_win_max_in',\n",
    "       'udps.tcp_win_max_out', 'udps.icmp_type', 'udps.icmp_v4_type',\n",
    "       'udps.dns_query_id', 'udps.dns_query_type', 'udps.dns_ttl_answer',\n",
    "       'udps.ftp_command_ret_code', 'udps.retransmitted_in_packets',\n",
    "       'udps.retransmitted_out_packets', 'udps.retransmitted_in_bytes',\n",
    "       'udps.retransmitted_out_bytes', 'udps.src_to_dst_second_bytes',\n",
    "       'udps.dst_to_src_second_bytes', 'udps.src_to_dst_avg_throughput',\n",
    "       'udps.dst_to_src_avg_throughput', 'udps.src_to_dst_second_bytes2',\n",
    "       'udps.dst_to_src_second_bytes2', 'udps.src_to_dst_avg_throughput2',\n",
    "       'udps.dst_to_src_avg_throughput2', 'udps.tcp_init_ms',\n",
    "       'udps.tcp_synack_ack_ms', 'udps.tcp_half_closed_time_ms',\n",
    "       'udps.num_pkts_after_termination',\n",
    "       'udps.src2dst_first_packet_payload_len',\n",
    "       'udps.dst2src_first_packet_payload_len',\n",
    "       'udps.bidirectional_transport_bytes',\n",
    "       'udps.bidirectional_payload_bytes', 'udps.src2dst_transport_bytes',\n",
    "       'udps.src2dst_payload_bytes', 'udps.dst2src_transport_bytes',\n",
    "       'udps.dst2src_payload_bytes',\n",
    "       'udps.src2dst_most_freq_payload_ratio',\n",
    "       'udps.src2dst_most_freq_payload_len',\n",
    "       'udps.dst2src_most_freq_payload_ratio',\n",
    "       'udps.dst2src_most_freq_payload_len',\n",
    "       'udps.bidirectional_mean_packet_relative_times',\n",
    "       'udps.bidirectional_stddev_packet_relative_times',\n",
    "       'udps.bidirectional_variance_packet_relative_times',\n",
    "       'udps.bidirectional_coeff_of_var_packet_relative_times',\n",
    "       'udps.bidirectional_skew_from_median_packet_relative_times',\n",
    "       'udps.src2dst_mean_packet_relative_times',\n",
    "       'udps.src2dst_stddev_packet_relative_times',\n",
    "       'udps.src2dst_variance_packet_relative_times',\n",
    "       'udps.src2dst_coeff_of_var_packet_relative_times',\n",
    "       'udps.src2dst_skew_from_median_packet_relative_times',\n",
    "       'udps.dst2src_mean_packet_relative_times',\n",
    "       'udps.dst2src_stddev_packet_relative_times',\n",
    "       'udps.dst2src_variance_packet_relative_times',\n",
    "       'udps.dst2src_coeff_of_var_packet_relative_times',\n",
    "       'udps.dst2src_skew_from_median_packet_relative_times',\n",
    "       'udps.min_req_res_time_diff', 'udps.max_req_res_time_diff',\n",
    "       'udps.mean_req_res_time_diff', 'udps.stddev_req_res_time_diff',\n",
    "       'udps.variance_req_res_time_diff',\n",
    "       'udps.coeff_of_var_req_res_time_diff',\n",
    "       'udps.skew_from_median_req_res_time_diff',\n",
    "       'udps.src2dst_small_packet_payload_packets',\n",
    "       'udps.src2dst_small_packet_payload_ratio',\n",
    "       'udps.dst2src_small_packet_payload_packets',\n",
    "       'udps.dst2src_small_packet_payload_ratio',\n",
    "       'udps.sent_recv_packet_ratio',\n",
    "       'udps.bidirectional_ps_first_quartile',\n",
    "       'udps.bidirectional_ps_second_quartile',\n",
    "       'udps.bidirectional_ps_third_quartile',\n",
    "       'udps.bidirectional_ps_median_absoulte_deviation',\n",
    "       'udps.bidirectional_ps_skewness', 'udps.bidirectional_ps_kurtosis',\n",
    "       'udps.bidirectional_piat_first_quartile',\n",
    "       'udps.bidirectional_piat_second_quartile',\n",
    "       'udps.bidirectional_piat_third_quartile',\n",
    "       'udps.bidirectional_piat_median_absoulte_deviation',\n",
    "       'udps.bidirectional_piat_skewness',\n",
    "       'udps.bidirectional_piat_kurtosis',\n",
    "       'udps.median_req_res_time_diff', 'Attack']"
   ]
  },
  {
   "cell_type": "code",
   "execution_count": 2,
   "metadata": {},
   "outputs": [],
   "source": [
    "cols = [ 'expiration_id', 'protocol',\n",
    "       'ip_version',   'bidirectional_duration_ms', 'bidirectional_packets',\n",
    "       'bidirectional_bytes', 'src2dst_duration_ms', 'src2dst_packets',\n",
    "       'src2dst_bytes', 'dst2src_duration_ms', 'dst2src_packets', 'dst2src_bytes',\n",
    "       'bidirectional_min_ps', 'bidirectional_mean_ps',\n",
    "       'bidirectional_stddev_ps', 'bidirectional_max_ps',\n",
    "       'src2dst_min_ps', 'src2dst_mean_ps', 'src2dst_stddev_ps',\n",
    "       'src2dst_max_ps', 'dst2src_min_ps', 'dst2src_mean_ps',\n",
    "       'dst2src_stddev_ps', 'dst2src_max_ps', 'bidirectional_min_piat_ms',\n",
    "       'bidirectional_mean_piat_ms', 'bidirectional_stddev_piat_ms',\n",
    "       'bidirectional_max_piat_ms', 'src2dst_min_piat_ms',\n",
    "       'src2dst_mean_piat_ms', 'src2dst_stddev_piat_ms',\n",
    "       'src2dst_max_piat_ms', 'dst2src_min_piat_ms',\n",
    "       'dst2src_mean_piat_ms', 'dst2src_stddev_piat_ms',\n",
    "       'dst2src_max_piat_ms', 'bidirectional_syn_packets', 'bidirectional_ack_packets',\n",
    "       'bidirectional_psh_packets', 'bidirectional_rst_packets',\n",
    "       'bidirectional_fin_packets', 'src2dst_syn_packets', 'src2dst_ack_packets',\n",
    "       'src2dst_psh_packets', 'src2dst_rst_packets',\n",
    "       'src2dst_fin_packets', 'dst2src_syn_packets', 'dst2src_ack_packets',\n",
    "       'dst2src_psh_packets', 'dst2src_rst_packets',\n",
    "       'dst2src_fin_packets','application_name',\n",
    "       'application_category_name', 'application_is_guessed',\n",
    "       'application_confidence', 'content_type', 'Attack']"
   ]
  },
  {
   "cell_type": "code",
   "execution_count": 48,
   "metadata": {},
   "outputs": [
    {
     "data": {
      "text/html": [
       "<div>\n",
       "<style scoped>\n",
       "    .dataframe tbody tr th:only-of-type {\n",
       "        vertical-align: middle;\n",
       "    }\n",
       "\n",
       "    .dataframe tbody tr th {\n",
       "        vertical-align: top;\n",
       "    }\n",
       "\n",
       "    .dataframe thead th {\n",
       "        text-align: right;\n",
       "    }\n",
       "</style>\n",
       "<table border=\"1\" class=\"dataframe\">\n",
       "  <thead>\n",
       "    <tr style=\"text-align: right;\">\n",
       "      <th></th>\n",
       "      <th>id</th>\n",
       "      <th>expiration_id</th>\n",
       "      <th>src_ip</th>\n",
       "      <th>src_mac</th>\n",
       "      <th>src_oui</th>\n",
       "      <th>src_port</th>\n",
       "      <th>dst_ip</th>\n",
       "      <th>dst_mac</th>\n",
       "      <th>dst_oui</th>\n",
       "      <th>dst_port</th>\n",
       "      <th>protocol</th>\n",
       "      <th>ip_version</th>\n",
       "      <th>vlan_id</th>\n",
       "      <th>tunnel_id</th>\n",
       "      <th>bidirectional_first_seen_ms</th>\n",
       "      <th>bidirectional_last_seen_ms</th>\n",
       "      <th>bidirectional_duration_ms</th>\n",
       "      <th>bidirectional_packets</th>\n",
       "      <th>bidirectional_bytes</th>\n",
       "      <th>src2dst_first_seen_ms</th>\n",
       "      <th>src2dst_last_seen_ms</th>\n",
       "      <th>src2dst_duration_ms</th>\n",
       "      <th>src2dst_packets</th>\n",
       "      <th>src2dst_bytes</th>\n",
       "      <th>dst2src_first_seen_ms</th>\n",
       "      <th>dst2src_last_seen_ms</th>\n",
       "      <th>dst2src_duration_ms</th>\n",
       "      <th>dst2src_packets</th>\n",
       "      <th>dst2src_bytes</th>\n",
       "      <th>bidirectional_min_ps</th>\n",
       "      <th>bidirectional_mean_ps</th>\n",
       "      <th>bidirectional_stddev_ps</th>\n",
       "      <th>bidirectional_max_ps</th>\n",
       "      <th>src2dst_min_ps</th>\n",
       "      <th>src2dst_mean_ps</th>\n",
       "      <th>src2dst_stddev_ps</th>\n",
       "      <th>src2dst_max_ps</th>\n",
       "      <th>dst2src_min_ps</th>\n",
       "      <th>dst2src_mean_ps</th>\n",
       "      <th>dst2src_stddev_ps</th>\n",
       "      <th>dst2src_max_ps</th>\n",
       "      <th>bidirectional_min_piat_ms</th>\n",
       "      <th>bidirectional_mean_piat_ms</th>\n",
       "      <th>bidirectional_stddev_piat_ms</th>\n",
       "      <th>bidirectional_max_piat_ms</th>\n",
       "      <th>src2dst_min_piat_ms</th>\n",
       "      <th>src2dst_mean_piat_ms</th>\n",
       "      <th>src2dst_stddev_piat_ms</th>\n",
       "      <th>src2dst_max_piat_ms</th>\n",
       "      <th>dst2src_min_piat_ms</th>\n",
       "      <th>dst2src_mean_piat_ms</th>\n",
       "      <th>dst2src_stddev_piat_ms</th>\n",
       "      <th>dst2src_max_piat_ms</th>\n",
       "      <th>bidirectional_syn_packets</th>\n",
       "      <th>bidirectional_cwr_packets</th>\n",
       "      <th>bidirectional_ece_packets</th>\n",
       "      <th>bidirectional_urg_packets</th>\n",
       "      <th>bidirectional_ack_packets</th>\n",
       "      <th>bidirectional_psh_packets</th>\n",
       "      <th>bidirectional_rst_packets</th>\n",
       "      <th>bidirectional_fin_packets</th>\n",
       "      <th>src2dst_syn_packets</th>\n",
       "      <th>src2dst_cwr_packets</th>\n",
       "      <th>src2dst_ece_packets</th>\n",
       "      <th>src2dst_urg_packets</th>\n",
       "      <th>src2dst_ack_packets</th>\n",
       "      <th>src2dst_psh_packets</th>\n",
       "      <th>src2dst_rst_packets</th>\n",
       "      <th>src2dst_fin_packets</th>\n",
       "      <th>dst2src_syn_packets</th>\n",
       "      <th>dst2src_cwr_packets</th>\n",
       "      <th>dst2src_ece_packets</th>\n",
       "      <th>dst2src_urg_packets</th>\n",
       "      <th>dst2src_ack_packets</th>\n",
       "      <th>dst2src_psh_packets</th>\n",
       "      <th>dst2src_rst_packets</th>\n",
       "      <th>dst2src_fin_packets</th>\n",
       "      <th>application_name</th>\n",
       "      <th>application_category_name</th>\n",
       "      <th>application_is_guessed</th>\n",
       "      <th>application_confidence</th>\n",
       "      <th>requested_server_name</th>\n",
       "      <th>client_fingerprint</th>\n",
       "      <th>server_fingerprint</th>\n",
       "      <th>user_agent</th>\n",
       "      <th>content_type</th>\n",
       "      <th>udps.num_pkts_up_to_128_bytes</th>\n",
       "      <th>udps.num_pkts_128_to_256_bytes</th>\n",
       "      <th>udps.num_pkts_256_to_512_bytes</th>\n",
       "      <th>udps.num_pkts_512_to_1024_bytes</th>\n",
       "      <th>udps.num_pkts_1024_to_1514_bytes</th>\n",
       "      <th>udps.min_ttl</th>\n",
       "      <th>udps.max_ttl</th>\n",
       "      <th>udps.min_ip_pkt_len</th>\n",
       "      <th>udps.max_ip_pkt_len</th>\n",
       "      <th>udps.src2dst_flags</th>\n",
       "      <th>udps.dst2src_flags</th>\n",
       "      <th>udps.tcp_flags</th>\n",
       "      <th>udps.tcp_win_max_in</th>\n",
       "      <th>udps.tcp_win_max_out</th>\n",
       "      <th>udps.icmp_type</th>\n",
       "      <th>udps.icmp_v4_type</th>\n",
       "      <th>udps.dns_query_id</th>\n",
       "      <th>udps.dns_query_type</th>\n",
       "      <th>udps.dns_ttl_answer</th>\n",
       "      <th>udps.ftp_command_ret_code</th>\n",
       "      <th>udps.retransmitted_in_packets</th>\n",
       "      <th>udps.retransmitted_out_packets</th>\n",
       "      <th>udps.retransmitted_in_bytes</th>\n",
       "      <th>udps.retransmitted_out_bytes</th>\n",
       "      <th>udps.src_to_dst_second_bytes</th>\n",
       "      <th>udps.dst_to_src_second_bytes</th>\n",
       "      <th>udps.src_to_dst_avg_throughput</th>\n",
       "      <th>udps.dst_to_src_avg_throughput</th>\n",
       "      <th>udps.src_to_dst_second_bytes2</th>\n",
       "      <th>udps.dst_to_src_second_bytes2</th>\n",
       "      <th>udps.src_to_dst_avg_throughput2</th>\n",
       "      <th>udps.dst_to_src_avg_throughput2</th>\n",
       "      <th>udps.tcp_init_ms</th>\n",
       "      <th>udps.tcp_synack_ack_ms</th>\n",
       "      <th>udps.tcp_half_closed_time_ms</th>\n",
       "      <th>udps.num_pkts_after_termination</th>\n",
       "      <th>udps.src2dst_first_packet_payload_len</th>\n",
       "      <th>udps.dst2src_first_packet_payload_len</th>\n",
       "      <th>udps.bidirectional_transport_bytes</th>\n",
       "      <th>udps.bidirectional_payload_bytes</th>\n",
       "      <th>udps.src2dst_transport_bytes</th>\n",
       "      <th>udps.src2dst_payload_bytes</th>\n",
       "      <th>udps.dst2src_transport_bytes</th>\n",
       "      <th>udps.dst2src_payload_bytes</th>\n",
       "      <th>udps.src2dst_most_freq_payload_ratio</th>\n",
       "      <th>udps.src2dst_most_freq_payload_len</th>\n",
       "      <th>udps.dst2src_most_freq_payload_ratio</th>\n",
       "      <th>udps.dst2src_most_freq_payload_len</th>\n",
       "      <th>udps.bidirectional_mean_packet_relative_times</th>\n",
       "      <th>udps.bidirectional_stddev_packet_relative_times</th>\n",
       "      <th>udps.bidirectional_variance_packet_relative_times</th>\n",
       "      <th>udps.bidirectional_coeff_of_var_packet_relative_times</th>\n",
       "      <th>udps.bidirectional_skew_from_median_packet_relative_times</th>\n",
       "      <th>udps.src2dst_mean_packet_relative_times</th>\n",
       "      <th>udps.src2dst_stddev_packet_relative_times</th>\n",
       "      <th>udps.src2dst_variance_packet_relative_times</th>\n",
       "      <th>udps.src2dst_coeff_of_var_packet_relative_times</th>\n",
       "      <th>udps.src2dst_skew_from_median_packet_relative_times</th>\n",
       "      <th>udps.dst2src_mean_packet_relative_times</th>\n",
       "      <th>udps.dst2src_stddev_packet_relative_times</th>\n",
       "      <th>udps.dst2src_variance_packet_relative_times</th>\n",
       "      <th>udps.dst2src_coeff_of_var_packet_relative_times</th>\n",
       "      <th>udps.dst2src_skew_from_median_packet_relative_times</th>\n",
       "      <th>udps.min_req_res_time_diff</th>\n",
       "      <th>udps.max_req_res_time_diff</th>\n",
       "      <th>udps.mean_req_res_time_diff</th>\n",
       "      <th>udps.stddev_req_res_time_diff</th>\n",
       "      <th>udps.variance_req_res_time_diff</th>\n",
       "      <th>udps.coeff_of_var_req_res_time_diff</th>\n",
       "      <th>udps.skew_from_median_req_res_time_diff</th>\n",
       "      <th>udps.src2dst_small_packet_payload_packets</th>\n",
       "      <th>udps.src2dst_small_packet_payload_ratio</th>\n",
       "      <th>udps.dst2src_small_packet_payload_packets</th>\n",
       "      <th>udps.dst2src_small_packet_payload_ratio</th>\n",
       "      <th>udps.sent_recv_packet_ratio</th>\n",
       "      <th>udps.bidirectional_ps_first_quartile</th>\n",
       "      <th>udps.bidirectional_ps_second_quartile</th>\n",
       "      <th>udps.bidirectional_ps_third_quartile</th>\n",
       "      <th>udps.bidirectional_ps_median_absoulte_deviation</th>\n",
       "      <th>udps.bidirectional_ps_skewness</th>\n",
       "      <th>udps.bidirectional_ps_kurtosis</th>\n",
       "      <th>udps.bidirectional_piat_first_quartile</th>\n",
       "      <th>udps.bidirectional_piat_second_quartile</th>\n",
       "      <th>udps.bidirectional_piat_third_quartile</th>\n",
       "      <th>udps.bidirectional_piat_median_absoulte_deviation</th>\n",
       "      <th>udps.bidirectional_piat_skewness</th>\n",
       "      <th>udps.bidirectional_piat_kurtosis</th>\n",
       "      <th>udps.median_req_res_time_diff</th>\n",
       "      <th>Attack</th>\n",
       "    </tr>\n",
       "  </thead>\n",
       "  <tbody>\n",
       "    <tr>\n",
       "      <th>0</th>\n",
       "      <td>0</td>\n",
       "      <td>0</td>\n",
       "      <td>1.2.118.108</td>\n",
       "      <td>02:1a:c5:02:00:00</td>\n",
       "      <td>02:1a:c5</td>\n",
       "      <td>443</td>\n",
       "      <td>1.1.82.6</td>\n",
       "      <td>02:1a:c5:01:00:00</td>\n",
       "      <td>02:1a:c5</td>\n",
       "      <td>50980</td>\n",
       "      <td>6</td>\n",
       "      <td>4</td>\n",
       "      <td>0</td>\n",
       "      <td>0</td>\n",
       "      <td>183137371</td>\n",
       "      <td>183137371</td>\n",
       "      <td>0</td>\n",
       "      <td>2</td>\n",
       "      <td>1509</td>\n",
       "      <td>183137371</td>\n",
       "      <td>183137371</td>\n",
       "      <td>0</td>\n",
       "      <td>1</td>\n",
       "      <td>1457</td>\n",
       "      <td>183137371</td>\n",
       "      <td>183137371</td>\n",
       "      <td>0</td>\n",
       "      <td>1</td>\n",
       "      <td>52</td>\n",
       "      <td>52</td>\n",
       "      <td>754.500000</td>\n",
       "      <td>993.485028</td>\n",
       "      <td>1457</td>\n",
       "      <td>1457</td>\n",
       "      <td>1457.00000</td>\n",
       "      <td>0.000000</td>\n",
       "      <td>1457</td>\n",
       "      <td>52</td>\n",
       "      <td>52.0</td>\n",
       "      <td>0.0</td>\n",
       "      <td>52</td>\n",
       "      <td>0</td>\n",
       "      <td>0.000000</td>\n",
       "      <td>0.000000</td>\n",
       "      <td>0</td>\n",
       "      <td>0</td>\n",
       "      <td>0.000000</td>\n",
       "      <td>0.000000</td>\n",
       "      <td>0</td>\n",
       "      <td>0</td>\n",
       "      <td>0.0</td>\n",
       "      <td>0.0</td>\n",
       "      <td>0</td>\n",
       "      <td>0</td>\n",
       "      <td>0</td>\n",
       "      <td>0</td>\n",
       "      <td>0</td>\n",
       "      <td>2</td>\n",
       "      <td>1</td>\n",
       "      <td>0</td>\n",
       "      <td>0</td>\n",
       "      <td>0</td>\n",
       "      <td>0</td>\n",
       "      <td>0</td>\n",
       "      <td>0</td>\n",
       "      <td>1</td>\n",
       "      <td>1</td>\n",
       "      <td>0</td>\n",
       "      <td>0</td>\n",
       "      <td>0</td>\n",
       "      <td>0</td>\n",
       "      <td>0</td>\n",
       "      <td>0</td>\n",
       "      <td>1</td>\n",
       "      <td>0</td>\n",
       "      <td>0</td>\n",
       "      <td>0</td>\n",
       "      <td>TLS</td>\n",
       "      <td>Web</td>\n",
       "      <td>0</td>\n",
       "      <td>6</td>\n",
       "      <td>NaN</td>\n",
       "      <td>NaN</td>\n",
       "      <td>NaN</td>\n",
       "      <td>NaN</td>\n",
       "      <td>NaN</td>\n",
       "      <td>1</td>\n",
       "      <td>0</td>\n",
       "      <td>0</td>\n",
       "      <td>0</td>\n",
       "      <td>1</td>\n",
       "      <td>32</td>\n",
       "      <td>32</td>\n",
       "      <td>52</td>\n",
       "      <td>1457</td>\n",
       "      <td>24</td>\n",
       "      <td>16</td>\n",
       "      <td>24</td>\n",
       "      <td>23168</td>\n",
       "      <td>65535</td>\n",
       "      <td>17664</td>\n",
       "      <td>69</td>\n",
       "      <td>0</td>\n",
       "      <td>0</td>\n",
       "      <td>0</td>\n",
       "      <td>0</td>\n",
       "      <td>0</td>\n",
       "      <td>0</td>\n",
       "      <td>0</td>\n",
       "      <td>0</td>\n",
       "      <td>1457.0</td>\n",
       "      <td>52.0</td>\n",
       "      <td>11656.0</td>\n",
       "      <td>416.0</td>\n",
       "      <td>1457.0</td>\n",
       "      <td>52.0</td>\n",
       "      <td>11656.0</td>\n",
       "      <td>416.0</td>\n",
       "      <td>-1</td>\n",
       "      <td>-1</td>\n",
       "      <td>-1</td>\n",
       "      <td>0</td>\n",
       "      <td>1405</td>\n",
       "      <td>0</td>\n",
       "      <td>1429</td>\n",
       "      <td>1405</td>\n",
       "      <td>1417</td>\n",
       "      <td>1405</td>\n",
       "      <td>12</td>\n",
       "      <td>0</td>\n",
       "      <td>1.00000</td>\n",
       "      <td>1405</td>\n",
       "      <td>1.0</td>\n",
       "      <td>0</td>\n",
       "      <td>0.000000</td>\n",
       "      <td>0.000000</td>\n",
       "      <td>0.000000</td>\n",
       "      <td>NaN</td>\n",
       "      <td>NaN</td>\n",
       "      <td>0.000000</td>\n",
       "      <td>NaN</td>\n",
       "      <td>NaN</td>\n",
       "      <td>NaN</td>\n",
       "      <td>NaN</td>\n",
       "      <td>0.0</td>\n",
       "      <td>NaN</td>\n",
       "      <td>NaN</td>\n",
       "      <td>NaN</td>\n",
       "      <td>NaN</td>\n",
       "      <td>0.0</td>\n",
       "      <td>0.0</td>\n",
       "      <td>0.000000</td>\n",
       "      <td>NaN</td>\n",
       "      <td>NaN</td>\n",
       "      <td>NaN</td>\n",
       "      <td>NaN</td>\n",
       "      <td>0</td>\n",
       "      <td>0.0</td>\n",
       "      <td>1</td>\n",
       "      <td>1.0</td>\n",
       "      <td>1.000000</td>\n",
       "      <td>70.0</td>\n",
       "      <td>772.5</td>\n",
       "      <td>1475.0</td>\n",
       "      <td>702.5</td>\n",
       "      <td>0.000000</td>\n",
       "      <td>-2.000000</td>\n",
       "      <td>0.0</td>\n",
       "      <td>0.0</td>\n",
       "      <td>0.0</td>\n",
       "      <td>0.0</td>\n",
       "      <td>0.000000</td>\n",
       "      <td>0.000000</td>\n",
       "      <td>0.0</td>\n",
       "      <td>Benign</td>\n",
       "    </tr>\n",
       "    <tr>\n",
       "      <th>1</th>\n",
       "      <td>1</td>\n",
       "      <td>0</td>\n",
       "      <td>1.2.47.166</td>\n",
       "      <td>02:1a:c5:02:00:00</td>\n",
       "      <td>02:1a:c5</td>\n",
       "      <td>443</td>\n",
       "      <td>1.1.10.149</td>\n",
       "      <td>02:1a:c5:01:00:00</td>\n",
       "      <td>02:1a:c5</td>\n",
       "      <td>34898</td>\n",
       "      <td>6</td>\n",
       "      <td>4</td>\n",
       "      <td>0</td>\n",
       "      <td>0</td>\n",
       "      <td>183137371</td>\n",
       "      <td>183137371</td>\n",
       "      <td>0</td>\n",
       "      <td>2</td>\n",
       "      <td>1509</td>\n",
       "      <td>183137371</td>\n",
       "      <td>183137371</td>\n",
       "      <td>0</td>\n",
       "      <td>1</td>\n",
       "      <td>1457</td>\n",
       "      <td>183137371</td>\n",
       "      <td>183137371</td>\n",
       "      <td>0</td>\n",
       "      <td>1</td>\n",
       "      <td>52</td>\n",
       "      <td>52</td>\n",
       "      <td>754.500000</td>\n",
       "      <td>993.485028</td>\n",
       "      <td>1457</td>\n",
       "      <td>1457</td>\n",
       "      <td>1457.00000</td>\n",
       "      <td>0.000000</td>\n",
       "      <td>1457</td>\n",
       "      <td>52</td>\n",
       "      <td>52.0</td>\n",
       "      <td>0.0</td>\n",
       "      <td>52</td>\n",
       "      <td>0</td>\n",
       "      <td>0.000000</td>\n",
       "      <td>0.000000</td>\n",
       "      <td>0</td>\n",
       "      <td>0</td>\n",
       "      <td>0.000000</td>\n",
       "      <td>0.000000</td>\n",
       "      <td>0</td>\n",
       "      <td>0</td>\n",
       "      <td>0.0</td>\n",
       "      <td>0.0</td>\n",
       "      <td>0</td>\n",
       "      <td>0</td>\n",
       "      <td>0</td>\n",
       "      <td>0</td>\n",
       "      <td>0</td>\n",
       "      <td>2</td>\n",
       "      <td>1</td>\n",
       "      <td>0</td>\n",
       "      <td>0</td>\n",
       "      <td>0</td>\n",
       "      <td>0</td>\n",
       "      <td>0</td>\n",
       "      <td>0</td>\n",
       "      <td>1</td>\n",
       "      <td>1</td>\n",
       "      <td>0</td>\n",
       "      <td>0</td>\n",
       "      <td>0</td>\n",
       "      <td>0</td>\n",
       "      <td>0</td>\n",
       "      <td>0</td>\n",
       "      <td>1</td>\n",
       "      <td>0</td>\n",
       "      <td>0</td>\n",
       "      <td>0</td>\n",
       "      <td>TLS</td>\n",
       "      <td>Web</td>\n",
       "      <td>0</td>\n",
       "      <td>6</td>\n",
       "      <td>NaN</td>\n",
       "      <td>NaN</td>\n",
       "      <td>NaN</td>\n",
       "      <td>NaN</td>\n",
       "      <td>NaN</td>\n",
       "      <td>1</td>\n",
       "      <td>0</td>\n",
       "      <td>0</td>\n",
       "      <td>0</td>\n",
       "      <td>1</td>\n",
       "      <td>32</td>\n",
       "      <td>32</td>\n",
       "      <td>52</td>\n",
       "      <td>1457</td>\n",
       "      <td>24</td>\n",
       "      <td>16</td>\n",
       "      <td>24</td>\n",
       "      <td>21720</td>\n",
       "      <td>43440</td>\n",
       "      <td>17664</td>\n",
       "      <td>69</td>\n",
       "      <td>0</td>\n",
       "      <td>0</td>\n",
       "      <td>0</td>\n",
       "      <td>0</td>\n",
       "      <td>0</td>\n",
       "      <td>0</td>\n",
       "      <td>0</td>\n",
       "      <td>0</td>\n",
       "      <td>1457.0</td>\n",
       "      <td>52.0</td>\n",
       "      <td>11656.0</td>\n",
       "      <td>416.0</td>\n",
       "      <td>1457.0</td>\n",
       "      <td>52.0</td>\n",
       "      <td>11656.0</td>\n",
       "      <td>416.0</td>\n",
       "      <td>-1</td>\n",
       "      <td>-1</td>\n",
       "      <td>-1</td>\n",
       "      <td>0</td>\n",
       "      <td>1405</td>\n",
       "      <td>0</td>\n",
       "      <td>1429</td>\n",
       "      <td>1405</td>\n",
       "      <td>1417</td>\n",
       "      <td>1405</td>\n",
       "      <td>12</td>\n",
       "      <td>0</td>\n",
       "      <td>1.00000</td>\n",
       "      <td>1405</td>\n",
       "      <td>1.0</td>\n",
       "      <td>0</td>\n",
       "      <td>0.000000</td>\n",
       "      <td>0.000000</td>\n",
       "      <td>0.000000</td>\n",
       "      <td>NaN</td>\n",
       "      <td>NaN</td>\n",
       "      <td>0.000000</td>\n",
       "      <td>NaN</td>\n",
       "      <td>NaN</td>\n",
       "      <td>NaN</td>\n",
       "      <td>NaN</td>\n",
       "      <td>0.0</td>\n",
       "      <td>NaN</td>\n",
       "      <td>NaN</td>\n",
       "      <td>NaN</td>\n",
       "      <td>NaN</td>\n",
       "      <td>0.0</td>\n",
       "      <td>0.0</td>\n",
       "      <td>0.000000</td>\n",
       "      <td>NaN</td>\n",
       "      <td>NaN</td>\n",
       "      <td>NaN</td>\n",
       "      <td>NaN</td>\n",
       "      <td>0</td>\n",
       "      <td>0.0</td>\n",
       "      <td>1</td>\n",
       "      <td>1.0</td>\n",
       "      <td>1.000000</td>\n",
       "      <td>70.0</td>\n",
       "      <td>772.5</td>\n",
       "      <td>1475.0</td>\n",
       "      <td>702.5</td>\n",
       "      <td>0.000000</td>\n",
       "      <td>-2.000000</td>\n",
       "      <td>0.0</td>\n",
       "      <td>0.0</td>\n",
       "      <td>0.0</td>\n",
       "      <td>0.0</td>\n",
       "      <td>0.000000</td>\n",
       "      <td>0.000000</td>\n",
       "      <td>0.0</td>\n",
       "      <td>Benign</td>\n",
       "    </tr>\n",
       "    <tr>\n",
       "      <th>2</th>\n",
       "      <td>2</td>\n",
       "      <td>0</td>\n",
       "      <td>1.2.162.125</td>\n",
       "      <td>02:1a:c5:02:00:00</td>\n",
       "      <td>02:1a:c5</td>\n",
       "      <td>443</td>\n",
       "      <td>1.1.112.102</td>\n",
       "      <td>02:1a:c5:01:00:00</td>\n",
       "      <td>02:1a:c5</td>\n",
       "      <td>42808</td>\n",
       "      <td>6</td>\n",
       "      <td>4</td>\n",
       "      <td>0</td>\n",
       "      <td>0</td>\n",
       "      <td>183137371</td>\n",
       "      <td>183137371</td>\n",
       "      <td>0</td>\n",
       "      <td>2</td>\n",
       "      <td>1509</td>\n",
       "      <td>183137371</td>\n",
       "      <td>183137371</td>\n",
       "      <td>0</td>\n",
       "      <td>1</td>\n",
       "      <td>1457</td>\n",
       "      <td>183137371</td>\n",
       "      <td>183137371</td>\n",
       "      <td>0</td>\n",
       "      <td>1</td>\n",
       "      <td>52</td>\n",
       "      <td>52</td>\n",
       "      <td>754.500000</td>\n",
       "      <td>993.485028</td>\n",
       "      <td>1457</td>\n",
       "      <td>1457</td>\n",
       "      <td>1457.00000</td>\n",
       "      <td>0.000000</td>\n",
       "      <td>1457</td>\n",
       "      <td>52</td>\n",
       "      <td>52.0</td>\n",
       "      <td>0.0</td>\n",
       "      <td>52</td>\n",
       "      <td>0</td>\n",
       "      <td>0.000000</td>\n",
       "      <td>0.000000</td>\n",
       "      <td>0</td>\n",
       "      <td>0</td>\n",
       "      <td>0.000000</td>\n",
       "      <td>0.000000</td>\n",
       "      <td>0</td>\n",
       "      <td>0</td>\n",
       "      <td>0.0</td>\n",
       "      <td>0.0</td>\n",
       "      <td>0</td>\n",
       "      <td>0</td>\n",
       "      <td>0</td>\n",
       "      <td>0</td>\n",
       "      <td>0</td>\n",
       "      <td>2</td>\n",
       "      <td>1</td>\n",
       "      <td>0</td>\n",
       "      <td>0</td>\n",
       "      <td>0</td>\n",
       "      <td>0</td>\n",
       "      <td>0</td>\n",
       "      <td>0</td>\n",
       "      <td>1</td>\n",
       "      <td>1</td>\n",
       "      <td>0</td>\n",
       "      <td>0</td>\n",
       "      <td>0</td>\n",
       "      <td>0</td>\n",
       "      <td>0</td>\n",
       "      <td>0</td>\n",
       "      <td>1</td>\n",
       "      <td>0</td>\n",
       "      <td>0</td>\n",
       "      <td>0</td>\n",
       "      <td>TLS</td>\n",
       "      <td>Web</td>\n",
       "      <td>0</td>\n",
       "      <td>6</td>\n",
       "      <td>NaN</td>\n",
       "      <td>NaN</td>\n",
       "      <td>NaN</td>\n",
       "      <td>NaN</td>\n",
       "      <td>NaN</td>\n",
       "      <td>1</td>\n",
       "      <td>0</td>\n",
       "      <td>0</td>\n",
       "      <td>0</td>\n",
       "      <td>1</td>\n",
       "      <td>32</td>\n",
       "      <td>32</td>\n",
       "      <td>52</td>\n",
       "      <td>1457</td>\n",
       "      <td>24</td>\n",
       "      <td>16</td>\n",
       "      <td>24</td>\n",
       "      <td>23168</td>\n",
       "      <td>65535</td>\n",
       "      <td>17664</td>\n",
       "      <td>69</td>\n",
       "      <td>0</td>\n",
       "      <td>0</td>\n",
       "      <td>0</td>\n",
       "      <td>0</td>\n",
       "      <td>0</td>\n",
       "      <td>0</td>\n",
       "      <td>0</td>\n",
       "      <td>0</td>\n",
       "      <td>1457.0</td>\n",
       "      <td>52.0</td>\n",
       "      <td>11656.0</td>\n",
       "      <td>416.0</td>\n",
       "      <td>1457.0</td>\n",
       "      <td>52.0</td>\n",
       "      <td>11656.0</td>\n",
       "      <td>416.0</td>\n",
       "      <td>-1</td>\n",
       "      <td>-1</td>\n",
       "      <td>-1</td>\n",
       "      <td>0</td>\n",
       "      <td>1405</td>\n",
       "      <td>0</td>\n",
       "      <td>1429</td>\n",
       "      <td>1405</td>\n",
       "      <td>1417</td>\n",
       "      <td>1405</td>\n",
       "      <td>12</td>\n",
       "      <td>0</td>\n",
       "      <td>1.00000</td>\n",
       "      <td>1405</td>\n",
       "      <td>1.0</td>\n",
       "      <td>0</td>\n",
       "      <td>0.000000</td>\n",
       "      <td>0.000000</td>\n",
       "      <td>0.000000</td>\n",
       "      <td>NaN</td>\n",
       "      <td>NaN</td>\n",
       "      <td>0.000000</td>\n",
       "      <td>NaN</td>\n",
       "      <td>NaN</td>\n",
       "      <td>NaN</td>\n",
       "      <td>NaN</td>\n",
       "      <td>0.0</td>\n",
       "      <td>NaN</td>\n",
       "      <td>NaN</td>\n",
       "      <td>NaN</td>\n",
       "      <td>NaN</td>\n",
       "      <td>0.0</td>\n",
       "      <td>0.0</td>\n",
       "      <td>0.000000</td>\n",
       "      <td>NaN</td>\n",
       "      <td>NaN</td>\n",
       "      <td>NaN</td>\n",
       "      <td>NaN</td>\n",
       "      <td>0</td>\n",
       "      <td>0.0</td>\n",
       "      <td>1</td>\n",
       "      <td>1.0</td>\n",
       "      <td>1.000000</td>\n",
       "      <td>70.0</td>\n",
       "      <td>772.5</td>\n",
       "      <td>1475.0</td>\n",
       "      <td>702.5</td>\n",
       "      <td>0.000000</td>\n",
       "      <td>-2.000000</td>\n",
       "      <td>0.0</td>\n",
       "      <td>0.0</td>\n",
       "      <td>0.0</td>\n",
       "      <td>0.0</td>\n",
       "      <td>0.000000</td>\n",
       "      <td>0.000000</td>\n",
       "      <td>0.0</td>\n",
       "      <td>Benign</td>\n",
       "    </tr>\n",
       "    <tr>\n",
       "      <th>3</th>\n",
       "      <td>3</td>\n",
       "      <td>0</td>\n",
       "      <td>1.2.166.255</td>\n",
       "      <td>02:1a:c5:02:00:00</td>\n",
       "      <td>02:1a:c5</td>\n",
       "      <td>443</td>\n",
       "      <td>1.1.112.86</td>\n",
       "      <td>02:1a:c5:01:00:00</td>\n",
       "      <td>02:1a:c5</td>\n",
       "      <td>43966</td>\n",
       "      <td>6</td>\n",
       "      <td>4</td>\n",
       "      <td>0</td>\n",
       "      <td>0</td>\n",
       "      <td>183137371</td>\n",
       "      <td>183137372</td>\n",
       "      <td>1</td>\n",
       "      <td>2</td>\n",
       "      <td>1509</td>\n",
       "      <td>183137371</td>\n",
       "      <td>183137371</td>\n",
       "      <td>0</td>\n",
       "      <td>1</td>\n",
       "      <td>1457</td>\n",
       "      <td>183137372</td>\n",
       "      <td>183137372</td>\n",
       "      <td>0</td>\n",
       "      <td>1</td>\n",
       "      <td>52</td>\n",
       "      <td>52</td>\n",
       "      <td>754.500000</td>\n",
       "      <td>993.485028</td>\n",
       "      <td>1457</td>\n",
       "      <td>1457</td>\n",
       "      <td>1457.00000</td>\n",
       "      <td>0.000000</td>\n",
       "      <td>1457</td>\n",
       "      <td>52</td>\n",
       "      <td>52.0</td>\n",
       "      <td>0.0</td>\n",
       "      <td>52</td>\n",
       "      <td>1</td>\n",
       "      <td>1.000000</td>\n",
       "      <td>0.000000</td>\n",
       "      <td>1</td>\n",
       "      <td>0</td>\n",
       "      <td>0.000000</td>\n",
       "      <td>0.000000</td>\n",
       "      <td>0</td>\n",
       "      <td>0</td>\n",
       "      <td>0.0</td>\n",
       "      <td>0.0</td>\n",
       "      <td>0</td>\n",
       "      <td>0</td>\n",
       "      <td>0</td>\n",
       "      <td>0</td>\n",
       "      <td>0</td>\n",
       "      <td>2</td>\n",
       "      <td>1</td>\n",
       "      <td>0</td>\n",
       "      <td>0</td>\n",
       "      <td>0</td>\n",
       "      <td>0</td>\n",
       "      <td>0</td>\n",
       "      <td>0</td>\n",
       "      <td>1</td>\n",
       "      <td>1</td>\n",
       "      <td>0</td>\n",
       "      <td>0</td>\n",
       "      <td>0</td>\n",
       "      <td>0</td>\n",
       "      <td>0</td>\n",
       "      <td>0</td>\n",
       "      <td>1</td>\n",
       "      <td>0</td>\n",
       "      <td>0</td>\n",
       "      <td>0</td>\n",
       "      <td>TLS</td>\n",
       "      <td>Web</td>\n",
       "      <td>0</td>\n",
       "      <td>6</td>\n",
       "      <td>NaN</td>\n",
       "      <td>NaN</td>\n",
       "      <td>NaN</td>\n",
       "      <td>NaN</td>\n",
       "      <td>NaN</td>\n",
       "      <td>1</td>\n",
       "      <td>0</td>\n",
       "      <td>0</td>\n",
       "      <td>0</td>\n",
       "      <td>1</td>\n",
       "      <td>32</td>\n",
       "      <td>32</td>\n",
       "      <td>52</td>\n",
       "      <td>1457</td>\n",
       "      <td>24</td>\n",
       "      <td>16</td>\n",
       "      <td>24</td>\n",
       "      <td>23168</td>\n",
       "      <td>65535</td>\n",
       "      <td>17664</td>\n",
       "      <td>69</td>\n",
       "      <td>0</td>\n",
       "      <td>0</td>\n",
       "      <td>0</td>\n",
       "      <td>0</td>\n",
       "      <td>0</td>\n",
       "      <td>0</td>\n",
       "      <td>0</td>\n",
       "      <td>0</td>\n",
       "      <td>1457.0</td>\n",
       "      <td>52.0</td>\n",
       "      <td>11656.0</td>\n",
       "      <td>416.0</td>\n",
       "      <td>1457.0</td>\n",
       "      <td>52.0</td>\n",
       "      <td>11656.0</td>\n",
       "      <td>416.0</td>\n",
       "      <td>-1</td>\n",
       "      <td>-1</td>\n",
       "      <td>-1</td>\n",
       "      <td>0</td>\n",
       "      <td>1405</td>\n",
       "      <td>0</td>\n",
       "      <td>1429</td>\n",
       "      <td>1405</td>\n",
       "      <td>1417</td>\n",
       "      <td>1405</td>\n",
       "      <td>12</td>\n",
       "      <td>0</td>\n",
       "      <td>1.00000</td>\n",
       "      <td>1405</td>\n",
       "      <td>1.0</td>\n",
       "      <td>0</td>\n",
       "      <td>0.500000</td>\n",
       "      <td>0.500000</td>\n",
       "      <td>0.250000</td>\n",
       "      <td>1.000000</td>\n",
       "      <td>0.000000</td>\n",
       "      <td>0.000000</td>\n",
       "      <td>NaN</td>\n",
       "      <td>NaN</td>\n",
       "      <td>NaN</td>\n",
       "      <td>NaN</td>\n",
       "      <td>1.0</td>\n",
       "      <td>NaN</td>\n",
       "      <td>NaN</td>\n",
       "      <td>NaN</td>\n",
       "      <td>NaN</td>\n",
       "      <td>1.0</td>\n",
       "      <td>1.0</td>\n",
       "      <td>1.000000</td>\n",
       "      <td>NaN</td>\n",
       "      <td>NaN</td>\n",
       "      <td>NaN</td>\n",
       "      <td>NaN</td>\n",
       "      <td>0</td>\n",
       "      <td>0.0</td>\n",
       "      <td>1</td>\n",
       "      <td>1.0</td>\n",
       "      <td>1.000000</td>\n",
       "      <td>70.0</td>\n",
       "      <td>772.5</td>\n",
       "      <td>1475.0</td>\n",
       "      <td>702.5</td>\n",
       "      <td>0.000000</td>\n",
       "      <td>-2.000000</td>\n",
       "      <td>0.0</td>\n",
       "      <td>0.5</td>\n",
       "      <td>1.0</td>\n",
       "      <td>0.5</td>\n",
       "      <td>0.000000</td>\n",
       "      <td>-2.000000</td>\n",
       "      <td>1.0</td>\n",
       "      <td>Benign</td>\n",
       "    </tr>\n",
       "    <tr>\n",
       "      <th>4</th>\n",
       "      <td>4</td>\n",
       "      <td>0</td>\n",
       "      <td>1.2.56.17</td>\n",
       "      <td>02:1a:c5:02:00:00</td>\n",
       "      <td>02:1a:c5</td>\n",
       "      <td>443</td>\n",
       "      <td>1.1.161.50</td>\n",
       "      <td>02:1a:c5:01:00:00</td>\n",
       "      <td>02:1a:c5</td>\n",
       "      <td>37070</td>\n",
       "      <td>6</td>\n",
       "      <td>4</td>\n",
       "      <td>0</td>\n",
       "      <td>0</td>\n",
       "      <td>183137371</td>\n",
       "      <td>183137371</td>\n",
       "      <td>0</td>\n",
       "      <td>2</td>\n",
       "      <td>1509</td>\n",
       "      <td>183137371</td>\n",
       "      <td>183137371</td>\n",
       "      <td>0</td>\n",
       "      <td>1</td>\n",
       "      <td>1457</td>\n",
       "      <td>183137371</td>\n",
       "      <td>183137371</td>\n",
       "      <td>0</td>\n",
       "      <td>1</td>\n",
       "      <td>52</td>\n",
       "      <td>52</td>\n",
       "      <td>754.500000</td>\n",
       "      <td>993.485028</td>\n",
       "      <td>1457</td>\n",
       "      <td>1457</td>\n",
       "      <td>1457.00000</td>\n",
       "      <td>0.000000</td>\n",
       "      <td>1457</td>\n",
       "      <td>52</td>\n",
       "      <td>52.0</td>\n",
       "      <td>0.0</td>\n",
       "      <td>52</td>\n",
       "      <td>0</td>\n",
       "      <td>0.000000</td>\n",
       "      <td>0.000000</td>\n",
       "      <td>0</td>\n",
       "      <td>0</td>\n",
       "      <td>0.000000</td>\n",
       "      <td>0.000000</td>\n",
       "      <td>0</td>\n",
       "      <td>0</td>\n",
       "      <td>0.0</td>\n",
       "      <td>0.0</td>\n",
       "      <td>0</td>\n",
       "      <td>0</td>\n",
       "      <td>0</td>\n",
       "      <td>0</td>\n",
       "      <td>0</td>\n",
       "      <td>2</td>\n",
       "      <td>1</td>\n",
       "      <td>0</td>\n",
       "      <td>0</td>\n",
       "      <td>0</td>\n",
       "      <td>0</td>\n",
       "      <td>0</td>\n",
       "      <td>0</td>\n",
       "      <td>1</td>\n",
       "      <td>1</td>\n",
       "      <td>0</td>\n",
       "      <td>0</td>\n",
       "      <td>0</td>\n",
       "      <td>0</td>\n",
       "      <td>0</td>\n",
       "      <td>0</td>\n",
       "      <td>1</td>\n",
       "      <td>0</td>\n",
       "      <td>0</td>\n",
       "      <td>0</td>\n",
       "      <td>TLS</td>\n",
       "      <td>Web</td>\n",
       "      <td>0</td>\n",
       "      <td>6</td>\n",
       "      <td>NaN</td>\n",
       "      <td>NaN</td>\n",
       "      <td>NaN</td>\n",
       "      <td>NaN</td>\n",
       "      <td>NaN</td>\n",
       "      <td>1</td>\n",
       "      <td>0</td>\n",
       "      <td>0</td>\n",
       "      <td>0</td>\n",
       "      <td>1</td>\n",
       "      <td>32</td>\n",
       "      <td>32</td>\n",
       "      <td>52</td>\n",
       "      <td>1457</td>\n",
       "      <td>24</td>\n",
       "      <td>16</td>\n",
       "      <td>24</td>\n",
       "      <td>23168</td>\n",
       "      <td>65535</td>\n",
       "      <td>17664</td>\n",
       "      <td>69</td>\n",
       "      <td>0</td>\n",
       "      <td>0</td>\n",
       "      <td>0</td>\n",
       "      <td>0</td>\n",
       "      <td>0</td>\n",
       "      <td>0</td>\n",
       "      <td>0</td>\n",
       "      <td>0</td>\n",
       "      <td>1457.0</td>\n",
       "      <td>52.0</td>\n",
       "      <td>11656.0</td>\n",
       "      <td>416.0</td>\n",
       "      <td>1457.0</td>\n",
       "      <td>52.0</td>\n",
       "      <td>11656.0</td>\n",
       "      <td>416.0</td>\n",
       "      <td>-1</td>\n",
       "      <td>-1</td>\n",
       "      <td>-1</td>\n",
       "      <td>0</td>\n",
       "      <td>1405</td>\n",
       "      <td>0</td>\n",
       "      <td>1429</td>\n",
       "      <td>1405</td>\n",
       "      <td>1417</td>\n",
       "      <td>1405</td>\n",
       "      <td>12</td>\n",
       "      <td>0</td>\n",
       "      <td>1.00000</td>\n",
       "      <td>1405</td>\n",
       "      <td>1.0</td>\n",
       "      <td>0</td>\n",
       "      <td>0.000000</td>\n",
       "      <td>0.000000</td>\n",
       "      <td>0.000000</td>\n",
       "      <td>NaN</td>\n",
       "      <td>NaN</td>\n",
       "      <td>0.000000</td>\n",
       "      <td>NaN</td>\n",
       "      <td>NaN</td>\n",
       "      <td>NaN</td>\n",
       "      <td>NaN</td>\n",
       "      <td>0.0</td>\n",
       "      <td>NaN</td>\n",
       "      <td>NaN</td>\n",
       "      <td>NaN</td>\n",
       "      <td>NaN</td>\n",
       "      <td>0.0</td>\n",
       "      <td>0.0</td>\n",
       "      <td>0.000000</td>\n",
       "      <td>NaN</td>\n",
       "      <td>NaN</td>\n",
       "      <td>NaN</td>\n",
       "      <td>NaN</td>\n",
       "      <td>0</td>\n",
       "      <td>0.0</td>\n",
       "      <td>1</td>\n",
       "      <td>1.0</td>\n",
       "      <td>1.000000</td>\n",
       "      <td>70.0</td>\n",
       "      <td>772.5</td>\n",
       "      <td>1475.0</td>\n",
       "      <td>702.5</td>\n",
       "      <td>0.000000</td>\n",
       "      <td>-2.000000</td>\n",
       "      <td>0.0</td>\n",
       "      <td>0.0</td>\n",
       "      <td>0.0</td>\n",
       "      <td>0.0</td>\n",
       "      <td>0.000000</td>\n",
       "      <td>0.000000</td>\n",
       "      <td>0.0</td>\n",
       "      <td>Benign</td>\n",
       "    </tr>\n",
       "    <tr>\n",
       "      <th>...</th>\n",
       "      <td>...</td>\n",
       "      <td>...</td>\n",
       "      <td>...</td>\n",
       "      <td>...</td>\n",
       "      <td>...</td>\n",
       "      <td>...</td>\n",
       "      <td>...</td>\n",
       "      <td>...</td>\n",
       "      <td>...</td>\n",
       "      <td>...</td>\n",
       "      <td>...</td>\n",
       "      <td>...</td>\n",
       "      <td>...</td>\n",
       "      <td>...</td>\n",
       "      <td>...</td>\n",
       "      <td>...</td>\n",
       "      <td>...</td>\n",
       "      <td>...</td>\n",
       "      <td>...</td>\n",
       "      <td>...</td>\n",
       "      <td>...</td>\n",
       "      <td>...</td>\n",
       "      <td>...</td>\n",
       "      <td>...</td>\n",
       "      <td>...</td>\n",
       "      <td>...</td>\n",
       "      <td>...</td>\n",
       "      <td>...</td>\n",
       "      <td>...</td>\n",
       "      <td>...</td>\n",
       "      <td>...</td>\n",
       "      <td>...</td>\n",
       "      <td>...</td>\n",
       "      <td>...</td>\n",
       "      <td>...</td>\n",
       "      <td>...</td>\n",
       "      <td>...</td>\n",
       "      <td>...</td>\n",
       "      <td>...</td>\n",
       "      <td>...</td>\n",
       "      <td>...</td>\n",
       "      <td>...</td>\n",
       "      <td>...</td>\n",
       "      <td>...</td>\n",
       "      <td>...</td>\n",
       "      <td>...</td>\n",
       "      <td>...</td>\n",
       "      <td>...</td>\n",
       "      <td>...</td>\n",
       "      <td>...</td>\n",
       "      <td>...</td>\n",
       "      <td>...</td>\n",
       "      <td>...</td>\n",
       "      <td>...</td>\n",
       "      <td>...</td>\n",
       "      <td>...</td>\n",
       "      <td>...</td>\n",
       "      <td>...</td>\n",
       "      <td>...</td>\n",
       "      <td>...</td>\n",
       "      <td>...</td>\n",
       "      <td>...</td>\n",
       "      <td>...</td>\n",
       "      <td>...</td>\n",
       "      <td>...</td>\n",
       "      <td>...</td>\n",
       "      <td>...</td>\n",
       "      <td>...</td>\n",
       "      <td>...</td>\n",
       "      <td>...</td>\n",
       "      <td>...</td>\n",
       "      <td>...</td>\n",
       "      <td>...</td>\n",
       "      <td>...</td>\n",
       "      <td>...</td>\n",
       "      <td>...</td>\n",
       "      <td>...</td>\n",
       "      <td>...</td>\n",
       "      <td>...</td>\n",
       "      <td>...</td>\n",
       "      <td>...</td>\n",
       "      <td>...</td>\n",
       "      <td>...</td>\n",
       "      <td>...</td>\n",
       "      <td>...</td>\n",
       "      <td>...</td>\n",
       "      <td>...</td>\n",
       "      <td>...</td>\n",
       "      <td>...</td>\n",
       "      <td>...</td>\n",
       "      <td>...</td>\n",
       "      <td>...</td>\n",
       "      <td>...</td>\n",
       "      <td>...</td>\n",
       "      <td>...</td>\n",
       "      <td>...</td>\n",
       "      <td>...</td>\n",
       "      <td>...</td>\n",
       "      <td>...</td>\n",
       "      <td>...</td>\n",
       "      <td>...</td>\n",
       "      <td>...</td>\n",
       "      <td>...</td>\n",
       "      <td>...</td>\n",
       "      <td>...</td>\n",
       "      <td>...</td>\n",
       "      <td>...</td>\n",
       "      <td>...</td>\n",
       "      <td>...</td>\n",
       "      <td>...</td>\n",
       "      <td>...</td>\n",
       "      <td>...</td>\n",
       "      <td>...</td>\n",
       "      <td>...</td>\n",
       "      <td>...</td>\n",
       "      <td>...</td>\n",
       "      <td>...</td>\n",
       "      <td>...</td>\n",
       "      <td>...</td>\n",
       "      <td>...</td>\n",
       "      <td>...</td>\n",
       "      <td>...</td>\n",
       "      <td>...</td>\n",
       "      <td>...</td>\n",
       "      <td>...</td>\n",
       "      <td>...</td>\n",
       "      <td>...</td>\n",
       "      <td>...</td>\n",
       "      <td>...</td>\n",
       "      <td>...</td>\n",
       "      <td>...</td>\n",
       "      <td>...</td>\n",
       "      <td>...</td>\n",
       "      <td>...</td>\n",
       "      <td>...</td>\n",
       "      <td>...</td>\n",
       "      <td>...</td>\n",
       "      <td>...</td>\n",
       "      <td>...</td>\n",
       "      <td>...</td>\n",
       "      <td>...</td>\n",
       "      <td>...</td>\n",
       "      <td>...</td>\n",
       "      <td>...</td>\n",
       "      <td>...</td>\n",
       "      <td>...</td>\n",
       "      <td>...</td>\n",
       "      <td>...</td>\n",
       "      <td>...</td>\n",
       "      <td>...</td>\n",
       "      <td>...</td>\n",
       "      <td>...</td>\n",
       "      <td>...</td>\n",
       "      <td>...</td>\n",
       "      <td>...</td>\n",
       "      <td>...</td>\n",
       "      <td>...</td>\n",
       "      <td>...</td>\n",
       "      <td>...</td>\n",
       "      <td>...</td>\n",
       "      <td>...</td>\n",
       "      <td>...</td>\n",
       "      <td>...</td>\n",
       "      <td>...</td>\n",
       "      <td>...</td>\n",
       "      <td>...</td>\n",
       "      <td>...</td>\n",
       "      <td>...</td>\n",
       "      <td>...</td>\n",
       "      <td>...</td>\n",
       "      <td>...</td>\n",
       "      <td>...</td>\n",
       "      <td>...</td>\n",
       "      <td>...</td>\n",
       "      <td>...</td>\n",
       "    </tr>\n",
       "    <tr>\n",
       "      <th>566925</th>\n",
       "      <td>6271</td>\n",
       "      <td>0</td>\n",
       "      <td>1.2.246.18</td>\n",
       "      <td>02:1a:c5:02:00:00</td>\n",
       "      <td>02:1a:c5</td>\n",
       "      <td>139</td>\n",
       "      <td>1.1.64.246</td>\n",
       "      <td>02:1a:c5:01:00:00</td>\n",
       "      <td>02:1a:c5</td>\n",
       "      <td>19526</td>\n",
       "      <td>6</td>\n",
       "      <td>4</td>\n",
       "      <td>0</td>\n",
       "      <td>0</td>\n",
       "      <td>18845804</td>\n",
       "      <td>18845805</td>\n",
       "      <td>1</td>\n",
       "      <td>25</td>\n",
       "      <td>36052</td>\n",
       "      <td>18845804</td>\n",
       "      <td>18845804</td>\n",
       "      <td>0</td>\n",
       "      <td>24</td>\n",
       "      <td>36000</td>\n",
       "      <td>18845805</td>\n",
       "      <td>18845805</td>\n",
       "      <td>0</td>\n",
       "      <td>1</td>\n",
       "      <td>52</td>\n",
       "      <td>52</td>\n",
       "      <td>1442.080000</td>\n",
       "      <td>289.600000</td>\n",
       "      <td>1500</td>\n",
       "      <td>1500</td>\n",
       "      <td>1500.00000</td>\n",
       "      <td>0.000000</td>\n",
       "      <td>1500</td>\n",
       "      <td>52</td>\n",
       "      <td>52.0</td>\n",
       "      <td>0.0</td>\n",
       "      <td>52</td>\n",
       "      <td>0</td>\n",
       "      <td>0.041667</td>\n",
       "      <td>0.204124</td>\n",
       "      <td>1</td>\n",
       "      <td>0</td>\n",
       "      <td>0.000000</td>\n",
       "      <td>0.000000</td>\n",
       "      <td>0</td>\n",
       "      <td>0</td>\n",
       "      <td>0.0</td>\n",
       "      <td>0.0</td>\n",
       "      <td>0</td>\n",
       "      <td>0</td>\n",
       "      <td>0</td>\n",
       "      <td>0</td>\n",
       "      <td>0</td>\n",
       "      <td>25</td>\n",
       "      <td>12</td>\n",
       "      <td>0</td>\n",
       "      <td>0</td>\n",
       "      <td>0</td>\n",
       "      <td>0</td>\n",
       "      <td>0</td>\n",
       "      <td>0</td>\n",
       "      <td>24</td>\n",
       "      <td>12</td>\n",
       "      <td>0</td>\n",
       "      <td>0</td>\n",
       "      <td>0</td>\n",
       "      <td>0</td>\n",
       "      <td>0</td>\n",
       "      <td>0</td>\n",
       "      <td>1</td>\n",
       "      <td>0</td>\n",
       "      <td>0</td>\n",
       "      <td>0</td>\n",
       "      <td>NetBIOS</td>\n",
       "      <td>System</td>\n",
       "      <td>1</td>\n",
       "      <td>1</td>\n",
       "      <td>NaN</td>\n",
       "      <td>NaN</td>\n",
       "      <td>NaN</td>\n",
       "      <td>NaN</td>\n",
       "      <td>NaN</td>\n",
       "      <td>1</td>\n",
       "      <td>0</td>\n",
       "      <td>0</td>\n",
       "      <td>0</td>\n",
       "      <td>24</td>\n",
       "      <td>32</td>\n",
       "      <td>32</td>\n",
       "      <td>52</td>\n",
       "      <td>1500</td>\n",
       "      <td>24</td>\n",
       "      <td>16</td>\n",
       "      <td>24</td>\n",
       "      <td>18824</td>\n",
       "      <td>65160</td>\n",
       "      <td>17664</td>\n",
       "      <td>69</td>\n",
       "      <td>0</td>\n",
       "      <td>0</td>\n",
       "      <td>0</td>\n",
       "      <td>0</td>\n",
       "      <td>0</td>\n",
       "      <td>0</td>\n",
       "      <td>0</td>\n",
       "      <td>0</td>\n",
       "      <td>36000.0</td>\n",
       "      <td>52.0</td>\n",
       "      <td>288000.0</td>\n",
       "      <td>416.0</td>\n",
       "      <td>36000.0</td>\n",
       "      <td>52.0</td>\n",
       "      <td>288000.0</td>\n",
       "      <td>416.0</td>\n",
       "      <td>-1</td>\n",
       "      <td>-1</td>\n",
       "      <td>-1</td>\n",
       "      <td>0</td>\n",
       "      <td>1448</td>\n",
       "      <td>0</td>\n",
       "      <td>35052</td>\n",
       "      <td>34752</td>\n",
       "      <td>35040</td>\n",
       "      <td>34752</td>\n",
       "      <td>12</td>\n",
       "      <td>0</td>\n",
       "      <td>1.00000</td>\n",
       "      <td>1448</td>\n",
       "      <td>1.0</td>\n",
       "      <td>0</td>\n",
       "      <td>0.040000</td>\n",
       "      <td>0.195959</td>\n",
       "      <td>0.038400</td>\n",
       "      <td>4.898979</td>\n",
       "      <td>0.612372</td>\n",
       "      <td>0.000000</td>\n",
       "      <td>0.000000</td>\n",
       "      <td>0.000000</td>\n",
       "      <td>NaN</td>\n",
       "      <td>NaN</td>\n",
       "      <td>1.0</td>\n",
       "      <td>NaN</td>\n",
       "      <td>NaN</td>\n",
       "      <td>NaN</td>\n",
       "      <td>NaN</td>\n",
       "      <td>1.0</td>\n",
       "      <td>1.0</td>\n",
       "      <td>1.000000</td>\n",
       "      <td>NaN</td>\n",
       "      <td>NaN</td>\n",
       "      <td>NaN</td>\n",
       "      <td>NaN</td>\n",
       "      <td>0</td>\n",
       "      <td>0.0</td>\n",
       "      <td>1</td>\n",
       "      <td>1.0</td>\n",
       "      <td>0.041667</td>\n",
       "      <td>1518.0</td>\n",
       "      <td>1518.0</td>\n",
       "      <td>1518.0</td>\n",
       "      <td>0.0</td>\n",
       "      <td>-4.694855</td>\n",
       "      <td>20.041667</td>\n",
       "      <td>0.0</td>\n",
       "      <td>0.0</td>\n",
       "      <td>0.0</td>\n",
       "      <td>0.0</td>\n",
       "      <td>4.694855</td>\n",
       "      <td>20.041667</td>\n",
       "      <td>1.0</td>\n",
       "      <td>Benign</td>\n",
       "    </tr>\n",
       "    <tr>\n",
       "      <th>566926</th>\n",
       "      <td>6272</td>\n",
       "      <td>0</td>\n",
       "      <td>1.2.12.236</td>\n",
       "      <td>02:1a:c5:02:00:00</td>\n",
       "      <td>02:1a:c5</td>\n",
       "      <td>139</td>\n",
       "      <td>1.1.191.182</td>\n",
       "      <td>02:1a:c5:01:00:00</td>\n",
       "      <td>02:1a:c5</td>\n",
       "      <td>43919</td>\n",
       "      <td>6</td>\n",
       "      <td>4</td>\n",
       "      <td>0</td>\n",
       "      <td>0</td>\n",
       "      <td>18845804</td>\n",
       "      <td>18845805</td>\n",
       "      <td>1</td>\n",
       "      <td>25</td>\n",
       "      <td>36052</td>\n",
       "      <td>18845804</td>\n",
       "      <td>18845805</td>\n",
       "      <td>1</td>\n",
       "      <td>24</td>\n",
       "      <td>36000</td>\n",
       "      <td>18845805</td>\n",
       "      <td>18845805</td>\n",
       "      <td>0</td>\n",
       "      <td>1</td>\n",
       "      <td>52</td>\n",
       "      <td>52</td>\n",
       "      <td>1442.080000</td>\n",
       "      <td>289.600000</td>\n",
       "      <td>1500</td>\n",
       "      <td>1500</td>\n",
       "      <td>1500.00000</td>\n",
       "      <td>0.000000</td>\n",
       "      <td>1500</td>\n",
       "      <td>52</td>\n",
       "      <td>52.0</td>\n",
       "      <td>0.0</td>\n",
       "      <td>52</td>\n",
       "      <td>0</td>\n",
       "      <td>0.041667</td>\n",
       "      <td>0.204124</td>\n",
       "      <td>1</td>\n",
       "      <td>0</td>\n",
       "      <td>0.043478</td>\n",
       "      <td>0.208514</td>\n",
       "      <td>1</td>\n",
       "      <td>0</td>\n",
       "      <td>0.0</td>\n",
       "      <td>0.0</td>\n",
       "      <td>0</td>\n",
       "      <td>0</td>\n",
       "      <td>0</td>\n",
       "      <td>0</td>\n",
       "      <td>0</td>\n",
       "      <td>25</td>\n",
       "      <td>12</td>\n",
       "      <td>0</td>\n",
       "      <td>0</td>\n",
       "      <td>0</td>\n",
       "      <td>0</td>\n",
       "      <td>0</td>\n",
       "      <td>0</td>\n",
       "      <td>24</td>\n",
       "      <td>12</td>\n",
       "      <td>0</td>\n",
       "      <td>0</td>\n",
       "      <td>0</td>\n",
       "      <td>0</td>\n",
       "      <td>0</td>\n",
       "      <td>0</td>\n",
       "      <td>1</td>\n",
       "      <td>0</td>\n",
       "      <td>0</td>\n",
       "      <td>0</td>\n",
       "      <td>NetBIOS</td>\n",
       "      <td>System</td>\n",
       "      <td>1</td>\n",
       "      <td>1</td>\n",
       "      <td>NaN</td>\n",
       "      <td>NaN</td>\n",
       "      <td>NaN</td>\n",
       "      <td>NaN</td>\n",
       "      <td>NaN</td>\n",
       "      <td>1</td>\n",
       "      <td>0</td>\n",
       "      <td>0</td>\n",
       "      <td>0</td>\n",
       "      <td>24</td>\n",
       "      <td>32</td>\n",
       "      <td>32</td>\n",
       "      <td>52</td>\n",
       "      <td>1500</td>\n",
       "      <td>24</td>\n",
       "      <td>16</td>\n",
       "      <td>24</td>\n",
       "      <td>18824</td>\n",
       "      <td>65160</td>\n",
       "      <td>17664</td>\n",
       "      <td>69</td>\n",
       "      <td>0</td>\n",
       "      <td>0</td>\n",
       "      <td>0</td>\n",
       "      <td>0</td>\n",
       "      <td>0</td>\n",
       "      <td>0</td>\n",
       "      <td>0</td>\n",
       "      <td>0</td>\n",
       "      <td>36000.0</td>\n",
       "      <td>52.0</td>\n",
       "      <td>288000.0</td>\n",
       "      <td>416.0</td>\n",
       "      <td>36000000.0</td>\n",
       "      <td>52.0</td>\n",
       "      <td>288000000.0</td>\n",
       "      <td>416.0</td>\n",
       "      <td>-1</td>\n",
       "      <td>-1</td>\n",
       "      <td>-1</td>\n",
       "      <td>0</td>\n",
       "      <td>1448</td>\n",
       "      <td>0</td>\n",
       "      <td>35052</td>\n",
       "      <td>34752</td>\n",
       "      <td>35040</td>\n",
       "      <td>34752</td>\n",
       "      <td>12</td>\n",
       "      <td>0</td>\n",
       "      <td>1.00000</td>\n",
       "      <td>1448</td>\n",
       "      <td>1.0</td>\n",
       "      <td>0</td>\n",
       "      <td>0.440000</td>\n",
       "      <td>0.496387</td>\n",
       "      <td>0.246400</td>\n",
       "      <td>1.128152</td>\n",
       "      <td>2.659216</td>\n",
       "      <td>0.416667</td>\n",
       "      <td>0.493007</td>\n",
       "      <td>0.243056</td>\n",
       "      <td>1.183216</td>\n",
       "      <td>2.535463</td>\n",
       "      <td>1.0</td>\n",
       "      <td>NaN</td>\n",
       "      <td>NaN</td>\n",
       "      <td>NaN</td>\n",
       "      <td>NaN</td>\n",
       "      <td>1.0</td>\n",
       "      <td>1.0</td>\n",
       "      <td>1.000000</td>\n",
       "      <td>NaN</td>\n",
       "      <td>NaN</td>\n",
       "      <td>NaN</td>\n",
       "      <td>NaN</td>\n",
       "      <td>0</td>\n",
       "      <td>0.0</td>\n",
       "      <td>1</td>\n",
       "      <td>1.0</td>\n",
       "      <td>0.041667</td>\n",
       "      <td>1518.0</td>\n",
       "      <td>1518.0</td>\n",
       "      <td>1518.0</td>\n",
       "      <td>0.0</td>\n",
       "      <td>-4.694855</td>\n",
       "      <td>20.041667</td>\n",
       "      <td>0.0</td>\n",
       "      <td>0.0</td>\n",
       "      <td>0.0</td>\n",
       "      <td>0.0</td>\n",
       "      <td>4.694855</td>\n",
       "      <td>20.041667</td>\n",
       "      <td>1.0</td>\n",
       "      <td>Benign</td>\n",
       "    </tr>\n",
       "    <tr>\n",
       "      <th>566927</th>\n",
       "      <td>6273</td>\n",
       "      <td>0</td>\n",
       "      <td>1.2.55.126</td>\n",
       "      <td>02:1a:c5:02:00:00</td>\n",
       "      <td>02:1a:c5</td>\n",
       "      <td>139</td>\n",
       "      <td>1.1.130.137</td>\n",
       "      <td>02:1a:c5:01:00:00</td>\n",
       "      <td>02:1a:c5</td>\n",
       "      <td>36122</td>\n",
       "      <td>6</td>\n",
       "      <td>4</td>\n",
       "      <td>0</td>\n",
       "      <td>0</td>\n",
       "      <td>18845805</td>\n",
       "      <td>18845805</td>\n",
       "      <td>0</td>\n",
       "      <td>33</td>\n",
       "      <td>48052</td>\n",
       "      <td>18845805</td>\n",
       "      <td>18845805</td>\n",
       "      <td>0</td>\n",
       "      <td>32</td>\n",
       "      <td>48000</td>\n",
       "      <td>18845805</td>\n",
       "      <td>18845805</td>\n",
       "      <td>0</td>\n",
       "      <td>1</td>\n",
       "      <td>52</td>\n",
       "      <td>52</td>\n",
       "      <td>1456.121212</td>\n",
       "      <td>252.064446</td>\n",
       "      <td>1500</td>\n",
       "      <td>1500</td>\n",
       "      <td>1500.00000</td>\n",
       "      <td>0.000000</td>\n",
       "      <td>1500</td>\n",
       "      <td>52</td>\n",
       "      <td>52.0</td>\n",
       "      <td>0.0</td>\n",
       "      <td>52</td>\n",
       "      <td>0</td>\n",
       "      <td>0.000000</td>\n",
       "      <td>0.000000</td>\n",
       "      <td>0</td>\n",
       "      <td>0</td>\n",
       "      <td>0.000000</td>\n",
       "      <td>0.000000</td>\n",
       "      <td>0</td>\n",
       "      <td>0</td>\n",
       "      <td>0.0</td>\n",
       "      <td>0.0</td>\n",
       "      <td>0</td>\n",
       "      <td>0</td>\n",
       "      <td>0</td>\n",
       "      <td>0</td>\n",
       "      <td>0</td>\n",
       "      <td>33</td>\n",
       "      <td>16</td>\n",
       "      <td>0</td>\n",
       "      <td>0</td>\n",
       "      <td>0</td>\n",
       "      <td>0</td>\n",
       "      <td>0</td>\n",
       "      <td>0</td>\n",
       "      <td>32</td>\n",
       "      <td>16</td>\n",
       "      <td>0</td>\n",
       "      <td>0</td>\n",
       "      <td>0</td>\n",
       "      <td>0</td>\n",
       "      <td>0</td>\n",
       "      <td>0</td>\n",
       "      <td>1</td>\n",
       "      <td>0</td>\n",
       "      <td>0</td>\n",
       "      <td>0</td>\n",
       "      <td>NetBIOS</td>\n",
       "      <td>System</td>\n",
       "      <td>1</td>\n",
       "      <td>1</td>\n",
       "      <td>NaN</td>\n",
       "      <td>NaN</td>\n",
       "      <td>NaN</td>\n",
       "      <td>NaN</td>\n",
       "      <td>NaN</td>\n",
       "      <td>1</td>\n",
       "      <td>0</td>\n",
       "      <td>0</td>\n",
       "      <td>0</td>\n",
       "      <td>32</td>\n",
       "      <td>32</td>\n",
       "      <td>32</td>\n",
       "      <td>52</td>\n",
       "      <td>1500</td>\n",
       "      <td>24</td>\n",
       "      <td>16</td>\n",
       "      <td>24</td>\n",
       "      <td>18824</td>\n",
       "      <td>65160</td>\n",
       "      <td>17664</td>\n",
       "      <td>69</td>\n",
       "      <td>0</td>\n",
       "      <td>0</td>\n",
       "      <td>0</td>\n",
       "      <td>0</td>\n",
       "      <td>0</td>\n",
       "      <td>0</td>\n",
       "      <td>0</td>\n",
       "      <td>0</td>\n",
       "      <td>48000.0</td>\n",
       "      <td>52.0</td>\n",
       "      <td>384000.0</td>\n",
       "      <td>416.0</td>\n",
       "      <td>48000.0</td>\n",
       "      <td>52.0</td>\n",
       "      <td>384000.0</td>\n",
       "      <td>416.0</td>\n",
       "      <td>-1</td>\n",
       "      <td>-1</td>\n",
       "      <td>-1</td>\n",
       "      <td>0</td>\n",
       "      <td>1448</td>\n",
       "      <td>0</td>\n",
       "      <td>46732</td>\n",
       "      <td>46336</td>\n",
       "      <td>46720</td>\n",
       "      <td>46336</td>\n",
       "      <td>12</td>\n",
       "      <td>0</td>\n",
       "      <td>1.00000</td>\n",
       "      <td>1448</td>\n",
       "      <td>1.0</td>\n",
       "      <td>0</td>\n",
       "      <td>0.000000</td>\n",
       "      <td>0.000000</td>\n",
       "      <td>0.000000</td>\n",
       "      <td>NaN</td>\n",
       "      <td>NaN</td>\n",
       "      <td>0.000000</td>\n",
       "      <td>0.000000</td>\n",
       "      <td>0.000000</td>\n",
       "      <td>NaN</td>\n",
       "      <td>NaN</td>\n",
       "      <td>0.0</td>\n",
       "      <td>NaN</td>\n",
       "      <td>NaN</td>\n",
       "      <td>NaN</td>\n",
       "      <td>NaN</td>\n",
       "      <td>0.0</td>\n",
       "      <td>0.0</td>\n",
       "      <td>0.000000</td>\n",
       "      <td>NaN</td>\n",
       "      <td>NaN</td>\n",
       "      <td>NaN</td>\n",
       "      <td>NaN</td>\n",
       "      <td>0</td>\n",
       "      <td>0.0</td>\n",
       "      <td>1</td>\n",
       "      <td>1.0</td>\n",
       "      <td>0.031250</td>\n",
       "      <td>1518.0</td>\n",
       "      <td>1518.0</td>\n",
       "      <td>1518.0</td>\n",
       "      <td>0.0</td>\n",
       "      <td>-5.480078</td>\n",
       "      <td>28.031250</td>\n",
       "      <td>0.0</td>\n",
       "      <td>0.0</td>\n",
       "      <td>0.0</td>\n",
       "      <td>0.0</td>\n",
       "      <td>0.000000</td>\n",
       "      <td>0.000000</td>\n",
       "      <td>0.0</td>\n",
       "      <td>Benign</td>\n",
       "    </tr>\n",
       "    <tr>\n",
       "      <th>566928</th>\n",
       "      <td>6274</td>\n",
       "      <td>0</td>\n",
       "      <td>1.2.63.136</td>\n",
       "      <td>02:1a:c5:02:00:00</td>\n",
       "      <td>02:1a:c5</td>\n",
       "      <td>139</td>\n",
       "      <td>1.1.138.103</td>\n",
       "      <td>02:1a:c5:01:00:00</td>\n",
       "      <td>02:1a:c5</td>\n",
       "      <td>18879</td>\n",
       "      <td>6</td>\n",
       "      <td>4</td>\n",
       "      <td>0</td>\n",
       "      <td>0</td>\n",
       "      <td>18845805</td>\n",
       "      <td>18845806</td>\n",
       "      <td>1</td>\n",
       "      <td>34</td>\n",
       "      <td>47023</td>\n",
       "      <td>18845805</td>\n",
       "      <td>18845805</td>\n",
       "      <td>0</td>\n",
       "      <td>32</td>\n",
       "      <td>46919</td>\n",
       "      <td>18845805</td>\n",
       "      <td>18845806</td>\n",
       "      <td>1</td>\n",
       "      <td>2</td>\n",
       "      <td>104</td>\n",
       "      <td>52</td>\n",
       "      <td>1383.029412</td>\n",
       "      <td>385.210567</td>\n",
       "      <td>1500</td>\n",
       "      <td>419</td>\n",
       "      <td>1466.21875</td>\n",
       "      <td>191.095608</td>\n",
       "      <td>1500</td>\n",
       "      <td>52</td>\n",
       "      <td>52.0</td>\n",
       "      <td>0.0</td>\n",
       "      <td>52</td>\n",
       "      <td>0</td>\n",
       "      <td>0.030303</td>\n",
       "      <td>0.174078</td>\n",
       "      <td>1</td>\n",
       "      <td>0</td>\n",
       "      <td>0.000000</td>\n",
       "      <td>0.000000</td>\n",
       "      <td>0</td>\n",
       "      <td>1</td>\n",
       "      <td>1.0</td>\n",
       "      <td>0.0</td>\n",
       "      <td>1</td>\n",
       "      <td>0</td>\n",
       "      <td>0</td>\n",
       "      <td>0</td>\n",
       "      <td>0</td>\n",
       "      <td>34</td>\n",
       "      <td>16</td>\n",
       "      <td>0</td>\n",
       "      <td>0</td>\n",
       "      <td>0</td>\n",
       "      <td>0</td>\n",
       "      <td>0</td>\n",
       "      <td>0</td>\n",
       "      <td>32</td>\n",
       "      <td>16</td>\n",
       "      <td>0</td>\n",
       "      <td>0</td>\n",
       "      <td>0</td>\n",
       "      <td>0</td>\n",
       "      <td>0</td>\n",
       "      <td>0</td>\n",
       "      <td>2</td>\n",
       "      <td>0</td>\n",
       "      <td>0</td>\n",
       "      <td>0</td>\n",
       "      <td>NetBIOS</td>\n",
       "      <td>System</td>\n",
       "      <td>1</td>\n",
       "      <td>1</td>\n",
       "      <td>NaN</td>\n",
       "      <td>NaN</td>\n",
       "      <td>NaN</td>\n",
       "      <td>NaN</td>\n",
       "      <td>NaN</td>\n",
       "      <td>2</td>\n",
       "      <td>0</td>\n",
       "      <td>1</td>\n",
       "      <td>0</td>\n",
       "      <td>31</td>\n",
       "      <td>32</td>\n",
       "      <td>32</td>\n",
       "      <td>52</td>\n",
       "      <td>1500</td>\n",
       "      <td>24</td>\n",
       "      <td>16</td>\n",
       "      <td>24</td>\n",
       "      <td>18824</td>\n",
       "      <td>65160</td>\n",
       "      <td>17664</td>\n",
       "      <td>69</td>\n",
       "      <td>0</td>\n",
       "      <td>0</td>\n",
       "      <td>0</td>\n",
       "      <td>0</td>\n",
       "      <td>0</td>\n",
       "      <td>1</td>\n",
       "      <td>0</td>\n",
       "      <td>52</td>\n",
       "      <td>46919.0</td>\n",
       "      <td>104.0</td>\n",
       "      <td>375352.0</td>\n",
       "      <td>832.0</td>\n",
       "      <td>46919.0</td>\n",
       "      <td>104000.0</td>\n",
       "      <td>375352.0</td>\n",
       "      <td>832000.0</td>\n",
       "      <td>-1</td>\n",
       "      <td>-1</td>\n",
       "      <td>-1</td>\n",
       "      <td>0</td>\n",
       "      <td>1448</td>\n",
       "      <td>0</td>\n",
       "      <td>45663</td>\n",
       "      <td>45255</td>\n",
       "      <td>45639</td>\n",
       "      <td>45255</td>\n",
       "      <td>24</td>\n",
       "      <td>0</td>\n",
       "      <td>0.96875</td>\n",
       "      <td>1448</td>\n",
       "      <td>1.0</td>\n",
       "      <td>0</td>\n",
       "      <td>0.029412</td>\n",
       "      <td>0.168958</td>\n",
       "      <td>0.028547</td>\n",
       "      <td>5.744563</td>\n",
       "      <td>0.522233</td>\n",
       "      <td>0.000000</td>\n",
       "      <td>0.000000</td>\n",
       "      <td>0.000000</td>\n",
       "      <td>NaN</td>\n",
       "      <td>NaN</td>\n",
       "      <td>0.5</td>\n",
       "      <td>0.5</td>\n",
       "      <td>0.25</td>\n",
       "      <td>1.0</td>\n",
       "      <td>0.0</td>\n",
       "      <td>0.0</td>\n",
       "      <td>1.0</td>\n",
       "      <td>0.333333</td>\n",
       "      <td>0.471405</td>\n",
       "      <td>0.222222</td>\n",
       "      <td>1.414214</td>\n",
       "      <td>2.12132</td>\n",
       "      <td>0</td>\n",
       "      <td>0.0</td>\n",
       "      <td>2</td>\n",
       "      <td>1.0</td>\n",
       "      <td>0.062500</td>\n",
       "      <td>1518.0</td>\n",
       "      <td>1518.0</td>\n",
       "      <td>1518.0</td>\n",
       "      <td>0.0</td>\n",
       "      <td>-2.993267</td>\n",
       "      <td>7.133901</td>\n",
       "      <td>0.0</td>\n",
       "      <td>0.0</td>\n",
       "      <td>0.0</td>\n",
       "      <td>0.0</td>\n",
       "      <td>5.570485</td>\n",
       "      <td>29.030303</td>\n",
       "      <td>0.0</td>\n",
       "      <td>Benign</td>\n",
       "    </tr>\n",
       "    <tr>\n",
       "      <th>566929</th>\n",
       "      <td>6275</td>\n",
       "      <td>0</td>\n",
       "      <td>1.2.187.201</td>\n",
       "      <td>02:1a:c5:02:00:00</td>\n",
       "      <td>02:1a:c5</td>\n",
       "      <td>139</td>\n",
       "      <td>1.1.14.150</td>\n",
       "      <td>02:1a:c5:01:00:00</td>\n",
       "      <td>02:1a:c5</td>\n",
       "      <td>42523</td>\n",
       "      <td>6</td>\n",
       "      <td>4</td>\n",
       "      <td>0</td>\n",
       "      <td>0</td>\n",
       "      <td>18845807</td>\n",
       "      <td>18845808</td>\n",
       "      <td>1</td>\n",
       "      <td>34</td>\n",
       "      <td>47023</td>\n",
       "      <td>18845807</td>\n",
       "      <td>18845807</td>\n",
       "      <td>0</td>\n",
       "      <td>32</td>\n",
       "      <td>46919</td>\n",
       "      <td>18845807</td>\n",
       "      <td>18845808</td>\n",
       "      <td>1</td>\n",
       "      <td>2</td>\n",
       "      <td>104</td>\n",
       "      <td>52</td>\n",
       "      <td>1383.029412</td>\n",
       "      <td>385.210567</td>\n",
       "      <td>1500</td>\n",
       "      <td>419</td>\n",
       "      <td>1466.21875</td>\n",
       "      <td>191.095608</td>\n",
       "      <td>1500</td>\n",
       "      <td>52</td>\n",
       "      <td>52.0</td>\n",
       "      <td>0.0</td>\n",
       "      <td>52</td>\n",
       "      <td>0</td>\n",
       "      <td>0.030303</td>\n",
       "      <td>0.174078</td>\n",
       "      <td>1</td>\n",
       "      <td>0</td>\n",
       "      <td>0.000000</td>\n",
       "      <td>0.000000</td>\n",
       "      <td>0</td>\n",
       "      <td>1</td>\n",
       "      <td>1.0</td>\n",
       "      <td>0.0</td>\n",
       "      <td>1</td>\n",
       "      <td>0</td>\n",
       "      <td>0</td>\n",
       "      <td>0</td>\n",
       "      <td>0</td>\n",
       "      <td>34</td>\n",
       "      <td>16</td>\n",
       "      <td>0</td>\n",
       "      <td>0</td>\n",
       "      <td>0</td>\n",
       "      <td>0</td>\n",
       "      <td>0</td>\n",
       "      <td>0</td>\n",
       "      <td>32</td>\n",
       "      <td>16</td>\n",
       "      <td>0</td>\n",
       "      <td>0</td>\n",
       "      <td>0</td>\n",
       "      <td>0</td>\n",
       "      <td>0</td>\n",
       "      <td>0</td>\n",
       "      <td>2</td>\n",
       "      <td>0</td>\n",
       "      <td>0</td>\n",
       "      <td>0</td>\n",
       "      <td>NetBIOS</td>\n",
       "      <td>System</td>\n",
       "      <td>1</td>\n",
       "      <td>1</td>\n",
       "      <td>NaN</td>\n",
       "      <td>NaN</td>\n",
       "      <td>NaN</td>\n",
       "      <td>NaN</td>\n",
       "      <td>NaN</td>\n",
       "      <td>2</td>\n",
       "      <td>0</td>\n",
       "      <td>1</td>\n",
       "      <td>0</td>\n",
       "      <td>31</td>\n",
       "      <td>32</td>\n",
       "      <td>32</td>\n",
       "      <td>52</td>\n",
       "      <td>1500</td>\n",
       "      <td>24</td>\n",
       "      <td>16</td>\n",
       "      <td>24</td>\n",
       "      <td>18824</td>\n",
       "      <td>65160</td>\n",
       "      <td>17664</td>\n",
       "      <td>69</td>\n",
       "      <td>0</td>\n",
       "      <td>0</td>\n",
       "      <td>0</td>\n",
       "      <td>0</td>\n",
       "      <td>0</td>\n",
       "      <td>1</td>\n",
       "      <td>0</td>\n",
       "      <td>52</td>\n",
       "      <td>46919.0</td>\n",
       "      <td>104.0</td>\n",
       "      <td>375352.0</td>\n",
       "      <td>832.0</td>\n",
       "      <td>46919.0</td>\n",
       "      <td>104000.0</td>\n",
       "      <td>375352.0</td>\n",
       "      <td>832000.0</td>\n",
       "      <td>-1</td>\n",
       "      <td>-1</td>\n",
       "      <td>-1</td>\n",
       "      <td>0</td>\n",
       "      <td>1448</td>\n",
       "      <td>0</td>\n",
       "      <td>45663</td>\n",
       "      <td>45255</td>\n",
       "      <td>45639</td>\n",
       "      <td>45255</td>\n",
       "      <td>24</td>\n",
       "      <td>0</td>\n",
       "      <td>0.96875</td>\n",
       "      <td>1448</td>\n",
       "      <td>1.0</td>\n",
       "      <td>0</td>\n",
       "      <td>0.029412</td>\n",
       "      <td>0.168958</td>\n",
       "      <td>0.028547</td>\n",
       "      <td>5.744563</td>\n",
       "      <td>0.522233</td>\n",
       "      <td>0.000000</td>\n",
       "      <td>0.000000</td>\n",
       "      <td>0.000000</td>\n",
       "      <td>NaN</td>\n",
       "      <td>NaN</td>\n",
       "      <td>0.5</td>\n",
       "      <td>0.5</td>\n",
       "      <td>0.25</td>\n",
       "      <td>1.0</td>\n",
       "      <td>0.0</td>\n",
       "      <td>0.0</td>\n",
       "      <td>1.0</td>\n",
       "      <td>0.333333</td>\n",
       "      <td>0.471405</td>\n",
       "      <td>0.222222</td>\n",
       "      <td>1.414214</td>\n",
       "      <td>2.12132</td>\n",
       "      <td>0</td>\n",
       "      <td>0.0</td>\n",
       "      <td>2</td>\n",
       "      <td>1.0</td>\n",
       "      <td>0.062500</td>\n",
       "      <td>1518.0</td>\n",
       "      <td>1518.0</td>\n",
       "      <td>1518.0</td>\n",
       "      <td>0.0</td>\n",
       "      <td>-2.993267</td>\n",
       "      <td>7.133901</td>\n",
       "      <td>0.0</td>\n",
       "      <td>0.0</td>\n",
       "      <td>0.0</td>\n",
       "      <td>0.0</td>\n",
       "      <td>5.570485</td>\n",
       "      <td>29.030303</td>\n",
       "      <td>0.0</td>\n",
       "      <td>Benign</td>\n",
       "    </tr>\n",
       "  </tbody>\n",
       "</table>\n",
       "<p>566930 rows × 175 columns</p>\n",
       "</div>"
      ],
      "text/plain": [
       "          id  expiration_id       src_ip            src_mac   src_oui  \\\n",
       "0          0              0  1.2.118.108  02:1a:c5:02:00:00  02:1a:c5   \n",
       "1          1              0   1.2.47.166  02:1a:c5:02:00:00  02:1a:c5   \n",
       "2          2              0  1.2.162.125  02:1a:c5:02:00:00  02:1a:c5   \n",
       "3          3              0  1.2.166.255  02:1a:c5:02:00:00  02:1a:c5   \n",
       "4          4              0    1.2.56.17  02:1a:c5:02:00:00  02:1a:c5   \n",
       "...      ...            ...          ...                ...       ...   \n",
       "566925  6271              0   1.2.246.18  02:1a:c5:02:00:00  02:1a:c5   \n",
       "566926  6272              0   1.2.12.236  02:1a:c5:02:00:00  02:1a:c5   \n",
       "566927  6273              0   1.2.55.126  02:1a:c5:02:00:00  02:1a:c5   \n",
       "566928  6274              0   1.2.63.136  02:1a:c5:02:00:00  02:1a:c5   \n",
       "566929  6275              0  1.2.187.201  02:1a:c5:02:00:00  02:1a:c5   \n",
       "\n",
       "        src_port       dst_ip            dst_mac   dst_oui  dst_port  \\\n",
       "0            443     1.1.82.6  02:1a:c5:01:00:00  02:1a:c5     50980   \n",
       "1            443   1.1.10.149  02:1a:c5:01:00:00  02:1a:c5     34898   \n",
       "2            443  1.1.112.102  02:1a:c5:01:00:00  02:1a:c5     42808   \n",
       "3            443   1.1.112.86  02:1a:c5:01:00:00  02:1a:c5     43966   \n",
       "4            443   1.1.161.50  02:1a:c5:01:00:00  02:1a:c5     37070   \n",
       "...          ...          ...                ...       ...       ...   \n",
       "566925       139   1.1.64.246  02:1a:c5:01:00:00  02:1a:c5     19526   \n",
       "566926       139  1.1.191.182  02:1a:c5:01:00:00  02:1a:c5     43919   \n",
       "566927       139  1.1.130.137  02:1a:c5:01:00:00  02:1a:c5     36122   \n",
       "566928       139  1.1.138.103  02:1a:c5:01:00:00  02:1a:c5     18879   \n",
       "566929       139   1.1.14.150  02:1a:c5:01:00:00  02:1a:c5     42523   \n",
       "\n",
       "        protocol  ip_version  vlan_id  tunnel_id  bidirectional_first_seen_ms  \\\n",
       "0              6           4        0          0                    183137371   \n",
       "1              6           4        0          0                    183137371   \n",
       "2              6           4        0          0                    183137371   \n",
       "3              6           4        0          0                    183137371   \n",
       "4              6           4        0          0                    183137371   \n",
       "...          ...         ...      ...        ...                          ...   \n",
       "566925         6           4        0          0                     18845804   \n",
       "566926         6           4        0          0                     18845804   \n",
       "566927         6           4        0          0                     18845805   \n",
       "566928         6           4        0          0                     18845805   \n",
       "566929         6           4        0          0                     18845807   \n",
       "\n",
       "        bidirectional_last_seen_ms  bidirectional_duration_ms  \\\n",
       "0                        183137371                          0   \n",
       "1                        183137371                          0   \n",
       "2                        183137371                          0   \n",
       "3                        183137372                          1   \n",
       "4                        183137371                          0   \n",
       "...                            ...                        ...   \n",
       "566925                    18845805                          1   \n",
       "566926                    18845805                          1   \n",
       "566927                    18845805                          0   \n",
       "566928                    18845806                          1   \n",
       "566929                    18845808                          1   \n",
       "\n",
       "        bidirectional_packets  bidirectional_bytes  src2dst_first_seen_ms  \\\n",
       "0                           2                 1509              183137371   \n",
       "1                           2                 1509              183137371   \n",
       "2                           2                 1509              183137371   \n",
       "3                           2                 1509              183137371   \n",
       "4                           2                 1509              183137371   \n",
       "...                       ...                  ...                    ...   \n",
       "566925                     25                36052               18845804   \n",
       "566926                     25                36052               18845804   \n",
       "566927                     33                48052               18845805   \n",
       "566928                     34                47023               18845805   \n",
       "566929                     34                47023               18845807   \n",
       "\n",
       "        src2dst_last_seen_ms  src2dst_duration_ms  src2dst_packets  \\\n",
       "0                  183137371                    0                1   \n",
       "1                  183137371                    0                1   \n",
       "2                  183137371                    0                1   \n",
       "3                  183137371                    0                1   \n",
       "4                  183137371                    0                1   \n",
       "...                      ...                  ...              ...   \n",
       "566925              18845804                    0               24   \n",
       "566926              18845805                    1               24   \n",
       "566927              18845805                    0               32   \n",
       "566928              18845805                    0               32   \n",
       "566929              18845807                    0               32   \n",
       "\n",
       "        src2dst_bytes  dst2src_first_seen_ms  dst2src_last_seen_ms  \\\n",
       "0                1457              183137371             183137371   \n",
       "1                1457              183137371             183137371   \n",
       "2                1457              183137371             183137371   \n",
       "3                1457              183137372             183137372   \n",
       "4                1457              183137371             183137371   \n",
       "...               ...                    ...                   ...   \n",
       "566925          36000               18845805              18845805   \n",
       "566926          36000               18845805              18845805   \n",
       "566927          48000               18845805              18845805   \n",
       "566928          46919               18845805              18845806   \n",
       "566929          46919               18845807              18845808   \n",
       "\n",
       "        dst2src_duration_ms  dst2src_packets  dst2src_bytes  \\\n",
       "0                         0                1             52   \n",
       "1                         0                1             52   \n",
       "2                         0                1             52   \n",
       "3                         0                1             52   \n",
       "4                         0                1             52   \n",
       "...                     ...              ...            ...   \n",
       "566925                    0                1             52   \n",
       "566926                    0                1             52   \n",
       "566927                    0                1             52   \n",
       "566928                    1                2            104   \n",
       "566929                    1                2            104   \n",
       "\n",
       "        bidirectional_min_ps  bidirectional_mean_ps  bidirectional_stddev_ps  \\\n",
       "0                         52             754.500000               993.485028   \n",
       "1                         52             754.500000               993.485028   \n",
       "2                         52             754.500000               993.485028   \n",
       "3                         52             754.500000               993.485028   \n",
       "4                         52             754.500000               993.485028   \n",
       "...                      ...                    ...                      ...   \n",
       "566925                    52            1442.080000               289.600000   \n",
       "566926                    52            1442.080000               289.600000   \n",
       "566927                    52            1456.121212               252.064446   \n",
       "566928                    52            1383.029412               385.210567   \n",
       "566929                    52            1383.029412               385.210567   \n",
       "\n",
       "        bidirectional_max_ps  src2dst_min_ps  src2dst_mean_ps  \\\n",
       "0                       1457            1457       1457.00000   \n",
       "1                       1457            1457       1457.00000   \n",
       "2                       1457            1457       1457.00000   \n",
       "3                       1457            1457       1457.00000   \n",
       "4                       1457            1457       1457.00000   \n",
       "...                      ...             ...              ...   \n",
       "566925                  1500            1500       1500.00000   \n",
       "566926                  1500            1500       1500.00000   \n",
       "566927                  1500            1500       1500.00000   \n",
       "566928                  1500             419       1466.21875   \n",
       "566929                  1500             419       1466.21875   \n",
       "\n",
       "        src2dst_stddev_ps  src2dst_max_ps  dst2src_min_ps  dst2src_mean_ps  \\\n",
       "0                0.000000            1457              52             52.0   \n",
       "1                0.000000            1457              52             52.0   \n",
       "2                0.000000            1457              52             52.0   \n",
       "3                0.000000            1457              52             52.0   \n",
       "4                0.000000            1457              52             52.0   \n",
       "...                   ...             ...             ...              ...   \n",
       "566925           0.000000            1500              52             52.0   \n",
       "566926           0.000000            1500              52             52.0   \n",
       "566927           0.000000            1500              52             52.0   \n",
       "566928         191.095608            1500              52             52.0   \n",
       "566929         191.095608            1500              52             52.0   \n",
       "\n",
       "        dst2src_stddev_ps  dst2src_max_ps  bidirectional_min_piat_ms  \\\n",
       "0                     0.0              52                          0   \n",
       "1                     0.0              52                          0   \n",
       "2                     0.0              52                          0   \n",
       "3                     0.0              52                          1   \n",
       "4                     0.0              52                          0   \n",
       "...                   ...             ...                        ...   \n",
       "566925                0.0              52                          0   \n",
       "566926                0.0              52                          0   \n",
       "566927                0.0              52                          0   \n",
       "566928                0.0              52                          0   \n",
       "566929                0.0              52                          0   \n",
       "\n",
       "        bidirectional_mean_piat_ms  bidirectional_stddev_piat_ms  \\\n",
       "0                         0.000000                      0.000000   \n",
       "1                         0.000000                      0.000000   \n",
       "2                         0.000000                      0.000000   \n",
       "3                         1.000000                      0.000000   \n",
       "4                         0.000000                      0.000000   \n",
       "...                            ...                           ...   \n",
       "566925                    0.041667                      0.204124   \n",
       "566926                    0.041667                      0.204124   \n",
       "566927                    0.000000                      0.000000   \n",
       "566928                    0.030303                      0.174078   \n",
       "566929                    0.030303                      0.174078   \n",
       "\n",
       "        bidirectional_max_piat_ms  src2dst_min_piat_ms  src2dst_mean_piat_ms  \\\n",
       "0                               0                    0              0.000000   \n",
       "1                               0                    0              0.000000   \n",
       "2                               0                    0              0.000000   \n",
       "3                               1                    0              0.000000   \n",
       "4                               0                    0              0.000000   \n",
       "...                           ...                  ...                   ...   \n",
       "566925                          1                    0              0.000000   \n",
       "566926                          1                    0              0.043478   \n",
       "566927                          0                    0              0.000000   \n",
       "566928                          1                    0              0.000000   \n",
       "566929                          1                    0              0.000000   \n",
       "\n",
       "        src2dst_stddev_piat_ms  src2dst_max_piat_ms  dst2src_min_piat_ms  \\\n",
       "0                     0.000000                    0                    0   \n",
       "1                     0.000000                    0                    0   \n",
       "2                     0.000000                    0                    0   \n",
       "3                     0.000000                    0                    0   \n",
       "4                     0.000000                    0                    0   \n",
       "...                        ...                  ...                  ...   \n",
       "566925                0.000000                    0                    0   \n",
       "566926                0.208514                    1                    0   \n",
       "566927                0.000000                    0                    0   \n",
       "566928                0.000000                    0                    1   \n",
       "566929                0.000000                    0                    1   \n",
       "\n",
       "        dst2src_mean_piat_ms  dst2src_stddev_piat_ms  dst2src_max_piat_ms  \\\n",
       "0                        0.0                     0.0                    0   \n",
       "1                        0.0                     0.0                    0   \n",
       "2                        0.0                     0.0                    0   \n",
       "3                        0.0                     0.0                    0   \n",
       "4                        0.0                     0.0                    0   \n",
       "...                      ...                     ...                  ...   \n",
       "566925                   0.0                     0.0                    0   \n",
       "566926                   0.0                     0.0                    0   \n",
       "566927                   0.0                     0.0                    0   \n",
       "566928                   1.0                     0.0                    1   \n",
       "566929                   1.0                     0.0                    1   \n",
       "\n",
       "        bidirectional_syn_packets  bidirectional_cwr_packets  \\\n",
       "0                               0                          0   \n",
       "1                               0                          0   \n",
       "2                               0                          0   \n",
       "3                               0                          0   \n",
       "4                               0                          0   \n",
       "...                           ...                        ...   \n",
       "566925                          0                          0   \n",
       "566926                          0                          0   \n",
       "566927                          0                          0   \n",
       "566928                          0                          0   \n",
       "566929                          0                          0   \n",
       "\n",
       "        bidirectional_ece_packets  bidirectional_urg_packets  \\\n",
       "0                               0                          0   \n",
       "1                               0                          0   \n",
       "2                               0                          0   \n",
       "3                               0                          0   \n",
       "4                               0                          0   \n",
       "...                           ...                        ...   \n",
       "566925                          0                          0   \n",
       "566926                          0                          0   \n",
       "566927                          0                          0   \n",
       "566928                          0                          0   \n",
       "566929                          0                          0   \n",
       "\n",
       "        bidirectional_ack_packets  bidirectional_psh_packets  \\\n",
       "0                               2                          1   \n",
       "1                               2                          1   \n",
       "2                               2                          1   \n",
       "3                               2                          1   \n",
       "4                               2                          1   \n",
       "...                           ...                        ...   \n",
       "566925                         25                         12   \n",
       "566926                         25                         12   \n",
       "566927                         33                         16   \n",
       "566928                         34                         16   \n",
       "566929                         34                         16   \n",
       "\n",
       "        bidirectional_rst_packets  bidirectional_fin_packets  \\\n",
       "0                               0                          0   \n",
       "1                               0                          0   \n",
       "2                               0                          0   \n",
       "3                               0                          0   \n",
       "4                               0                          0   \n",
       "...                           ...                        ...   \n",
       "566925                          0                          0   \n",
       "566926                          0                          0   \n",
       "566927                          0                          0   \n",
       "566928                          0                          0   \n",
       "566929                          0                          0   \n",
       "\n",
       "        src2dst_syn_packets  src2dst_cwr_packets  src2dst_ece_packets  \\\n",
       "0                         0                    0                    0   \n",
       "1                         0                    0                    0   \n",
       "2                         0                    0                    0   \n",
       "3                         0                    0                    0   \n",
       "4                         0                    0                    0   \n",
       "...                     ...                  ...                  ...   \n",
       "566925                    0                    0                    0   \n",
       "566926                    0                    0                    0   \n",
       "566927                    0                    0                    0   \n",
       "566928                    0                    0                    0   \n",
       "566929                    0                    0                    0   \n",
       "\n",
       "        src2dst_urg_packets  src2dst_ack_packets  src2dst_psh_packets  \\\n",
       "0                         0                    1                    1   \n",
       "1                         0                    1                    1   \n",
       "2                         0                    1                    1   \n",
       "3                         0                    1                    1   \n",
       "4                         0                    1                    1   \n",
       "...                     ...                  ...                  ...   \n",
       "566925                    0                   24                   12   \n",
       "566926                    0                   24                   12   \n",
       "566927                    0                   32                   16   \n",
       "566928                    0                   32                   16   \n",
       "566929                    0                   32                   16   \n",
       "\n",
       "        src2dst_rst_packets  src2dst_fin_packets  dst2src_syn_packets  \\\n",
       "0                         0                    0                    0   \n",
       "1                         0                    0                    0   \n",
       "2                         0                    0                    0   \n",
       "3                         0                    0                    0   \n",
       "4                         0                    0                    0   \n",
       "...                     ...                  ...                  ...   \n",
       "566925                    0                    0                    0   \n",
       "566926                    0                    0                    0   \n",
       "566927                    0                    0                    0   \n",
       "566928                    0                    0                    0   \n",
       "566929                    0                    0                    0   \n",
       "\n",
       "        dst2src_cwr_packets  dst2src_ece_packets  dst2src_urg_packets  \\\n",
       "0                         0                    0                    0   \n",
       "1                         0                    0                    0   \n",
       "2                         0                    0                    0   \n",
       "3                         0                    0                    0   \n",
       "4                         0                    0                    0   \n",
       "...                     ...                  ...                  ...   \n",
       "566925                    0                    0                    0   \n",
       "566926                    0                    0                    0   \n",
       "566927                    0                    0                    0   \n",
       "566928                    0                    0                    0   \n",
       "566929                    0                    0                    0   \n",
       "\n",
       "        dst2src_ack_packets  dst2src_psh_packets  dst2src_rst_packets  \\\n",
       "0                         1                    0                    0   \n",
       "1                         1                    0                    0   \n",
       "2                         1                    0                    0   \n",
       "3                         1                    0                    0   \n",
       "4                         1                    0                    0   \n",
       "...                     ...                  ...                  ...   \n",
       "566925                    1                    0                    0   \n",
       "566926                    1                    0                    0   \n",
       "566927                    1                    0                    0   \n",
       "566928                    2                    0                    0   \n",
       "566929                    2                    0                    0   \n",
       "\n",
       "        dst2src_fin_packets application_name application_category_name  \\\n",
       "0                         0              TLS                       Web   \n",
       "1                         0              TLS                       Web   \n",
       "2                         0              TLS                       Web   \n",
       "3                         0              TLS                       Web   \n",
       "4                         0              TLS                       Web   \n",
       "...                     ...              ...                       ...   \n",
       "566925                    0          NetBIOS                    System   \n",
       "566926                    0          NetBIOS                    System   \n",
       "566927                    0          NetBIOS                    System   \n",
       "566928                    0          NetBIOS                    System   \n",
       "566929                    0          NetBIOS                    System   \n",
       "\n",
       "        application_is_guessed  application_confidence requested_server_name  \\\n",
       "0                            0                       6                   NaN   \n",
       "1                            0                       6                   NaN   \n",
       "2                            0                       6                   NaN   \n",
       "3                            0                       6                   NaN   \n",
       "4                            0                       6                   NaN   \n",
       "...                        ...                     ...                   ...   \n",
       "566925                       1                       1                   NaN   \n",
       "566926                       1                       1                   NaN   \n",
       "566927                       1                       1                   NaN   \n",
       "566928                       1                       1                   NaN   \n",
       "566929                       1                       1                   NaN   \n",
       "\n",
       "       client_fingerprint server_fingerprint user_agent content_type  \\\n",
       "0                     NaN                NaN        NaN          NaN   \n",
       "1                     NaN                NaN        NaN          NaN   \n",
       "2                     NaN                NaN        NaN          NaN   \n",
       "3                     NaN                NaN        NaN          NaN   \n",
       "4                     NaN                NaN        NaN          NaN   \n",
       "...                   ...                ...        ...          ...   \n",
       "566925                NaN                NaN        NaN          NaN   \n",
       "566926                NaN                NaN        NaN          NaN   \n",
       "566927                NaN                NaN        NaN          NaN   \n",
       "566928                NaN                NaN        NaN          NaN   \n",
       "566929                NaN                NaN        NaN          NaN   \n",
       "\n",
       "        udps.num_pkts_up_to_128_bytes  udps.num_pkts_128_to_256_bytes  \\\n",
       "0                                   1                               0   \n",
       "1                                   1                               0   \n",
       "2                                   1                               0   \n",
       "3                                   1                               0   \n",
       "4                                   1                               0   \n",
       "...                               ...                             ...   \n",
       "566925                              1                               0   \n",
       "566926                              1                               0   \n",
       "566927                              1                               0   \n",
       "566928                              2                               0   \n",
       "566929                              2                               0   \n",
       "\n",
       "        udps.num_pkts_256_to_512_bytes  udps.num_pkts_512_to_1024_bytes  \\\n",
       "0                                    0                                0   \n",
       "1                                    0                                0   \n",
       "2                                    0                                0   \n",
       "3                                    0                                0   \n",
       "4                                    0                                0   \n",
       "...                                ...                              ...   \n",
       "566925                               0                                0   \n",
       "566926                               0                                0   \n",
       "566927                               0                                0   \n",
       "566928                               1                                0   \n",
       "566929                               1                                0   \n",
       "\n",
       "        udps.num_pkts_1024_to_1514_bytes  udps.min_ttl  udps.max_ttl  \\\n",
       "0                                      1            32            32   \n",
       "1                                      1            32            32   \n",
       "2                                      1            32            32   \n",
       "3                                      1            32            32   \n",
       "4                                      1            32            32   \n",
       "...                                  ...           ...           ...   \n",
       "566925                                24            32            32   \n",
       "566926                                24            32            32   \n",
       "566927                                32            32            32   \n",
       "566928                                31            32            32   \n",
       "566929                                31            32            32   \n",
       "\n",
       "        udps.min_ip_pkt_len  udps.max_ip_pkt_len  udps.src2dst_flags  \\\n",
       "0                        52                 1457                  24   \n",
       "1                        52                 1457                  24   \n",
       "2                        52                 1457                  24   \n",
       "3                        52                 1457                  24   \n",
       "4                        52                 1457                  24   \n",
       "...                     ...                  ...                 ...   \n",
       "566925                   52                 1500                  24   \n",
       "566926                   52                 1500                  24   \n",
       "566927                   52                 1500                  24   \n",
       "566928                   52                 1500                  24   \n",
       "566929                   52                 1500                  24   \n",
       "\n",
       "        udps.dst2src_flags  udps.tcp_flags  udps.tcp_win_max_in  \\\n",
       "0                       16              24                23168   \n",
       "1                       16              24                21720   \n",
       "2                       16              24                23168   \n",
       "3                       16              24                23168   \n",
       "4                       16              24                23168   \n",
       "...                    ...             ...                  ...   \n",
       "566925                  16              24                18824   \n",
       "566926                  16              24                18824   \n",
       "566927                  16              24                18824   \n",
       "566928                  16              24                18824   \n",
       "566929                  16              24                18824   \n",
       "\n",
       "        udps.tcp_win_max_out  udps.icmp_type  udps.icmp_v4_type  \\\n",
       "0                      65535           17664                 69   \n",
       "1                      43440           17664                 69   \n",
       "2                      65535           17664                 69   \n",
       "3                      65535           17664                 69   \n",
       "4                      65535           17664                 69   \n",
       "...                      ...             ...                ...   \n",
       "566925                 65160           17664                 69   \n",
       "566926                 65160           17664                 69   \n",
       "566927                 65160           17664                 69   \n",
       "566928                 65160           17664                 69   \n",
       "566929                 65160           17664                 69   \n",
       "\n",
       "        udps.dns_query_id  udps.dns_query_type  udps.dns_ttl_answer  \\\n",
       "0                       0                    0                    0   \n",
       "1                       0                    0                    0   \n",
       "2                       0                    0                    0   \n",
       "3                       0                    0                    0   \n",
       "4                       0                    0                    0   \n",
       "...                   ...                  ...                  ...   \n",
       "566925                  0                    0                    0   \n",
       "566926                  0                    0                    0   \n",
       "566927                  0                    0                    0   \n",
       "566928                  0                    0                    0   \n",
       "566929                  0                    0                    0   \n",
       "\n",
       "        udps.ftp_command_ret_code  udps.retransmitted_in_packets  \\\n",
       "0                               0                              0   \n",
       "1                               0                              0   \n",
       "2                               0                              0   \n",
       "3                               0                              0   \n",
       "4                               0                              0   \n",
       "...                           ...                            ...   \n",
       "566925                          0                              0   \n",
       "566926                          0                              0   \n",
       "566927                          0                              0   \n",
       "566928                          0                              0   \n",
       "566929                          0                              0   \n",
       "\n",
       "        udps.retransmitted_out_packets  udps.retransmitted_in_bytes  \\\n",
       "0                                    0                            0   \n",
       "1                                    0                            0   \n",
       "2                                    0                            0   \n",
       "3                                    0                            0   \n",
       "4                                    0                            0   \n",
       "...                                ...                          ...   \n",
       "566925                               0                            0   \n",
       "566926                               0                            0   \n",
       "566927                               0                            0   \n",
       "566928                               1                            0   \n",
       "566929                               1                            0   \n",
       "\n",
       "        udps.retransmitted_out_bytes  udps.src_to_dst_second_bytes  \\\n",
       "0                                  0                        1457.0   \n",
       "1                                  0                        1457.0   \n",
       "2                                  0                        1457.0   \n",
       "3                                  0                        1457.0   \n",
       "4                                  0                        1457.0   \n",
       "...                              ...                           ...   \n",
       "566925                             0                       36000.0   \n",
       "566926                             0                       36000.0   \n",
       "566927                             0                       48000.0   \n",
       "566928                            52                       46919.0   \n",
       "566929                            52                       46919.0   \n",
       "\n",
       "        udps.dst_to_src_second_bytes  udps.src_to_dst_avg_throughput  \\\n",
       "0                               52.0                         11656.0   \n",
       "1                               52.0                         11656.0   \n",
       "2                               52.0                         11656.0   \n",
       "3                               52.0                         11656.0   \n",
       "4                               52.0                         11656.0   \n",
       "...                              ...                             ...   \n",
       "566925                          52.0                        288000.0   \n",
       "566926                          52.0                        288000.0   \n",
       "566927                          52.0                        384000.0   \n",
       "566928                         104.0                        375352.0   \n",
       "566929                         104.0                        375352.0   \n",
       "\n",
       "        udps.dst_to_src_avg_throughput  udps.src_to_dst_second_bytes2  \\\n",
       "0                                416.0                         1457.0   \n",
       "1                                416.0                         1457.0   \n",
       "2                                416.0                         1457.0   \n",
       "3                                416.0                         1457.0   \n",
       "4                                416.0                         1457.0   \n",
       "...                                ...                            ...   \n",
       "566925                           416.0                        36000.0   \n",
       "566926                           416.0                     36000000.0   \n",
       "566927                           416.0                        48000.0   \n",
       "566928                           832.0                        46919.0   \n",
       "566929                           832.0                        46919.0   \n",
       "\n",
       "        udps.dst_to_src_second_bytes2  udps.src_to_dst_avg_throughput2  \\\n",
       "0                                52.0                          11656.0   \n",
       "1                                52.0                          11656.0   \n",
       "2                                52.0                          11656.0   \n",
       "3                                52.0                          11656.0   \n",
       "4                                52.0                          11656.0   \n",
       "...                               ...                              ...   \n",
       "566925                           52.0                         288000.0   \n",
       "566926                           52.0                      288000000.0   \n",
       "566927                           52.0                         384000.0   \n",
       "566928                       104000.0                         375352.0   \n",
       "566929                       104000.0                         375352.0   \n",
       "\n",
       "        udps.dst_to_src_avg_throughput2  udps.tcp_init_ms  \\\n",
       "0                                 416.0                -1   \n",
       "1                                 416.0                -1   \n",
       "2                                 416.0                -1   \n",
       "3                                 416.0                -1   \n",
       "4                                 416.0                -1   \n",
       "...                                 ...               ...   \n",
       "566925                            416.0                -1   \n",
       "566926                            416.0                -1   \n",
       "566927                            416.0                -1   \n",
       "566928                         832000.0                -1   \n",
       "566929                         832000.0                -1   \n",
       "\n",
       "        udps.tcp_synack_ack_ms  udps.tcp_half_closed_time_ms  \\\n",
       "0                           -1                            -1   \n",
       "1                           -1                            -1   \n",
       "2                           -1                            -1   \n",
       "3                           -1                            -1   \n",
       "4                           -1                            -1   \n",
       "...                        ...                           ...   \n",
       "566925                      -1                            -1   \n",
       "566926                      -1                            -1   \n",
       "566927                      -1                            -1   \n",
       "566928                      -1                            -1   \n",
       "566929                      -1                            -1   \n",
       "\n",
       "        udps.num_pkts_after_termination  \\\n",
       "0                                     0   \n",
       "1                                     0   \n",
       "2                                     0   \n",
       "3                                     0   \n",
       "4                                     0   \n",
       "...                                 ...   \n",
       "566925                                0   \n",
       "566926                                0   \n",
       "566927                                0   \n",
       "566928                                0   \n",
       "566929                                0   \n",
       "\n",
       "        udps.src2dst_first_packet_payload_len  \\\n",
       "0                                        1405   \n",
       "1                                        1405   \n",
       "2                                        1405   \n",
       "3                                        1405   \n",
       "4                                        1405   \n",
       "...                                       ...   \n",
       "566925                                   1448   \n",
       "566926                                   1448   \n",
       "566927                                   1448   \n",
       "566928                                   1448   \n",
       "566929                                   1448   \n",
       "\n",
       "        udps.dst2src_first_packet_payload_len  \\\n",
       "0                                           0   \n",
       "1                                           0   \n",
       "2                                           0   \n",
       "3                                           0   \n",
       "4                                           0   \n",
       "...                                       ...   \n",
       "566925                                      0   \n",
       "566926                                      0   \n",
       "566927                                      0   \n",
       "566928                                      0   \n",
       "566929                                      0   \n",
       "\n",
       "        udps.bidirectional_transport_bytes  udps.bidirectional_payload_bytes  \\\n",
       "0                                     1429                              1405   \n",
       "1                                     1429                              1405   \n",
       "2                                     1429                              1405   \n",
       "3                                     1429                              1405   \n",
       "4                                     1429                              1405   \n",
       "...                                    ...                               ...   \n",
       "566925                               35052                             34752   \n",
       "566926                               35052                             34752   \n",
       "566927                               46732                             46336   \n",
       "566928                               45663                             45255   \n",
       "566929                               45663                             45255   \n",
       "\n",
       "        udps.src2dst_transport_bytes  udps.src2dst_payload_bytes  \\\n",
       "0                               1417                        1405   \n",
       "1                               1417                        1405   \n",
       "2                               1417                        1405   \n",
       "3                               1417                        1405   \n",
       "4                               1417                        1405   \n",
       "...                              ...                         ...   \n",
       "566925                         35040                       34752   \n",
       "566926                         35040                       34752   \n",
       "566927                         46720                       46336   \n",
       "566928                         45639                       45255   \n",
       "566929                         45639                       45255   \n",
       "\n",
       "        udps.dst2src_transport_bytes  udps.dst2src_payload_bytes  \\\n",
       "0                                 12                           0   \n",
       "1                                 12                           0   \n",
       "2                                 12                           0   \n",
       "3                                 12                           0   \n",
       "4                                 12                           0   \n",
       "...                              ...                         ...   \n",
       "566925                            12                           0   \n",
       "566926                            12                           0   \n",
       "566927                            12                           0   \n",
       "566928                            24                           0   \n",
       "566929                            24                           0   \n",
       "\n",
       "        udps.src2dst_most_freq_payload_ratio  \\\n",
       "0                                    1.00000   \n",
       "1                                    1.00000   \n",
       "2                                    1.00000   \n",
       "3                                    1.00000   \n",
       "4                                    1.00000   \n",
       "...                                      ...   \n",
       "566925                               1.00000   \n",
       "566926                               1.00000   \n",
       "566927                               1.00000   \n",
       "566928                               0.96875   \n",
       "566929                               0.96875   \n",
       "\n",
       "        udps.src2dst_most_freq_payload_len  \\\n",
       "0                                     1405   \n",
       "1                                     1405   \n",
       "2                                     1405   \n",
       "3                                     1405   \n",
       "4                                     1405   \n",
       "...                                    ...   \n",
       "566925                                1448   \n",
       "566926                                1448   \n",
       "566927                                1448   \n",
       "566928                                1448   \n",
       "566929                                1448   \n",
       "\n",
       "        udps.dst2src_most_freq_payload_ratio  \\\n",
       "0                                        1.0   \n",
       "1                                        1.0   \n",
       "2                                        1.0   \n",
       "3                                        1.0   \n",
       "4                                        1.0   \n",
       "...                                      ...   \n",
       "566925                                   1.0   \n",
       "566926                                   1.0   \n",
       "566927                                   1.0   \n",
       "566928                                   1.0   \n",
       "566929                                   1.0   \n",
       "\n",
       "        udps.dst2src_most_freq_payload_len  \\\n",
       "0                                        0   \n",
       "1                                        0   \n",
       "2                                        0   \n",
       "3                                        0   \n",
       "4                                        0   \n",
       "...                                    ...   \n",
       "566925                                   0   \n",
       "566926                                   0   \n",
       "566927                                   0   \n",
       "566928                                   0   \n",
       "566929                                   0   \n",
       "\n",
       "        udps.bidirectional_mean_packet_relative_times  \\\n",
       "0                                            0.000000   \n",
       "1                                            0.000000   \n",
       "2                                            0.000000   \n",
       "3                                            0.500000   \n",
       "4                                            0.000000   \n",
       "...                                               ...   \n",
       "566925                                       0.040000   \n",
       "566926                                       0.440000   \n",
       "566927                                       0.000000   \n",
       "566928                                       0.029412   \n",
       "566929                                       0.029412   \n",
       "\n",
       "        udps.bidirectional_stddev_packet_relative_times  \\\n",
       "0                                              0.000000   \n",
       "1                                              0.000000   \n",
       "2                                              0.000000   \n",
       "3                                              0.500000   \n",
       "4                                              0.000000   \n",
       "...                                                 ...   \n",
       "566925                                         0.195959   \n",
       "566926                                         0.496387   \n",
       "566927                                         0.000000   \n",
       "566928                                         0.168958   \n",
       "566929                                         0.168958   \n",
       "\n",
       "        udps.bidirectional_variance_packet_relative_times  \\\n",
       "0                                                0.000000   \n",
       "1                                                0.000000   \n",
       "2                                                0.000000   \n",
       "3                                                0.250000   \n",
       "4                                                0.000000   \n",
       "...                                                   ...   \n",
       "566925                                           0.038400   \n",
       "566926                                           0.246400   \n",
       "566927                                           0.000000   \n",
       "566928                                           0.028547   \n",
       "566929                                           0.028547   \n",
       "\n",
       "        udps.bidirectional_coeff_of_var_packet_relative_times  \\\n",
       "0                                                     NaN       \n",
       "1                                                     NaN       \n",
       "2                                                     NaN       \n",
       "3                                                1.000000       \n",
       "4                                                     NaN       \n",
       "...                                                   ...       \n",
       "566925                                           4.898979       \n",
       "566926                                           1.128152       \n",
       "566927                                                NaN       \n",
       "566928                                           5.744563       \n",
       "566929                                           5.744563       \n",
       "\n",
       "        udps.bidirectional_skew_from_median_packet_relative_times  \\\n",
       "0                                                     NaN           \n",
       "1                                                     NaN           \n",
       "2                                                     NaN           \n",
       "3                                                0.000000           \n",
       "4                                                     NaN           \n",
       "...                                                   ...           \n",
       "566925                                           0.612372           \n",
       "566926                                           2.659216           \n",
       "566927                                                NaN           \n",
       "566928                                           0.522233           \n",
       "566929                                           0.522233           \n",
       "\n",
       "        udps.src2dst_mean_packet_relative_times  \\\n",
       "0                                      0.000000   \n",
       "1                                      0.000000   \n",
       "2                                      0.000000   \n",
       "3                                      0.000000   \n",
       "4                                      0.000000   \n",
       "...                                         ...   \n",
       "566925                                 0.000000   \n",
       "566926                                 0.416667   \n",
       "566927                                 0.000000   \n",
       "566928                                 0.000000   \n",
       "566929                                 0.000000   \n",
       "\n",
       "        udps.src2dst_stddev_packet_relative_times  \\\n",
       "0                                             NaN   \n",
       "1                                             NaN   \n",
       "2                                             NaN   \n",
       "3                                             NaN   \n",
       "4                                             NaN   \n",
       "...                                           ...   \n",
       "566925                                   0.000000   \n",
       "566926                                   0.493007   \n",
       "566927                                   0.000000   \n",
       "566928                                   0.000000   \n",
       "566929                                   0.000000   \n",
       "\n",
       "        udps.src2dst_variance_packet_relative_times  \\\n",
       "0                                               NaN   \n",
       "1                                               NaN   \n",
       "2                                               NaN   \n",
       "3                                               NaN   \n",
       "4                                               NaN   \n",
       "...                                             ...   \n",
       "566925                                     0.000000   \n",
       "566926                                     0.243056   \n",
       "566927                                     0.000000   \n",
       "566928                                     0.000000   \n",
       "566929                                     0.000000   \n",
       "\n",
       "        udps.src2dst_coeff_of_var_packet_relative_times  \\\n",
       "0                                                   NaN   \n",
       "1                                                   NaN   \n",
       "2                                                   NaN   \n",
       "3                                                   NaN   \n",
       "4                                                   NaN   \n",
       "...                                                 ...   \n",
       "566925                                              NaN   \n",
       "566926                                         1.183216   \n",
       "566927                                              NaN   \n",
       "566928                                              NaN   \n",
       "566929                                              NaN   \n",
       "\n",
       "        udps.src2dst_skew_from_median_packet_relative_times  \\\n",
       "0                                                     NaN     \n",
       "1                                                     NaN     \n",
       "2                                                     NaN     \n",
       "3                                                     NaN     \n",
       "4                                                     NaN     \n",
       "...                                                   ...     \n",
       "566925                                                NaN     \n",
       "566926                                           2.535463     \n",
       "566927                                                NaN     \n",
       "566928                                                NaN     \n",
       "566929                                                NaN     \n",
       "\n",
       "        udps.dst2src_mean_packet_relative_times  \\\n",
       "0                                           0.0   \n",
       "1                                           0.0   \n",
       "2                                           0.0   \n",
       "3                                           1.0   \n",
       "4                                           0.0   \n",
       "...                                         ...   \n",
       "566925                                      1.0   \n",
       "566926                                      1.0   \n",
       "566927                                      0.0   \n",
       "566928                                      0.5   \n",
       "566929                                      0.5   \n",
       "\n",
       "        udps.dst2src_stddev_packet_relative_times  \\\n",
       "0                                             NaN   \n",
       "1                                             NaN   \n",
       "2                                             NaN   \n",
       "3                                             NaN   \n",
       "4                                             NaN   \n",
       "...                                           ...   \n",
       "566925                                        NaN   \n",
       "566926                                        NaN   \n",
       "566927                                        NaN   \n",
       "566928                                        0.5   \n",
       "566929                                        0.5   \n",
       "\n",
       "        udps.dst2src_variance_packet_relative_times  \\\n",
       "0                                               NaN   \n",
       "1                                               NaN   \n",
       "2                                               NaN   \n",
       "3                                               NaN   \n",
       "4                                               NaN   \n",
       "...                                             ...   \n",
       "566925                                          NaN   \n",
       "566926                                          NaN   \n",
       "566927                                          NaN   \n",
       "566928                                         0.25   \n",
       "566929                                         0.25   \n",
       "\n",
       "        udps.dst2src_coeff_of_var_packet_relative_times  \\\n",
       "0                                                   NaN   \n",
       "1                                                   NaN   \n",
       "2                                                   NaN   \n",
       "3                                                   NaN   \n",
       "4                                                   NaN   \n",
       "...                                                 ...   \n",
       "566925                                              NaN   \n",
       "566926                                              NaN   \n",
       "566927                                              NaN   \n",
       "566928                                              1.0   \n",
       "566929                                              1.0   \n",
       "\n",
       "        udps.dst2src_skew_from_median_packet_relative_times  \\\n",
       "0                                                     NaN     \n",
       "1                                                     NaN     \n",
       "2                                                     NaN     \n",
       "3                                                     NaN     \n",
       "4                                                     NaN     \n",
       "...                                                   ...     \n",
       "566925                                                NaN     \n",
       "566926                                                NaN     \n",
       "566927                                                NaN     \n",
       "566928                                                0.0     \n",
       "566929                                                0.0     \n",
       "\n",
       "        udps.min_req_res_time_diff  udps.max_req_res_time_diff  \\\n",
       "0                              0.0                         0.0   \n",
       "1                              0.0                         0.0   \n",
       "2                              0.0                         0.0   \n",
       "3                              1.0                         1.0   \n",
       "4                              0.0                         0.0   \n",
       "...                            ...                         ...   \n",
       "566925                         1.0                         1.0   \n",
       "566926                         1.0                         1.0   \n",
       "566927                         0.0                         0.0   \n",
       "566928                         0.0                         1.0   \n",
       "566929                         0.0                         1.0   \n",
       "\n",
       "        udps.mean_req_res_time_diff  udps.stddev_req_res_time_diff  \\\n",
       "0                          0.000000                            NaN   \n",
       "1                          0.000000                            NaN   \n",
       "2                          0.000000                            NaN   \n",
       "3                          1.000000                            NaN   \n",
       "4                          0.000000                            NaN   \n",
       "...                             ...                            ...   \n",
       "566925                     1.000000                            NaN   \n",
       "566926                     1.000000                            NaN   \n",
       "566927                     0.000000                            NaN   \n",
       "566928                     0.333333                       0.471405   \n",
       "566929                     0.333333                       0.471405   \n",
       "\n",
       "        udps.variance_req_res_time_diff  udps.coeff_of_var_req_res_time_diff  \\\n",
       "0                                   NaN                                  NaN   \n",
       "1                                   NaN                                  NaN   \n",
       "2                                   NaN                                  NaN   \n",
       "3                                   NaN                                  NaN   \n",
       "4                                   NaN                                  NaN   \n",
       "...                                 ...                                  ...   \n",
       "566925                              NaN                                  NaN   \n",
       "566926                              NaN                                  NaN   \n",
       "566927                              NaN                                  NaN   \n",
       "566928                         0.222222                             1.414214   \n",
       "566929                         0.222222                             1.414214   \n",
       "\n",
       "        udps.skew_from_median_req_res_time_diff  \\\n",
       "0                                           NaN   \n",
       "1                                           NaN   \n",
       "2                                           NaN   \n",
       "3                                           NaN   \n",
       "4                                           NaN   \n",
       "...                                         ...   \n",
       "566925                                      NaN   \n",
       "566926                                      NaN   \n",
       "566927                                      NaN   \n",
       "566928                                  2.12132   \n",
       "566929                                  2.12132   \n",
       "\n",
       "        udps.src2dst_small_packet_payload_packets  \\\n",
       "0                                               0   \n",
       "1                                               0   \n",
       "2                                               0   \n",
       "3                                               0   \n",
       "4                                               0   \n",
       "...                                           ...   \n",
       "566925                                          0   \n",
       "566926                                          0   \n",
       "566927                                          0   \n",
       "566928                                          0   \n",
       "566929                                          0   \n",
       "\n",
       "        udps.src2dst_small_packet_payload_ratio  \\\n",
       "0                                           0.0   \n",
       "1                                           0.0   \n",
       "2                                           0.0   \n",
       "3                                           0.0   \n",
       "4                                           0.0   \n",
       "...                                         ...   \n",
       "566925                                      0.0   \n",
       "566926                                      0.0   \n",
       "566927                                      0.0   \n",
       "566928                                      0.0   \n",
       "566929                                      0.0   \n",
       "\n",
       "        udps.dst2src_small_packet_payload_packets  \\\n",
       "0                                               1   \n",
       "1                                               1   \n",
       "2                                               1   \n",
       "3                                               1   \n",
       "4                                               1   \n",
       "...                                           ...   \n",
       "566925                                          1   \n",
       "566926                                          1   \n",
       "566927                                          1   \n",
       "566928                                          2   \n",
       "566929                                          2   \n",
       "\n",
       "        udps.dst2src_small_packet_payload_ratio  udps.sent_recv_packet_ratio  \\\n",
       "0                                           1.0                     1.000000   \n",
       "1                                           1.0                     1.000000   \n",
       "2                                           1.0                     1.000000   \n",
       "3                                           1.0                     1.000000   \n",
       "4                                           1.0                     1.000000   \n",
       "...                                         ...                          ...   \n",
       "566925                                      1.0                     0.041667   \n",
       "566926                                      1.0                     0.041667   \n",
       "566927                                      1.0                     0.031250   \n",
       "566928                                      1.0                     0.062500   \n",
       "566929                                      1.0                     0.062500   \n",
       "\n",
       "        udps.bidirectional_ps_first_quartile  \\\n",
       "0                                       70.0   \n",
       "1                                       70.0   \n",
       "2                                       70.0   \n",
       "3                                       70.0   \n",
       "4                                       70.0   \n",
       "...                                      ...   \n",
       "566925                                1518.0   \n",
       "566926                                1518.0   \n",
       "566927                                1518.0   \n",
       "566928                                1518.0   \n",
       "566929                                1518.0   \n",
       "\n",
       "        udps.bidirectional_ps_second_quartile  \\\n",
       "0                                       772.5   \n",
       "1                                       772.5   \n",
       "2                                       772.5   \n",
       "3                                       772.5   \n",
       "4                                       772.5   \n",
       "...                                       ...   \n",
       "566925                                 1518.0   \n",
       "566926                                 1518.0   \n",
       "566927                                 1518.0   \n",
       "566928                                 1518.0   \n",
       "566929                                 1518.0   \n",
       "\n",
       "        udps.bidirectional_ps_third_quartile  \\\n",
       "0                                     1475.0   \n",
       "1                                     1475.0   \n",
       "2                                     1475.0   \n",
       "3                                     1475.0   \n",
       "4                                     1475.0   \n",
       "...                                      ...   \n",
       "566925                                1518.0   \n",
       "566926                                1518.0   \n",
       "566927                                1518.0   \n",
       "566928                                1518.0   \n",
       "566929                                1518.0   \n",
       "\n",
       "        udps.bidirectional_ps_median_absoulte_deviation  \\\n",
       "0                                                 702.5   \n",
       "1                                                 702.5   \n",
       "2                                                 702.5   \n",
       "3                                                 702.5   \n",
       "4                                                 702.5   \n",
       "...                                                 ...   \n",
       "566925                                              0.0   \n",
       "566926                                              0.0   \n",
       "566927                                              0.0   \n",
       "566928                                              0.0   \n",
       "566929                                              0.0   \n",
       "\n",
       "        udps.bidirectional_ps_skewness  udps.bidirectional_ps_kurtosis  \\\n",
       "0                             0.000000                       -2.000000   \n",
       "1                             0.000000                       -2.000000   \n",
       "2                             0.000000                       -2.000000   \n",
       "3                             0.000000                       -2.000000   \n",
       "4                             0.000000                       -2.000000   \n",
       "...                                ...                             ...   \n",
       "566925                       -4.694855                       20.041667   \n",
       "566926                       -4.694855                       20.041667   \n",
       "566927                       -5.480078                       28.031250   \n",
       "566928                       -2.993267                        7.133901   \n",
       "566929                       -2.993267                        7.133901   \n",
       "\n",
       "        udps.bidirectional_piat_first_quartile  \\\n",
       "0                                          0.0   \n",
       "1                                          0.0   \n",
       "2                                          0.0   \n",
       "3                                          0.0   \n",
       "4                                          0.0   \n",
       "...                                        ...   \n",
       "566925                                     0.0   \n",
       "566926                                     0.0   \n",
       "566927                                     0.0   \n",
       "566928                                     0.0   \n",
       "566929                                     0.0   \n",
       "\n",
       "        udps.bidirectional_piat_second_quartile  \\\n",
       "0                                           0.0   \n",
       "1                                           0.0   \n",
       "2                                           0.0   \n",
       "3                                           0.5   \n",
       "4                                           0.0   \n",
       "...                                         ...   \n",
       "566925                                      0.0   \n",
       "566926                                      0.0   \n",
       "566927                                      0.0   \n",
       "566928                                      0.0   \n",
       "566929                                      0.0   \n",
       "\n",
       "        udps.bidirectional_piat_third_quartile  \\\n",
       "0                                          0.0   \n",
       "1                                          0.0   \n",
       "2                                          0.0   \n",
       "3                                          1.0   \n",
       "4                                          0.0   \n",
       "...                                        ...   \n",
       "566925                                     0.0   \n",
       "566926                                     0.0   \n",
       "566927                                     0.0   \n",
       "566928                                     0.0   \n",
       "566929                                     0.0   \n",
       "\n",
       "        udps.bidirectional_piat_median_absoulte_deviation  \\\n",
       "0                                                     0.0   \n",
       "1                                                     0.0   \n",
       "2                                                     0.0   \n",
       "3                                                     0.5   \n",
       "4                                                     0.0   \n",
       "...                                                   ...   \n",
       "566925                                                0.0   \n",
       "566926                                                0.0   \n",
       "566927                                                0.0   \n",
       "566928                                                0.0   \n",
       "566929                                                0.0   \n",
       "\n",
       "        udps.bidirectional_piat_skewness  udps.bidirectional_piat_kurtosis  \\\n",
       "0                               0.000000                          0.000000   \n",
       "1                               0.000000                          0.000000   \n",
       "2                               0.000000                          0.000000   \n",
       "3                               0.000000                         -2.000000   \n",
       "4                               0.000000                          0.000000   \n",
       "...                                  ...                               ...   \n",
       "566925                          4.694855                         20.041667   \n",
       "566926                          4.694855                         20.041667   \n",
       "566927                          0.000000                          0.000000   \n",
       "566928                          5.570485                         29.030303   \n",
       "566929                          5.570485                         29.030303   \n",
       "\n",
       "        udps.median_req_res_time_diff  Attack  \n",
       "0                                 0.0  Benign  \n",
       "1                                 0.0  Benign  \n",
       "2                                 0.0  Benign  \n",
       "3                                 1.0  Benign  \n",
       "4                                 0.0  Benign  \n",
       "...                               ...     ...  \n",
       "566925                            1.0  Benign  \n",
       "566926                            1.0  Benign  \n",
       "566927                            0.0  Benign  \n",
       "566928                            0.0  Benign  \n",
       "566929                            0.0  Benign  \n",
       "\n",
       "[566930 rows x 175 columns]"
      ]
     },
     "execution_count": 48,
     "metadata": {},
     "output_type": "execute_result"
    }
   ],
   "source": [
    "out_dir = f'/home/meryem.janati/lustre/nlp_team-um6p-st-sccs-id7fz1zvotk/IDS/janati/IDS/project2/extractions/extractions/new_idle_2min_active_2min/USTC-TF2016'\n",
    "df = pd.read_csv(out_dir+\"/USTC-TF2016.csv\")\n",
    "df"
   ]
  },
  {
   "cell_type": "code",
   "execution_count": 3,
   "metadata": {},
   "outputs": [],
   "source": [
    "def port_feature(port):\n",
    "    if port < 1024:\n",
    "        return 1\n",
    "    elif port < 49152 and port >= 1024:\n",
    "        return 2\n",
    "    else:\n",
    "        return 3        "
   ]
  },
  {
   "cell_type": "code",
   "execution_count": 4,
   "metadata": {},
   "outputs": [],
   "source": [
    "def encode(df, cols):\n",
    "    \"\"\"\n",
    "    @param df pandas DataFrame\n",
    "    @param cols a list of columns to encode \n",
    "    @return a DataFrame with one-hot encoding\n",
    "    \"\"\"\n",
    "    les = {}\n",
    "    for each in cols:\n",
    "        le_col = LabelEncoder()\n",
    "        df[each] = le_col.fit_transform(df[each])\n",
    "        les[each] = le_col\n",
    "       \n",
    "    return df, les"
   ]
  },
  {
   "cell_type": "code",
   "execution_count": 5,
   "metadata": {},
   "outputs": [],
   "source": [
    "def save_predictions(predictions, targets, timeout, save_path= \"results/ET\"):\n",
    "    name_file_pred = 'predictions_idle_' + str(timeout[0]) + \"_active_\" + str(timeout[1]) + \".p\"\n",
    "    name_file_y = 'targets_idle_' + str(timeout[0]) + \"_active_\" + str(timeout[1]) + \".p\"\n",
    "\n",
    "    pickle.dump(predictions, open(os.path.join(save_path, name_file_pred), 'wb') )\n",
    "    pickle.dump(targets, open(os.path.join(save_path, name_file_y), 'wb') )\n",
    "    \n",
    "def load_predictions(timeout, save_path= \"results/ET\"):\n",
    "    name_file_pred = 'predictions_idle_' + str(timeout[0]) + \"_active_\" + str(timeout[1]) + \".p\"\n",
    "    name_file_y = 'targets_idle_' + str(timeout[0]) + \"_active_\" + str(timeout[1]) + \".p\"\n",
    "    \n",
    "    predictions =  pickle.load(open(os.path.join(save_path, name_file_pred), 'rb') )\n",
    "    targets =  pickle.load(open(os.path.join(save_path, name_file_y), 'rb') )\n",
    "    return predictions, targets"
   ]
  },
  {
   "cell_type": "code",
   "execution_count": null,
   "metadata": {},
   "outputs": [],
   "source": []
  },
  {
   "cell_type": "code",
   "execution_count": 6,
   "metadata": {},
   "outputs": [],
   "source": [
    "def split_data(data):\n",
    "    train_idx, test_idx = next(StratifiedKFold(n_splits=3).split(data, data['Attack']))\n",
    "    train, test = data.iloc[train_idx].reset_index(drop=True), data.iloc[test_idx].reset_index(drop=True)\n",
    "    return train, test"
   ]
  },
  {
   "cell_type": "raw",
   "metadata": {
    "jupyter": {
     "source_hidden": true
    }
   },
   "source": [
    "def save_scores(timeout, accMean, f1Mean, precMean, recMean, accStd, f1Std, precStd, recStd):\n",
    "    results = {\n",
    "        'Timeout': timeout,\n",
    "        'accuracy mean': accMean,\n",
    "        'f1_score mean': f1Mean,\n",
    "        'precision mean': precMean,\n",
    "        'recall mean': recMean\n",
    "        \n",
    "        'accuracy std': accStd,\n",
    "        'f1_score std': f1Std,\n",
    "        'precision std': precStd,\n",
    "        'recall std': recSTd\n",
    "    }\n",
    "\n",
    "    with open(f'../Checkpoints/basicFeatures/ET/ET_ustc_nfstream_{timeout}.json', 'w') as f:\n",
    "        json.dump(results, f, indent=4)"
   ]
  },
  {
   "cell_type": "code",
   "execution_count": 53,
   "metadata": {},
   "outputs": [],
   "source": [
    "def save_scores(timeout, meanScores, stdScore):\n",
    "    results = {\n",
    "        'Timeout': timeout,\n",
    "        'Mean of all scores': meanScores,\n",
    "        'Std of all Scores': stdScores\n",
    "\n",
    "    }\n",
    "\n",
    "    with open(f'../Checkpoints/basicFeatures/ET/ET_ustc_nfstream_{timeout}.json', 'w') as f:\n",
    "        json.dump(results, f, indent=4)"
   ]
  },
  {
   "cell_type": "code",
   "execution_count": 56,
   "metadata": {},
   "outputs": [],
   "source": [
    "timeouts = [(0.5,2), (1, 2), (2,2), (0.5,3), (1,3), (2, 3), (3,3), (0.5,4), (1, 4), (2,4), (3,4), (4,4), (0.5,5), (1,5), (2,5), (3,5), (4,5), (5,5), (0.5, 30), (1, 30), (2,30), (3,30), (4,30), (5,30), (10, 30), (0.5, 60), (1, 60), (2,60), (3,60), (4,60), (5,60), (10, 60)]"
   ]
  },
  {
   "cell_type": "markdown",
   "metadata": {},
   "source": [
    "# Training"
   ]
  },
  {
   "cell_type": "code",
   "execution_count": 58,
   "metadata": {
    "collapsed": true,
    "jupyter": {
     "outputs_hidden": true
    }
   },
   "outputs": [
    {
     "name": "stdout",
     "output_type": "stream",
     "text": [
      "Processing timeout :  (0.5, 2)\n"
     ]
    },
    {
     "name": "stderr",
     "output_type": "stream",
     "text": [
      "[Parallel(n_jobs=1)]: Using backend SequentialBackend with 1 concurrent workers.\n",
      "[Parallel(n_jobs=1)]: Done 100 out of 100 | elapsed:   25.7s finished\n",
      "[Parallel(n_jobs=1)]: Using backend SequentialBackend with 1 concurrent workers.\n",
      "[Parallel(n_jobs=1)]: Done 100 out of 100 | elapsed:    1.8s finished\n"
     ]
    },
    {
     "name": "stdout",
     "output_type": "stream",
     "text": [
      "Fold:  0 done!\n"
     ]
    },
    {
     "name": "stderr",
     "output_type": "stream",
     "text": [
      "[Parallel(n_jobs=1)]: Using backend SequentialBackend with 1 concurrent workers.\n",
      "[Parallel(n_jobs=1)]: Done 100 out of 100 | elapsed:   25.5s finished\n",
      "[Parallel(n_jobs=1)]: Using backend SequentialBackend with 1 concurrent workers.\n",
      "[Parallel(n_jobs=1)]: Done 100 out of 100 | elapsed:    1.9s finished\n"
     ]
    },
    {
     "name": "stdout",
     "output_type": "stream",
     "text": [
      "Fold:  1 done!\n"
     ]
    },
    {
     "name": "stderr",
     "output_type": "stream",
     "text": [
      "[Parallel(n_jobs=1)]: Using backend SequentialBackend with 1 concurrent workers.\n",
      "[Parallel(n_jobs=1)]: Done 100 out of 100 | elapsed:   27.1s finished\n",
      "[Parallel(n_jobs=1)]: Using backend SequentialBackend with 1 concurrent workers.\n",
      "[Parallel(n_jobs=1)]: Done 100 out of 100 | elapsed:    1.6s finished\n"
     ]
    },
    {
     "name": "stdout",
     "output_type": "stream",
     "text": [
      "Fold:  2 done!\n"
     ]
    },
    {
     "name": "stderr",
     "output_type": "stream",
     "text": [
      "[Parallel(n_jobs=1)]: Using backend SequentialBackend with 1 concurrent workers.\n",
      "[Parallel(n_jobs=1)]: Done 100 out of 100 | elapsed:   27.2s finished\n",
      "[Parallel(n_jobs=1)]: Using backend SequentialBackend with 1 concurrent workers.\n",
      "[Parallel(n_jobs=1)]: Done 100 out of 100 | elapsed:    1.6s finished\n"
     ]
    },
    {
     "name": "stdout",
     "output_type": "stream",
     "text": [
      "Fold:  3 done!\n"
     ]
    },
    {
     "name": "stderr",
     "output_type": "stream",
     "text": [
      "[Parallel(n_jobs=1)]: Using backend SequentialBackend with 1 concurrent workers.\n",
      "[Parallel(n_jobs=1)]: Done 100 out of 100 | elapsed:   28.7s finished\n",
      "[Parallel(n_jobs=1)]: Using backend SequentialBackend with 1 concurrent workers.\n",
      "[Parallel(n_jobs=1)]: Done 100 out of 100 | elapsed:    1.6s finished\n"
     ]
    },
    {
     "name": "stdout",
     "output_type": "stream",
     "text": [
      "Fold:  4 done!\n",
      "Mean of all scores:  {'f1Mean': 0.8957020396708361, 'accMean': 0.9178138150843541, 'recMean': 0.8999583921712112, 'precMean': 0.9052666568618409}\n",
      "Std of all scores:  {'f1Std': 0.028255900576263596, 'accStd': 0.02367135409903653, 'recStd': 0.021450495785924818, 'precStd': 0.03196764125484954}\n",
      "_______________________________________________\n",
      "Processing timeout :  (1, 2)\n"
     ]
    },
    {
     "name": "stderr",
     "output_type": "stream",
     "text": [
      "[Parallel(n_jobs=1)]: Using backend SequentialBackend with 1 concurrent workers.\n",
      "[Parallel(n_jobs=1)]: Done 100 out of 100 | elapsed:   25.4s finished\n",
      "[Parallel(n_jobs=1)]: Using backend SequentialBackend with 1 concurrent workers.\n",
      "[Parallel(n_jobs=1)]: Done 100 out of 100 | elapsed:    1.9s finished\n"
     ]
    },
    {
     "name": "stdout",
     "output_type": "stream",
     "text": [
      "Fold:  0 done!\n"
     ]
    },
    {
     "name": "stderr",
     "output_type": "stream",
     "text": [
      "[Parallel(n_jobs=1)]: Using backend SequentialBackend with 1 concurrent workers.\n",
      "[Parallel(n_jobs=1)]: Done 100 out of 100 | elapsed:   25.6s finished\n",
      "[Parallel(n_jobs=1)]: Using backend SequentialBackend with 1 concurrent workers.\n",
      "[Parallel(n_jobs=1)]: Done 100 out of 100 | elapsed:    2.0s finished\n"
     ]
    },
    {
     "name": "stdout",
     "output_type": "stream",
     "text": [
      "Fold:  1 done!\n"
     ]
    },
    {
     "name": "stderr",
     "output_type": "stream",
     "text": [
      "[Parallel(n_jobs=1)]: Using backend SequentialBackend with 1 concurrent workers.\n",
      "[Parallel(n_jobs=1)]: Done 100 out of 100 | elapsed:   26.5s finished\n",
      "[Parallel(n_jobs=1)]: Using backend SequentialBackend with 1 concurrent workers.\n",
      "[Parallel(n_jobs=1)]: Done 100 out of 100 | elapsed:    1.6s finished\n"
     ]
    },
    {
     "name": "stdout",
     "output_type": "stream",
     "text": [
      "Fold:  2 done!\n"
     ]
    },
    {
     "name": "stderr",
     "output_type": "stream",
     "text": [
      "[Parallel(n_jobs=1)]: Using backend SequentialBackend with 1 concurrent workers.\n",
      "[Parallel(n_jobs=1)]: Done 100 out of 100 | elapsed:   26.9s finished\n",
      "[Parallel(n_jobs=1)]: Using backend SequentialBackend with 1 concurrent workers.\n",
      "[Parallel(n_jobs=1)]: Done 100 out of 100 | elapsed:    1.7s finished\n"
     ]
    },
    {
     "name": "stdout",
     "output_type": "stream",
     "text": [
      "Fold:  3 done!\n"
     ]
    },
    {
     "name": "stderr",
     "output_type": "stream",
     "text": [
      "[Parallel(n_jobs=1)]: Using backend SequentialBackend with 1 concurrent workers.\n",
      "[Parallel(n_jobs=1)]: Done 100 out of 100 | elapsed:   26.8s finished\n",
      "[Parallel(n_jobs=1)]: Using backend SequentialBackend with 1 concurrent workers.\n",
      "[Parallel(n_jobs=1)]: Done 100 out of 100 | elapsed:    1.5s finished\n"
     ]
    },
    {
     "name": "stdout",
     "output_type": "stream",
     "text": [
      "Fold:  4 done!\n",
      "Mean of all scores:  {'f1Mean': 0.903967393612564, 'accMean': 0.9228661275169079, 'recMean': 0.9117412873152302, 'precMean': 0.9095690740134927}\n",
      "Std of all scores:  {'f1Std': 0.03191659523111685, 'accStd': 0.025649487083295397, 'recStd': 0.022887453761127705, 'precStd': 0.03643506261757293}\n",
      "_______________________________________________\n",
      "Processing timeout :  (2, 2)\n"
     ]
    },
    {
     "name": "stderr",
     "output_type": "stream",
     "text": [
      "[Parallel(n_jobs=1)]: Using backend SequentialBackend with 1 concurrent workers.\n",
      "[Parallel(n_jobs=1)]: Done 100 out of 100 | elapsed:   24.6s finished\n",
      "[Parallel(n_jobs=1)]: Using backend SequentialBackend with 1 concurrent workers.\n",
      "[Parallel(n_jobs=1)]: Done 100 out of 100 | elapsed:    1.8s finished\n"
     ]
    },
    {
     "name": "stdout",
     "output_type": "stream",
     "text": [
      "Fold:  0 done!\n"
     ]
    },
    {
     "name": "stderr",
     "output_type": "stream",
     "text": [
      "[Parallel(n_jobs=1)]: Using backend SequentialBackend with 1 concurrent workers.\n",
      "[Parallel(n_jobs=1)]: Done 100 out of 100 | elapsed:   25.0s finished\n",
      "[Parallel(n_jobs=1)]: Using backend SequentialBackend with 1 concurrent workers.\n",
      "[Parallel(n_jobs=1)]: Done 100 out of 100 | elapsed:    2.0s finished\n"
     ]
    },
    {
     "name": "stdout",
     "output_type": "stream",
     "text": [
      "Fold:  1 done!\n"
     ]
    },
    {
     "name": "stderr",
     "output_type": "stream",
     "text": [
      "[Parallel(n_jobs=1)]: Using backend SequentialBackend with 1 concurrent workers.\n",
      "[Parallel(n_jobs=1)]: Done 100 out of 100 | elapsed:   25.7s finished\n",
      "[Parallel(n_jobs=1)]: Using backend SequentialBackend with 1 concurrent workers.\n",
      "[Parallel(n_jobs=1)]: Done 100 out of 100 | elapsed:    1.6s finished\n"
     ]
    },
    {
     "name": "stdout",
     "output_type": "stream",
     "text": [
      "Fold:  2 done!\n"
     ]
    },
    {
     "name": "stderr",
     "output_type": "stream",
     "text": [
      "[Parallel(n_jobs=1)]: Using backend SequentialBackend with 1 concurrent workers.\n",
      "[Parallel(n_jobs=1)]: Done 100 out of 100 | elapsed:   26.7s finished\n",
      "[Parallel(n_jobs=1)]: Using backend SequentialBackend with 1 concurrent workers.\n",
      "[Parallel(n_jobs=1)]: Done 100 out of 100 | elapsed:    1.7s finished\n"
     ]
    },
    {
     "name": "stdout",
     "output_type": "stream",
     "text": [
      "Fold:  3 done!\n"
     ]
    },
    {
     "name": "stderr",
     "output_type": "stream",
     "text": [
      "[Parallel(n_jobs=1)]: Using backend SequentialBackend with 1 concurrent workers.\n",
      "[Parallel(n_jobs=1)]: Done 100 out of 100 | elapsed:   26.3s finished\n",
      "[Parallel(n_jobs=1)]: Using backend SequentialBackend with 1 concurrent workers.\n",
      "[Parallel(n_jobs=1)]: Done 100 out of 100 | elapsed:    1.5s finished\n"
     ]
    },
    {
     "name": "stdout",
     "output_type": "stream",
     "text": [
      "Fold:  4 done!\n",
      "Mean of all scores:  {'f1Mean': 0.90572807073241, 'accMean': 0.9248055315471045, 'recMean': 0.9128060399560111, 'precMean': 0.9115750867453734}\n",
      "Std of all scores:  {'f1Std': 0.03363298917839884, 'accStd': 0.02573067617707791, 'recStd': 0.02340116137199441, 'precStd': 0.039096055647767025}\n",
      "_______________________________________________\n",
      "Processing timeout :  (0.5, 3)\n"
     ]
    },
    {
     "name": "stderr",
     "output_type": "stream",
     "text": [
      "[Parallel(n_jobs=1)]: Using backend SequentialBackend with 1 concurrent workers.\n",
      "[Parallel(n_jobs=1)]: Done 100 out of 100 | elapsed:   26.6s finished\n",
      "[Parallel(n_jobs=1)]: Using backend SequentialBackend with 1 concurrent workers.\n",
      "[Parallel(n_jobs=1)]: Done 100 out of 100 | elapsed:    1.9s finished\n"
     ]
    },
    {
     "name": "stdout",
     "output_type": "stream",
     "text": [
      "Fold:  0 done!\n"
     ]
    },
    {
     "name": "stderr",
     "output_type": "stream",
     "text": [
      "[Parallel(n_jobs=1)]: Using backend SequentialBackend with 1 concurrent workers.\n",
      "[Parallel(n_jobs=1)]: Done 100 out of 100 | elapsed:   26.7s finished\n",
      "[Parallel(n_jobs=1)]: Using backend SequentialBackend with 1 concurrent workers.\n",
      "[Parallel(n_jobs=1)]: Done 100 out of 100 | elapsed:    2.0s finished\n"
     ]
    },
    {
     "name": "stdout",
     "output_type": "stream",
     "text": [
      "Fold:  1 done!\n"
     ]
    },
    {
     "name": "stderr",
     "output_type": "stream",
     "text": [
      "[Parallel(n_jobs=1)]: Using backend SequentialBackend with 1 concurrent workers.\n",
      "[Parallel(n_jobs=1)]: Done 100 out of 100 | elapsed:   27.6s finished\n",
      "[Parallel(n_jobs=1)]: Using backend SequentialBackend with 1 concurrent workers.\n",
      "[Parallel(n_jobs=1)]: Done 100 out of 100 | elapsed:    1.7s finished\n"
     ]
    },
    {
     "name": "stdout",
     "output_type": "stream",
     "text": [
      "Fold:  2 done!\n"
     ]
    },
    {
     "name": "stderr",
     "output_type": "stream",
     "text": [
      "[Parallel(n_jobs=1)]: Using backend SequentialBackend with 1 concurrent workers.\n",
      "[Parallel(n_jobs=1)]: Done 100 out of 100 | elapsed:   28.2s finished\n",
      "[Parallel(n_jobs=1)]: Using backend SequentialBackend with 1 concurrent workers.\n",
      "[Parallel(n_jobs=1)]: Done 100 out of 100 | elapsed:    1.7s finished\n"
     ]
    },
    {
     "name": "stdout",
     "output_type": "stream",
     "text": [
      "Fold:  3 done!\n"
     ]
    },
    {
     "name": "stderr",
     "output_type": "stream",
     "text": [
      "[Parallel(n_jobs=1)]: Using backend SequentialBackend with 1 concurrent workers.\n",
      "[Parallel(n_jobs=1)]: Done 100 out of 100 | elapsed:   28.4s finished\n",
      "[Parallel(n_jobs=1)]: Using backend SequentialBackend with 1 concurrent workers.\n",
      "[Parallel(n_jobs=1)]: Done 100 out of 100 | elapsed:    1.6s finished\n"
     ]
    },
    {
     "name": "stdout",
     "output_type": "stream",
     "text": [
      "Fold:  4 done!\n",
      "Mean of all scores:  {'f1Mean': 0.897502367795236, 'accMean': 0.9207217790261156, 'recMean': 0.9004861353000612, 'precMean': 0.9078499986787423}\n",
      "Std of all scores:  {'f1Std': 0.02902813077113199, 'accStd': 0.02359664125761492, 'recStd': 0.021545333822291943, 'precStd': 0.033293180532674514}\n",
      "_______________________________________________\n",
      "Processing timeout :  (1, 3)\n"
     ]
    },
    {
     "name": "stderr",
     "output_type": "stream",
     "text": [
      "[Parallel(n_jobs=1)]: Using backend SequentialBackend with 1 concurrent workers.\n",
      "[Parallel(n_jobs=1)]: Done 100 out of 100 | elapsed:   25.1s finished\n",
      "[Parallel(n_jobs=1)]: Using backend SequentialBackend with 1 concurrent workers.\n",
      "[Parallel(n_jobs=1)]: Done 100 out of 100 | elapsed:    1.9s finished\n"
     ]
    },
    {
     "name": "stdout",
     "output_type": "stream",
     "text": [
      "Fold:  0 done!\n"
     ]
    },
    {
     "name": "stderr",
     "output_type": "stream",
     "text": [
      "[Parallel(n_jobs=1)]: Using backend SequentialBackend with 1 concurrent workers.\n",
      "[Parallel(n_jobs=1)]: Done 100 out of 100 | elapsed:   25.1s finished\n",
      "[Parallel(n_jobs=1)]: Using backend SequentialBackend with 1 concurrent workers.\n",
      "[Parallel(n_jobs=1)]: Done 100 out of 100 | elapsed:    2.0s finished\n"
     ]
    },
    {
     "name": "stdout",
     "output_type": "stream",
     "text": [
      "Fold:  1 done!\n"
     ]
    },
    {
     "name": "stderr",
     "output_type": "stream",
     "text": [
      "[Parallel(n_jobs=1)]: Using backend SequentialBackend with 1 concurrent workers.\n",
      "[Parallel(n_jobs=1)]: Done 100 out of 100 | elapsed:   25.9s finished\n",
      "[Parallel(n_jobs=1)]: Using backend SequentialBackend with 1 concurrent workers.\n",
      "[Parallel(n_jobs=1)]: Done 100 out of 100 | elapsed:    1.6s finished\n"
     ]
    },
    {
     "name": "stdout",
     "output_type": "stream",
     "text": [
      "Fold:  2 done!\n"
     ]
    },
    {
     "name": "stderr",
     "output_type": "stream",
     "text": [
      "[Parallel(n_jobs=1)]: Using backend SequentialBackend with 1 concurrent workers.\n",
      "[Parallel(n_jobs=1)]: Done 100 out of 100 | elapsed:   26.6s finished\n",
      "[Parallel(n_jobs=1)]: Using backend SequentialBackend with 1 concurrent workers.\n",
      "[Parallel(n_jobs=1)]: Done 100 out of 100 | elapsed:    1.7s finished\n"
     ]
    },
    {
     "name": "stdout",
     "output_type": "stream",
     "text": [
      "Fold:  3 done!\n"
     ]
    },
    {
     "name": "stderr",
     "output_type": "stream",
     "text": [
      "[Parallel(n_jobs=1)]: Using backend SequentialBackend with 1 concurrent workers.\n",
      "[Parallel(n_jobs=1)]: Done 100 out of 100 | elapsed:   26.6s finished\n",
      "[Parallel(n_jobs=1)]: Using backend SequentialBackend with 1 concurrent workers.\n",
      "[Parallel(n_jobs=1)]: Done 100 out of 100 | elapsed:    1.5s finished\n"
     ]
    },
    {
     "name": "stdout",
     "output_type": "stream",
     "text": [
      "Fold:  4 done!\n",
      "Mean of all scores:  {'f1Mean': 0.9044446251404927, 'accMean': 0.9262953494434951, 'recMean': 0.9120160012400357, 'precMean': 0.909387879704339}\n",
      "Std of all scores:  {'f1Std': 0.0312177585144535, 'accStd': 0.02418609137684858, 'recStd': 0.02266975467836061, 'precStd': 0.035480599950407504}\n",
      "_______________________________________________\n",
      "Processing timeout :  (2, 3)\n"
     ]
    },
    {
     "name": "stderr",
     "output_type": "stream",
     "text": [
      "[Parallel(n_jobs=1)]: Using backend SequentialBackend with 1 concurrent workers.\n",
      "[Parallel(n_jobs=1)]: Done 100 out of 100 | elapsed:   24.4s finished\n",
      "[Parallel(n_jobs=1)]: Using backend SequentialBackend with 1 concurrent workers.\n",
      "[Parallel(n_jobs=1)]: Done 100 out of 100 | elapsed:    1.8s finished\n"
     ]
    },
    {
     "name": "stdout",
     "output_type": "stream",
     "text": [
      "Fold:  0 done!\n"
     ]
    },
    {
     "name": "stderr",
     "output_type": "stream",
     "text": [
      "[Parallel(n_jobs=1)]: Using backend SequentialBackend with 1 concurrent workers.\n",
      "[Parallel(n_jobs=1)]: Done 100 out of 100 | elapsed:   24.5s finished\n",
      "[Parallel(n_jobs=1)]: Using backend SequentialBackend with 1 concurrent workers.\n",
      "[Parallel(n_jobs=1)]: Done 100 out of 100 | elapsed:    2.0s finished\n"
     ]
    },
    {
     "name": "stdout",
     "output_type": "stream",
     "text": [
      "Fold:  1 done!\n"
     ]
    },
    {
     "name": "stderr",
     "output_type": "stream",
     "text": [
      "[Parallel(n_jobs=1)]: Using backend SequentialBackend with 1 concurrent workers.\n",
      "[Parallel(n_jobs=1)]: Done 100 out of 100 | elapsed:   25.4s finished\n",
      "[Parallel(n_jobs=1)]: Using backend SequentialBackend with 1 concurrent workers.\n",
      "[Parallel(n_jobs=1)]: Done 100 out of 100 | elapsed:    1.6s finished\n"
     ]
    },
    {
     "name": "stdout",
     "output_type": "stream",
     "text": [
      "Fold:  2 done!\n"
     ]
    },
    {
     "name": "stderr",
     "output_type": "stream",
     "text": [
      "[Parallel(n_jobs=1)]: Using backend SequentialBackend with 1 concurrent workers.\n",
      "[Parallel(n_jobs=1)]: Done 100 out of 100 | elapsed:   26.2s finished\n",
      "[Parallel(n_jobs=1)]: Using backend SequentialBackend with 1 concurrent workers.\n",
      "[Parallel(n_jobs=1)]: Done 100 out of 100 | elapsed:    1.6s finished\n"
     ]
    },
    {
     "name": "stdout",
     "output_type": "stream",
     "text": [
      "Fold:  3 done!\n"
     ]
    },
    {
     "name": "stderr",
     "output_type": "stream",
     "text": [
      "[Parallel(n_jobs=1)]: Using backend SequentialBackend with 1 concurrent workers.\n",
      "[Parallel(n_jobs=1)]: Done 100 out of 100 | elapsed:   25.7s finished\n",
      "[Parallel(n_jobs=1)]: Using backend SequentialBackend with 1 concurrent workers.\n",
      "[Parallel(n_jobs=1)]: Done 100 out of 100 | elapsed:    1.4s finished\n"
     ]
    },
    {
     "name": "stdout",
     "output_type": "stream",
     "text": [
      "Fold:  4 done!\n",
      "Mean of all scores:  {'f1Mean': 0.9044208159703796, 'accMean': 0.9228423766768218, 'recMean': 0.911929412650246, 'precMean': 0.9101655263912631}\n",
      "Std of all scores:  {'f1Std': 0.03318505068900006, 'accStd': 0.026377207755094598, 'recStd': 0.022650115604360737, 'precStd': 0.038727209520479915}\n",
      "_______________________________________________\n",
      "Processing timeout :  (3, 3)\n"
     ]
    },
    {
     "name": "stderr",
     "output_type": "stream",
     "text": [
      "[Parallel(n_jobs=1)]: Using backend SequentialBackend with 1 concurrent workers.\n",
      "[Parallel(n_jobs=1)]: Done 100 out of 100 | elapsed:   24.1s finished\n",
      "[Parallel(n_jobs=1)]: Using backend SequentialBackend with 1 concurrent workers.\n",
      "[Parallel(n_jobs=1)]: Done 100 out of 100 | elapsed:    1.8s finished\n"
     ]
    },
    {
     "name": "stdout",
     "output_type": "stream",
     "text": [
      "Fold:  0 done!\n"
     ]
    },
    {
     "name": "stderr",
     "output_type": "stream",
     "text": [
      "[Parallel(n_jobs=1)]: Using backend SequentialBackend with 1 concurrent workers.\n",
      "[Parallel(n_jobs=1)]: Done 100 out of 100 | elapsed:   25.7s finished\n",
      "[Parallel(n_jobs=1)]: Using backend SequentialBackend with 1 concurrent workers.\n",
      "[Parallel(n_jobs=1)]: Done 100 out of 100 | elapsed:    2.0s finished\n"
     ]
    },
    {
     "name": "stdout",
     "output_type": "stream",
     "text": [
      "Fold:  1 done!\n"
     ]
    },
    {
     "name": "stderr",
     "output_type": "stream",
     "text": [
      "[Parallel(n_jobs=1)]: Using backend SequentialBackend with 1 concurrent workers.\n",
      "[Parallel(n_jobs=1)]: Done 100 out of 100 | elapsed:   25.4s finished\n",
      "[Parallel(n_jobs=1)]: Using backend SequentialBackend with 1 concurrent workers.\n",
      "[Parallel(n_jobs=1)]: Done 100 out of 100 | elapsed:    1.6s finished\n"
     ]
    },
    {
     "name": "stdout",
     "output_type": "stream",
     "text": [
      "Fold:  2 done!\n"
     ]
    },
    {
     "name": "stderr",
     "output_type": "stream",
     "text": [
      "[Parallel(n_jobs=1)]: Using backend SequentialBackend with 1 concurrent workers.\n",
      "[Parallel(n_jobs=1)]: Done 100 out of 100 | elapsed:   25.8s finished\n",
      "[Parallel(n_jobs=1)]: Using backend SequentialBackend with 1 concurrent workers.\n",
      "[Parallel(n_jobs=1)]: Done 100 out of 100 | elapsed:    1.7s finished\n"
     ]
    },
    {
     "name": "stdout",
     "output_type": "stream",
     "text": [
      "Fold:  3 done!\n"
     ]
    },
    {
     "name": "stderr",
     "output_type": "stream",
     "text": [
      "[Parallel(n_jobs=1)]: Using backend SequentialBackend with 1 concurrent workers.\n",
      "[Parallel(n_jobs=1)]: Done 100 out of 100 | elapsed:   26.0s finished\n",
      "[Parallel(n_jobs=1)]: Using backend SequentialBackend with 1 concurrent workers.\n",
      "[Parallel(n_jobs=1)]: Done 100 out of 100 | elapsed:    1.5s finished\n"
     ]
    },
    {
     "name": "stdout",
     "output_type": "stream",
     "text": [
      "Fold:  4 done!\n",
      "Mean of all scores:  {'f1Mean': 0.9061773453455233, 'accMean': 0.9266550011991154, 'recMean': 0.9125100111942208, 'precMean': 0.9124908390400208}\n",
      "Std of all scores:  {'f1Std': 0.032897509577278924, 'accStd': 0.025003424177392878, 'recStd': 0.022953272086101838, 'precStd': 0.03827472751230457}\n",
      "_______________________________________________\n",
      "Processing timeout :  (0.5, 4)\n"
     ]
    },
    {
     "name": "stderr",
     "output_type": "stream",
     "text": [
      "[Parallel(n_jobs=1)]: Using backend SequentialBackend with 1 concurrent workers.\n",
      "[Parallel(n_jobs=1)]: Done 100 out of 100 | elapsed:   26.5s finished\n",
      "[Parallel(n_jobs=1)]: Using backend SequentialBackend with 1 concurrent workers.\n",
      "[Parallel(n_jobs=1)]: Done 100 out of 100 | elapsed:    2.0s finished\n"
     ]
    },
    {
     "name": "stdout",
     "output_type": "stream",
     "text": [
      "Fold:  0 done!\n"
     ]
    },
    {
     "name": "stderr",
     "output_type": "stream",
     "text": [
      "[Parallel(n_jobs=1)]: Using backend SequentialBackend with 1 concurrent workers.\n",
      "[Parallel(n_jobs=1)]: Done 100 out of 100 | elapsed:   26.4s finished\n",
      "[Parallel(n_jobs=1)]: Using backend SequentialBackend with 1 concurrent workers.\n",
      "[Parallel(n_jobs=1)]: Done 100 out of 100 | elapsed:    2.1s finished\n"
     ]
    },
    {
     "name": "stdout",
     "output_type": "stream",
     "text": [
      "Fold:  1 done!\n"
     ]
    },
    {
     "name": "stderr",
     "output_type": "stream",
     "text": [
      "[Parallel(n_jobs=1)]: Using backend SequentialBackend with 1 concurrent workers.\n",
      "[Parallel(n_jobs=1)]: Done 100 out of 100 | elapsed:   27.6s finished\n",
      "[Parallel(n_jobs=1)]: Using backend SequentialBackend with 1 concurrent workers.\n",
      "[Parallel(n_jobs=1)]: Done 100 out of 100 | elapsed:    1.7s finished\n"
     ]
    },
    {
     "name": "stdout",
     "output_type": "stream",
     "text": [
      "Fold:  2 done!\n"
     ]
    },
    {
     "name": "stderr",
     "output_type": "stream",
     "text": [
      "[Parallel(n_jobs=1)]: Using backend SequentialBackend with 1 concurrent workers.\n",
      "[Parallel(n_jobs=1)]: Done 100 out of 100 | elapsed:   28.2s finished\n",
      "[Parallel(n_jobs=1)]: Using backend SequentialBackend with 1 concurrent workers.\n",
      "[Parallel(n_jobs=1)]: Done 100 out of 100 | elapsed:    1.7s finished\n"
     ]
    },
    {
     "name": "stdout",
     "output_type": "stream",
     "text": [
      "Fold:  3 done!\n"
     ]
    },
    {
     "name": "stderr",
     "output_type": "stream",
     "text": [
      "[Parallel(n_jobs=1)]: Using backend SequentialBackend with 1 concurrent workers.\n",
      "[Parallel(n_jobs=1)]: Done 100 out of 100 | elapsed:   28.5s finished\n",
      "[Parallel(n_jobs=1)]: Using backend SequentialBackend with 1 concurrent workers.\n",
      "[Parallel(n_jobs=1)]: Done 100 out of 100 | elapsed:    1.6s finished\n"
     ]
    },
    {
     "name": "stdout",
     "output_type": "stream",
     "text": [
      "Fold:  4 done!\n",
      "Mean of all scores:  {'f1Mean': 0.8954229418113588, 'accMean': 0.9168294454806526, 'recMean': 0.8998320044664148, 'precMean': 0.9050869423760188}\n",
      "Std of all scores:  {'f1Std': 0.028388293888324426, 'accStd': 0.024543408770903843, 'recStd': 0.021418849748262504, 'precStd': 0.032285254520825805}\n",
      "_______________________________________________\n",
      "Processing timeout :  (1, 4)\n"
     ]
    },
    {
     "name": "stderr",
     "output_type": "stream",
     "text": [
      "[Parallel(n_jobs=1)]: Using backend SequentialBackend with 1 concurrent workers.\n",
      "[Parallel(n_jobs=1)]: Done 100 out of 100 | elapsed:   24.9s finished\n",
      "[Parallel(n_jobs=1)]: Using backend SequentialBackend with 1 concurrent workers.\n",
      "[Parallel(n_jobs=1)]: Done 100 out of 100 | elapsed:    1.9s finished\n"
     ]
    },
    {
     "name": "stdout",
     "output_type": "stream",
     "text": [
      "Fold:  0 done!\n"
     ]
    },
    {
     "name": "stderr",
     "output_type": "stream",
     "text": [
      "[Parallel(n_jobs=1)]: Using backend SequentialBackend with 1 concurrent workers.\n",
      "[Parallel(n_jobs=1)]: Done 100 out of 100 | elapsed:   24.8s finished\n",
      "[Parallel(n_jobs=1)]: Using backend SequentialBackend with 1 concurrent workers.\n",
      "[Parallel(n_jobs=1)]: Done 100 out of 100 | elapsed:    2.0s finished\n"
     ]
    },
    {
     "name": "stdout",
     "output_type": "stream",
     "text": [
      "Fold:  1 done!\n"
     ]
    },
    {
     "name": "stderr",
     "output_type": "stream",
     "text": [
      "[Parallel(n_jobs=1)]: Using backend SequentialBackend with 1 concurrent workers.\n",
      "[Parallel(n_jobs=1)]: Done 100 out of 100 | elapsed:   26.2s finished\n",
      "[Parallel(n_jobs=1)]: Using backend SequentialBackend with 1 concurrent workers.\n",
      "[Parallel(n_jobs=1)]: Done 100 out of 100 | elapsed:    1.6s finished\n"
     ]
    },
    {
     "name": "stdout",
     "output_type": "stream",
     "text": [
      "Fold:  2 done!\n"
     ]
    },
    {
     "name": "stderr",
     "output_type": "stream",
     "text": [
      "[Parallel(n_jobs=1)]: Using backend SequentialBackend with 1 concurrent workers.\n",
      "[Parallel(n_jobs=1)]: Done 100 out of 100 | elapsed:   26.7s finished\n",
      "[Parallel(n_jobs=1)]: Using backend SequentialBackend with 1 concurrent workers.\n",
      "[Parallel(n_jobs=1)]: Done 100 out of 100 | elapsed:    1.7s finished\n"
     ]
    },
    {
     "name": "stdout",
     "output_type": "stream",
     "text": [
      "Fold:  3 done!\n"
     ]
    },
    {
     "name": "stderr",
     "output_type": "stream",
     "text": [
      "[Parallel(n_jobs=1)]: Using backend SequentialBackend with 1 concurrent workers.\n",
      "[Parallel(n_jobs=1)]: Done 100 out of 100 | elapsed:   26.6s finished\n",
      "[Parallel(n_jobs=1)]: Using backend SequentialBackend with 1 concurrent workers.\n",
      "[Parallel(n_jobs=1)]: Done 100 out of 100 | elapsed:    1.5s finished\n"
     ]
    },
    {
     "name": "stdout",
     "output_type": "stream",
     "text": [
      "Fold:  4 done!\n",
      "Mean of all scores:  {'f1Mean': 0.9037852689021213, 'accMean': 0.9233896961094101, 'recMean': 0.9115812392792251, 'precMean': 0.9093559665065133}\n",
      "Std of all scores:  {'f1Std': 0.032357191498772954, 'accStd': 0.025419402824326545, 'recStd': 0.022731594198061707, 'precStd': 0.037396432386717006}\n",
      "_______________________________________________\n",
      "Processing timeout :  (2, 4)\n"
     ]
    },
    {
     "name": "stderr",
     "output_type": "stream",
     "text": [
      "[Parallel(n_jobs=1)]: Using backend SequentialBackend with 1 concurrent workers.\n",
      "[Parallel(n_jobs=1)]: Done 100 out of 100 | elapsed:   24.1s finished\n",
      "[Parallel(n_jobs=1)]: Using backend SequentialBackend with 1 concurrent workers.\n",
      "[Parallel(n_jobs=1)]: Done 100 out of 100 | elapsed:    1.8s finished\n"
     ]
    },
    {
     "name": "stdout",
     "output_type": "stream",
     "text": [
      "Fold:  0 done!\n"
     ]
    },
    {
     "name": "stderr",
     "output_type": "stream",
     "text": [
      "[Parallel(n_jobs=1)]: Using backend SequentialBackend with 1 concurrent workers.\n",
      "[Parallel(n_jobs=1)]: Done 100 out of 100 | elapsed:   24.3s finished\n",
      "[Parallel(n_jobs=1)]: Using backend SequentialBackend with 1 concurrent workers.\n",
      "[Parallel(n_jobs=1)]: Done 100 out of 100 | elapsed:    1.9s finished\n"
     ]
    },
    {
     "name": "stdout",
     "output_type": "stream",
     "text": [
      "Fold:  1 done!\n"
     ]
    },
    {
     "name": "stderr",
     "output_type": "stream",
     "text": [
      "[Parallel(n_jobs=1)]: Using backend SequentialBackend with 1 concurrent workers.\n",
      "[Parallel(n_jobs=1)]: Done 100 out of 100 | elapsed:   25.2s finished\n",
      "[Parallel(n_jobs=1)]: Using backend SequentialBackend with 1 concurrent workers.\n",
      "[Parallel(n_jobs=1)]: Done 100 out of 100 | elapsed:    1.5s finished\n"
     ]
    },
    {
     "name": "stdout",
     "output_type": "stream",
     "text": [
      "Fold:  2 done!\n"
     ]
    },
    {
     "name": "stderr",
     "output_type": "stream",
     "text": [
      "[Parallel(n_jobs=1)]: Using backend SequentialBackend with 1 concurrent workers.\n",
      "[Parallel(n_jobs=1)]: Done 100 out of 100 | elapsed:   25.8s finished\n",
      "[Parallel(n_jobs=1)]: Using backend SequentialBackend with 1 concurrent workers.\n",
      "[Parallel(n_jobs=1)]: Done 100 out of 100 | elapsed:    1.7s finished\n"
     ]
    },
    {
     "name": "stdout",
     "output_type": "stream",
     "text": [
      "Fold:  3 done!\n"
     ]
    },
    {
     "name": "stderr",
     "output_type": "stream",
     "text": [
      "[Parallel(n_jobs=1)]: Using backend SequentialBackend with 1 concurrent workers.\n",
      "[Parallel(n_jobs=1)]: Done 100 out of 100 | elapsed:   25.8s finished\n",
      "[Parallel(n_jobs=1)]: Using backend SequentialBackend with 1 concurrent workers.\n",
      "[Parallel(n_jobs=1)]: Done 100 out of 100 | elapsed:    1.5s finished\n"
     ]
    },
    {
     "name": "stdout",
     "output_type": "stream",
     "text": [
      "Fold:  4 done!\n",
      "Mean of all scores:  {'f1Mean': 0.9057288823101579, 'accMean': 0.9265324940154269, 'recMean': 0.9125797806775534, 'precMean': 0.911423281439701}\n",
      "Std of all scores:  {'f1Std': 0.03442816443989937, 'accStd': 0.025651104796761432, 'recStd': 0.022867551739195698, 'precStd': 0.041150923053850964}\n",
      "_______________________________________________\n",
      "Processing timeout :  (3, 4)\n"
     ]
    },
    {
     "name": "stderr",
     "output_type": "stream",
     "text": [
      "[Parallel(n_jobs=1)]: Using backend SequentialBackend with 1 concurrent workers.\n",
      "[Parallel(n_jobs=1)]: Done 100 out of 100 | elapsed:   23.9s finished\n",
      "[Parallel(n_jobs=1)]: Using backend SequentialBackend with 1 concurrent workers.\n",
      "[Parallel(n_jobs=1)]: Done 100 out of 100 | elapsed:    1.8s finished\n"
     ]
    },
    {
     "name": "stdout",
     "output_type": "stream",
     "text": [
      "Fold:  0 done!\n"
     ]
    },
    {
     "name": "stderr",
     "output_type": "stream",
     "text": [
      "[Parallel(n_jobs=1)]: Using backend SequentialBackend with 1 concurrent workers.\n",
      "[Parallel(n_jobs=1)]: Done 100 out of 100 | elapsed:   24.1s finished\n",
      "[Parallel(n_jobs=1)]: Using backend SequentialBackend with 1 concurrent workers.\n",
      "[Parallel(n_jobs=1)]: Done 100 out of 100 | elapsed:    1.9s finished\n"
     ]
    },
    {
     "name": "stdout",
     "output_type": "stream",
     "text": [
      "Fold:  1 done!\n"
     ]
    },
    {
     "name": "stderr",
     "output_type": "stream",
     "text": [
      "[Parallel(n_jobs=1)]: Using backend SequentialBackend with 1 concurrent workers.\n",
      "[Parallel(n_jobs=1)]: Done 100 out of 100 | elapsed:   25.0s finished\n",
      "[Parallel(n_jobs=1)]: Using backend SequentialBackend with 1 concurrent workers.\n",
      "[Parallel(n_jobs=1)]: Done 100 out of 100 | elapsed:    1.6s finished\n"
     ]
    },
    {
     "name": "stdout",
     "output_type": "stream",
     "text": [
      "Fold:  2 done!\n"
     ]
    },
    {
     "name": "stderr",
     "output_type": "stream",
     "text": [
      "[Parallel(n_jobs=1)]: Using backend SequentialBackend with 1 concurrent workers.\n",
      "[Parallel(n_jobs=1)]: Done 100 out of 100 | elapsed:   25.5s finished\n",
      "[Parallel(n_jobs=1)]: Using backend SequentialBackend with 1 concurrent workers.\n",
      "[Parallel(n_jobs=1)]: Done 100 out of 100 | elapsed:    1.7s finished\n"
     ]
    },
    {
     "name": "stdout",
     "output_type": "stream",
     "text": [
      "Fold:  3 done!\n"
     ]
    },
    {
     "name": "stderr",
     "output_type": "stream",
     "text": [
      "[Parallel(n_jobs=1)]: Using backend SequentialBackend with 1 concurrent workers.\n",
      "[Parallel(n_jobs=1)]: Done 100 out of 100 | elapsed:   25.5s finished\n",
      "[Parallel(n_jobs=1)]: Using backend SequentialBackend with 1 concurrent workers.\n",
      "[Parallel(n_jobs=1)]: Done 100 out of 100 | elapsed:    1.4s finished\n"
     ]
    },
    {
     "name": "stdout",
     "output_type": "stream",
     "text": [
      "Fold:  4 done!\n",
      "Mean of all scores:  {'f1Mean': 0.9063252725057482, 'accMean': 0.9268816713696693, 'recMean': 0.9126002547072453, 'precMean': 0.9127075223350509}\n",
      "Std of all scores:  {'f1Std': 0.033085185872546004, 'accStd': 0.025121997223531655, 'recStd': 0.02315115681146469, 'precStd': 0.0387084789361857}\n",
      "_______________________________________________\n",
      "Processing timeout :  (4, 4)\n"
     ]
    },
    {
     "name": "stderr",
     "output_type": "stream",
     "text": [
      "[Parallel(n_jobs=1)]: Using backend SequentialBackend with 1 concurrent workers.\n",
      "[Parallel(n_jobs=1)]: Done 100 out of 100 | elapsed:   23.9s finished\n",
      "[Parallel(n_jobs=1)]: Using backend SequentialBackend with 1 concurrent workers.\n",
      "[Parallel(n_jobs=1)]: Done 100 out of 100 | elapsed:    1.8s finished\n"
     ]
    },
    {
     "name": "stdout",
     "output_type": "stream",
     "text": [
      "Fold:  0 done!\n"
     ]
    },
    {
     "name": "stderr",
     "output_type": "stream",
     "text": [
      "[Parallel(n_jobs=1)]: Using backend SequentialBackend with 1 concurrent workers.\n",
      "[Parallel(n_jobs=1)]: Done 100 out of 100 | elapsed:   24.3s finished\n",
      "[Parallel(n_jobs=1)]: Using backend SequentialBackend with 1 concurrent workers.\n",
      "[Parallel(n_jobs=1)]: Done 100 out of 100 | elapsed:    2.0s finished\n"
     ]
    },
    {
     "name": "stdout",
     "output_type": "stream",
     "text": [
      "Fold:  1 done!\n"
     ]
    },
    {
     "name": "stderr",
     "output_type": "stream",
     "text": [
      "[Parallel(n_jobs=1)]: Using backend SequentialBackend with 1 concurrent workers.\n",
      "[Parallel(n_jobs=1)]: Done 100 out of 100 | elapsed:   25.2s finished\n",
      "[Parallel(n_jobs=1)]: Using backend SequentialBackend with 1 concurrent workers.\n",
      "[Parallel(n_jobs=1)]: Done 100 out of 100 | elapsed:    1.6s finished\n"
     ]
    },
    {
     "name": "stdout",
     "output_type": "stream",
     "text": [
      "Fold:  2 done!\n"
     ]
    },
    {
     "name": "stderr",
     "output_type": "stream",
     "text": [
      "[Parallel(n_jobs=1)]: Using backend SequentialBackend with 1 concurrent workers.\n",
      "[Parallel(n_jobs=1)]: Done 100 out of 100 | elapsed:   25.4s finished\n",
      "[Parallel(n_jobs=1)]: Using backend SequentialBackend with 1 concurrent workers.\n",
      "[Parallel(n_jobs=1)]: Done 100 out of 100 | elapsed:    1.6s finished\n"
     ]
    },
    {
     "name": "stdout",
     "output_type": "stream",
     "text": [
      "Fold:  3 done!\n"
     ]
    },
    {
     "name": "stderr",
     "output_type": "stream",
     "text": [
      "[Parallel(n_jobs=1)]: Using backend SequentialBackend with 1 concurrent workers.\n",
      "[Parallel(n_jobs=1)]: Done 100 out of 100 | elapsed:   25.4s finished\n",
      "[Parallel(n_jobs=1)]: Using backend SequentialBackend with 1 concurrent workers.\n",
      "[Parallel(n_jobs=1)]: Done 100 out of 100 | elapsed:    1.5s finished\n"
     ]
    },
    {
     "name": "stdout",
     "output_type": "stream",
     "text": [
      "Fold:  4 done!\n",
      "Mean of all scores:  {'f1Mean': 0.903826764242632, 'accMean': 0.9264979481381914, 'recMean': 0.9128569509498229, 'precMean': 0.9074502861876127}\n",
      "Std of all scores:  {'f1Std': 0.03688428185183134, 'accStd': 0.025101031725265458, 'recStd': 0.02270542825206236, 'precStd': 0.04735918384637585}\n",
      "_______________________________________________\n",
      "Processing timeout :  (0.5, 5)\n"
     ]
    },
    {
     "name": "stderr",
     "output_type": "stream",
     "text": [
      "[Parallel(n_jobs=1)]: Using backend SequentialBackend with 1 concurrent workers.\n",
      "[Parallel(n_jobs=1)]: Done 100 out of 100 | elapsed:   26.5s finished\n",
      "[Parallel(n_jobs=1)]: Using backend SequentialBackend with 1 concurrent workers.\n",
      "[Parallel(n_jobs=1)]: Done 100 out of 100 | elapsed:    1.9s finished\n"
     ]
    },
    {
     "name": "stdout",
     "output_type": "stream",
     "text": [
      "Fold:  0 done!\n"
     ]
    },
    {
     "name": "stderr",
     "output_type": "stream",
     "text": [
      "[Parallel(n_jobs=1)]: Using backend SequentialBackend with 1 concurrent workers.\n",
      "[Parallel(n_jobs=1)]: Done 100 out of 100 | elapsed:   26.4s finished\n",
      "[Parallel(n_jobs=1)]: Using backend SequentialBackend with 1 concurrent workers.\n",
      "[Parallel(n_jobs=1)]: Done 100 out of 100 | elapsed:    2.1s finished\n"
     ]
    },
    {
     "name": "stdout",
     "output_type": "stream",
     "text": [
      "Fold:  1 done!\n"
     ]
    },
    {
     "name": "stderr",
     "output_type": "stream",
     "text": [
      "[Parallel(n_jobs=1)]: Using backend SequentialBackend with 1 concurrent workers.\n",
      "[Parallel(n_jobs=1)]: Done 100 out of 100 | elapsed:   27.6s finished\n",
      "[Parallel(n_jobs=1)]: Using backend SequentialBackend with 1 concurrent workers.\n",
      "[Parallel(n_jobs=1)]: Done 100 out of 100 | elapsed:    1.7s finished\n"
     ]
    },
    {
     "name": "stdout",
     "output_type": "stream",
     "text": [
      "Fold:  2 done!\n"
     ]
    },
    {
     "name": "stderr",
     "output_type": "stream",
     "text": [
      "[Parallel(n_jobs=1)]: Using backend SequentialBackend with 1 concurrent workers.\n",
      "[Parallel(n_jobs=1)]: Done 100 out of 100 | elapsed:   28.5s finished\n",
      "[Parallel(n_jobs=1)]: Using backend SequentialBackend with 1 concurrent workers.\n",
      "[Parallel(n_jobs=1)]: Done 100 out of 100 | elapsed:    1.8s finished\n"
     ]
    },
    {
     "name": "stdout",
     "output_type": "stream",
     "text": [
      "Fold:  3 done!\n"
     ]
    },
    {
     "name": "stderr",
     "output_type": "stream",
     "text": [
      "[Parallel(n_jobs=1)]: Using backend SequentialBackend with 1 concurrent workers.\n",
      "[Parallel(n_jobs=1)]: Done 100 out of 100 | elapsed:   28.7s finished\n",
      "[Parallel(n_jobs=1)]: Using backend SequentialBackend with 1 concurrent workers.\n",
      "[Parallel(n_jobs=1)]: Done 100 out of 100 | elapsed:    1.6s finished\n"
     ]
    },
    {
     "name": "stdout",
     "output_type": "stream",
     "text": [
      "Fold:  4 done!\n",
      "Mean of all scores:  {'f1Mean': 0.8958900616265361, 'accMean': 0.9189209940368028, 'recMean': 0.9001297192416275, 'precMean': 0.9056304454018642}\n",
      "Std of all scores:  {'f1Std': 0.02883795296504242, 'accStd': 0.02398084168112659, 'recStd': 0.021661500526985657, 'precStd': 0.03294670578407785}\n",
      "_______________________________________________\n",
      "Processing timeout :  (1, 5)\n"
     ]
    },
    {
     "name": "stderr",
     "output_type": "stream",
     "text": [
      "[Parallel(n_jobs=1)]: Using backend SequentialBackend with 1 concurrent workers.\n",
      "[Parallel(n_jobs=1)]: Done 100 out of 100 | elapsed:   24.8s finished\n",
      "[Parallel(n_jobs=1)]: Using backend SequentialBackend with 1 concurrent workers.\n",
      "[Parallel(n_jobs=1)]: Done 100 out of 100 | elapsed:    1.9s finished\n"
     ]
    },
    {
     "name": "stdout",
     "output_type": "stream",
     "text": [
      "Fold:  0 done!\n"
     ]
    },
    {
     "name": "stderr",
     "output_type": "stream",
     "text": [
      "[Parallel(n_jobs=1)]: Using backend SequentialBackend with 1 concurrent workers.\n",
      "[Parallel(n_jobs=1)]: Done 100 out of 100 | elapsed:   24.9s finished\n",
      "[Parallel(n_jobs=1)]: Using backend SequentialBackend with 1 concurrent workers.\n",
      "[Parallel(n_jobs=1)]: Done 100 out of 100 | elapsed:    1.9s finished\n"
     ]
    },
    {
     "name": "stdout",
     "output_type": "stream",
     "text": [
      "Fold:  1 done!\n"
     ]
    },
    {
     "name": "stderr",
     "output_type": "stream",
     "text": [
      "[Parallel(n_jobs=1)]: Using backend SequentialBackend with 1 concurrent workers.\n",
      "[Parallel(n_jobs=1)]: Done 100 out of 100 | elapsed:   25.9s finished\n",
      "[Parallel(n_jobs=1)]: Using backend SequentialBackend with 1 concurrent workers.\n",
      "[Parallel(n_jobs=1)]: Done 100 out of 100 | elapsed:    1.6s finished\n"
     ]
    },
    {
     "name": "stdout",
     "output_type": "stream",
     "text": [
      "Fold:  2 done!\n"
     ]
    },
    {
     "name": "stderr",
     "output_type": "stream",
     "text": [
      "[Parallel(n_jobs=1)]: Using backend SequentialBackend with 1 concurrent workers.\n",
      "[Parallel(n_jobs=1)]: Done 100 out of 100 | elapsed:   26.3s finished\n",
      "[Parallel(n_jobs=1)]: Using backend SequentialBackend with 1 concurrent workers.\n",
      "[Parallel(n_jobs=1)]: Done 100 out of 100 | elapsed:    1.7s finished\n"
     ]
    },
    {
     "name": "stdout",
     "output_type": "stream",
     "text": [
      "Fold:  3 done!\n"
     ]
    },
    {
     "name": "stderr",
     "output_type": "stream",
     "text": [
      "[Parallel(n_jobs=1)]: Using backend SequentialBackend with 1 concurrent workers.\n",
      "[Parallel(n_jobs=1)]: Done 100 out of 100 | elapsed:   26.5s finished\n",
      "[Parallel(n_jobs=1)]: Using backend SequentialBackend with 1 concurrent workers.\n",
      "[Parallel(n_jobs=1)]: Done 100 out of 100 | elapsed:    1.5s finished\n"
     ]
    },
    {
     "name": "stdout",
     "output_type": "stream",
     "text": [
      "Fold:  4 done!\n",
      "Mean of all scores:  {'f1Mean': 0.9038638623287756, 'accMean': 0.9250149621771737, 'recMean': 0.9118056531357176, 'precMean': 0.9087352666695843}\n",
      "Std of all scores:  {'f1Std': 0.03156517099474, 'accStd': 0.024479971831063974, 'recStd': 0.022928398736055747, 'precStd': 0.03567504534478659}\n",
      "_______________________________________________\n",
      "Processing timeout :  (2, 5)\n"
     ]
    },
    {
     "name": "stderr",
     "output_type": "stream",
     "text": [
      "[Parallel(n_jobs=1)]: Using backend SequentialBackend with 1 concurrent workers.\n",
      "[Parallel(n_jobs=1)]: Done 100 out of 100 | elapsed:   24.0s finished\n",
      "[Parallel(n_jobs=1)]: Using backend SequentialBackend with 1 concurrent workers.\n",
      "[Parallel(n_jobs=1)]: Done 100 out of 100 | elapsed:    1.8s finished\n"
     ]
    },
    {
     "name": "stdout",
     "output_type": "stream",
     "text": [
      "Fold:  0 done!\n"
     ]
    },
    {
     "name": "stderr",
     "output_type": "stream",
     "text": [
      "[Parallel(n_jobs=1)]: Using backend SequentialBackend with 1 concurrent workers.\n",
      "[Parallel(n_jobs=1)]: Done 100 out of 100 | elapsed:   24.3s finished\n",
      "[Parallel(n_jobs=1)]: Using backend SequentialBackend with 1 concurrent workers.\n",
      "[Parallel(n_jobs=1)]: Done 100 out of 100 | elapsed:    2.0s finished\n"
     ]
    },
    {
     "name": "stdout",
     "output_type": "stream",
     "text": [
      "Fold:  1 done!\n"
     ]
    },
    {
     "name": "stderr",
     "output_type": "stream",
     "text": [
      "[Parallel(n_jobs=1)]: Using backend SequentialBackend with 1 concurrent workers.\n",
      "[Parallel(n_jobs=1)]: Done 100 out of 100 | elapsed:   25.2s finished\n",
      "[Parallel(n_jobs=1)]: Using backend SequentialBackend with 1 concurrent workers.\n",
      "[Parallel(n_jobs=1)]: Done 100 out of 100 | elapsed:    1.6s finished\n"
     ]
    },
    {
     "name": "stdout",
     "output_type": "stream",
     "text": [
      "Fold:  2 done!\n"
     ]
    },
    {
     "name": "stderr",
     "output_type": "stream",
     "text": [
      "[Parallel(n_jobs=1)]: Using backend SequentialBackend with 1 concurrent workers.\n",
      "[Parallel(n_jobs=1)]: Done 100 out of 100 | elapsed:   25.8s finished\n",
      "[Parallel(n_jobs=1)]: Using backend SequentialBackend with 1 concurrent workers.\n",
      "[Parallel(n_jobs=1)]: Done 100 out of 100 | elapsed:    1.7s finished\n"
     ]
    },
    {
     "name": "stdout",
     "output_type": "stream",
     "text": [
      "Fold:  3 done!\n"
     ]
    },
    {
     "name": "stderr",
     "output_type": "stream",
     "text": [
      "[Parallel(n_jobs=1)]: Using backend SequentialBackend with 1 concurrent workers.\n",
      "[Parallel(n_jobs=1)]: Done 100 out of 100 | elapsed:   25.3s finished\n",
      "[Parallel(n_jobs=1)]: Using backend SequentialBackend with 1 concurrent workers.\n",
      "[Parallel(n_jobs=1)]: Done 100 out of 100 | elapsed:    1.5s finished\n"
     ]
    },
    {
     "name": "stdout",
     "output_type": "stream",
     "text": [
      "Fold:  4 done!\n",
      "Mean of all scores:  {'f1Mean': 0.9061913686146597, 'accMean': 0.926485535699712, 'recMean': 0.9125028579305144, 'precMean': 0.9124352981397881}\n",
      "Std of all scores:  {'f1Std': 0.033623872664469125, 'accStd': 0.025667519856082625, 'recStd': 0.023091590825932113, 'precStd': 0.039280931855748054}\n",
      "_______________________________________________\n",
      "Processing timeout :  (3, 5)\n"
     ]
    },
    {
     "name": "stderr",
     "output_type": "stream",
     "text": [
      "[Parallel(n_jobs=1)]: Using backend SequentialBackend with 1 concurrent workers.\n",
      "[Parallel(n_jobs=1)]: Done 100 out of 100 | elapsed:   23.7s finished\n",
      "[Parallel(n_jobs=1)]: Using backend SequentialBackend with 1 concurrent workers.\n",
      "[Parallel(n_jobs=1)]: Done 100 out of 100 | elapsed:    1.7s finished\n"
     ]
    },
    {
     "name": "stdout",
     "output_type": "stream",
     "text": [
      "Fold:  0 done!\n"
     ]
    },
    {
     "name": "stderr",
     "output_type": "stream",
     "text": [
      "[Parallel(n_jobs=1)]: Using backend SequentialBackend with 1 concurrent workers.\n",
      "[Parallel(n_jobs=1)]: Done 100 out of 100 | elapsed:   24.1s finished\n",
      "[Parallel(n_jobs=1)]: Using backend SequentialBackend with 1 concurrent workers.\n",
      "[Parallel(n_jobs=1)]: Done 100 out of 100 | elapsed:    1.9s finished\n"
     ]
    },
    {
     "name": "stdout",
     "output_type": "stream",
     "text": [
      "Fold:  1 done!\n"
     ]
    },
    {
     "name": "stderr",
     "output_type": "stream",
     "text": [
      "[Parallel(n_jobs=1)]: Using backend SequentialBackend with 1 concurrent workers.\n",
      "[Parallel(n_jobs=1)]: Done 100 out of 100 | elapsed:   25.3s finished\n",
      "[Parallel(n_jobs=1)]: Using backend SequentialBackend with 1 concurrent workers.\n",
      "[Parallel(n_jobs=1)]: Done 100 out of 100 | elapsed:    1.6s finished\n"
     ]
    },
    {
     "name": "stdout",
     "output_type": "stream",
     "text": [
      "Fold:  2 done!\n"
     ]
    },
    {
     "name": "stderr",
     "output_type": "stream",
     "text": [
      "[Parallel(n_jobs=1)]: Using backend SequentialBackend with 1 concurrent workers.\n",
      "[Parallel(n_jobs=1)]: Done 100 out of 100 | elapsed:   25.8s finished\n",
      "[Parallel(n_jobs=1)]: Using backend SequentialBackend with 1 concurrent workers.\n",
      "[Parallel(n_jobs=1)]: Done 100 out of 100 | elapsed:    1.7s finished\n"
     ]
    },
    {
     "name": "stdout",
     "output_type": "stream",
     "text": [
      "Fold:  3 done!\n"
     ]
    },
    {
     "name": "stderr",
     "output_type": "stream",
     "text": [
      "[Parallel(n_jobs=1)]: Using backend SequentialBackend with 1 concurrent workers.\n",
      "[Parallel(n_jobs=1)]: Done 100 out of 100 | elapsed:   25.4s finished\n",
      "[Parallel(n_jobs=1)]: Using backend SequentialBackend with 1 concurrent workers.\n",
      "[Parallel(n_jobs=1)]: Done 100 out of 100 | elapsed:    1.5s finished\n"
     ]
    },
    {
     "name": "stdout",
     "output_type": "stream",
     "text": [
      "Fold:  4 done!\n",
      "Mean of all scores:  {'f1Mean': 0.9062613869143827, 'accMean': 0.9267732596279712, 'recMean': 0.9127607669201401, 'precMean': 0.9123862750524872}\n",
      "Std of all scores:  {'f1Std': 0.033112200787465226, 'accStd': 0.025294298337210024, 'recStd': 0.022804299944025056, 'precStd': 0.03868827419185631}\n",
      "_______________________________________________\n",
      "Processing timeout :  (4, 5)\n"
     ]
    },
    {
     "name": "stderr",
     "output_type": "stream",
     "text": [
      "[Parallel(n_jobs=1)]: Using backend SequentialBackend with 1 concurrent workers.\n",
      "[Parallel(n_jobs=1)]: Done 100 out of 100 | elapsed:   23.6s finished\n",
      "[Parallel(n_jobs=1)]: Using backend SequentialBackend with 1 concurrent workers.\n",
      "[Parallel(n_jobs=1)]: Done 100 out of 100 | elapsed:    1.8s finished\n"
     ]
    },
    {
     "name": "stdout",
     "output_type": "stream",
     "text": [
      "Fold:  0 done!\n"
     ]
    },
    {
     "name": "stderr",
     "output_type": "stream",
     "text": [
      "[Parallel(n_jobs=1)]: Using backend SequentialBackend with 1 concurrent workers.\n",
      "[Parallel(n_jobs=1)]: Done 100 out of 100 | elapsed:   24.0s finished\n",
      "[Parallel(n_jobs=1)]: Using backend SequentialBackend with 1 concurrent workers.\n",
      "[Parallel(n_jobs=1)]: Done 100 out of 100 | elapsed:    1.9s finished\n"
     ]
    },
    {
     "name": "stdout",
     "output_type": "stream",
     "text": [
      "Fold:  1 done!\n"
     ]
    },
    {
     "name": "stderr",
     "output_type": "stream",
     "text": [
      "[Parallel(n_jobs=1)]: Using backend SequentialBackend with 1 concurrent workers.\n",
      "[Parallel(n_jobs=1)]: Done 100 out of 100 | elapsed:   25.0s finished\n",
      "[Parallel(n_jobs=1)]: Using backend SequentialBackend with 1 concurrent workers.\n",
      "[Parallel(n_jobs=1)]: Done 100 out of 100 | elapsed:    1.5s finished\n"
     ]
    },
    {
     "name": "stdout",
     "output_type": "stream",
     "text": [
      "Fold:  2 done!\n"
     ]
    },
    {
     "name": "stderr",
     "output_type": "stream",
     "text": [
      "[Parallel(n_jobs=1)]: Using backend SequentialBackend with 1 concurrent workers.\n",
      "[Parallel(n_jobs=1)]: Done 100 out of 100 | elapsed:   25.7s finished\n",
      "[Parallel(n_jobs=1)]: Using backend SequentialBackend with 1 concurrent workers.\n",
      "[Parallel(n_jobs=1)]: Done 100 out of 100 | elapsed:    1.6s finished\n"
     ]
    },
    {
     "name": "stdout",
     "output_type": "stream",
     "text": [
      "Fold:  3 done!\n"
     ]
    },
    {
     "name": "stderr",
     "output_type": "stream",
     "text": [
      "[Parallel(n_jobs=1)]: Using backend SequentialBackend with 1 concurrent workers.\n",
      "[Parallel(n_jobs=1)]: Done 100 out of 100 | elapsed:   25.6s finished\n",
      "[Parallel(n_jobs=1)]: Using backend SequentialBackend with 1 concurrent workers.\n",
      "[Parallel(n_jobs=1)]: Done 100 out of 100 | elapsed:    1.5s finished\n"
     ]
    },
    {
     "name": "stdout",
     "output_type": "stream",
     "text": [
      "Fold:  4 done!\n",
      "Mean of all scores:  {'f1Mean': 0.9026313628635159, 'accMean': 0.926358078667912, 'recMean': 0.9126335297664683, 'precMean': 0.905361103526299}\n",
      "Std of all scores:  {'f1Std': 0.03672101923667338, 'accStd': 0.025256252269661612, 'recStd': 0.02292229097935084, 'precStd': 0.046859758738120705}\n",
      "_______________________________________________\n",
      "Processing timeout :  (5, 5)\n"
     ]
    },
    {
     "name": "stderr",
     "output_type": "stream",
     "text": [
      "[Parallel(n_jobs=1)]: Using backend SequentialBackend with 1 concurrent workers.\n",
      "[Parallel(n_jobs=1)]: Done 100 out of 100 | elapsed:   23.8s finished\n",
      "[Parallel(n_jobs=1)]: Using backend SequentialBackend with 1 concurrent workers.\n",
      "[Parallel(n_jobs=1)]: Done 100 out of 100 | elapsed:    1.7s finished\n"
     ]
    },
    {
     "name": "stdout",
     "output_type": "stream",
     "text": [
      "Fold:  0 done!\n"
     ]
    },
    {
     "name": "stderr",
     "output_type": "stream",
     "text": [
      "[Parallel(n_jobs=1)]: Using backend SequentialBackend with 1 concurrent workers.\n",
      "[Parallel(n_jobs=1)]: Done 100 out of 100 | elapsed:   23.7s finished\n",
      "[Parallel(n_jobs=1)]: Using backend SequentialBackend with 1 concurrent workers.\n",
      "[Parallel(n_jobs=1)]: Done 100 out of 100 | elapsed:    1.9s finished\n"
     ]
    },
    {
     "name": "stdout",
     "output_type": "stream",
     "text": [
      "Fold:  1 done!\n"
     ]
    },
    {
     "name": "stderr",
     "output_type": "stream",
     "text": [
      "[Parallel(n_jobs=1)]: Using backend SequentialBackend with 1 concurrent workers.\n",
      "[Parallel(n_jobs=1)]: Done 100 out of 100 | elapsed:   25.1s finished\n",
      "[Parallel(n_jobs=1)]: Using backend SequentialBackend with 1 concurrent workers.\n",
      "[Parallel(n_jobs=1)]: Done 100 out of 100 | elapsed:    1.5s finished\n"
     ]
    },
    {
     "name": "stdout",
     "output_type": "stream",
     "text": [
      "Fold:  2 done!\n"
     ]
    },
    {
     "name": "stderr",
     "output_type": "stream",
     "text": [
      "[Parallel(n_jobs=1)]: Using backend SequentialBackend with 1 concurrent workers.\n",
      "[Parallel(n_jobs=1)]: Done 100 out of 100 | elapsed:   25.4s finished\n",
      "[Parallel(n_jobs=1)]: Using backend SequentialBackend with 1 concurrent workers.\n",
      "[Parallel(n_jobs=1)]: Done 100 out of 100 | elapsed:    1.6s finished\n"
     ]
    },
    {
     "name": "stdout",
     "output_type": "stream",
     "text": [
      "Fold:  3 done!\n"
     ]
    },
    {
     "name": "stderr",
     "output_type": "stream",
     "text": [
      "[Parallel(n_jobs=1)]: Using backend SequentialBackend with 1 concurrent workers.\n",
      "[Parallel(n_jobs=1)]: Done 100 out of 100 | elapsed:   25.2s finished\n",
      "[Parallel(n_jobs=1)]: Using backend SequentialBackend with 1 concurrent workers.\n",
      "[Parallel(n_jobs=1)]: Done 100 out of 100 | elapsed:    1.4s finished\n"
     ]
    },
    {
     "name": "stdout",
     "output_type": "stream",
     "text": [
      "Fold:  4 done!\n",
      "Mean of all scores:  {'f1Mean': 0.903789100358144, 'accMean': 0.9267128237397495, 'recMean': 0.912609206583771, 'precMean': 0.9075854878121673}\n",
      "Std of all scores:  {'f1Std': 0.037208213269711486, 'accStd': 0.025334768733210177, 'recStd': 0.022854568366197116, 'precStd': 0.047619106167837516}\n",
      "_______________________________________________\n",
      "Processing timeout :  (0.5, 30)\n"
     ]
    },
    {
     "name": "stderr",
     "output_type": "stream",
     "text": [
      "[Parallel(n_jobs=1)]: Using backend SequentialBackend with 1 concurrent workers.\n",
      "[Parallel(n_jobs=1)]: Done 100 out of 100 | elapsed:   26.3s finished\n",
      "[Parallel(n_jobs=1)]: Using backend SequentialBackend with 1 concurrent workers.\n",
      "[Parallel(n_jobs=1)]: Done 100 out of 100 | elapsed:    2.0s finished\n"
     ]
    },
    {
     "name": "stdout",
     "output_type": "stream",
     "text": [
      "Fold:  0 done!\n"
     ]
    },
    {
     "name": "stderr",
     "output_type": "stream",
     "text": [
      "[Parallel(n_jobs=1)]: Using backend SequentialBackend with 1 concurrent workers.\n",
      "[Parallel(n_jobs=1)]: Done 100 out of 100 | elapsed:   26.4s finished\n",
      "[Parallel(n_jobs=1)]: Using backend SequentialBackend with 1 concurrent workers.\n",
      "[Parallel(n_jobs=1)]: Done 100 out of 100 | elapsed:    2.1s finished\n"
     ]
    },
    {
     "name": "stdout",
     "output_type": "stream",
     "text": [
      "Fold:  1 done!\n"
     ]
    },
    {
     "name": "stderr",
     "output_type": "stream",
     "text": [
      "[Parallel(n_jobs=1)]: Using backend SequentialBackend with 1 concurrent workers.\n",
      "[Parallel(n_jobs=1)]: Done 100 out of 100 | elapsed:   27.5s finished\n",
      "[Parallel(n_jobs=1)]: Using backend SequentialBackend with 1 concurrent workers.\n",
      "[Parallel(n_jobs=1)]: Done 100 out of 100 | elapsed:    1.7s finished\n"
     ]
    },
    {
     "name": "stdout",
     "output_type": "stream",
     "text": [
      "Fold:  2 done!\n"
     ]
    },
    {
     "name": "stderr",
     "output_type": "stream",
     "text": [
      "[Parallel(n_jobs=1)]: Using backend SequentialBackend with 1 concurrent workers.\n",
      "[Parallel(n_jobs=1)]: Done 100 out of 100 | elapsed:   28.1s finished\n",
      "[Parallel(n_jobs=1)]: Using backend SequentialBackend with 1 concurrent workers.\n",
      "[Parallel(n_jobs=1)]: Done 100 out of 100 | elapsed:    1.7s finished\n"
     ]
    },
    {
     "name": "stdout",
     "output_type": "stream",
     "text": [
      "Fold:  3 done!\n"
     ]
    },
    {
     "name": "stderr",
     "output_type": "stream",
     "text": [
      "[Parallel(n_jobs=1)]: Using backend SequentialBackend with 1 concurrent workers.\n",
      "[Parallel(n_jobs=1)]: Done 100 out of 100 | elapsed:   28.5s finished\n",
      "[Parallel(n_jobs=1)]: Using backend SequentialBackend with 1 concurrent workers.\n",
      "[Parallel(n_jobs=1)]: Done 100 out of 100 | elapsed:    1.6s finished\n"
     ]
    },
    {
     "name": "stdout",
     "output_type": "stream",
     "text": [
      "Fold:  4 done!\n",
      "Mean of all scores:  {'f1Mean': 0.8954567179090095, 'accMean': 0.9174455227511331, 'recMean': 0.8996661694958414, 'precMean': 0.9054558764570763}\n",
      "Std of all scores:  {'f1Std': 0.028841354877632862, 'accStd': 0.024517983791345614, 'recStd': 0.021557919051677994, 'precStd': 0.033103110265571854}\n",
      "_______________________________________________\n",
      "Processing timeout :  (1, 30)\n"
     ]
    },
    {
     "name": "stderr",
     "output_type": "stream",
     "text": [
      "[Parallel(n_jobs=1)]: Using backend SequentialBackend with 1 concurrent workers.\n",
      "[Parallel(n_jobs=1)]: Done 100 out of 100 | elapsed:   24.3s finished\n",
      "[Parallel(n_jobs=1)]: Using backend SequentialBackend with 1 concurrent workers.\n",
      "[Parallel(n_jobs=1)]: Done 100 out of 100 | elapsed:    1.8s finished\n"
     ]
    },
    {
     "name": "stdout",
     "output_type": "stream",
     "text": [
      "Fold:  0 done!\n"
     ]
    },
    {
     "name": "stderr",
     "output_type": "stream",
     "text": [
      "[Parallel(n_jobs=1)]: Using backend SequentialBackend with 1 concurrent workers.\n",
      "[Parallel(n_jobs=1)]: Done 100 out of 100 | elapsed:   24.7s finished\n",
      "[Parallel(n_jobs=1)]: Using backend SequentialBackend with 1 concurrent workers.\n",
      "[Parallel(n_jobs=1)]: Done 100 out of 100 | elapsed:    2.0s finished\n"
     ]
    },
    {
     "name": "stdout",
     "output_type": "stream",
     "text": [
      "Fold:  1 done!\n"
     ]
    },
    {
     "name": "stderr",
     "output_type": "stream",
     "text": [
      "[Parallel(n_jobs=1)]: Using backend SequentialBackend with 1 concurrent workers.\n",
      "[Parallel(n_jobs=1)]: Done 100 out of 100 | elapsed:   26.0s finished\n",
      "[Parallel(n_jobs=1)]: Using backend SequentialBackend with 1 concurrent workers.\n",
      "[Parallel(n_jobs=1)]: Done 100 out of 100 | elapsed:    1.6s finished\n"
     ]
    },
    {
     "name": "stdout",
     "output_type": "stream",
     "text": [
      "Fold:  2 done!\n"
     ]
    },
    {
     "name": "stderr",
     "output_type": "stream",
     "text": [
      "[Parallel(n_jobs=1)]: Using backend SequentialBackend with 1 concurrent workers.\n",
      "[Parallel(n_jobs=1)]: Done 100 out of 100 | elapsed:   26.4s finished\n",
      "[Parallel(n_jobs=1)]: Using backend SequentialBackend with 1 concurrent workers.\n",
      "[Parallel(n_jobs=1)]: Done 100 out of 100 | elapsed:    1.7s finished\n"
     ]
    },
    {
     "name": "stdout",
     "output_type": "stream",
     "text": [
      "Fold:  3 done!\n"
     ]
    },
    {
     "name": "stderr",
     "output_type": "stream",
     "text": [
      "[Parallel(n_jobs=1)]: Using backend SequentialBackend with 1 concurrent workers.\n",
      "[Parallel(n_jobs=1)]: Done 100 out of 100 | elapsed:   26.2s finished\n",
      "[Parallel(n_jobs=1)]: Using backend SequentialBackend with 1 concurrent workers.\n",
      "[Parallel(n_jobs=1)]: Done 100 out of 100 | elapsed:    1.5s finished\n"
     ]
    },
    {
     "name": "stdout",
     "output_type": "stream",
     "text": [
      "Fold:  4 done!\n",
      "Mean of all scores:  {'f1Mean': 0.9055414724039803, 'accMean': 0.9267085922923097, 'recMean': 0.9117456819100586, 'precMean': 0.9121421967732217}\n",
      "Std of all scores:  {'f1Std': 0.03258512975974735, 'accStd': 0.024734132873506003, 'recStd': 0.02238332603599766, 'precStd': 0.03795457889884473}\n",
      "_______________________________________________\n",
      "Processing timeout :  (2, 30)\n"
     ]
    },
    {
     "name": "stderr",
     "output_type": "stream",
     "text": [
      "[Parallel(n_jobs=1)]: Using backend SequentialBackend with 1 concurrent workers.\n",
      "[Parallel(n_jobs=1)]: Done 100 out of 100 | elapsed:   23.9s finished\n",
      "[Parallel(n_jobs=1)]: Using backend SequentialBackend with 1 concurrent workers.\n",
      "[Parallel(n_jobs=1)]: Done 100 out of 100 | elapsed:    1.8s finished\n"
     ]
    },
    {
     "name": "stdout",
     "output_type": "stream",
     "text": [
      "Fold:  0 done!\n"
     ]
    },
    {
     "name": "stderr",
     "output_type": "stream",
     "text": [
      "[Parallel(n_jobs=1)]: Using backend SequentialBackend with 1 concurrent workers.\n",
      "[Parallel(n_jobs=1)]: Done 100 out of 100 | elapsed:   24.0s finished\n",
      "[Parallel(n_jobs=1)]: Using backend SequentialBackend with 1 concurrent workers.\n",
      "[Parallel(n_jobs=1)]: Done 100 out of 100 | elapsed:    1.9s finished\n"
     ]
    },
    {
     "name": "stdout",
     "output_type": "stream",
     "text": [
      "Fold:  1 done!\n"
     ]
    },
    {
     "name": "stderr",
     "output_type": "stream",
     "text": [
      "[Parallel(n_jobs=1)]: Using backend SequentialBackend with 1 concurrent workers.\n",
      "[Parallel(n_jobs=1)]: Done 100 out of 100 | elapsed:   25.0s finished\n",
      "[Parallel(n_jobs=1)]: Using backend SequentialBackend with 1 concurrent workers.\n",
      "[Parallel(n_jobs=1)]: Done 100 out of 100 | elapsed:    1.5s finished\n"
     ]
    },
    {
     "name": "stdout",
     "output_type": "stream",
     "text": [
      "Fold:  2 done!\n"
     ]
    },
    {
     "name": "stderr",
     "output_type": "stream",
     "text": [
      "[Parallel(n_jobs=1)]: Using backend SequentialBackend with 1 concurrent workers.\n",
      "[Parallel(n_jobs=1)]: Done 100 out of 100 | elapsed:   25.4s finished\n",
      "[Parallel(n_jobs=1)]: Using backend SequentialBackend with 1 concurrent workers.\n",
      "[Parallel(n_jobs=1)]: Done 100 out of 100 | elapsed:    1.6s finished\n"
     ]
    },
    {
     "name": "stdout",
     "output_type": "stream",
     "text": [
      "Fold:  3 done!\n"
     ]
    },
    {
     "name": "stderr",
     "output_type": "stream",
     "text": [
      "[Parallel(n_jobs=1)]: Using backend SequentialBackend with 1 concurrent workers.\n",
      "[Parallel(n_jobs=1)]: Done 100 out of 100 | elapsed:   25.3s finished\n",
      "[Parallel(n_jobs=1)]: Using backend SequentialBackend with 1 concurrent workers.\n",
      "[Parallel(n_jobs=1)]: Done 100 out of 100 | elapsed:    1.5s finished\n"
     ]
    },
    {
     "name": "stdout",
     "output_type": "stream",
     "text": [
      "Fold:  4 done!\n",
      "Mean of all scores:  {'f1Mean': 0.9036177923532873, 'accMean': 0.9231657365612392, 'recMean': 0.9117080597743057, 'precMean': 0.9088268904004012}\n",
      "Std of all scores:  {'f1Std': 0.0343082031955982, 'accStd': 0.02637583944394897, 'recStd': 0.023395902454676838, 'precStd': 0.04076172485911739}\n",
      "_______________________________________________\n",
      "Processing timeout :  (3, 30)\n"
     ]
    },
    {
     "name": "stderr",
     "output_type": "stream",
     "text": [
      "[Parallel(n_jobs=1)]: Using backend SequentialBackend with 1 concurrent workers.\n",
      "[Parallel(n_jobs=1)]: Done 100 out of 100 | elapsed:   23.2s finished\n",
      "[Parallel(n_jobs=1)]: Using backend SequentialBackend with 1 concurrent workers.\n",
      "[Parallel(n_jobs=1)]: Done 100 out of 100 | elapsed:    1.8s finished\n"
     ]
    },
    {
     "name": "stdout",
     "output_type": "stream",
     "text": [
      "Fold:  0 done!\n"
     ]
    },
    {
     "name": "stderr",
     "output_type": "stream",
     "text": [
      "[Parallel(n_jobs=1)]: Using backend SequentialBackend with 1 concurrent workers.\n",
      "[Parallel(n_jobs=1)]: Done 100 out of 100 | elapsed:   23.7s finished\n",
      "[Parallel(n_jobs=1)]: Using backend SequentialBackend with 1 concurrent workers.\n",
      "[Parallel(n_jobs=1)]: Done 100 out of 100 | elapsed:    1.9s finished\n"
     ]
    },
    {
     "name": "stdout",
     "output_type": "stream",
     "text": [
      "Fold:  1 done!\n"
     ]
    },
    {
     "name": "stderr",
     "output_type": "stream",
     "text": [
      "[Parallel(n_jobs=1)]: Using backend SequentialBackend with 1 concurrent workers.\n",
      "[Parallel(n_jobs=1)]: Done 100 out of 100 | elapsed:   24.6s finished\n",
      "[Parallel(n_jobs=1)]: Using backend SequentialBackend with 1 concurrent workers.\n",
      "[Parallel(n_jobs=1)]: Done 100 out of 100 | elapsed:    1.5s finished\n"
     ]
    },
    {
     "name": "stdout",
     "output_type": "stream",
     "text": [
      "Fold:  2 done!\n"
     ]
    },
    {
     "name": "stderr",
     "output_type": "stream",
     "text": [
      "[Parallel(n_jobs=1)]: Using backend SequentialBackend with 1 concurrent workers.\n",
      "[Parallel(n_jobs=1)]: Done 100 out of 100 | elapsed:   25.1s finished\n",
      "[Parallel(n_jobs=1)]: Using backend SequentialBackend with 1 concurrent workers.\n",
      "[Parallel(n_jobs=1)]: Done 100 out of 100 | elapsed:    1.6s finished\n"
     ]
    },
    {
     "name": "stdout",
     "output_type": "stream",
     "text": [
      "Fold:  3 done!\n"
     ]
    },
    {
     "name": "stderr",
     "output_type": "stream",
     "text": [
      "[Parallel(n_jobs=1)]: Using backend SequentialBackend with 1 concurrent workers.\n",
      "[Parallel(n_jobs=1)]: Done 100 out of 100 | elapsed:   25.3s finished\n",
      "[Parallel(n_jobs=1)]: Using backend SequentialBackend with 1 concurrent workers.\n",
      "[Parallel(n_jobs=1)]: Done 100 out of 100 | elapsed:    1.5s finished\n"
     ]
    },
    {
     "name": "stdout",
     "output_type": "stream",
     "text": [
      "Fold:  4 done!\n",
      "Mean of all scores:  {'f1Mean': 0.9058435677519313, 'accMean': 0.9266964873254171, 'recMean': 0.9124279529241516, 'precMean': 0.9119148600293883}\n",
      "Std of all scores:  {'f1Std': 0.03330811550904389, 'accStd': 0.025340560813704772, 'recStd': 0.023072030620316823, 'precStd': 0.03894497460951254}\n",
      "_______________________________________________\n",
      "Processing timeout :  (4, 30)\n"
     ]
    },
    {
     "name": "stderr",
     "output_type": "stream",
     "text": [
      "[Parallel(n_jobs=1)]: Using backend SequentialBackend with 1 concurrent workers.\n",
      "[Parallel(n_jobs=1)]: Done 100 out of 100 | elapsed:   22.9s finished\n",
      "[Parallel(n_jobs=1)]: Using backend SequentialBackend with 1 concurrent workers.\n",
      "[Parallel(n_jobs=1)]: Done 100 out of 100 | elapsed:    1.8s finished\n"
     ]
    },
    {
     "name": "stdout",
     "output_type": "stream",
     "text": [
      "Fold:  0 done!\n"
     ]
    },
    {
     "name": "stderr",
     "output_type": "stream",
     "text": [
      "[Parallel(n_jobs=1)]: Using backend SequentialBackend with 1 concurrent workers.\n",
      "[Parallel(n_jobs=1)]: Done 100 out of 100 | elapsed:   23.5s finished\n",
      "[Parallel(n_jobs=1)]: Using backend SequentialBackend with 1 concurrent workers.\n",
      "[Parallel(n_jobs=1)]: Done 100 out of 100 | elapsed:    1.9s finished\n"
     ]
    },
    {
     "name": "stdout",
     "output_type": "stream",
     "text": [
      "Fold:  1 done!\n"
     ]
    },
    {
     "name": "stderr",
     "output_type": "stream",
     "text": [
      "[Parallel(n_jobs=1)]: Using backend SequentialBackend with 1 concurrent workers.\n",
      "[Parallel(n_jobs=1)]: Done 100 out of 100 | elapsed:   24.8s finished\n",
      "[Parallel(n_jobs=1)]: Using backend SequentialBackend with 1 concurrent workers.\n",
      "[Parallel(n_jobs=1)]: Done 100 out of 100 | elapsed:    1.5s finished\n"
     ]
    },
    {
     "name": "stdout",
     "output_type": "stream",
     "text": [
      "Fold:  2 done!\n"
     ]
    },
    {
     "name": "stderr",
     "output_type": "stream",
     "text": [
      "[Parallel(n_jobs=1)]: Using backend SequentialBackend with 1 concurrent workers.\n",
      "[Parallel(n_jobs=1)]: Done 100 out of 100 | elapsed:   24.9s finished\n",
      "[Parallel(n_jobs=1)]: Using backend SequentialBackend with 1 concurrent workers.\n",
      "[Parallel(n_jobs=1)]: Done 100 out of 100 | elapsed:    1.6s finished\n"
     ]
    },
    {
     "name": "stdout",
     "output_type": "stream",
     "text": [
      "Fold:  3 done!\n"
     ]
    },
    {
     "name": "stderr",
     "output_type": "stream",
     "text": [
      "[Parallel(n_jobs=1)]: Using backend SequentialBackend with 1 concurrent workers.\n",
      "[Parallel(n_jobs=1)]: Done 100 out of 100 | elapsed:   25.1s finished\n",
      "[Parallel(n_jobs=1)]: Using backend SequentialBackend with 1 concurrent workers.\n",
      "[Parallel(n_jobs=1)]: Done 100 out of 100 | elapsed:    1.5s finished\n"
     ]
    },
    {
     "name": "stdout",
     "output_type": "stream",
     "text": [
      "Fold:  4 done!\n",
      "Mean of all scores:  {'f1Mean': 0.9058285343689999, 'accMean': 0.9266489162095031, 'recMean': 0.9123857327002428, 'precMean': 0.9119435614786415}\n",
      "Std of all scores:  {'f1Std': 0.033392696310797124, 'accStd': 0.025444845777434992, 'recStd': 0.02324466622913138, 'precStd': 0.038992264653266315}\n",
      "_______________________________________________\n",
      "Processing timeout :  (5, 30)\n"
     ]
    },
    {
     "name": "stderr",
     "output_type": "stream",
     "text": [
      "[Parallel(n_jobs=1)]: Using backend SequentialBackend with 1 concurrent workers.\n",
      "[Parallel(n_jobs=1)]: Done 100 out of 100 | elapsed:   23.2s finished\n",
      "[Parallel(n_jobs=1)]: Using backend SequentialBackend with 1 concurrent workers.\n",
      "[Parallel(n_jobs=1)]: Done 100 out of 100 | elapsed:    1.8s finished\n"
     ]
    },
    {
     "name": "stdout",
     "output_type": "stream",
     "text": [
      "Fold:  0 done!\n"
     ]
    },
    {
     "name": "stderr",
     "output_type": "stream",
     "text": [
      "[Parallel(n_jobs=1)]: Using backend SequentialBackend with 1 concurrent workers.\n",
      "[Parallel(n_jobs=1)]: Done 100 out of 100 | elapsed:   23.5s finished\n",
      "[Parallel(n_jobs=1)]: Using backend SequentialBackend with 1 concurrent workers.\n",
      "[Parallel(n_jobs=1)]: Done 100 out of 100 | elapsed:    1.9s finished\n"
     ]
    },
    {
     "name": "stdout",
     "output_type": "stream",
     "text": [
      "Fold:  1 done!\n"
     ]
    },
    {
     "name": "stderr",
     "output_type": "stream",
     "text": [
      "[Parallel(n_jobs=1)]: Using backend SequentialBackend with 1 concurrent workers.\n",
      "[Parallel(n_jobs=1)]: Done 100 out of 100 | elapsed:   24.7s finished\n",
      "[Parallel(n_jobs=1)]: Using backend SequentialBackend with 1 concurrent workers.\n",
      "[Parallel(n_jobs=1)]: Done 100 out of 100 | elapsed:    1.5s finished\n"
     ]
    },
    {
     "name": "stdout",
     "output_type": "stream",
     "text": [
      "Fold:  2 done!\n"
     ]
    },
    {
     "name": "stderr",
     "output_type": "stream",
     "text": [
      "[Parallel(n_jobs=1)]: Using backend SequentialBackend with 1 concurrent workers.\n",
      "[Parallel(n_jobs=1)]: Done 100 out of 100 | elapsed:   24.9s finished\n",
      "[Parallel(n_jobs=1)]: Using backend SequentialBackend with 1 concurrent workers.\n",
      "[Parallel(n_jobs=1)]: Done 100 out of 100 | elapsed:    1.6s finished\n"
     ]
    },
    {
     "name": "stdout",
     "output_type": "stream",
     "text": [
      "Fold:  3 done!\n"
     ]
    },
    {
     "name": "stderr",
     "output_type": "stream",
     "text": [
      "[Parallel(n_jobs=1)]: Using backend SequentialBackend with 1 concurrent workers.\n",
      "[Parallel(n_jobs=1)]: Done 100 out of 100 | elapsed:   24.8s finished\n",
      "[Parallel(n_jobs=1)]: Using backend SequentialBackend with 1 concurrent workers.\n",
      "[Parallel(n_jobs=1)]: Done 100 out of 100 | elapsed:    1.4s finished\n"
     ]
    },
    {
     "name": "stdout",
     "output_type": "stream",
     "text": [
      "Fold:  4 done!\n",
      "Mean of all scores:  {'f1Mean': 0.9069431251876339, 'accMean': 0.9285534739702817, 'recMean': 0.9129248419737539, 'precMean': 0.9127490324323222}\n",
      "Std of all scores:  {'f1Std': 0.03171807525922542, 'accStd': 0.022537638725430076, 'recStd': 0.023285539441749988, 'precStd': 0.037519785735054}\n",
      "_______________________________________________\n",
      "Processing timeout :  (10, 30)\n"
     ]
    },
    {
     "name": "stderr",
     "output_type": "stream",
     "text": [
      "[Parallel(n_jobs=1)]: Using backend SequentialBackend with 1 concurrent workers.\n",
      "[Parallel(n_jobs=1)]: Done 100 out of 100 | elapsed:   22.4s finished\n",
      "[Parallel(n_jobs=1)]: Using backend SequentialBackend with 1 concurrent workers.\n",
      "[Parallel(n_jobs=1)]: Done 100 out of 100 | elapsed:    1.6s finished\n"
     ]
    },
    {
     "name": "stdout",
     "output_type": "stream",
     "text": [
      "Fold:  0 done!\n"
     ]
    },
    {
     "name": "stderr",
     "output_type": "stream",
     "text": [
      "[Parallel(n_jobs=1)]: Using backend SequentialBackend with 1 concurrent workers.\n",
      "[Parallel(n_jobs=1)]: Done 100 out of 100 | elapsed:   22.5s finished\n",
      "[Parallel(n_jobs=1)]: Using backend SequentialBackend with 1 concurrent workers.\n",
      "[Parallel(n_jobs=1)]: Done 100 out of 100 | elapsed:    1.7s finished\n"
     ]
    },
    {
     "name": "stdout",
     "output_type": "stream",
     "text": [
      "Fold:  1 done!\n"
     ]
    },
    {
     "name": "stderr",
     "output_type": "stream",
     "text": [
      "[Parallel(n_jobs=1)]: Using backend SequentialBackend with 1 concurrent workers.\n",
      "[Parallel(n_jobs=1)]: Done 100 out of 100 | elapsed:   23.8s finished\n",
      "[Parallel(n_jobs=1)]: Using backend SequentialBackend with 1 concurrent workers.\n",
      "[Parallel(n_jobs=1)]: Done 100 out of 100 | elapsed:    1.4s finished\n"
     ]
    },
    {
     "name": "stdout",
     "output_type": "stream",
     "text": [
      "Fold:  2 done!\n"
     ]
    },
    {
     "name": "stderr",
     "output_type": "stream",
     "text": [
      "[Parallel(n_jobs=1)]: Using backend SequentialBackend with 1 concurrent workers.\n",
      "[Parallel(n_jobs=1)]: Done 100 out of 100 | elapsed:   23.9s finished\n",
      "[Parallel(n_jobs=1)]: Using backend SequentialBackend with 1 concurrent workers.\n",
      "[Parallel(n_jobs=1)]: Done 100 out of 100 | elapsed:    1.5s finished\n"
     ]
    },
    {
     "name": "stdout",
     "output_type": "stream",
     "text": [
      "Fold:  3 done!\n"
     ]
    },
    {
     "name": "stderr",
     "output_type": "stream",
     "text": [
      "[Parallel(n_jobs=1)]: Using backend SequentialBackend with 1 concurrent workers.\n",
      "[Parallel(n_jobs=1)]: Done 100 out of 100 | elapsed:   24.0s finished\n",
      "[Parallel(n_jobs=1)]: Using backend SequentialBackend with 1 concurrent workers.\n",
      "[Parallel(n_jobs=1)]: Done 100 out of 100 | elapsed:    1.4s finished\n"
     ]
    },
    {
     "name": "stdout",
     "output_type": "stream",
     "text": [
      "Fold:  4 done!\n",
      "Mean of all scores:  {'f1Mean': 0.9141863183963622, 'accMean': 0.9339760481389205, 'recMean': 0.928448604597258, 'precMean': 0.9123051773117081}\n",
      "Std of all scores:  {'f1Std': 0.03352480311341374, 'accStd': 0.022233049038239607, 'recStd': 0.02753899261581611, 'precStd': 0.040185866105801014}\n",
      "_______________________________________________\n",
      "Processing timeout :  (0.5, 60)\n"
     ]
    },
    {
     "name": "stderr",
     "output_type": "stream",
     "text": [
      "[Parallel(n_jobs=1)]: Using backend SequentialBackend with 1 concurrent workers.\n",
      "[Parallel(n_jobs=1)]: Done 100 out of 100 | elapsed:   26.3s finished\n",
      "[Parallel(n_jobs=1)]: Using backend SequentialBackend with 1 concurrent workers.\n",
      "[Parallel(n_jobs=1)]: Done 100 out of 100 | elapsed:    1.9s finished\n"
     ]
    },
    {
     "name": "stdout",
     "output_type": "stream",
     "text": [
      "Fold:  0 done!\n"
     ]
    },
    {
     "name": "stderr",
     "output_type": "stream",
     "text": [
      "[Parallel(n_jobs=1)]: Using backend SequentialBackend with 1 concurrent workers.\n",
      "[Parallel(n_jobs=1)]: Done 100 out of 100 | elapsed:   26.6s finished\n",
      "[Parallel(n_jobs=1)]: Using backend SequentialBackend with 1 concurrent workers.\n",
      "[Parallel(n_jobs=1)]: Done 100 out of 100 | elapsed:    2.1s finished\n"
     ]
    },
    {
     "name": "stdout",
     "output_type": "stream",
     "text": [
      "Fold:  1 done!\n"
     ]
    },
    {
     "name": "stderr",
     "output_type": "stream",
     "text": [
      "[Parallel(n_jobs=1)]: Using backend SequentialBackend with 1 concurrent workers.\n",
      "[Parallel(n_jobs=1)]: Done 100 out of 100 | elapsed:   27.6s finished\n",
      "[Parallel(n_jobs=1)]: Using backend SequentialBackend with 1 concurrent workers.\n",
      "[Parallel(n_jobs=1)]: Done 100 out of 100 | elapsed:    1.7s finished\n"
     ]
    },
    {
     "name": "stdout",
     "output_type": "stream",
     "text": [
      "Fold:  2 done!\n"
     ]
    },
    {
     "name": "stderr",
     "output_type": "stream",
     "text": [
      "[Parallel(n_jobs=1)]: Using backend SequentialBackend with 1 concurrent workers.\n",
      "[Parallel(n_jobs=1)]: Done 100 out of 100 | elapsed:   28.2s finished\n",
      "[Parallel(n_jobs=1)]: Using backend SequentialBackend with 1 concurrent workers.\n",
      "[Parallel(n_jobs=1)]: Done 100 out of 100 | elapsed:    1.7s finished\n"
     ]
    },
    {
     "name": "stdout",
     "output_type": "stream",
     "text": [
      "Fold:  3 done!\n"
     ]
    },
    {
     "name": "stderr",
     "output_type": "stream",
     "text": [
      "[Parallel(n_jobs=1)]: Using backend SequentialBackend with 1 concurrent workers.\n",
      "[Parallel(n_jobs=1)]: Done 100 out of 100 | elapsed:   28.4s finished\n",
      "[Parallel(n_jobs=1)]: Using backend SequentialBackend with 1 concurrent workers.\n",
      "[Parallel(n_jobs=1)]: Done 100 out of 100 | elapsed:    1.6s finished\n"
     ]
    },
    {
     "name": "stdout",
     "output_type": "stream",
     "text": [
      "Fold:  4 done!\n",
      "Mean of all scores:  {'f1Mean': 0.8970438460593755, 'accMean': 0.9204098711744386, 'recMean': 0.9002129446629858, 'precMean': 0.9080959761735681}\n",
      "Std of all scores:  {'f1Std': 0.029423484531513253, 'accStd': 0.023993424814501473, 'recStd': 0.02134740158059942, 'precStd': 0.034571674464015274}\n",
      "_______________________________________________\n",
      "Processing timeout :  (1, 60)\n"
     ]
    },
    {
     "name": "stderr",
     "output_type": "stream",
     "text": [
      "[Parallel(n_jobs=1)]: Using backend SequentialBackend with 1 concurrent workers.\n",
      "[Parallel(n_jobs=1)]: Done 100 out of 100 | elapsed:   24.4s finished\n",
      "[Parallel(n_jobs=1)]: Using backend SequentialBackend with 1 concurrent workers.\n",
      "[Parallel(n_jobs=1)]: Done 100 out of 100 | elapsed:    1.8s finished\n"
     ]
    },
    {
     "name": "stdout",
     "output_type": "stream",
     "text": [
      "Fold:  0 done!\n"
     ]
    },
    {
     "name": "stderr",
     "output_type": "stream",
     "text": [
      "[Parallel(n_jobs=1)]: Using backend SequentialBackend with 1 concurrent workers.\n",
      "[Parallel(n_jobs=1)]: Done 100 out of 100 | elapsed:   24.6s finished\n",
      "[Parallel(n_jobs=1)]: Using backend SequentialBackend with 1 concurrent workers.\n",
      "[Parallel(n_jobs=1)]: Done 100 out of 100 | elapsed:    2.0s finished\n"
     ]
    },
    {
     "name": "stdout",
     "output_type": "stream",
     "text": [
      "Fold:  1 done!\n"
     ]
    },
    {
     "name": "stderr",
     "output_type": "stream",
     "text": [
      "[Parallel(n_jobs=1)]: Using backend SequentialBackend with 1 concurrent workers.\n",
      "[Parallel(n_jobs=1)]: Done 100 out of 100 | elapsed:   26.1s finished\n",
      "[Parallel(n_jobs=1)]: Using backend SequentialBackend with 1 concurrent workers.\n",
      "[Parallel(n_jobs=1)]: Done 100 out of 100 | elapsed:    1.6s finished\n"
     ]
    },
    {
     "name": "stdout",
     "output_type": "stream",
     "text": [
      "Fold:  2 done!\n"
     ]
    },
    {
     "name": "stderr",
     "output_type": "stream",
     "text": [
      "[Parallel(n_jobs=1)]: Using backend SequentialBackend with 1 concurrent workers.\n",
      "[Parallel(n_jobs=1)]: Done 100 out of 100 | elapsed:   26.2s finished\n",
      "[Parallel(n_jobs=1)]: Using backend SequentialBackend with 1 concurrent workers.\n",
      "[Parallel(n_jobs=1)]: Done 100 out of 100 | elapsed:    1.7s finished\n"
     ]
    },
    {
     "name": "stdout",
     "output_type": "stream",
     "text": [
      "Fold:  3 done!\n"
     ]
    },
    {
     "name": "stderr",
     "output_type": "stream",
     "text": [
      "[Parallel(n_jobs=1)]: Using backend SequentialBackend with 1 concurrent workers.\n",
      "[Parallel(n_jobs=1)]: Done 100 out of 100 | elapsed:   26.1s finished\n",
      "[Parallel(n_jobs=1)]: Using backend SequentialBackend with 1 concurrent workers.\n",
      "[Parallel(n_jobs=1)]: Done 100 out of 100 | elapsed:    1.5s finished\n"
     ]
    },
    {
     "name": "stdout",
     "output_type": "stream",
     "text": [
      "Fold:  4 done!\n",
      "Mean of all scores:  {'f1Mean': 0.903651685605934, 'accMean': 0.9247560299539778, 'recMean': 0.9112173834515815, 'precMean': 0.9089461136233566}\n",
      "Std of all scores:  {'f1Std': 0.03181383192028123, 'accStd': 0.024742892645105072, 'recStd': 0.02253042891227819, 'precStd': 0.036242728785176224}\n",
      "_______________________________________________\n",
      "Processing timeout :  (2, 60)\n"
     ]
    },
    {
     "name": "stderr",
     "output_type": "stream",
     "text": [
      "[Parallel(n_jobs=1)]: Using backend SequentialBackend with 1 concurrent workers.\n",
      "[Parallel(n_jobs=1)]: Done 100 out of 100 | elapsed:   23.7s finished\n",
      "[Parallel(n_jobs=1)]: Using backend SequentialBackend with 1 concurrent workers.\n",
      "[Parallel(n_jobs=1)]: Done 100 out of 100 | elapsed:    1.8s finished\n"
     ]
    },
    {
     "name": "stdout",
     "output_type": "stream",
     "text": [
      "Fold:  0 done!\n"
     ]
    },
    {
     "name": "stderr",
     "output_type": "stream",
     "text": [
      "[Parallel(n_jobs=1)]: Using backend SequentialBackend with 1 concurrent workers.\n",
      "[Parallel(n_jobs=1)]: Done 100 out of 100 | elapsed:   23.8s finished\n",
      "[Parallel(n_jobs=1)]: Using backend SequentialBackend with 1 concurrent workers.\n",
      "[Parallel(n_jobs=1)]: Done 100 out of 100 | elapsed:    1.9s finished\n"
     ]
    },
    {
     "name": "stdout",
     "output_type": "stream",
     "text": [
      "Fold:  1 done!\n"
     ]
    },
    {
     "name": "stderr",
     "output_type": "stream",
     "text": [
      "[Parallel(n_jobs=1)]: Using backend SequentialBackend with 1 concurrent workers.\n",
      "[Parallel(n_jobs=1)]: Done 100 out of 100 | elapsed:   25.0s finished\n",
      "[Parallel(n_jobs=1)]: Using backend SequentialBackend with 1 concurrent workers.\n",
      "[Parallel(n_jobs=1)]: Done 100 out of 100 | elapsed:    1.6s finished\n"
     ]
    },
    {
     "name": "stdout",
     "output_type": "stream",
     "text": [
      "Fold:  2 done!\n"
     ]
    },
    {
     "name": "stderr",
     "output_type": "stream",
     "text": [
      "[Parallel(n_jobs=1)]: Using backend SequentialBackend with 1 concurrent workers.\n",
      "[Parallel(n_jobs=1)]: Done 100 out of 100 | elapsed:   25.3s finished\n",
      "[Parallel(n_jobs=1)]: Using backend SequentialBackend with 1 concurrent workers.\n",
      "[Parallel(n_jobs=1)]: Done 100 out of 100 | elapsed:    1.6s finished\n"
     ]
    },
    {
     "name": "stdout",
     "output_type": "stream",
     "text": [
      "Fold:  3 done!\n"
     ]
    },
    {
     "name": "stderr",
     "output_type": "stream",
     "text": [
      "[Parallel(n_jobs=1)]: Using backend SequentialBackend with 1 concurrent workers.\n",
      "[Parallel(n_jobs=1)]: Done 100 out of 100 | elapsed:   25.2s finished\n",
      "[Parallel(n_jobs=1)]: Using backend SequentialBackend with 1 concurrent workers.\n",
      "[Parallel(n_jobs=1)]: Done 100 out of 100 | elapsed:    1.5s finished\n"
     ]
    },
    {
     "name": "stdout",
     "output_type": "stream",
     "text": [
      "Fold:  4 done!\n",
      "Mean of all scores:  {'f1Mean': 0.9052581005711884, 'accMean': 0.9264206833572143, 'recMean': 0.9122764236252745, 'precMean': 0.910830838652191}\n",
      "Std of all scores:  {'f1Std': 0.03455469670384973, 'accStd': 0.025679910306377392, 'recStd': 0.022887738287807165, 'precStd': 0.041278688081914795}\n",
      "_______________________________________________\n",
      "Processing timeout :  (3, 60)\n"
     ]
    },
    {
     "name": "stderr",
     "output_type": "stream",
     "text": [
      "[Parallel(n_jobs=1)]: Using backend SequentialBackend with 1 concurrent workers.\n",
      "[Parallel(n_jobs=1)]: Done 100 out of 100 | elapsed:   23.0s finished\n",
      "[Parallel(n_jobs=1)]: Using backend SequentialBackend with 1 concurrent workers.\n",
      "[Parallel(n_jobs=1)]: Done 100 out of 100 | elapsed:    1.8s finished\n"
     ]
    },
    {
     "name": "stdout",
     "output_type": "stream",
     "text": [
      "Fold:  0 done!\n"
     ]
    },
    {
     "name": "stderr",
     "output_type": "stream",
     "text": [
      "[Parallel(n_jobs=1)]: Using backend SequentialBackend with 1 concurrent workers.\n",
      "[Parallel(n_jobs=1)]: Done 100 out of 100 | elapsed:   23.7s finished\n",
      "[Parallel(n_jobs=1)]: Using backend SequentialBackend with 1 concurrent workers.\n",
      "[Parallel(n_jobs=1)]: Done 100 out of 100 | elapsed:    1.9s finished\n"
     ]
    },
    {
     "name": "stdout",
     "output_type": "stream",
     "text": [
      "Fold:  1 done!\n"
     ]
    },
    {
     "name": "stderr",
     "output_type": "stream",
     "text": [
      "[Parallel(n_jobs=1)]: Using backend SequentialBackend with 1 concurrent workers.\n",
      "[Parallel(n_jobs=1)]: Done 100 out of 100 | elapsed:   24.7s finished\n",
      "[Parallel(n_jobs=1)]: Using backend SequentialBackend with 1 concurrent workers.\n",
      "[Parallel(n_jobs=1)]: Done 100 out of 100 | elapsed:    1.4s finished\n"
     ]
    },
    {
     "name": "stdout",
     "output_type": "stream",
     "text": [
      "Fold:  2 done!\n"
     ]
    },
    {
     "name": "stderr",
     "output_type": "stream",
     "text": [
      "[Parallel(n_jobs=1)]: Using backend SequentialBackend with 1 concurrent workers.\n",
      "[Parallel(n_jobs=1)]: Done 100 out of 100 | elapsed:   25.1s finished\n",
      "[Parallel(n_jobs=1)]: Using backend SequentialBackend with 1 concurrent workers.\n",
      "[Parallel(n_jobs=1)]: Done 100 out of 100 | elapsed:    1.5s finished\n"
     ]
    },
    {
     "name": "stdout",
     "output_type": "stream",
     "text": [
      "Fold:  3 done!\n"
     ]
    },
    {
     "name": "stderr",
     "output_type": "stream",
     "text": [
      "[Parallel(n_jobs=1)]: Using backend SequentialBackend with 1 concurrent workers.\n",
      "[Parallel(n_jobs=1)]: Done 100 out of 100 | elapsed:   25.1s finished\n",
      "[Parallel(n_jobs=1)]: Using backend SequentialBackend with 1 concurrent workers.\n",
      "[Parallel(n_jobs=1)]: Done 100 out of 100 | elapsed:    1.4s finished\n"
     ]
    },
    {
     "name": "stdout",
     "output_type": "stream",
     "text": [
      "Fold:  4 done!\n",
      "Mean of all scores:  {'f1Mean': 0.9059283669156688, 'accMean': 0.9267298985262826, 'recMean': 0.9124364435141707, 'precMean': 0.9120210571717833}\n",
      "Std of all scores:  {'f1Std': 0.03313121363613975, 'accStd': 0.0253122066709628, 'recStd': 0.023194597426075856, 'precStd': 0.03849581043348982}\n",
      "_______________________________________________\n",
      "Processing timeout :  (4, 60)\n"
     ]
    },
    {
     "name": "stderr",
     "output_type": "stream",
     "text": [
      "[Parallel(n_jobs=1)]: Using backend SequentialBackend with 1 concurrent workers.\n",
      "[Parallel(n_jobs=1)]: Done 100 out of 100 | elapsed:   23.1s finished\n",
      "[Parallel(n_jobs=1)]: Using backend SequentialBackend with 1 concurrent workers.\n",
      "[Parallel(n_jobs=1)]: Done 100 out of 100 | elapsed:    1.8s finished\n"
     ]
    },
    {
     "name": "stdout",
     "output_type": "stream",
     "text": [
      "Fold:  0 done!\n"
     ]
    },
    {
     "name": "stderr",
     "output_type": "stream",
     "text": [
      "[Parallel(n_jobs=1)]: Using backend SequentialBackend with 1 concurrent workers.\n",
      "[Parallel(n_jobs=1)]: Done 100 out of 100 | elapsed:   23.5s finished\n",
      "[Parallel(n_jobs=1)]: Using backend SequentialBackend with 1 concurrent workers.\n",
      "[Parallel(n_jobs=1)]: Done 100 out of 100 | elapsed:    1.8s finished\n"
     ]
    },
    {
     "name": "stdout",
     "output_type": "stream",
     "text": [
      "Fold:  1 done!\n"
     ]
    },
    {
     "name": "stderr",
     "output_type": "stream",
     "text": [
      "[Parallel(n_jobs=1)]: Using backend SequentialBackend with 1 concurrent workers.\n",
      "[Parallel(n_jobs=1)]: Done 100 out of 100 | elapsed:   24.7s finished\n",
      "[Parallel(n_jobs=1)]: Using backend SequentialBackend with 1 concurrent workers.\n",
      "[Parallel(n_jobs=1)]: Done 100 out of 100 | elapsed:    1.5s finished\n"
     ]
    },
    {
     "name": "stdout",
     "output_type": "stream",
     "text": [
      "Fold:  2 done!\n"
     ]
    },
    {
     "name": "stderr",
     "output_type": "stream",
     "text": [
      "[Parallel(n_jobs=1)]: Using backend SequentialBackend with 1 concurrent workers.\n",
      "[Parallel(n_jobs=1)]: Done 100 out of 100 | elapsed:   25.0s finished\n",
      "[Parallel(n_jobs=1)]: Using backend SequentialBackend with 1 concurrent workers.\n",
      "[Parallel(n_jobs=1)]: Done 100 out of 100 | elapsed:    1.5s finished\n"
     ]
    },
    {
     "name": "stdout",
     "output_type": "stream",
     "text": [
      "Fold:  3 done!\n"
     ]
    },
    {
     "name": "stderr",
     "output_type": "stream",
     "text": [
      "[Parallel(n_jobs=1)]: Using backend SequentialBackend with 1 concurrent workers.\n",
      "[Parallel(n_jobs=1)]: Done 100 out of 100 | elapsed:   25.2s finished\n",
      "[Parallel(n_jobs=1)]: Using backend SequentialBackend with 1 concurrent workers.\n",
      "[Parallel(n_jobs=1)]: Done 100 out of 100 | elapsed:    1.4s finished\n"
     ]
    },
    {
     "name": "stdout",
     "output_type": "stream",
     "text": [
      "Fold:  4 done!\n",
      "Mean of all scores:  {'f1Mean': 0.9031740050619168, 'accMean': 0.9265425471221306, 'recMean': 0.9121082985523052, 'precMean': 0.9068799416630748}\n",
      "Std of all scores:  {'f1Std': 0.03760224169992552, 'accStd': 0.025562865202535517, 'recStd': 0.02327425183420287, 'precStd': 0.04793923660903595}\n",
      "_______________________________________________\n",
      "Processing timeout :  (5, 60)\n"
     ]
    },
    {
     "name": "stderr",
     "output_type": "stream",
     "text": [
      "[Parallel(n_jobs=1)]: Using backend SequentialBackend with 1 concurrent workers.\n",
      "[Parallel(n_jobs=1)]: Done 100 out of 100 | elapsed:   23.5s finished\n",
      "[Parallel(n_jobs=1)]: Using backend SequentialBackend with 1 concurrent workers.\n",
      "[Parallel(n_jobs=1)]: Done 100 out of 100 | elapsed:    1.8s finished\n"
     ]
    },
    {
     "name": "stdout",
     "output_type": "stream",
     "text": [
      "Fold:  0 done!\n"
     ]
    },
    {
     "name": "stderr",
     "output_type": "stream",
     "text": [
      "[Parallel(n_jobs=1)]: Using backend SequentialBackend with 1 concurrent workers.\n",
      "[Parallel(n_jobs=1)]: Done 100 out of 100 | elapsed:   23.9s finished\n",
      "[Parallel(n_jobs=1)]: Using backend SequentialBackend with 1 concurrent workers.\n",
      "[Parallel(n_jobs=1)]: Done 100 out of 100 | elapsed:    1.9s finished\n"
     ]
    },
    {
     "name": "stdout",
     "output_type": "stream",
     "text": [
      "Fold:  1 done!\n"
     ]
    },
    {
     "name": "stderr",
     "output_type": "stream",
     "text": [
      "[Parallel(n_jobs=1)]: Using backend SequentialBackend with 1 concurrent workers.\n",
      "[Parallel(n_jobs=1)]: Done 100 out of 100 | elapsed:   25.6s finished\n",
      "[Parallel(n_jobs=1)]: Using backend SequentialBackend with 1 concurrent workers.\n",
      "[Parallel(n_jobs=1)]: Done 100 out of 100 | elapsed:    1.5s finished\n"
     ]
    },
    {
     "name": "stdout",
     "output_type": "stream",
     "text": [
      "Fold:  2 done!\n"
     ]
    },
    {
     "name": "stderr",
     "output_type": "stream",
     "text": [
      "[Parallel(n_jobs=1)]: Using backend SequentialBackend with 1 concurrent workers.\n",
      "[Parallel(n_jobs=1)]: Done 100 out of 100 | elapsed:   25.0s finished\n",
      "[Parallel(n_jobs=1)]: Using backend SequentialBackend with 1 concurrent workers.\n",
      "[Parallel(n_jobs=1)]: Done 100 out of 100 | elapsed:    1.6s finished\n"
     ]
    },
    {
     "name": "stdout",
     "output_type": "stream",
     "text": [
      "Fold:  3 done!\n"
     ]
    },
    {
     "name": "stderr",
     "output_type": "stream",
     "text": [
      "[Parallel(n_jobs=1)]: Using backend SequentialBackend with 1 concurrent workers.\n",
      "[Parallel(n_jobs=1)]: Done 100 out of 100 | elapsed:   25.5s finished\n",
      "[Parallel(n_jobs=1)]: Using backend SequentialBackend with 1 concurrent workers.\n",
      "[Parallel(n_jobs=1)]: Done 100 out of 100 | elapsed:    1.4s finished\n"
     ]
    },
    {
     "name": "stdout",
     "output_type": "stream",
     "text": [
      "Fold:  4 done!\n",
      "Mean of all scores:  {'f1Mean': 0.9032302583435003, 'accMean': 0.9266488632096159, 'recMean': 0.9124861728346246, 'precMean': 0.9066062367868171}\n",
      "Std of all scores:  {'f1Std': 0.03698502618999186, 'accStd': 0.025305061630236783, 'recStd': 0.02301476592371397, 'precStd': 0.046927405555621915}\n",
      "_______________________________________________\n",
      "Processing timeout :  (10, 60)\n"
     ]
    },
    {
     "name": "stderr",
     "output_type": "stream",
     "text": [
      "[Parallel(n_jobs=1)]: Using backend SequentialBackend with 1 concurrent workers.\n",
      "[Parallel(n_jobs=1)]: Done 100 out of 100 | elapsed:   22.4s finished\n",
      "[Parallel(n_jobs=1)]: Using backend SequentialBackend with 1 concurrent workers.\n",
      "[Parallel(n_jobs=1)]: Done 100 out of 100 | elapsed:    1.7s finished\n"
     ]
    },
    {
     "name": "stdout",
     "output_type": "stream",
     "text": [
      "Fold:  0 done!\n"
     ]
    },
    {
     "name": "stderr",
     "output_type": "stream",
     "text": [
      "[Parallel(n_jobs=1)]: Using backend SequentialBackend with 1 concurrent workers.\n",
      "[Parallel(n_jobs=1)]: Done 100 out of 100 | elapsed:   22.7s finished\n",
      "[Parallel(n_jobs=1)]: Using backend SequentialBackend with 1 concurrent workers.\n",
      "[Parallel(n_jobs=1)]: Done 100 out of 100 | elapsed:    1.8s finished\n"
     ]
    },
    {
     "name": "stdout",
     "output_type": "stream",
     "text": [
      "Fold:  1 done!\n"
     ]
    },
    {
     "name": "stderr",
     "output_type": "stream",
     "text": [
      "[Parallel(n_jobs=1)]: Using backend SequentialBackend with 1 concurrent workers.\n",
      "[Parallel(n_jobs=1)]: Done 100 out of 100 | elapsed:   24.2s finished\n",
      "[Parallel(n_jobs=1)]: Using backend SequentialBackend with 1 concurrent workers.\n",
      "[Parallel(n_jobs=1)]: Done 100 out of 100 | elapsed:    1.5s finished\n"
     ]
    },
    {
     "name": "stdout",
     "output_type": "stream",
     "text": [
      "Fold:  2 done!\n"
     ]
    },
    {
     "name": "stderr",
     "output_type": "stream",
     "text": [
      "[Parallel(n_jobs=1)]: Using backend SequentialBackend with 1 concurrent workers.\n",
      "[Parallel(n_jobs=1)]: Done 100 out of 100 | elapsed:   24.2s finished\n",
      "[Parallel(n_jobs=1)]: Using backend SequentialBackend with 1 concurrent workers.\n",
      "[Parallel(n_jobs=1)]: Done 100 out of 100 | elapsed:    1.6s finished\n"
     ]
    },
    {
     "name": "stdout",
     "output_type": "stream",
     "text": [
      "Fold:  3 done!\n"
     ]
    },
    {
     "name": "stderr",
     "output_type": "stream",
     "text": [
      "[Parallel(n_jobs=1)]: Using backend SequentialBackend with 1 concurrent workers.\n",
      "[Parallel(n_jobs=1)]: Done 100 out of 100 | elapsed:   24.3s finished\n",
      "[Parallel(n_jobs=1)]: Using backend SequentialBackend with 1 concurrent workers.\n"
     ]
    },
    {
     "name": "stdout",
     "output_type": "stream",
     "text": [
      "Fold:  4 done!\n",
      "Mean of all scores:  {'f1Mean': 0.9160757579150797, 'accMean': 0.9347626246869485, 'recMean': 0.9301352283442542, 'precMean': 0.9143655459540154}\n",
      "Std of all scores:  {'f1Std': 0.03346078899502208, 'accStd': 0.022092302103930962, 'recStd': 0.02800339480089968, 'precStd': 0.039243054124231236}\n",
      "_______________________________________________\n"
     ]
    },
    {
     "name": "stderr",
     "output_type": "stream",
     "text": [
      "[Parallel(n_jobs=1)]: Done 100 out of 100 | elapsed:    1.4s finished\n"
     ]
    }
   ],
   "source": [
    "best_f1 = 0\n",
    "worst_f1 = 1\n",
    "best_mean, worst_mean, best_std, worst_std = None, None, None, None\n",
    "\n",
    "save=True\n",
    "\n",
    "\n",
    "for timeout in timeouts:\n",
    "    print(\"Processing timeout : \", timeout)\n",
    "    idle, active = timeout\n",
    "    out_dir = f'/home/meryem.janati/lustre/nlp_team-um6p-st-sccs-id7fz1zvotk/IDS/janati/IDS/timeouts-IDS/NFStream/extractions/new_idle_{idle}min_active_{active}min/USTC-TF2016'\n",
    "    df = pd.read_csv(out_dir+\"/USTC-TF2016.csv\")\n",
    "    \n",
    "    '''\n",
    "    try:\n",
    "        df = df.rename(columns={\"attack_category\": \"Attack\"})\n",
    "        df.to_csv(out_dir+\"/USTC-TF2016.csv\", index=False, header=True)\n",
    "    except:\n",
    "        pass\n",
    "    '''\n",
    "\n",
    "    df = df[~df.Attack.str.contains('direction_flip')]\n",
    "    df = df.sort_values(by=['bidirectional_last_seen_ms']).reset_index(drop=True)\n",
    "    df_new = df[cols]\n",
    "    df_new['application_name'] = df_new['application_name'].apply(lambda x: x.split(\".\")[0])\n",
    "    df_new['content_type'] = df_new['content_type'].fillna(\"unkown/unkown\")\n",
    "    df_new['content_sub_type'] = df_new['content_type'].apply(lambda x: x.split(\"/\")[1])\n",
    "    df_new['content_type'] = df_new['content_type'].apply(lambda x: x.split(\"/\")[0])\n",
    "    #df_new['src_port'] = df_new['src_port'].apply(lambda x: port_feature(x))\n",
    "    #df_new['dst_port'] = df_new['dst_port'].apply(lambda x: port_feature(x))\n",
    "    df_new = df_new.fillna(0)\n",
    "    categ_cols = [\"application_name\", \"application_category_name\", \"content_sub_type\", \"content_type\" ]\n",
    "    df_new, lbl_encoders = encode(df_new,categ_cols)    \n",
    "\n",
    "    # Split df into features and labels\n",
    "    X = df_new.drop(columns=['Attack'])  # Assuming 'label' is the target variable\n",
    "    y = df_new['Attack']\n",
    "    \n",
    "    \n",
    "    accuracy, f1, precision, recall =[], [], [], []\n",
    "    skf= StratifiedKFold(n_splits=5,random_state=None)\n",
    "    skf.get_n_splits(X,y)\n",
    "    \n",
    "    for (train_index, test_index), i in zip(skf.split(X, y), range(5)):\n",
    "        X_train,X_test=X.iloc[train_index],X.iloc[test_index]\n",
    "        y_train,y_test=y.iloc[train_index],y.iloc[test_index]\n",
    "\n",
    "\n",
    "        le = LabelEncoder()\n",
    "        y_train = le.fit_transform(y_train)\n",
    "        y_test = le.transform(y_test)\n",
    "        \n",
    "        \n",
    "        \n",
    "        scaler = StandardScaler()\n",
    "        X_train = scaler.fit_transform(X_train)\n",
    "        X_test = scaler.transform(X_test)\n",
    "\n",
    "        # Initialize and train Extra Trees Classifier\n",
    "        clf = ExtraTreesClassifier(n_estimators=100, random_state=42, verbose=True)\n",
    "        clf.fit(X_train, y_train)\n",
    "        pred = clf.predict(X_test)\n",
    "        \n",
    "        f1Score = f1_score(y_true=y_test, y_pred=pred, average='macro')\n",
    "        accScore=accuracy_score(y_test, pred)\n",
    "        precScore = precision_score(y_test, pred, average='macro')\n",
    "        recScrore = recall_score(y_test, pred, average='macro')\n",
    "                             \n",
    "        f1.append(f1Score)\n",
    "        accuracy.append(accScore)\n",
    "        precision.append(precScore)\n",
    "        recall.append(recScrore)\n",
    "        print('Fold: ', i, 'done!')\n",
    "\n",
    "\n",
    "    meanScores, stdScores = {}, {}\n",
    "    \n",
    "    meanScores['f1Mean'] = np.array(f1).mean()\n",
    "    meanScores['accMean'] = np.array(accuracy).mean()\n",
    "    meanScores['recMean'] = np.array(recall).mean()\n",
    "    meanScores['precMean'] = np.array(precision).mean()\n",
    "    \n",
    "    stdScores['f1Std'] = np.array(f1).std()\n",
    "    stdScores['accStd'] = np.array(accuracy).std()\n",
    "    stdScores['recStd'] = np.array(recall).std()\n",
    "    stdScores['precStd'] = np.array(precision).std()\n",
    "    \n",
    "    print(\"Mean of all scores: \", meanScores)\n",
    "    print(\"Std of all scores: \", stdScores)\n",
    "\n",
    "\n",
    "    if save:\n",
    "        save_scores(timeout, meanScores, stdScores)\n",
    "\n",
    "    if meanScores['f1Mean'] > best_f1: \n",
    "        best_timeout = timeout\n",
    "        best_mean = meanScores\n",
    "        best_std = stdScores\n",
    "        best_f1 = meanScores['f1Mean']\n",
    "    \n",
    "    if meanScores['f1Mean'] <= worst_f1: \n",
    "        \n",
    "        worst_timeout = timeout\n",
    "        worst_mean = meanScores\n",
    "        worst_std = stdScores\n",
    "        worst_f1 = meanScores['f1Mean']\n",
    "               \n",
    "    print('_______________________________________________')"
   ]
  },
  {
   "cell_type": "code",
   "execution_count": null,
   "metadata": {},
   "outputs": [],
   "source": []
  },
  {
   "cell_type": "code",
   "execution_count": null,
   "metadata": {},
   "outputs": [],
   "source": []
  },
  {
   "cell_type": "code",
   "execution_count": 59,
   "metadata": {},
   "outputs": [
    {
     "name": "stdout",
     "output_type": "stream",
     "text": [
      "Best Timeout Combination:  (10, 60)\n",
      "Mean Scores (Best):  {'f1Mean': 0.9160757579150797, 'accMean': 0.9347626246869485, 'recMean': 0.9301352283442542, 'precMean': 0.9143655459540154}\n",
      "Std Scores (Best): {'f1Std': 0.03346078899502208, 'accStd': 0.022092302103930962, 'recStd': 0.02800339480089968, 'precStd': 0.039243054124231236}\n"
     ]
    }
   ],
   "source": [
    "print(\"Best Timeout Combination: \", best_timeout)\n",
    "print(\"Mean Scores (Best): \", best_mean)\n",
    "print('Std Scores (Best):', best_std)"
   ]
  },
  {
   "cell_type": "code",
   "execution_count": 60,
   "metadata": {},
   "outputs": [
    {
     "name": "stdout",
     "output_type": "stream",
     "text": [
      "worst Timeout Combination:  (0.5, 4)\n",
      "Mean Scores (Worst):  {'f1Mean': 0.8954229418113588, 'accMean': 0.9168294454806526, 'recMean': 0.8998320044664148, 'precMean': 0.9050869423760188}\n",
      "Std Scores (Worst): {'f1Std': 0.028388293888324426, 'accStd': 0.024543408770903843, 'recStd': 0.021418849748262504, 'precStd': 0.032285254520825805}\n"
     ]
    }
   ],
   "source": [
    "print(\"worst Timeout Combination: \", worst_timeout)\n",
    "print(\"Mean Scores (Worst): \", worst_mean)\n",
    "print('Std Scores (Worst):', worst_std)"
   ]
  },
  {
   "cell_type": "code",
   "execution_count": 63,
   "metadata": {},
   "outputs": [],
   "source": [
    "\n",
    "results = {\n",
    "    'Best score': {\n",
    "        'Best Timeout': best_timeout,\n",
    "        'Mean Scores (Best)': best_mean,\n",
    "        'Std Scores (Best)': best_std,\n",
    "    },\n",
    "    \n",
    "    'Worst score': {\n",
    "        'Worst Timeout': worst_timeout,\n",
    "        'Mean Scores (Worst)': worst_mean,\n",
    "        'Std Scores (Worst)': worst_std,\n",
    "    },\n",
    "    \n",
    "    'Difference': {\n",
    "        'Accuracy': (best_mean['accMean'] - worst_mean['accMean'])*100,\n",
    "        'F1 Score': (best_mean['f1Mean'] - worst_mean['f1Mean'])*100,\n",
    "        'Precision': (best_mean['precMean'] - worst_mean['precMean'])*100,\n",
    "        'Recall': (best_mean['recMean'] - worst_mean['recMean'])*100\n",
    "    }\n",
    "}\n",
    "\n",
    "\n",
    "\n",
    "with open('../results/basicFeatures/ET_ustc_nfstream.json', 'w') as f:\n",
    "    json.dump(results, f, indent=4)"
   ]
  },
  {
   "cell_type": "raw",
   "metadata": {
    "jupyter": {
     "source_hidden": true
    }
   },
   "source": [
    "import json\n",
    "\n",
    "results = {\n",
    "    'Best score': {\n",
    "        'Best Timeout': best_timeout,\n",
    "        'Mean Scores (Best)': best_mean,\n",
    "        'Std Scores (Best)': best_std,\n",
    "    },\n",
    "    \n",
    "    'Worst score': {\n",
    "        'Worst Timeout': worst_timeout,\n",
    "        'Accuracy': worst_acc,\n",
    "        'F1 Score': worst_f1,\n",
    "        'Precision': worst_prec,\n",
    "        'Recall': worst_rec\n",
    "    },\n",
    "    \n",
    "    'Difference': {\n",
    "        'Accuracy': (best_acc - worst_acc)*100,\n",
    "        'F1 Score': (best_f1 - worst_f1)*100,\n",
    "        'Precision': (best_prec - worst_prec)*100,\n",
    "        'Recall': (best_rec - worst_rec)*100\n",
    "    }\n",
    "}\n",
    "\n",
    "\n",
    "\n",
    "with open('../results/ET_ustc_nfstream.json', 'w') as f:\n",
    "    json.dump(results, f, indent=4)"
   ]
  },
  {
   "cell_type": "code",
   "execution_count": null,
   "metadata": {},
   "outputs": [],
   "source": []
  },
  {
   "cell_type": "code",
   "execution_count": null,
   "metadata": {},
   "outputs": [],
   "source": []
  },
  {
   "cell_type": "code",
   "execution_count": null,
   "metadata": {},
   "outputs": [],
   "source": []
  }
 ],
 "metadata": {
  "kernelspec": {
   "display_name": "ids_data",
   "language": "python",
   "name": "ids_data"
  },
  "language_info": {
   "codemirror_mode": {
    "name": "ipython",
    "version": 3
   },
   "file_extension": ".py",
   "mimetype": "text/x-python",
   "name": "python",
   "nbconvert_exporter": "python",
   "pygments_lexer": "ipython3",
   "version": "3.8.5"
  }
 },
 "nbformat": 4,
 "nbformat_minor": 5
}
