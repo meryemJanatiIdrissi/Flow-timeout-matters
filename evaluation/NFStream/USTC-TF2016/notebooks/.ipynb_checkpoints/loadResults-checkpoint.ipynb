{
 "cells": [
  {
   "cell_type": "code",
   "execution_count": 2,
   "metadata": {},
   "outputs": [],
   "source": [
    "import json\n",
    "def load_score(path):\n",
    "    with open(path, 'r') as f:\n",
    "        loaded_results = json.load(f)\n",
    "    return loaded_results\n"
   ]
  },
  {
   "cell_type": "code",
   "execution_count": 3,
   "metadata": {},
   "outputs": [],
   "source": [
    "results_ET = load_score('../results/ET_cupid_nfstream.json')"
   ]
  },
  {
   "cell_type": "code",
   "execution_count": 4,
   "metadata": {},
   "outputs": [],
   "source": [
    "results_RF = load_score('../results/RF_cupid_nfstream.json')"
   ]
  },
  {
   "cell_type": "code",
   "execution_count": 5,
   "metadata": {},
   "outputs": [],
   "source": [
    "results_MLP = load_score('../results/MLP_cupid_nfstream.json')"
   ]
  },
  {
   "cell_type": "code",
   "execution_count": 6,
   "metadata": {},
   "outputs": [
    {
     "name": "stdout",
     "output_type": "stream",
     "text": [
      "ET classifier: \n",
      " {'Best score': {'Best Timeout': [3, 3], 'Accuracy': 0.9610040927819231, 'F1 Score': 0.9493421442336946, 'Precision': 0.9597920970625115, 'Recall': 0.9651925788321283}, 'Worst score': {'Worst Timeout': [1, 2], 'Accuracy': 0.9620594324193366, 'F1 Score': 0.9196850939215391, 'Precision': 0.9304926230172356, 'Recall': 0.9592932876900745}, 'Difference': {'Accuracy': -0.10553396374134438, 'F1 Score': 2.9657050312155486, 'Precision': 2.9299474045275886, 'Recall': 0.5899291142053786}}\n",
      "\n",
      "RF classifier :\n",
      " {'Best score': {'Best Timeout': [1, 60], 'Accuracy': 0.9708042140450018, 'F1 Score': 0.9591228130622642, 'Precision': 0.9737046024519209, 'Recall': 0.9668185159065044}, 'Worst score': {'Worst Timeout': [4, 30], 'Accuracy': 0.9627476442410181, 'F1 Score': 0.9518024312757227, 'Precision': 0.9615523191312697, 'Recall': 0.9657553290361858}, 'Difference': {'Accuracy': 0.8056569803983726, 'F1 Score': 0.7320381786541486, 'Precision': 1.2152283320651214, 'Recall': 0.10631868703185887}}\n",
      "\n",
      "MLP classifier : \n",
      " {'Best score': {'Best Timeout': [4, 60], 'Accuracy': 0.9714736114358681, 'F1 Score': 0.9510199154858345, 'Precision': 0.959465916361076, 'Recall': 0.9654319347153985}, 'Worst score': {'Worst Timeout': [0.5, 30], 'Accuracy': 0.9716485305857931, 'F1 Score': 0.9003147859866594, 'Precision': 0.9073215704875379, 'Recall': 0.9632821091725468}, 'Difference': {'Accuracy': -0.017491914992506796, 'F1 Score': 5.070512949917516, 'Precision': 5.214434587353811, 'Recall': 0.2149825542851702}}\n"
     ]
    }
   ],
   "source": [
    "print(\"ET classifier: \\n\" , results_ET)\n",
    "print(\"\\nRF classifier :\\n\" , results_RF)\n",
    "print(\"\\nMLP classifier : \\n\" , results_MLP)"
   ]
  },
  {
   "cell_type": "code",
   "execution_count": null,
   "metadata": {},
   "outputs": [],
   "source": []
  }
 ],
 "metadata": {
  "kernelspec": {
   "display_name": "FedLab",
   "language": "python",
   "name": "fedlab"
  },
  "language_info": {
   "codemirror_mode": {
    "name": "ipython",
    "version": 3
   },
   "file_extension": ".py",
   "mimetype": "text/x-python",
   "name": "python",
   "nbconvert_exporter": "python",
   "pygments_lexer": "ipython3",
   "version": "3.8.5"
  }
 },
 "nbformat": 4,
 "nbformat_minor": 4
}
