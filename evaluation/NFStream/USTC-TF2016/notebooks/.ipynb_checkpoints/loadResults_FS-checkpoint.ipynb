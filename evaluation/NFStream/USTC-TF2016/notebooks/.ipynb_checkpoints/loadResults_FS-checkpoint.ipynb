{
 "cells": [
  {
   "cell_type": "code",
   "execution_count": null,
   "metadata": {},
   "outputs": [],
   "source": [
    "import json\n",
    "def load_score(path):\n",
    "    with open(path, 'r') as f:\n",
    "        loaded_results = json.load(f)\n",
    "    return loaded_results\n"
   ]
  },
  {
   "cell_type": "code",
   "execution_count": 4,
   "metadata": {},
   "outputs": [],
   "source": [
    "results_ET = load_score('../results/featureSelection/ET_ustc_nfstream_FS_30.json')"
   ]
  },
  {
   "cell_type": "code",
   "execution_count": 5,
   "metadata": {},
   "outputs": [],
   "source": [
    "results_RF = load_score('../results/featureSelection/ET_ustc_nfstream_FS_50.json')"
   ]
  },
  {
   "cell_type": "code",
   "execution_count": 7,
   "metadata": {},
   "outputs": [
    {
     "name": "stdout",
     "output_type": "stream",
     "text": [
      "ET classifier: \n",
      " {'Best score': {'Best Timeout': [10, 60], 'Mean Scores (Best)': {'f1Mean': 0.9160757579150797, 'accMean': 0.9347626246869485, 'recMean': 0.9301352283442542, 'precMean': 0.9143655459540154}, 'Std Scores (Best)': {'f1Std': 0.03346078899502208, 'accStd': 0.022092302103930962, 'recStd': 0.02800339480089968, 'precStd': 0.039243054124231236}}, 'Worst score': {'Worst Timeout': [0.5, 4], 'Mean Scores (Worst)': {'f1Mean': 0.8954229418113588, 'accMean': 0.9168294454806526, 'recMean': 0.8998320044664148, 'precMean': 0.9050869423760188}, 'Std Scores (Worst)': {'f1Std': 0.028388293888324426, 'accStd': 0.024543408770903843, 'recStd': 0.021418849748262504, 'precStd': 0.032285254520825805}}, 'Difference': {'Accuracy': 1.793317920629589, 'F1 Score': 2.065281610372083, 'Precision': 0.9278603577996591, 'Recall': 3.030322387783946}}\n",
      "\n",
      "RF classifier :\n",
      " {'Best score': {'Best Timeout': [10, 60], 'Mean Scores (Best)': {'f1Mean': 0.9181529841759467, 'accMean': 0.9346493846961967, 'recMean': 0.9306672739037671, 'precMean': 0.9171719240059453}, 'Std Scores (Best)': {'f1Std': 0.030429832882067756, 'accStd': 0.021771433661166757, 'recStd': 0.028490404575127175, 'precStd': 0.03363844188245009}}, 'Worst score': {'Worst Timeout': [0.5, 60], 'Mean Scores (Worst)': {'f1Mean': 0.8983646807837811, 'accMean': 0.9210124908185083, 'recMean': 0.9005597426158868, 'precMean': 0.9095299000966494}, 'Std Scores (Worst)': {'f1Std': 0.03006262657470211, 'accStd': 0.02392741887654086, 'recStd': 0.02154107063178525, 'precStd': 0.03792229957969101}}, 'Difference': {'Accuracy': 1.3636893877688405, 'F1 Score': 1.978830339216564, 'Precision': 0.7642023909295914, 'Recall': 3.010753128788035}}\n",
      "\n",
      "MLP classifier : \n",
      " {'Best score': {'Best Timeout': [3, 60], 'Mean Scores (Best)': {'f1Mean': 0.853779246850021, 'accMean': 0.8929195246283255, 'recMean': 0.8745433464524867, 'precMean': 0.8752493142805775}, 'Std Scores (Best)': {'f1Std': 0.037717008491527634, 'accStd': 0.02286373604008065, 'recStd': 0.026394154595500662, 'precStd': 0.04658298105505603}}, 'Worst score': {'Worst Timeout': [0.5, 30], 'Mean Scores (Worst)': {'f1Mean': 0.8139309258514817, 'accMean': 0.8586007050247954, 'recMean': 0.8462015661104377, 'precMean': 0.8382821594530334}, 'Std Scores (Worst)': {'f1Std': 0.05117229545957356, 'accStd': 0.040119210657467624, 'recStd': 0.03250423647636127, 'precStd': 0.05569300092361911}}, 'Difference': {'Accuracy': 3.4318819603530115, 'F1 Score': 3.98483209985393, 'Precision': 3.696715482754409, 'Recall': 2.834178034204893}}\n"
     ]
    }
   ],
   "source": [
    "print(\"ET classifier: \\n\" , results_ET)\n",
    "print(\"\\nRF classifier :\\n\" , results_RF)\n",
    "print(\"\\nMLP classifier : \\n\" , results_MLP)"
   ]
  },
  {
   "cell_type": "code",
   "execution_count": null,
   "metadata": {},
   "outputs": [],
   "source": []
  }
 ],
 "metadata": {
  "kernelspec": {
   "display_name": "FedLab",
   "language": "python",
   "name": "fedlab"
  },
  "language_info": {
   "codemirror_mode": {
    "name": "ipython",
    "version": 3
   },
   "file_extension": ".py",
   "mimetype": "text/x-python",
   "name": "python",
   "nbconvert_exporter": "python",
   "pygments_lexer": "ipython3",
   "version": "3.8.5"
  }
 },
 "nbformat": 4,
 "nbformat_minor": 4
}
