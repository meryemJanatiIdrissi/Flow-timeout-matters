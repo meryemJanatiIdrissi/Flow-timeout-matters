{
 "cells": [
  {
   "cell_type": "code",
   "execution_count": 1,
   "metadata": {},
   "outputs": [],
   "source": [
    "import pandas as pd \n",
    "import numpy as np\n",
    "import matplotlib.pyplot as plt\n",
    "import seaborn as sns\n",
    "import glob\n",
    "from sklearn.model_selection import train_test_split\n",
    "from sklearn.model_selection import StratifiedKFold\n",
    "from sklearn.metrics import classification_report, f1_score\n",
    "from sklearn.preprocessing import LabelEncoder, StandardScaler, MinMaxScaler\n",
    "from sklearn.ensemble import RandomForestClassifier, ExtraTreesClassifier, AdaBoostClassifier\n",
    "from sklearn.tree import DecisionTreeClassifier\n",
    "import matplotlib.pyplot as plt\n",
    "import seaborn as sns\n",
    "from statsmodels.stats.outliers_influence import variance_inflation_factor  \n",
    "import warnings\n",
    "import pickle\n",
    "import os\n",
    "warnings.filterwarnings(\"ignore\")\n",
    "pd.set_option('display.max_columns', 200)\n",
    "pd.set_option('display.max_rows', 200)"
   ]
  },
  {
   "cell_type": "code",
   "execution_count": 2,
   "metadata": {},
   "outputs": [],
   "source": [
    "cols = [ 'expiration_id', 'protocol', 'src_port', 'dst_port',\n",
    "       'ip_version',   'bidirectional_duration_ms', 'bidirectional_packets',\n",
    "       'bidirectional_bytes', 'src2dst_duration_ms', 'src2dst_packets',\n",
    "       'src2dst_bytes', 'dst2src_duration_ms', 'dst2src_packets', 'dst2src_bytes',\n",
    "       'bidirectional_min_ps', 'bidirectional_mean_ps',\n",
    "       'bidirectional_stddev_ps', 'bidirectional_max_ps',\n",
    "       'src2dst_min_ps', 'src2dst_mean_ps', 'src2dst_stddev_ps',\n",
    "       'src2dst_max_ps', 'dst2src_min_ps', 'dst2src_mean_ps',\n",
    "       'dst2src_stddev_ps', 'dst2src_max_ps', 'bidirectional_min_piat_ms',\n",
    "       'bidirectional_mean_piat_ms', 'bidirectional_stddev_piat_ms',\n",
    "       'bidirectional_max_piat_ms', 'src2dst_min_piat_ms',\n",
    "       'src2dst_mean_piat_ms', 'src2dst_stddev_piat_ms',\n",
    "       'src2dst_max_piat_ms', 'dst2src_min_piat_ms',\n",
    "       'dst2src_mean_piat_ms', 'dst2src_stddev_piat_ms',\n",
    "       'dst2src_max_piat_ms', 'bidirectional_syn_packets', 'bidirectional_ack_packets',\n",
    "       'bidirectional_psh_packets', 'bidirectional_rst_packets',\n",
    "       'bidirectional_fin_packets', 'src2dst_syn_packets', 'src2dst_ack_packets',\n",
    "       'src2dst_psh_packets', 'src2dst_rst_packets',\n",
    "       'src2dst_fin_packets', 'dst2src_syn_packets', 'dst2src_ack_packets',\n",
    "       'dst2src_psh_packets', 'dst2src_rst_packets',\n",
    "       'dst2src_fin_packets','application_name',\n",
    "       'application_category_name', 'application_is_guessed',\n",
    "       'application_confidence', 'content_type', 'udps.num_pkts_up_to_128_bytes',\n",
    "       'udps.num_pkts_128_to_256_bytes', 'udps.num_pkts_256_to_512_bytes',\n",
    "       'udps.num_pkts_512_to_1024_bytes',\n",
    "       'udps.num_pkts_1024_to_1514_bytes', 'udps.min_ttl', 'udps.max_ttl',\n",
    "       'udps.min_ip_pkt_len', 'udps.max_ip_pkt_len', 'udps.src2dst_flags',\n",
    "       'udps.dst2src_flags', 'udps.tcp_flags', 'udps.tcp_win_max_in',\n",
    "       'udps.tcp_win_max_out', 'udps.icmp_type', 'udps.icmp_v4_type',\n",
    "       'udps.dns_query_id', 'udps.dns_query_type', 'udps.dns_ttl_answer',\n",
    "       'udps.ftp_command_ret_code', 'udps.retransmitted_in_packets',\n",
    "       'udps.retransmitted_out_packets', 'udps.retransmitted_in_bytes',\n",
    "       'udps.retransmitted_out_bytes', 'udps.src_to_dst_second_bytes',\n",
    "       'udps.dst_to_src_second_bytes', 'udps.src_to_dst_avg_throughput',\n",
    "       'udps.dst_to_src_avg_throughput', 'udps.src_to_dst_second_bytes2',\n",
    "       'udps.dst_to_src_second_bytes2', 'udps.src_to_dst_avg_throughput2',\n",
    "       'udps.dst_to_src_avg_throughput2', 'udps.tcp_init_ms',\n",
    "       'udps.tcp_synack_ack_ms', 'udps.tcp_half_closed_time_ms',\n",
    "       'udps.num_pkts_after_termination',\n",
    "       'udps.src2dst_first_packet_payload_len',\n",
    "       'udps.dst2src_first_packet_payload_len',\n",
    "       'udps.bidirectional_transport_bytes',\n",
    "       'udps.bidirectional_payload_bytes', 'udps.src2dst_transport_bytes',\n",
    "       'udps.src2dst_payload_bytes', 'udps.dst2src_transport_bytes',\n",
    "       'udps.dst2src_payload_bytes',\n",
    "       'udps.src2dst_most_freq_payload_ratio',\n",
    "       'udps.src2dst_most_freq_payload_len',\n",
    "       'udps.dst2src_most_freq_payload_ratio',\n",
    "       'udps.dst2src_most_freq_payload_len',\n",
    "       'udps.bidirectional_mean_packet_relative_times',\n",
    "       'udps.bidirectional_stddev_packet_relative_times',\n",
    "       'udps.bidirectional_variance_packet_relative_times',\n",
    "       'udps.bidirectional_coeff_of_var_packet_relative_times',\n",
    "       'udps.bidirectional_skew_from_median_packet_relative_times',\n",
    "       'udps.src2dst_mean_packet_relative_times',\n",
    "       'udps.src2dst_stddev_packet_relative_times',\n",
    "       'udps.src2dst_variance_packet_relative_times',\n",
    "       'udps.src2dst_coeff_of_var_packet_relative_times',\n",
    "       'udps.src2dst_skew_from_median_packet_relative_times',\n",
    "       'udps.dst2src_mean_packet_relative_times',\n",
    "       'udps.dst2src_stddev_packet_relative_times',\n",
    "       'udps.dst2src_variance_packet_relative_times',\n",
    "       'udps.dst2src_coeff_of_var_packet_relative_times',\n",
    "       'udps.dst2src_skew_from_median_packet_relative_times',\n",
    "       'udps.min_req_res_time_diff', 'udps.max_req_res_time_diff',\n",
    "       'udps.mean_req_res_time_diff', 'udps.stddev_req_res_time_diff',\n",
    "       'udps.variance_req_res_time_diff',\n",
    "       'udps.coeff_of_var_req_res_time_diff',\n",
    "       'udps.skew_from_median_req_res_time_diff',\n",
    "       'udps.src2dst_small_packet_payload_packets',\n",
    "       'udps.src2dst_small_packet_payload_ratio',\n",
    "       'udps.dst2src_small_packet_payload_packets',\n",
    "       'udps.dst2src_small_packet_payload_ratio',\n",
    "       'udps.sent_recv_packet_ratio',\n",
    "       'udps.bidirectional_ps_first_quartile',\n",
    "       'udps.bidirectional_ps_second_quartile',\n",
    "       'udps.bidirectional_ps_third_quartile',\n",
    "       'udps.bidirectional_ps_median_absoulte_deviation',\n",
    "       'udps.bidirectional_ps_skewness', 'udps.bidirectional_ps_kurtosis',\n",
    "       'udps.bidirectional_piat_first_quartile',\n",
    "       'udps.bidirectional_piat_second_quartile',\n",
    "       'udps.bidirectional_piat_third_quartile',\n",
    "       'udps.bidirectional_piat_median_absoulte_deviation',\n",
    "       'udps.bidirectional_piat_skewness',\n",
    "       'udps.bidirectional_piat_kurtosis',\n",
    "       'udps.median_req_res_time_diff', 'Attack']"
   ]
  },
  {
   "cell_type": "code",
   "execution_count": 3,
   "metadata": {
    "jupyter": {
     "source_hidden": true
    }
   },
   "outputs": [],
   "source": [
    "cols0 = [ 'expiration_id', 'protocol',\n",
    "       'ip_version',   'bidirectional_duration_ms', 'bidirectional_packets',\n",
    "       'bidirectional_bytes', 'src2dst_duration_ms', 'src2dst_packets',\n",
    "       'src2dst_bytes', 'dst2src_duration_ms', 'dst2src_packets', 'dst2src_bytes',\n",
    "       'bidirectional_min_ps', 'bidirectional_mean_ps',\n",
    "       'bidirectional_stddev_ps', 'bidirectional_max_ps',\n",
    "       'src2dst_min_ps', 'src2dst_mean_ps', 'src2dst_stddev_ps',\n",
    "       'src2dst_max_ps', 'dst2src_min_ps', 'dst2src_mean_ps',\n",
    "       'dst2src_stddev_ps', 'dst2src_max_ps', 'bidirectional_min_piat_ms',\n",
    "       'bidirectional_mean_piat_ms', 'bidirectional_stddev_piat_ms',\n",
    "       'bidirectional_max_piat_ms', 'src2dst_min_piat_ms',\n",
    "       'src2dst_mean_piat_ms', 'src2dst_stddev_piat_ms',\n",
    "       'src2dst_max_piat_ms', 'dst2src_min_piat_ms',\n",
    "       'dst2src_mean_piat_ms', 'dst2src_stddev_piat_ms',\n",
    "       'dst2src_max_piat_ms', 'bidirectional_syn_packets', 'bidirectional_ack_packets',\n",
    "       'bidirectional_psh_packets', 'bidirectional_rst_packets',\n",
    "       'bidirectional_fin_packets', 'src2dst_syn_packets', 'src2dst_ack_packets',\n",
    "       'src2dst_psh_packets', 'src2dst_rst_packets',\n",
    "       'src2dst_fin_packets', 'dst2src_syn_packets', 'dst2src_ack_packets',\n",
    "       'dst2src_psh_packets', 'dst2src_rst_packets',\n",
    "       'dst2src_fin_packets','application_name',\n",
    "       'application_category_name', 'application_is_guessed',\n",
    "       'application_confidence', 'content_type', 'Attack']"
   ]
  },
  {
   "cell_type": "code",
   "execution_count": null,
   "metadata": {},
   "outputs": [],
   "source": []
  },
  {
   "cell_type": "code",
   "execution_count": 3,
   "metadata": {},
   "outputs": [],
   "source": [
    "def port_feature(port):\n",
    "    if port < 1024:\n",
    "        return 1\n",
    "    elif port < 49152 and port >= 1024:\n",
    "        return 2\n",
    "    else:\n",
    "        return 3        "
   ]
  },
  {
   "cell_type": "code",
   "execution_count": 4,
   "metadata": {},
   "outputs": [],
   "source": [
    "def encode(df, cols):\n",
    "    \"\"\"\n",
    "    @param df pandas DataFrame\n",
    "    @param cols a list of columns to encode \n",
    "    @return a DataFrame with one-hot encoding\n",
    "    \"\"\"\n",
    "    les = {}\n",
    "    for each in cols:\n",
    "        le_col = LabelEncoder()\n",
    "        df[each] = le_col.fit_transform(df[each])\n",
    "        les[each] = le_col\n",
    "       \n",
    "    return df, les"
   ]
  },
  {
   "cell_type": "code",
   "execution_count": 5,
   "metadata": {},
   "outputs": [],
   "source": [
    "def normalize_content_type(x):\n",
    "    if str(x).isspace():\n",
    "        return \"unkown/unkown\"\n",
    "    elif \"/\" not in str(x):\n",
    "        return str(x)+\"/unkown\"\n",
    "    else:\n",
    "        return x"
   ]
  },
  {
   "cell_type": "code",
   "execution_count": 6,
   "metadata": {},
   "outputs": [],
   "source": [
    "def save_predictions(targets, predictions, timeout, save_path= \"results/ET\"):\n",
    "    name_file_pred = 'predictions_idle_' + str(timeout[0]) + \"_active_\" + str(timeout[1]) + \".p\"\n",
    "    name_file_y = 'targets_idle_' + str(timeout[0]) + \"_active_\" + str(timeout[1]) + \".p\"\n",
    "\n",
    "    pickle.dump(predictions, open(os.path.join(save_path, name_file_pred), 'wb') )\n",
    "    pickle.dump(targets, open(os.path.join(save_path, name_file_y), 'wb') )\n",
    "    \n",
    "def load_predictions(timeout, save_path= \"results/ET\"):\n",
    "    name_file_pred = 'predictions_idle_' + str(timeout[0]) + \"_active_\" + str(timeout[1]) + \".p\"\n",
    "    name_file_y = 'targets_idle_' + str(timeout[0]) + \"_active_\" + str(timeout[1]) + \".p\"\n",
    "    \n",
    "    predictions =  pickle.load(open(os.path.join(save_path, name_file_pred), 'rb') )\n",
    "    targets =  pickle.load(open(os.path.join(save_path, name_file_y), 'rb') )\n",
    "    return predictions, targets"
   ]
  },
  {
   "cell_type": "code",
   "execution_count": 7,
   "metadata": {},
   "outputs": [],
   "source": [
    "timeouts = [(0.5,2), (1, 2), (2,2), (0.5,3), (1,3), (2, 3), (3,3), (0.5,4), (1, 4), (2,4), (3,4), (4,4), (0.5,5), (1,5), (2,5), (3,5), (4,5), (5,5), (0.5, 30), (1, 30), (2,30), (3,30), (4,30), (5,30), (10, 30), (0.5, 60), (1, 60), (2,60), (3,60), (4,60), (5,60), (10, 60)]"
   ]
  },
  {
   "cell_type": "code",
   "execution_count": 8,
   "metadata": {},
   "outputs": [],
   "source": [
    "ratio= 1/2\n",
    "if ratio == (1/3):\n",
    "    path = \"../results_FS/FS_ET/30percent/\"\n",
    "else:\n",
    "    path = \"../results_FS/FS_ET/50percent/\"\n",
    "file = open(os.path.join(path,'cupid_results_ET.txt'), \"w\")"
   ]
  },
  {
   "cell_type": "code",
   "execution_count": 9,
   "metadata": {},
   "outputs": [],
   "source": [
    "def split_data(data):\n",
    "    train_idx, test_idx = next(StratifiedKFold(n_splits=3).split(data, data['Attack']))\n",
    "    train, test = data.iloc[train_idx].reset_index(drop=True), data.iloc[test_idx].reset_index(drop=True)\n",
    "    return train, test"
   ]
  },
  {
   "cell_type": "code",
   "execution_count": null,
   "metadata": {},
   "outputs": [],
   "source": []
  },
  {
   "cell_type": "markdown",
   "metadata": {},
   "source": [
    "# Training "
   ]
  },
  {
   "cell_type": "code",
   "execution_count": null,
   "metadata": {},
   "outputs": [],
   "source": []
  },
  {
   "cell_type": "code",
   "execution_count": null,
   "metadata": {},
   "outputs": [
    {
     "name": "stdout",
     "output_type": "stream",
     "text": [
      "Processing timeout :  (0.5, 2)\n",
      "-------------- Find Best Features ----------------\n"
     ]
    },
    {
     "name": "stderr",
     "output_type": "stream",
     "text": [
      "[Parallel(n_jobs=1)]: Using backend SequentialBackend with 1 concurrent workers.\n",
      "[Parallel(n_jobs=1)]: Done 100 out of 100 | elapsed:  3.8min finished\n"
     ]
    },
    {
     "name": "stdout",
     "output_type": "stream",
     "text": [
      "-------------- Start Training ----------------\n",
      "Processing timeout :  (1, 2)\n",
      "-------------- Find Best Features ----------------\n"
     ]
    },
    {
     "name": "stderr",
     "output_type": "stream",
     "text": [
      "[Parallel(n_jobs=1)]: Using backend SequentialBackend with 1 concurrent workers.\n",
      "[Parallel(n_jobs=1)]: Done 100 out of 100 | elapsed:  2.4min finished\n"
     ]
    },
    {
     "name": "stdout",
     "output_type": "stream",
     "text": [
      "-------------- Start Training ----------------\n",
      "Processing timeout :  (2, 2)\n",
      "-------------- Find Best Features ----------------\n"
     ]
    },
    {
     "name": "stderr",
     "output_type": "stream",
     "text": [
      "[Parallel(n_jobs=1)]: Using backend SequentialBackend with 1 concurrent workers.\n",
      "[Parallel(n_jobs=1)]: Done 100 out of 100 | elapsed:  2.2min finished\n"
     ]
    },
    {
     "name": "stdout",
     "output_type": "stream",
     "text": [
      "-------------- Start Training ----------------\n",
      "Processing timeout :  (0.5, 3)\n",
      "-------------- Find Best Features ----------------\n"
     ]
    },
    {
     "name": "stderr",
     "output_type": "stream",
     "text": [
      "[Parallel(n_jobs=1)]: Using backend SequentialBackend with 1 concurrent workers.\n",
      "[Parallel(n_jobs=1)]: Done 100 out of 100 | elapsed:  2.5min finished\n"
     ]
    },
    {
     "name": "stdout",
     "output_type": "stream",
     "text": [
      "-------------- Start Training ----------------\n",
      "Processing timeout :  (1, 3)\n",
      "-------------- Find Best Features ----------------\n"
     ]
    },
    {
     "name": "stderr",
     "output_type": "stream",
     "text": [
      "[Parallel(n_jobs=1)]: Using backend SequentialBackend with 1 concurrent workers.\n",
      "[Parallel(n_jobs=1)]: Done 100 out of 100 | elapsed:  2.5min finished\n"
     ]
    },
    {
     "name": "stdout",
     "output_type": "stream",
     "text": [
      "-------------- Start Training ----------------\n",
      "Processing timeout :  (2, 3)\n",
      "-------------- Find Best Features ----------------\n"
     ]
    },
    {
     "name": "stderr",
     "output_type": "stream",
     "text": [
      "[Parallel(n_jobs=1)]: Using backend SequentialBackend with 1 concurrent workers.\n",
      "[Parallel(n_jobs=1)]: Done 100 out of 100 | elapsed:  2.6min finished\n"
     ]
    },
    {
     "name": "stdout",
     "output_type": "stream",
     "text": [
      "-------------- Start Training ----------------\n",
      "Processing timeout :  (3, 3)\n",
      "-------------- Find Best Features ----------------\n"
     ]
    },
    {
     "name": "stderr",
     "output_type": "stream",
     "text": [
      "[Parallel(n_jobs=1)]: Using backend SequentialBackend with 1 concurrent workers.\n",
      "[Parallel(n_jobs=1)]: Done 100 out of 100 | elapsed:  2.0min finished\n"
     ]
    },
    {
     "name": "stdout",
     "output_type": "stream",
     "text": [
      "-------------- Start Training ----------------\n",
      "Processing timeout :  (0.5, 4)\n",
      "-------------- Find Best Features ----------------\n"
     ]
    },
    {
     "name": "stderr",
     "output_type": "stream",
     "text": [
      "[Parallel(n_jobs=1)]: Using backend SequentialBackend with 1 concurrent workers.\n",
      "[Parallel(n_jobs=1)]: Done 100 out of 100 | elapsed:  2.4min finished\n"
     ]
    },
    {
     "name": "stdout",
     "output_type": "stream",
     "text": [
      "-------------- Start Training ----------------\n",
      "Processing timeout :  (1, 4)\n",
      "-------------- Find Best Features ----------------\n"
     ]
    },
    {
     "name": "stderr",
     "output_type": "stream",
     "text": [
      "[Parallel(n_jobs=1)]: Using backend SequentialBackend with 1 concurrent workers.\n",
      "[Parallel(n_jobs=1)]: Done 100 out of 100 | elapsed:  2.1min finished\n"
     ]
    },
    {
     "name": "stdout",
     "output_type": "stream",
     "text": [
      "-------------- Start Training ----------------\n",
      "Processing timeout :  (2, 4)\n",
      "-------------- Find Best Features ----------------\n"
     ]
    },
    {
     "name": "stderr",
     "output_type": "stream",
     "text": [
      "[Parallel(n_jobs=1)]: Using backend SequentialBackend with 1 concurrent workers.\n",
      "[Parallel(n_jobs=1)]: Done 100 out of 100 | elapsed:  2.0min finished\n"
     ]
    },
    {
     "name": "stdout",
     "output_type": "stream",
     "text": [
      "-------------- Start Training ----------------\n",
      "Processing timeout :  (3, 4)\n",
      "-------------- Find Best Features ----------------\n"
     ]
    },
    {
     "name": "stderr",
     "output_type": "stream",
     "text": [
      "[Parallel(n_jobs=1)]: Using backend SequentialBackend with 1 concurrent workers.\n",
      "[Parallel(n_jobs=1)]: Done 100 out of 100 | elapsed:  1.9min finished\n"
     ]
    },
    {
     "name": "stdout",
     "output_type": "stream",
     "text": [
      "-------------- Start Training ----------------\n",
      "Processing timeout :  (4, 4)\n",
      "-------------- Find Best Features ----------------\n"
     ]
    },
    {
     "name": "stderr",
     "output_type": "stream",
     "text": [
      "[Parallel(n_jobs=1)]: Using backend SequentialBackend with 1 concurrent workers.\n"
     ]
    }
   ],
   "source": [
    "best_f1 = 0\n",
    "best_report = None\n",
    "best_timeout = None\n",
    "best_pred = None\n",
    "best_y = None\n",
    "\n",
    "worst_f1 = 1\n",
    "worst_report = None\n",
    "worst_timeout = None\n",
    "worst_pred = None\n",
    "worst_y = None\n",
    "\n",
    "for timeout in timeouts:\n",
    "    print(\"Processing timeout : \", timeout)\n",
    "    idle, active = timeout\n",
    "    out_dir = f'/home/meryem.janati/lustre/nlp_team-um6p-st-sccs-id7fz1zvotk/IDS/janati/IDS/project2/extractions/extractions/new_idle_{idle}min_active_{active}min/CUPID'\n",
    "    df = pd.read_csv(out_dir+\"/CUPID.csv\")\n",
    "    df = df[~df.Attack.isin(['Nslookup', 'Dnstracer', 'Dig'])]\n",
    "    file.write(\"\\n==========================================================\\n\")\n",
    "    file.write(f\" active: {active} min   idle: {idle} min \\n\")\n",
    "    file.write(str(df.Attack.value_counts()))\n",
    "    file.write(\"\\n*******************************************\\n\")\n",
    "    file.write(str(df.Attack.value_counts() / df.shape[0] * 100))\n",
    "    file.write(\"\\n*******************************************\\n\")\n",
    "    file.write(str(df['bidirectional_duration_ms'].describe()))\n",
    "    file.write(\"\\n*******************************************\\n\")\n",
    "    df = df.sort_values(by=['bidirectional_last_seen_ms']).reset_index(drop=True)\n",
    "    df_new = df[cols]\n",
    "    df_new['application_name'] = df_new['application_name'].apply(lambda x: x.split(\".\")[0])\n",
    "    df_new['content_type'] = df_new['content_type'].fillna(\"unkown/unkown\")\n",
    "    df_new['content_type'] = df_new['content_type'].apply(lambda x: normalize_content_type(x))\n",
    "    df_new['content_sub_type'] = df_new['content_type'].apply(lambda x: x.split(\"/\")[1])\n",
    "    df_new['content_type'] = df_new['content_type'].apply(lambda x: x.split(\"/\")[0])\n",
    "    #df_new['src_port'] = df_new['src_port'].apply(lambda x: port_feature(x))\n",
    "    #df_new['dst_port'] = df_new['dst_port'].apply(lambda x: port_feature(x))\n",
    "    df_new = df_new.fillna(0)\n",
    "    categ_cols = [\"application_name\", \"application_category_name\", \"content_sub_type\", \"content_type\" ]\n",
    "    df_new, lbl_encoders = encode(df_new,categ_cols)    \n",
    "    train, test = split_data(df_new)\n",
    "    y_train = train['Attack']\n",
    "    X_train = train.drop('Attack', axis=1)\n",
    "    y_test = test['Attack']\n",
    "    X_test = test.drop('Attack', axis=1)\n",
    "    le = LabelEncoder()\n",
    "    y_train = le.fit_transform(y_train)\n",
    "    y_test = le.transform(y_test)\n",
    "    scaler = StandardScaler()\n",
    "    X_train = scaler.fit_transform(X_train)\n",
    "    X_test = scaler.transform(X_test)\n",
    "    print(\"-------------- Find Best Features ----------------\")\n",
    "    clf = ExtraTreesClassifier(n_estimators=100, random_state=42, verbose=True)#, class_weight='balanced'\n",
    "    clf.fit(X_train, y_train)\n",
    "    \n",
    "    columns = df_new.columns.tolist()\n",
    "    #print(\"The number of all features : \", len(columns))\n",
    "    columns.remove(\"Attack\")    \n",
    "    \n",
    "    seriesFeature=pd.Series(clf.feature_importances_, index=columns)\n",
    "    #plt.figure(figsize=(16,16))\n",
    "    #seriesFeature.nlargest(77).plot(kind='barh')\n",
    "    #plt.show()\n",
    "    \n",
    "    unsorted_scores = list(zip(columns, clf.feature_importances_))\n",
    "    featureScoreDataFrame=pd.DataFrame(unsorted_scores, columns = ['Feature', 'Score']).sort_values(by = 'Score', ascending = False)\n",
    "    # print(\"****************************** , \", featureScoreDataFrame)\n",
    "    selectedFeature=featureScoreDataFrame.head(round(len(columns)*ratio))['Feature'].tolist() + ['Attack']\n",
    "    featureDataFrame=df_new.loc[:,selectedFeature]\n",
    "    \n",
    "    print(\"-------------- Start Training ----------------\")\n",
    "    df_fs = df_new[selectedFeature]\n",
    "    #print(\"---------------------- \", df_new.columns, df_new[\"Attack\"])\n",
    "    train, test = split_data(df_fs)\n",
    "    y_train = train['Attack']\n",
    "    X_train = train.drop('Attack', axis=1)\n",
    "    y_test = test['Attack']\n",
    "    X_test = test.drop('Attack', axis=1)\n",
    "    le = LabelEncoder()\n",
    "    y_train = le.fit_transform(y_train)\n",
    "    y_test = le.transform(y_test)\n",
    "    scaler = StandardScaler()\n",
    "    X_train = scaler.fit_transform(X_train)\n",
    "    X_test = scaler.transform(X_test)\n",
    "    \n",
    "    clf = ExtraTreesClassifier(n_estimators=100, random_state=42,n_jobs=-1)#, class_weight='balanced'\n",
    "    clf.fit(X_train, y_train)\n",
    "    pred = clf.predict(X_test)\n",
    "    report = classification_report(y_test, pred,  target_names=le.classes_, digits=4)\n",
    "    file.write(report)\n",
    "    save_predictions(y_test, pred, timeout, save_path=path)\n",
    "    f1 = f1_score(y_true=y_test, y_pred=pred, average='macro')\n",
    "    if f1 > best_f1: \n",
    "        best_timeout = timeout\n",
    "        best_f1 = f1\n",
    "        best_report= report\n",
    "        best_pred=pred\n",
    "        best_y=y_test\n",
    "        \n",
    "    if f1 <= worst_f1: \n",
    "        worst_timeout = timeout\n",
    "        worst_f1 = f1\n",
    "        worst_report= report\n",
    "        worst_pred=pred\n",
    "        worst_y=y_test\n",
    "        \n",
    "    file.write(\"==========================================================\\n\\n\")\n",
    "    file.flush()\n",
    "print(\"--------------- DONE ---------------------\")"
   ]
  },
  {
   "cell_type": "code",
   "execution_count": null,
   "metadata": {},
   "outputs": [],
   "source": []
  },
  {
   "cell_type": "code",
   "execution_count": 34,
   "metadata": {},
   "outputs": [
    {
     "name": "stdout",
     "output_type": "stream",
     "text": [
      "best timeouts:  (10, 60)\n",
      "best F1-macro:  0.9152972416994153\n",
      "best report:                precision    recall  f1-score   support\n",
      "\n",
      "      Benign     0.9999    1.0000    1.0000    103296\n",
      "      Cridex     0.9996    0.9975    0.9986     20081\n",
      "       Geodo     0.9887    0.9988    0.9937     14681\n",
      "       Htbot     0.9687    0.9633    0.9660      2342\n",
      "      Miuref     0.9951    0.9850    0.9900      4543\n",
      "       Neris     0.5931    0.8236    0.6896     12236\n",
      "     Nsis-ay     0.9893    0.8249    0.8997      2359\n",
      "       Shifu     0.9989    0.9818    0.9903      3674\n",
      "       Tinba     0.9981    0.9984    0.9982      3091\n",
      "       Virut     0.6928    0.4501    0.5457     12376\n",
      "        Zeus     0.9997    0.9935    0.9966      3819\n",
      "\n",
      "    accuracy                         0.9469    182498\n",
      "   macro avg     0.9294    0.9106    0.9153    182498\n",
      "weighted avg     0.9502    0.9469    0.9454    182498\n",
      "\n",
      "worst timeouts:  (0.5, 30)\n",
      "worst F1-macro:  0.9051314650893605\n",
      "worst report:                precision    recall  f1-score   support\n",
      "\n",
      "      Benign     0.9999    1.0000    1.0000    103296\n",
      "      Cridex     1.0000    0.9476    0.9731     21113\n",
      "       Geodo     0.8985    0.9990    0.9461     18986\n",
      "       Htbot     0.9733    0.9406    0.9567      3454\n",
      "      Miuref     0.9898    0.8635    0.9223      6548\n",
      "       Neris     0.6334    0.9205    0.7504     14652\n",
      "     Nsis-ay     0.9877    0.8326    0.9036      2808\n",
      "       Shifu     0.9871    0.9723    0.9796      3934\n",
      "       Tinba     0.9969    0.9972    0.9971      3583\n",
      "       Virut     0.7774    0.4029    0.5307     12847\n",
      "        Zeus     1.0000    0.9936    0.9968      4044\n",
      "\n",
      "    accuracy                         0.9402    195265\n",
      "   macro avg     0.9313    0.8973    0.9051    195265\n",
      "weighted avg     0.9466    0.9402    0.9369    195265\n",
      "\n"
     ]
    }
   ],
   "source": [
    "print(\"best timeouts: \", best_timeout)\n",
    "print(\"best F1-macro: \", best_f1)\n",
    "print(\"best report: \", best_report)\n",
    "\n",
    "print(\"worst timeouts: \", worst_timeout)\n",
    "print(\"worst F1-macro: \", worst_f1)\n",
    "print(\"worst report: \", worst_report)"
   ]
  },
  {
   "cell_type": "code",
   "execution_count": 35,
   "metadata": {},
   "outputs": [
    {
     "ename": "ValueError",
     "evalue": "I/O operation on closed file.",
     "output_type": "error",
     "traceback": [
      "\u001b[0;31m---------------------------------------------------------------------------\u001b[0m",
      "\u001b[0;31mValueError\u001b[0m                                Traceback (most recent call last)",
      "\u001b[0;32m<ipython-input-35-c33bce7671da>\u001b[0m in \u001b[0;36m<module>\u001b[0;34m\u001b[0m\n\u001b[0;32m----> 1\u001b[0;31m \u001b[0mfile\u001b[0m\u001b[0;34m.\u001b[0m\u001b[0mwrite\u001b[0m\u001b[0;34m(\u001b[0m\u001b[0;34m\"=========================BEST PERFORMANCE===================\\n\"\u001b[0m\u001b[0;34m)\u001b[0m\u001b[0;34m\u001b[0m\u001b[0;34m\u001b[0m\u001b[0m\n\u001b[0m\u001b[1;32m      2\u001b[0m \u001b[0mfile\u001b[0m\u001b[0;34m.\u001b[0m\u001b[0mwrite\u001b[0m\u001b[0;34m(\u001b[0m\u001b[0;34mf'best timeouts {best_timeout}\\n'\u001b[0m\u001b[0;34m)\u001b[0m\u001b[0;34m\u001b[0m\u001b[0;34m\u001b[0m\u001b[0m\n\u001b[1;32m      3\u001b[0m \u001b[0mfile\u001b[0m\u001b[0;34m.\u001b[0m\u001b[0mwrite\u001b[0m\u001b[0;34m(\u001b[0m\u001b[0;34mf'best F1-macro {best_f1}\\n'\u001b[0m\u001b[0;34m)\u001b[0m\u001b[0;34m\u001b[0m\u001b[0;34m\u001b[0m\u001b[0m\n\u001b[1;32m      4\u001b[0m \u001b[0mfile\u001b[0m\u001b[0;34m.\u001b[0m\u001b[0mwrite\u001b[0m\u001b[0;34m(\u001b[0m\u001b[0;34mf'best resport {best_report}\\n'\u001b[0m\u001b[0;34m)\u001b[0m\u001b[0;34m\u001b[0m\u001b[0;34m\u001b[0m\u001b[0m\n\u001b[1;32m      5\u001b[0m \u001b[0;34m\u001b[0m\u001b[0m\n",
      "\u001b[0;31mValueError\u001b[0m: I/O operation on closed file."
     ]
    }
   ],
   "source": [
    "file.write(\"=========================BEST PERFORMANCE===================\\n\")\n",
    "file.write(f'best timeouts {best_timeout}\\n')\n",
    "file.write(f'best F1-macro {best_f1}\\n')\n",
    "file.write(f'best resport {best_report}\\n')\n",
    "\n",
    "file.write(\"=========================WORST PERFORMANCE===================\\n\")\n",
    "file.write(f'worst timeouts {worst_timeout}\\n')\n",
    "file.write(f'worst F1-macro {worst_f1}\\n')\n",
    "file.write(f'xorst resport {worst_report}\\n')\n",
    "\n",
    "file.close()"
   ]
  },
  {
   "cell_type": "code",
   "execution_count": 36,
   "metadata": {},
   "outputs": [
    {
     "name": "stdout",
     "output_type": "stream",
     "text": [
      "\n",
      "Accuracy: 0.9469\n",
      "\n",
      "Micro Precision: 0.9469\n",
      "Micro Recall: 0.9469\n",
      "Micro F1-score: 0.9469\n",
      "\n",
      "Macro Precision: 0.9294\n",
      "Macro Recall: 0.9106\n",
      "Macro F1-score: 0.9153\n",
      "\n",
      "Weighted Precision: 0.9502\n",
      "Weighted Recall: 0.9469\n",
      "Weighted F1-score: 0.9454\n"
     ]
    }
   ],
   "source": [
    "y_pred =   best_pred  \n",
    "y_test =  best_y\n",
    "\n",
    "from sklearn.metrics import accuracy_score, precision_score, recall_score, f1_score, auc, roc_curve\n",
    "\n",
    "\n",
    "best_accuracy = accuracy_score(y_test, y_pred)\n",
    "best_precision = precision_score(y_test, y_pred, average='macro')\n",
    "best_recall = recall_score(y_test, y_pred, average='macro')\n",
    "\n",
    "print('\\nAccuracy: {:.4f}\\n'.format(best_accuracy))\n",
    "\n",
    "print('Micro Precision: {:.4f}'.format(precision_score(y_test, y_pred, average='micro')))\n",
    "print('Micro Recall: {:.4f}'.format(recall_score(y_test, y_pred, average='micro')))\n",
    "print('Micro F1-score: {:.4f}\\n'.format(f1_score(y_test, y_pred, average='micro')))\n",
    "\n",
    "print('Macro Precision: {:.4f}'.format(best_precision))\n",
    "print('Macro Recall: {:.4f}'.format(best_recall))\n",
    "print('Macro F1-score: {:.4f}\\n'.format(best_f1))\n",
    "\n",
    "print('Weighted Precision: {:.4f}'.format(precision_score(y_test, y_pred, average='weighted')))\n",
    "print('Weighted Recall: {:.4f}'.format(recall_score(y_test, y_pred, average='weighted')))\n",
    "print('Weighted F1-score: {:.4f}'.format(f1_score(y_test, y_pred, average='weighted')))"
   ]
  },
  {
   "cell_type": "code",
   "execution_count": 37,
   "metadata": {},
   "outputs": [
    {
     "name": "stdout",
     "output_type": "stream",
     "text": [
      "\n",
      "Accuracy: 0.9402\n",
      "\n",
      "Micro Precision: 0.9402\n",
      "Micro Recall: 0.9402\n",
      "Micro F1-score: 0.9402\n",
      "\n",
      "Macro Precision: 0.9313\n",
      "Macro Recall: 0.8973\n",
      "Macro F1-score: 0.9051\n",
      "\n",
      "Weighted Precision: 0.9466\n",
      "Weighted Recall: 0.9402\n",
      "Weighted F1-score: 0.9369\n"
     ]
    }
   ],
   "source": [
    "y_pred =  worst_pred\n",
    "y_test =  worst_y\n",
    "\n",
    "from sklearn.metrics import accuracy_score, precision_score, recall_score, f1_score, auc, roc_curve\n",
    "\n",
    "\n",
    "worst_accuracy = accuracy_score(y_test, y_pred)\n",
    "worst_precision = precision_score(y_test, y_pred, average='macro')\n",
    "worst_recall = recall_score(y_test, y_pred, average='macro')\n",
    "\n",
    "print('\\nAccuracy: {:.4f}\\n'.format(worst_accuracy))\n",
    "\n",
    "print('Micro Precision: {:.4f}'.format(precision_score(y_test, y_pred, average='micro')))\n",
    "print('Micro Recall: {:.4f}'.format(recall_score(y_test, y_pred, average='micro')))\n",
    "print('Micro F1-score: {:.4f}\\n'.format(f1_score(y_test, y_pred, average='micro')))\n",
    "\n",
    "print('Macro Precision: {:.4f}'.format(worst_precision))\n",
    "print('Macro Recall: {:.4f}'.format(worst_recall))\n",
    "print('Macro F1-score: {:.4f}\\n'.format(worst_f1))\n",
    "\n",
    "print('Weighted Precision: {:.4f}'.format(precision_score(y_test, y_pred, average='weighted')))\n",
    "print('Weighted Recall: {:.4f}'.format(recall_score(y_test, y_pred, average='weighted')))\n",
    "print('Weighted F1-score: {:.4f}'.format(f1_score(y_test, y_pred, average='weighted')))"
   ]
  },
  {
   "cell_type": "code",
   "execution_count": 38,
   "metadata": {},
   "outputs": [
    {
     "data": {
      "text/plain": [
       "<function TextIOWrapper.close()>"
      ]
     },
     "execution_count": 38,
     "metadata": {},
     "output_type": "execute_result"
    }
   ],
   "source": [
    "file_best_worst = open(os.path.join(path,'cupid_best&worst.txt'), \"w\")\n",
    "\n",
    "file_best_worst.write(f'best timeouts:  {best_timeout}\\n')\n",
    "file_best_worst.write(f'best F1-macro:  {best_f1}\\n')\n",
    "file_best_worst.write(f'best precision:  {best_precision}\\n')\n",
    "file_best_worst.write(f'best recall:  {best_recall}\\n')\n",
    "file_best_worst.write(f'best accuracy:  {best_accuracy}\\n')\n",
    "file_best_worst.write(f'best report:  {best_report}\\n')\n",
    "\n",
    "file_best_worst.write(f'worst timeouts:  {worst_timeout}\\n')\n",
    "file_best_worst.write(f'worst F1-macro:  {worst_f1}\\n')\n",
    "file_best_worst.write(f'worstt precision:  {worst_precision}\\n')\n",
    "file_best_worst.write(f'worst recall:  {worst_recall}\\n')\n",
    "file_best_worst.write(f'worst accuracy:  {worst_accuracy}\\n')\n",
    "file_best_worst.write(f'worst report:  {worst_report}\\n')\n",
    "file_best_worst.flush()\n",
    "file_best_worst.close"
   ]
  },
  {
   "cell_type": "code",
   "execution_count": null,
   "metadata": {},
   "outputs": [],
   "source": []
  },
  {
   "cell_type": "code",
   "execution_count": null,
   "metadata": {},
   "outputs": [],
   "source": []
  },
  {
   "cell_type": "code",
   "execution_count": null,
   "metadata": {},
   "outputs": [],
   "source": []
  },
  {
   "cell_type": "markdown",
   "metadata": {},
   "source": [
    "# Load predictions - Best and Worst case"
   ]
  },
  {
   "cell_type": "code",
   "execution_count": 12,
   "metadata": {},
   "outputs": [
    {
     "name": "stdout",
     "output_type": "stream",
     "text": [
      "Loading timeout :  (0.5, 2)\n",
      "Loading timeout :  (1, 2)\n",
      "Loading timeout :  (2, 2)\n",
      "Loading timeout :  (0.5, 3)\n",
      "Loading timeout :  (1, 3)\n",
      "Loading timeout :  (2, 3)\n",
      "Loading timeout :  (3, 3)\n",
      "Loading timeout :  (0.5, 4)\n",
      "Loading timeout :  (1, 4)\n",
      "Loading timeout :  (2, 4)\n",
      "Loading timeout :  (3, 4)\n",
      "Loading timeout :  (4, 4)\n",
      "Loading timeout :  (0.5, 5)\n",
      "Loading timeout :  (1, 5)\n",
      "Loading timeout :  (2, 5)\n",
      "Loading timeout :  (3, 5)\n",
      "Loading timeout :  (4, 5)\n",
      "Loading timeout :  (5, 5)\n",
      "Loading timeout :  (0.5, 30)\n",
      "Loading timeout :  (1, 30)\n",
      "Loading timeout :  (2, 30)\n",
      "Loading timeout :  (3, 30)\n",
      "Loading timeout :  (4, 30)\n",
      "Loading timeout :  (5, 30)\n",
      "Loading timeout :  (10, 30)\n",
      "Loading timeout :  (0.5, 60)\n",
      "Loading timeout :  (1, 60)\n",
      "Loading timeout :  (2, 60)\n",
      "Loading timeout :  (3, 60)\n",
      "Loading timeout :  (4, 60)\n",
      "Loading timeout :  (5, 60)\n",
      "Loading timeout :  (10, 60)\n",
      "------------------- DONE -------------------\n"
     ]
    }
   ],
   "source": [
    "best_f1 = 0\n",
    "best_report = None\n",
    "best_timeout = None\n",
    "best_pred = None\n",
    "best_y = None\n",
    "\n",
    "worst_f1 = 1\n",
    "worst_report = None\n",
    "worst_timeout = None\n",
    "worst_pred = None\n",
    "worst_y = None\n",
    "\n",
    "classes =  ['Benign', 'Bonesi', 'DVWA Pentesting', 'Dnsmap', 'Manual DVWA', 'Nmap']\n",
    "for timeout in timeouts:\n",
    "    print(\"Loading timeout : \", timeout)\n",
    "    idle, active = timeout\n",
    "    pred, y_test = load_predictions(timeout, save_path= \"../results/ET\")\n",
    "    report = classification_report(y_test, pred,  target_names=classes, digits=4)\n",
    "    f1 = f1_score(y_true=y_test, y_pred=pred, average='macro')\n",
    "    if f1 > best_f1: \n",
    "        best_timeout = timeout\n",
    "        best_f1 = f1\n",
    "        best_report= report\n",
    "        best_pred=pred\n",
    "        best_y=y_test\n",
    "        \n",
    "    if f1 <= worst_f1: \n",
    "        worst_timeout = timeout\n",
    "        worst_f1 = f1\n",
    "        worst_report= report\n",
    "        worst_pred=pred\n",
    "        worst_y=y_test\n",
    "    file.write(\"==========================================================\\n\\n\")\n",
    "    file.flush()\n",
    "print(\"------------------- DONE -------------------\")"
   ]
  },
  {
   "cell_type": "code",
   "execution_count": 13,
   "metadata": {},
   "outputs": [],
   "source": [
    "file.write(\"=========================BEST PERFORMANCE===================\\n\")\n",
    "file.write(f'best timeouts {best_timeout}\\n')\n",
    "file.write(f'best F1-macro {best_f1}\\n')\n",
    "file.write(f'best resport {best_report}\\n')\n",
    "\n",
    "file.write(\"=========================WORST PERFORMANCE===================\\n\")\n",
    "file.write(f'worst timeouts {worst_timeout}\\n')\n",
    "file.write(f'worst F1-macro {worst_f1}\\n')\n",
    "file.write(f'xorst resport {worst_report}\\n')\n",
    "\n",
    "file.close()"
   ]
  },
  {
   "cell_type": "code",
   "execution_count": 14,
   "metadata": {},
   "outputs": [
    {
     "name": "stdout",
     "output_type": "stream",
     "text": [
      "best timeouts:  (10, 30)\n",
      "best F1-macro:  0.9373828835933011\n",
      "best report:                   precision    recall  f1-score   support\n",
      "\n",
      "         Benign     0.9999    0.9557    0.9773    418305\n",
      "         Bonesi     1.0000    1.0000    1.0000     33214\n",
      "DVWA Pentesting     0.9906    0.9985    0.9946      9603\n",
      "         Dnsmap     1.0000    1.0000    1.0000        50\n",
      "    Manual DVWA     0.4866    0.9973    0.6541     17485\n",
      "           Nmap     0.9967    1.0000    0.9984     22743\n",
      "\n",
      "       accuracy                         0.9629    501400\n",
      "      macro avg     0.9123    0.9919    0.9374    501400\n",
      "   weighted avg     0.9817    0.9629    0.9688    501400\n",
      "\n",
      "worst timeouts:  (4, 30)\n",
      "worst F1-macro:  0.9253248841550418\n",
      "worst report:                   precision    recall  f1-score   support\n",
      "\n",
      "         Benign     0.9999    0.9512    0.9749    436059\n",
      "         Bonesi     1.0000    1.0000    1.0000     33215\n",
      "DVWA Pentesting     0.9952    1.0000    0.9976     19633\n",
      "         Dnsmap     1.0000    1.0000    1.0000        51\n",
      "    Manual DVWA     0.4100    0.9969    0.5811     14746\n",
      "           Nmap     0.9967    1.0000    0.9984     22742\n",
      "\n",
      "       accuracy                         0.9595    526446\n",
      "      macro avg     0.9003    0.9913    0.9253    526446\n",
      "   weighted avg     0.9831    0.9595    0.9673    526446\n",
      "\n"
     ]
    }
   ],
   "source": [
    "print(\"best timeouts: \", best_timeout)\n",
    "print(\"best F1-macro: \", best_f1)\n",
    "print(\"best report: \", best_report)\n",
    "\n",
    "print(\"worst timeouts: \", worst_timeout)\n",
    "print(\"worst F1-macro: \", worst_f1)\n",
    "print(\"worst report: \", worst_report)"
   ]
  },
  {
   "cell_type": "code",
   "execution_count": null,
   "metadata": {},
   "outputs": [],
   "source": []
  },
  {
   "cell_type": "code",
   "execution_count": 15,
   "metadata": {},
   "outputs": [
    {
     "name": "stdout",
     "output_type": "stream",
     "text": [
      "\n",
      "Accuracy: 0.9629\n",
      "\n",
      "Micro Precision: 0.9629\n",
      "Micro Recall: 0.9629\n",
      "Micro F1-score: 0.9629\n",
      "\n",
      "Macro Precision: 0.9919\n",
      "Macro Recall: 0.9123\n",
      "Macro F1-score: 0.9374\n",
      "\n",
      "Weighted Precision: 0.9644\n",
      "Weighted Recall: 0.9629\n",
      "Weighted F1-score: 0.9570\n"
     ]
    }
   ],
   "source": [
    "y_pred =  best_y    # Switched because they were switched when saved\n",
    "y_test =  best_pred\n",
    "\n",
    "from sklearn.metrics import accuracy_score, precision_score, recall_score, f1_score, auc, roc_curve\n",
    "\n",
    "\n",
    "best_accuracy = accuracy_score(y_test, y_pred)\n",
    "best_precision = precision_score(y_test, y_pred, average='macro')\n",
    "best_recall = recall_score(y_test, y_pred, average='macro')\n",
    "\n",
    "print('\\nAccuracy: {:.4f}\\n'.format(best_accuracy))\n",
    "\n",
    "print('Micro Precision: {:.4f}'.format(precision_score(y_test, y_pred, average='micro')))\n",
    "print('Micro Recall: {:.4f}'.format(recall_score(y_test, y_pred, average='micro')))\n",
    "print('Micro F1-score: {:.4f}\\n'.format(f1_score(y_test, y_pred, average='micro')))\n",
    "\n",
    "print('Macro Precision: {:.4f}'.format(best_precision))\n",
    "print('Macro Recall: {:.4f}'.format(best_recall))\n",
    "print('Macro F1-score: {:.4f}\\n'.format(best_f1))\n",
    "\n",
    "print('Weighted Precision: {:.4f}'.format(precision_score(y_test, y_pred, average='weighted')))\n",
    "print('Weighted Recall: {:.4f}'.format(recall_score(y_test, y_pred, average='weighted')))\n",
    "print('Weighted F1-score: {:.4f}'.format(f1_score(y_test, y_pred, average='weighted')))"
   ]
  },
  {
   "cell_type": "code",
   "execution_count": 16,
   "metadata": {},
   "outputs": [
    {
     "name": "stdout",
     "output_type": "stream",
     "text": [
      "\n",
      "Accuracy: 0.9595\n",
      "\n",
      "Micro Precision: 0.9595\n",
      "Micro Recall: 0.9595\n",
      "Micro F1-score: 0.9595\n",
      "\n",
      "Macro Precision: 0.9913\n",
      "Macro Recall: 0.9003\n",
      "Macro F1-score: 0.9253\n",
      "\n",
      "Weighted Precision: 0.9613\n",
      "Weighted Recall: 0.9595\n",
      "Weighted F1-score: 0.9516\n"
     ]
    }
   ],
   "source": [
    "y_pred = worst_y\n",
    "y_test =  worst_pred\n",
    "\n",
    "from sklearn.metrics import accuracy_score, precision_score, recall_score, f1_score, auc, roc_curve\n",
    "\n",
    "\n",
    "worst_accuracy = accuracy_score(y_test, y_pred)\n",
    "worst_precision = precision_score(y_test, y_pred, average='macro')\n",
    "worst_recall = recall_score(y_test, y_pred, average='macro')\n",
    "\n",
    "print('\\nAccuracy: {:.4f}\\n'.format(worst_accuracy))\n",
    "\n",
    "print('Micro Precision: {:.4f}'.format(precision_score(y_test, y_pred, average='micro')))\n",
    "print('Micro Recall: {:.4f}'.format(recall_score(y_test, y_pred, average='micro')))\n",
    "print('Micro F1-score: {:.4f}\\n'.format(f1_score(y_test, y_pred, average='micro')))\n",
    "\n",
    "print('Macro Precision: {:.4f}'.format(worst_precision))\n",
    "print('Macro Recall: {:.4f}'.format(worst_recall))\n",
    "print('Macro F1-score: {:.4f}\\n'.format(worst_f1))\n",
    "\n",
    "print('Weighted Precision: {:.4f}'.format(precision_score(y_test, y_pred, average='weighted')))\n",
    "print('Weighted Recall: {:.4f}'.format(recall_score(y_test, y_pred, average='weighted')))\n",
    "print('Weighted F1-score: {:.4f}'.format(f1_score(y_test, y_pred, average='weighted')))"
   ]
  },
  {
   "cell_type": "code",
   "execution_count": 17,
   "metadata": {},
   "outputs": [
    {
     "data": {
      "text/plain": [
       "<function TextIOWrapper.close()>"
      ]
     },
     "execution_count": 17,
     "metadata": {},
     "output_type": "execute_result"
    }
   ],
   "source": [
    "file_best_worst = open(os.path.join(path,'cupid_best&worst.txt'), \"w\")\n",
    "\n",
    "file_best_worst.write(f'best timeouts:  {best_timeout}\\n')\n",
    "file_best_worst.write(f'best F1-macro:  {best_f1}\\n')\n",
    "file_best_worst.write(f'best precision:  {best_precision}\\n')\n",
    "file_best_worst.write(f'best recall:  {best_recall}\\n')\n",
    "file_best_worst.write(f'best accuracy:  {best_accuracy}\\n')\n",
    "file_best_worst.write(f'best report:  {best_report}\\n')\n",
    "\n",
    "file_best_worst.write(f'worst timeouts:  {worst_timeout}\\n')\n",
    "file_best_worst.write(f'worst F1-macro:  {worst_f1}\\n')\n",
    "file_best_worst.write(f'worstt precision:  {worst_precision}\\n')\n",
    "file_best_worst.write(f'worst recall:  {worst_recall}\\n')\n",
    "file_best_worst.write(f'worst accuracy:  {worst_accuracy}\\n')\n",
    "file_best_worst.write(f'worst report:  {worst_report}\\n')\n",
    "file_best_worst.flush()\n",
    "file_best_worst.close"
   ]
  },
  {
   "cell_type": "code",
   "execution_count": null,
   "metadata": {},
   "outputs": [],
   "source": []
  }
 ],
 "metadata": {
  "kernelspec": {
   "display_name": "ids_data",
   "language": "python",
   "name": "ids_data"
  },
  "language_info": {
   "codemirror_mode": {
    "name": "ipython",
    "version": 3
   },
   "file_extension": ".py",
   "mimetype": "text/x-python",
   "name": "python",
   "nbconvert_exporter": "python",
   "pygments_lexer": "ipython3",
   "version": "3.8.5"
  }
 },
 "nbformat": 4,
 "nbformat_minor": 5
}
