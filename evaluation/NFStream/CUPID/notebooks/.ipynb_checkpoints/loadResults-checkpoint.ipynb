{
 "cells": [
  {
   "cell_type": "code",
   "execution_count": 2,
   "metadata": {},
   "outputs": [],
   "source": [
    "import json\n",
    "def load_score(path):\n",
    "    with open(path, 'r') as f:\n",
    "        loaded_results = json.load(f)\n",
    "    return loaded_results\n"
   ]
  },
  {
   "cell_type": "code",
   "execution_count": 3,
   "metadata": {},
   "outputs": [],
   "source": [
    "results_ET = load_score('../results/basicFeatures/ET_cupid_nfstream.json')"
   ]
  },
  {
   "cell_type": "code",
   "execution_count": 4,
   "metadata": {},
   "outputs": [],
   "source": [
    "results_RF = load_score('../results/basicFeatures/RF_cupid_nfstream.json')"
   ]
  },
  {
   "cell_type": "code",
   "execution_count": 5,
   "metadata": {},
   "outputs": [],
   "source": [
    "results_MLP = load_score('../results/basicFeatures/MLP_cupid_nfstream.json')"
   ]
  },
  {
   "cell_type": "code",
   "execution_count": 6,
   "metadata": {},
   "outputs": [
    {
     "name": "stdout",
     "output_type": "stream",
     "text": [
      "ET classifier: \n",
      " {'Best score': {'Best Timeout': [3, 3], 'Mean Scores (Best)': {'f1Mean': 0.9493421442336946, 'accMean': 0.9610040927819231, 'recMean': 0.9651925788321283, 'precMean': 0.9597920970625115}, 'Std Scores (Best)': {'f1Std': 0.043241569291982335, 'accStd': 0.036251266361256446, 'recStd': 0.04717512757348045, 'precStd': 0.04548065385215287}}, 'Worst score': {'Worst Timeout': [1, 2], 'Mean Scores (Worst)': {'f1Mean': 0.9196850939215391, 'accMean': 0.9620594324193366, 'recMean': 0.9592932876900745, 'precMean': 0.9304926230172356}, 'Std Scores (Worst)': {'f1Std': 0.06993108929314028, 'accStd': 0.03370234990997769, 'recStd': 0.04539495138568235, 'precStd': 0.09025108371167569}}, 'Difference': {'Accuracy': -0.10553396374134438, 'F1 Score': 2.9657050312155486, 'Precision': 2.9299474045275886, 'Recall': 0.5899291142053786}}\n",
      "\n",
      "RF classifier :\n",
      " {'Best score': {'Best Timeout': [1, 60], 'Mean Scores (Best)': {'f1Mean': 0.9591228130622642, 'accMean': 0.9708042140450018, 'recMean': 0.9668185159065044, 'precMean': 0.9737046024519209}, 'Std Scores (Best)': {'f1Std': 0.045845044017884716, 'accStd': 0.03741939387581613, 'recStd': 0.04844578330360875, 'precStd': 0.039456751982676695}}, 'Worst score': {'Worst Timeout': [4, 30], 'Mean Scores (Worst)': {'f1Mean': 0.9518024312757227, 'accMean': 0.9627476442410181, 'recMean': 0.9657553290361858, 'precMean': 0.9615523191312697}, 'Std Scores (Worst)': {'f1Std': 0.04503398475104804, 'accStd': 0.03914892255069631, 'recStd': 0.04718407361899637, 'precStd': 0.04658419345521379}}, 'Difference': {'Accuracy': 0.8056569803983726, 'F1 Score': 0.7320381786541486, 'Precision': 1.2152283320651214, 'Recall': 0.10631868703185887}}\n",
      "\n",
      "MLP classifier : \n",
      " {'Best score': {'Best Timeout': [4, 60], 'Mean Scores (Best)': {'f1Mean': 0.9510199154858345, 'accMean': 0.9714736114358681, 'recMean': 0.9654319347153985, 'precMean': 0.959465916361076}, 'Std Scores (Best)': {'f1Std': 0.054373703644797135, 'accStd': 0.03135356614789998, 'recStd': 0.04975793477542626, 'precStd': 0.0436046227662219}}, 'Worst score': {'Worst Timeout': [10, 60], 'Mean Scores (Worst)': {'f1Mean': 0.9199146297715866, 'accMean': 0.9696197416373735, 'recMean': 0.9231220468085601, 'precMean': 0.9557024883868032}, 'Std Scores (Worst)': {'f1Std': 0.06712192748318532, 'accStd': 0.03640463422007, 'recStd': 0.09315478030247387, 'precStd': 0.045597252910526985}}, 'Difference': {'Accuracy': 0.18538697984945562, 'F1 Score': 3.1105285714247977, 'Precision': 0.37634279742728705, 'Recall': 4.230988790683831}}\n"
     ]
    }
   ],
   "source": [
    "print(\"ET classifier: \\n\" , results_ET)\n",
    "print(\"\\nRF classifier :\\n\" , results_RF)\n",
    "print(\"\\nMLP classifier : \\n\" , results_MLP)"
   ]
  },
  {
   "cell_type": "code",
   "execution_count": null,
   "metadata": {},
   "outputs": [],
   "source": []
  }
 ],
 "metadata": {
  "kernelspec": {
   "display_name": "FedLab",
   "language": "python",
   "name": "fedlab"
  },
  "language_info": {
   "codemirror_mode": {
    "name": "ipython",
    "version": 3
   },
   "file_extension": ".py",
   "mimetype": "text/x-python",
   "name": "python",
   "nbconvert_exporter": "python",
   "pygments_lexer": "ipython3",
   "version": "3.8.5"
  }
 },
 "nbformat": 4,
 "nbformat_minor": 4
}
