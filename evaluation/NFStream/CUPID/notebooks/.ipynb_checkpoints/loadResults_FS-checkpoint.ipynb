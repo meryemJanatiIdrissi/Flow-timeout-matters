{
 "cells": [
  {
   "cell_type": "code",
   "execution_count": 2,
   "metadata": {},
   "outputs": [],
   "source": [
    "import json\n",
    "def load_score(path):\n",
    "    with open(path, 'r') as f:\n",
    "        loaded_results = json.load(f)\n",
    "    return loaded_results\n"
   ]
  },
  {
   "cell_type": "code",
   "execution_count": 3,
   "metadata": {},
   "outputs": [],
   "source": [
    "results_30 = load_score('../results/featureSelection/ET_cupid_nfstream_FS_30.json')"
   ]
  },
  {
   "cell_type": "code",
   "execution_count": 4,
   "metadata": {},
   "outputs": [],
   "source": [
    "results_50 = load_score('../results/featureSelection/ET_cupid_nfstream_FS_50.json')"
   ]
  },
  {
   "cell_type": "code",
   "execution_count": 5,
   "metadata": {},
   "outputs": [
    {
     "name": "stdout",
     "output_type": "stream",
     "text": [
      "Feature selection with 30%: \n",
      " {'Best score': {'Best Timeout': [2, 4], 'Mean Scores (Best)': {'f1Mean': 0.9629910785181928, 'accMean': 0.9733267098719958, 'recMean': 0.9700763939003625, 'precMean': 0.9736435093562132}, 'Std Scores (Best)': {'f1Std': 0.0409052982119663, 'accStd': 0.03212216311811167, 'recStd': 0.04342142476368913, 'precStd': 0.04101300158693354}}, 'Worst score': {'Worst Timeout': [1, 5], 'Mean Scores (Worst)': {'f1Mean': 0.9590217661783113, 'accMean': 0.9720433257606924, 'recMean': 0.9680286158930294, 'precMean': 0.970722213792697}, 'Std Scores (Worst)': {'f1Std': 0.04468105554075183, 'accStd': 0.03332046709269895, 'recStd': 0.046733211834572665, 'precStd': 0.04447428143691201}}, 'Difference': {'Accuracy': 0.1283384111303354, 'F1 Score': 0.39693123398815144, 'Precision': 0.29212955635162796, 'Recall': 0.20477780073331342}}\n",
      "\n",
      "Feature selection with 50% :\n",
      " {'Best score': {'Best Timeout': [1, 60], 'Mean Scores (Best)': {'f1Mean': 0.963759069967718, 'accMean': 0.9720938282115451, 'recMean': 0.9702982075132379, 'precMean': 0.9753818438433643}, 'Std Scores (Best)': {'f1Std': 0.04101597194892338, 'accStd': 0.03610622313587762, 'recStd': 0.042617513966777924, 'precStd': 0.039756869547469716}}, 'Worst score': {'Worst Timeout': [5, 60], 'Mean Scores (Worst)': {'f1Mean': 0.959373010636084, 'accMean': 0.9678252215230512, 'recMean': 0.968772188703586, 'precMean': 0.9683970682512459}, 'Std Scores (Worst)': {'f1Std': 0.04196268542995916, 'accStd': 0.0403114671561548, 'recStd': 0.04083078796820167, 'precStd': 0.04652713625051172}}, 'Difference': {'Accuracy': 0.42686066884939367, 'F1 Score': 0.438605933163394, 'Precision': 0.6984775592118408, 'Recall': 0.15260188096519745}}\n"
     ]
    }
   ],
   "source": [
    "print(\"Feature selection with 30%: \\n\" , results_30)\n",
    "print(\"\\nFeature selection with 50% :\\n\" , results_50)"
   ]
  },
  {
   "cell_type": "code",
   "execution_count": null,
   "metadata": {},
   "outputs": [],
   "source": []
  }
 ],
 "metadata": {
  "kernelspec": {
   "display_name": "FedLab",
   "language": "python",
   "name": "fedlab"
  },
  "language_info": {
   "codemirror_mode": {
    "name": "ipython",
    "version": 3
   },
   "file_extension": ".py",
   "mimetype": "text/x-python",
   "name": "python",
   "nbconvert_exporter": "python",
   "pygments_lexer": "ipython3",
   "version": "3.8.5"
  }
 },
 "nbformat": 4,
 "nbformat_minor": 4
}
