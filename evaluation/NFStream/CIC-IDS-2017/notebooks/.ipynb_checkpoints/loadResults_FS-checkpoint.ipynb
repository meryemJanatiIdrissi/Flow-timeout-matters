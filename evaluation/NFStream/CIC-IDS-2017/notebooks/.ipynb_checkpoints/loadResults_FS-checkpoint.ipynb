{
 "cells": [
  {
   "cell_type": "code",
   "execution_count": 1,
   "metadata": {},
   "outputs": [],
   "source": [
    "import json\n",
    "def load_score(path):\n",
    "    with open(path, 'r') as f:\n",
    "        loaded_results = json.load(f)\n",
    "    return loaded_results\n"
   ]
  },
  {
   "cell_type": "code",
   "execution_count": 3,
   "metadata": {},
   "outputs": [],
   "source": [
    "results_ET = load_score('../results/basicFeatures/ET_cic17_nfstream.json')"
   ]
  },
  {
   "cell_type": "code",
   "execution_count": 4,
   "metadata": {},
   "outputs": [],
   "source": [
    "results_RF = load_score('../results/basicFeatures/RF_cic17_nfstream.json')"
   ]
  },
  {
   "cell_type": "code",
   "execution_count": 5,
   "metadata": {},
   "outputs": [],
   "source": [
    "results_MLP = load_score('../results/basicFeatures/MLP_cic17_nfstream.json')"
   ]
  },
  {
   "cell_type": "code",
   "execution_count": 6,
   "metadata": {},
   "outputs": [
    {
     "name": "stdout",
     "output_type": "stream",
     "text": [
      "ET classifier: \n",
      " {'Best score': {'Best Timeout': [0.5, 60], 'Mean Scores (Best)': {'f1Mean': 0.9645209284680876, 'accMean': 0.9970093176005979, 'recMean': 0.9479870178947281, 'precMean': 0.9947771670766314}, 'Std Scores (Best)': {'f1Std': 0.026361521561711024, 'accStd': 0.0034605173648349836, 'recStd': 0.041364737031820184, 'precStd': 0.0064626677222433156}}, 'Worst score': {'Worst Timeout': [10, 60], 'Mean Scores (Worst)': {'f1Mean': 0.8928649279885977, 'accMean': 0.9963210279720066, 'recMean': 0.8814320901961787, 'precMean': 0.9221140612633052}, 'Std Scores (Worst)': {'f1Std': 0.04981985194836592, 'accStd': 0.004525558253029621, 'recStd': 0.04995055643567307, 'precStd': 0.04487745131098145}}, 'Difference': {'Accuracy': 0.06882896285912432, 'F1 Score': 7.165600047948983, 'Precision': 7.2663105813326245, 'Recall': 6.6554927698549315}}\n",
      "\n",
      "RF classifier :\n",
      " {'Best score': {'Best Timeout': [0.5, 60], 'Mean Scores (Best)': {'f1Mean': 0.9497698043854156, 'accMean': 0.9970006330574848, 'recMean': 0.9319451091939033, 'precMean': 0.9785406712568359}, 'Std Scores (Best)': {'f1Std': 0.03452428063077564, 'accStd': 0.003500835316158844, 'recStd': 0.044821237579942816, 'precStd': 0.024821787398207177}}, 'Worst score': {'Worst Timeout': [10, 60], 'Mean Scores (Worst)': {'f1Mean': 0.8627194642816208, 'accMean': 0.996323416138641, 'recMean': 0.8493329949269006, 'precMean': 0.8975990811801763}, 'Std Scores (Worst)': {'f1Std': 0.041988195262438875, 'accStd': 0.004580940593778612, 'recStd': 0.051107458726943895, 'precStd': 0.0345582439287154}}, 'Difference': {'Accuracy': 0.06772169188438149, 'F1 Score': 8.705034010379475, 'Precision': 8.094159007665958, 'Recall': 8.261211426700266}}\n",
      "\n",
      "MLP classifier : \n",
      " {'Best score': {'Best Timeout': [1, 60], 'Mean Scores (Best)': {'f1Mean': 0.9221602693111866, 'accMean': 0.9966464298762705, 'recMean': 0.9263019343850019, 'precMean': 0.9413984068496676}, 'Std Scores (Best)': {'f1Std': 0.04029887081426612, 'accStd': 0.003665983705961459, 'recStd': 0.05057887740848657, 'precStd': 0.029072918292367154}}, 'Worst score': {'Worst Timeout': [10, 60], 'Mean Scores (Worst)': {'f1Mean': 0.8438131029099178, 'accMean': 0.9961634088672031, 'recMean': 0.8557793636968679, 'precMean': 0.8523419682496746}, 'Std Scores (Worst)': {'f1Std': 0.023057307554993675, 'accStd': 0.0044973873459301286, 'recStd': 0.045929546011912986, 'precStd': 0.01255097369498296}}, 'Difference': {'Accuracy': 0.04830210090673859, 'F1 Score': 7.834716640126871, 'Precision': 8.905643859999302, 'Recall': 7.052257068813395}}\n"
     ]
    }
   ],
   "source": [
    "print(\"ET classifier: \\n\" , results_ET)\n",
    "print(\"\\nRF classifier :\\n\" , results_RF)\n",
    "print(\"\\nMLP classifier : \\n\" , results_MLP)"
   ]
  },
  {
   "cell_type": "code",
   "execution_count": null,
   "metadata": {},
   "outputs": [],
   "source": []
  }
 ],
 "metadata": {
  "kernelspec": {
   "display_name": "FedLab",
   "language": "python",
   "name": "fedlab"
  },
  "language_info": {
   "codemirror_mode": {
    "name": "ipython",
    "version": 3
   },
   "file_extension": ".py",
   "mimetype": "text/x-python",
   "name": "python",
   "nbconvert_exporter": "python",
   "pygments_lexer": "ipython3",
   "version": "3.8.5"
  }
 },
 "nbformat": 4,
 "nbformat_minor": 4
}
