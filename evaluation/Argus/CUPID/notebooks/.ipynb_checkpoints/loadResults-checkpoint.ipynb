{
 "cells": [
  {
   "cell_type": "code",
   "execution_count": 1,
   "metadata": {},
   "outputs": [],
   "source": [
    "import json\n",
    "def load_score(path):\n",
    "    with open(path, 'r') as f:\n",
    "        loaded_results = json.load(f)\n",
    "    return loaded_results\n"
   ]
  },
  {
   "cell_type": "code",
   "execution_count": 2,
   "metadata": {},
   "outputs": [],
   "source": [
    "results_ET = load_score('../results/ET_cic17_argus.json')"
   ]
  },
  {
   "cell_type": "code",
   "execution_count": 3,
   "metadata": {},
   "outputs": [],
   "source": [
    "results_RF = load_score('../results/RF_cic17_argus.json')"
   ]
  },
  {
   "cell_type": "code",
   "execution_count": 4,
   "metadata": {},
   "outputs": [],
   "source": [
    "results_MLP = load_score('../results/MLP_cic17_argus.json')"
   ]
  },
  {
   "cell_type": "code",
   "execution_count": 5,
   "metadata": {},
   "outputs": [
    {
     "name": "stdout",
     "output_type": "stream",
     "text": [
      "ET classifier: \n",
      " {'Best score': {'Best Timeout': 6, 'Accuracy': 0.9309340287199271, 'F1 Score': 0.7225617672991114, 'Precision': 0.7312847197697083, 'Recall': 0.7298495705756405}, 'Worst score': {'Worst Timeout': 5, 'Accuracy': 0.8075857942541047, 'F1 Score': 0.6905388064283138, 'Precision': 0.7266761702704979, 'Recall': 0.7214773642998407}, 'Difference': {'Accuracy': 0.12334823446582244, 'F1 Score': 3.202296087079759, 'Precision': 0.46085494992104126, 'Recall': 0.8372206275799821}}\n",
      "\n",
      "RF classifier :\n",
      " {'Best score': {'Best Timeout': 60, 'Accuracy': 0.9302939236743153, 'F1 Score': 0.7374421308423391, 'Precision': 0.7575933430675039, 'Recall': 0.7534504862763042}, 'Worst score': {'Worst Timeout': 2, 'Accuracy': 0.8011268126721214, 'F1 Score': 0.6948634354615117, 'Precision': 0.7316749289122335, 'Recall': 0.7254118760083714}, 'Difference': {'Accuracy': 12.916711100219391, 'F1 Score': 4.257869538082737, 'Precision': 2.591841415527041, 'Recall': 2.803861026793275}}\n",
      "\n",
      "MLP classifier : \n",
      " {'Best score': {'Best Timeout': 6, 'Accuracy': 0.9396982448994795, 'F1 Score': 0.7058858757605757, 'Precision': 0.7529652554141195, 'Recall': 0.7068976294594156}, 'Worst score': {'Worst Timeout': 5, 'Accuracy': 0.8632980506112204, 'F1 Score': 0.6492088099486735, 'Precision': 0.6976737003211599, 'Recall': 0.6938922911019576}, 'Difference': {'Accuracy': 7.640019428825906, 'F1 Score': 5.667706581190224, 'Precision': 5.529155509295958, 'Recall': 1.3005338357457985}}\n"
     ]
    }
   ],
   "source": [
    "print(\"ET classifier: \\n\" , results_ET)\n",
    "print(\"\\nRF classifier :\\n\" , results_RF)\n",
    "print(\"\\nMLP classifier : \\n\" , results_MLP)"
   ]
  },
  {
   "cell_type": "code",
   "execution_count": null,
   "metadata": {},
   "outputs": [],
   "source": []
  }
 ],
 "metadata": {
  "kernelspec": {
   "display_name": "FedLab",
   "language": "python",
   "name": "fedlab"
  },
  "language_info": {
   "codemirror_mode": {
    "name": "ipython",
    "version": 3
   },
   "file_extension": ".py",
   "mimetype": "text/x-python",
   "name": "python",
   "nbconvert_exporter": "python",
   "pygments_lexer": "ipython3",
   "version": "3.8.5"
  }
 },
 "nbformat": 4,
 "nbformat_minor": 4
}
