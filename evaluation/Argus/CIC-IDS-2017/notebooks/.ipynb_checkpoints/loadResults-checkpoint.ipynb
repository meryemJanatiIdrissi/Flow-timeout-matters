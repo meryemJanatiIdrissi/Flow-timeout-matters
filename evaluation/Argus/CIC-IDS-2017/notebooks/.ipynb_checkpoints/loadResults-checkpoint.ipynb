{
 "cells": [
  {
   "cell_type": "code",
   "execution_count": 1,
   "metadata": {},
   "outputs": [],
   "source": [
    "import json\n",
    "def load_score(path):\n",
    "    with open(path, 'r') as f:\n",
    "        loaded_results = json.load(f)\n",
    "    return loaded_results\n"
   ]
  },
  {
   "cell_type": "code",
   "execution_count": 2,
   "metadata": {},
   "outputs": [],
   "source": [
    "results_ET = load_score('../results/ET_cic17_argus.json')"
   ]
  },
  {
   "cell_type": "code",
   "execution_count": 3,
   "metadata": {},
   "outputs": [],
   "source": [
    "results_RF = load_score('../results/RF_cic17_argus.json')"
   ]
  },
  {
   "cell_type": "code",
   "execution_count": 4,
   "metadata": {},
   "outputs": [],
   "source": [
    "results_MLP = load_score('../results/MLP_cic17_argus.json')"
   ]
  },
  {
   "cell_type": "code",
   "execution_count": 5,
   "metadata": {},
   "outputs": [
    {
     "name": "stdout",
     "output_type": "stream",
     "text": [
      "ET classifier: \n",
      " {'Best score': {'Best Timeout': 6, 'Mean Scores (Best)': {'f1Mean': 0.7225617672991114, 'accMean': 0.9309340287199271, 'recMean': 0.7298495705756405, 'precMean': 0.7312847197697083}, 'Std Scores (Best)': {'f1Std': 0.03105917530715276, 'accStd': 0.01329712541636066, 'recStd': 0.028417678986760203, 'precStd': 0.035823375490539384}}, 'Worst score': {'Worst Timeout': 5, 'Mean Scores (Worst)': {'f1Mean': 0.6905388064283138, 'accMean': 0.8075857942541047, 'recMean': 0.7214773642998407, 'precMean': 0.7266761702704979}, 'Std Scores (Worst)': {'f1Std': 0.07697959244503493, 'accStd': 0.2530385828593639, 'recStd': 0.04324746877435058, 'precStd': 0.06595969630969066}}, 'Difference': {'Accuracy': 12.334823446582243, 'F1 Score': 3.202296087079759, 'Precision': 0.46085494992104126, 'Recall': 0.8372206275799821}}\n",
      "\n",
      "RF classifier :\n",
      " {'Best score': {'Best Timeout': 60, 'Mean Scores (Best)': {'f1Mean': 0.7374421308423391, 'accMean': 0.9302939236743153, 'recMean': 0.7534504862763042, 'precMean': 0.7575933430675039}, 'Std Scores (Best)': {'f1Std': 0.02608738144787576, 'accStd': 0.013567467037712456, 'recStd': 0.026344092405562427, 'precStd': 0.0394928840812096}}, 'Worst score': {'Worst Timeout': 2, 'Mean Scores (Worst)': {'f1Mean': 0.6948634354615117, 'accMean': 0.8011268126721214, 'recMean': 0.7254118760083714, 'precMean': 0.7316749289122335}, 'Std Scores (Worst)': {'f1Std': 0.08297667646452608, 'accStd': 0.26278286905341725, 'recStd': 0.050115068299183385, 'precStd': 0.07974239232168276}}, 'Difference': {'Accuracy': 12.916711100219391, 'F1 Score': 4.257869538082737, 'Precision': 2.591841415527041, 'Recall': 2.803861026793275}}\n",
      "\n",
      "MLP classifier : \n",
      " {'Best score': {'Best Timeout': 6, 'Mean Scores (Best)': {'f1Mean': 0.7058858757605757, 'accMean': 0.9396982448994795, 'recMean': 0.7068976294594156, 'precMean': 0.7529652554141195}, 'Std Scores (Best)': {'f1Std': 0.017176103209796314, 'accStd': 0.0025940373557517818, 'recStd': 0.02541991044042555, 'precStd': 0.01629369710967945}}, 'Worst score': {'Worst Timeout': 5, 'Mean Scores (Worst)': {'f1Mean': 0.6492088099486735, 'accMean': 0.8632980506112204, 'recMean': 0.6938922911019576, 'precMean': 0.6976737003211599}, 'Std Scores (Worst)': {'f1Std': 0.1176403418665107, 'accStd': 0.16082203372713053, 'recStd': 0.05655736636073002, 'precStd': 0.0868637402078548}}, 'Difference': {'Accuracy': 7.640019428825906, 'F1 Score': 5.667706581190224, 'Precision': 5.529155509295958, 'Recall': 1.3005338357457985}}\n"
     ]
    }
   ],
   "source": [
    "print(\"ET classifier: \\n\" , results_ET)\n",
    "print(\"\\nRF classifier :\\n\" , results_RF)\n",
    "print(\"\\nMLP classifier : \\n\" , results_MLP)"
   ]
  },
  {
   "cell_type": "code",
   "execution_count": null,
   "metadata": {},
   "outputs": [],
   "source": []
  },
  {
   "cell_type": "code",
   "execution_count": 6,
   "metadata": {},
   "outputs": [
    {
     "name": "stdout",
     "output_type": "stream",
     "text": [
      "f1_ET_best = [0.7225617672991114, 0.03105917530715276]\n",
      "acc_ET_best = [0.9309340287199271, 0.01329712541636066]\n",
      "rec_ET_best = [0.7298495705756405, 0.028417678986760203]\n",
      "prec_ET_best = [0.7312847197697083, 0.035823375490539384]\n",
      "f1_ET_worst = [0.6905388064283138, 0.07697959244503493]\n",
      "acc_ET_worst = [0.8075857942541047, 0.2530385828593639]\n",
      "rec_ET_worst = [0.7214773642998407, 0.04324746877435058]\n",
      "prec_ET_worst = [0.7266761702704979, 0.06595969630969066]\n",
      "d_f1 = 3.202296087079759\n",
      "d_acc = 12.334823446582243\n",
      "d_rec = 0.8372206275799821\n",
      "d_prec = 0.46085494992104126\n"
     ]
    }
   ],
   "source": [
    "et_classifier = results_ET\n",
    "\n",
    "# Best score variables\n",
    "f1_ET_best = [et_classifier[\"Best score\"][\"Mean Scores (Best)\"][\"f1Mean\"], \n",
    "              et_classifier[\"Best score\"][\"Std Scores (Best)\"][\"f1Std\"]]\n",
    "acc_ET_best = [et_classifier[\"Best score\"][\"Mean Scores (Best)\"][\"accMean\"], \n",
    "               et_classifier[\"Best score\"][\"Std Scores (Best)\"][\"accStd\"]]\n",
    "rec_ET_best = [et_classifier[\"Best score\"][\"Mean Scores (Best)\"][\"recMean\"], \n",
    "               et_classifier[\"Best score\"][\"Std Scores (Best)\"][\"recStd\"]]\n",
    "prec_ET_best = [et_classifier[\"Best score\"][\"Mean Scores (Best)\"][\"precMean\"], \n",
    "                et_classifier[\"Best score\"][\"Std Scores (Best)\"][\"precStd\"]]\n",
    "\n",
    "# Worst score variables\n",
    "f1_ET_worst = [et_classifier[\"Worst score\"][\"Mean Scores (Worst)\"][\"f1Mean\"], \n",
    "               et_classifier[\"Worst score\"][\"Std Scores (Worst)\"][\"f1Std\"]]\n",
    "acc_ET_worst = [et_classifier[\"Worst score\"][\"Mean Scores (Worst)\"][\"accMean\"], \n",
    "                et_classifier[\"Worst score\"][\"Std Scores (Worst)\"][\"accStd\"]]\n",
    "rec_ET_worst = [et_classifier[\"Worst score\"][\"Mean Scores (Worst)\"][\"recMean\"], \n",
    "                et_classifier[\"Worst score\"][\"Std Scores (Worst)\"][\"recStd\"]]\n",
    "prec_ET_worst = [et_classifier[\"Worst score\"][\"Mean Scores (Worst)\"][\"precMean\"], \n",
    "                 et_classifier[\"Worst score\"][\"Std Scores (Worst)\"][\"precStd\"]]\n",
    "\n",
    "# Difference variables\n",
    "d_ET_acc = et_classifier[\"Difference\"][\"Accuracy\"]\n",
    "d_ET_f1 = et_classifier[\"Difference\"][\"F1 Score\"]\n",
    "d_ET_rec = et_classifier[\"Difference\"][\"Recall\"]\n",
    "d_ET_prec = et_classifier[\"Difference\"][\"Precision\"]\n",
    "\n",
    "# Output the results\n",
    "print(\"f1_ET_best =\", f1_ET_best)\n",
    "print(\"acc_ET_best =\", acc_ET_best)\n",
    "print(\"rec_ET_best =\", rec_ET_best)\n",
    "print(\"prec_ET_best =\", prec_ET_best)\n",
    "\n",
    "print(\"f1_ET_worst =\", f1_ET_worst)\n",
    "print(\"acc_ET_worst =\", acc_ET_worst)\n",
    "print(\"rec_ET_worst =\", rec_ET_worst)\n",
    "print(\"prec_ET_worst =\", prec_ET_worst)\n",
    "\n",
    "print(\"d_f1 =\", d_ET_f1)\n",
    "print(\"d_acc =\", d_ET_acc)\n",
    "print(\"d_rec =\", d_ET_rec)\n",
    "print(\"d_prec =\", d_ET_prec)"
   ]
  },
  {
   "cell_type": "code",
   "execution_count": 7,
   "metadata": {},
   "outputs": [
    {
     "name": "stdout",
     "output_type": "stream",
     "text": [
      "f1_RF_best = [0.7374421308423391, 0.02608738144787576]\n",
      "acc_RF_best = [0.9302939236743153, 0.013567467037712456]\n",
      "rec_RF_best = [0.7534504862763042, 0.026344092405562427]\n",
      "prec_RF_best = [0.7575933430675039, 0.0394928840812096]\n",
      "f1_RF_worst = [0.6948634354615117, 0.08297667646452608]\n",
      "acc_RF_worst = [0.8011268126721214, 0.26278286905341725]\n",
      "rec_RF_worst = [0.7254118760083714, 0.050115068299183385]\n",
      "prec_RF_worst = [0.7316749289122335, 0.07974239232168276]\n",
      "d_f1 = 4.257869538082737\n",
      "d_acc = 12.916711100219391\n",
      "d_rec = 2.803861026793275\n",
      "d_prec = 2.591841415527041\n"
     ]
    }
   ],
   "source": [
    "RF_classifier = results_RF\n",
    "\n",
    "# Best score variables\n",
    "f1_RF_best = [RF_classifier[\"Best score\"][\"Mean Scores (Best)\"][\"f1Mean\"], \n",
    "              RF_classifier[\"Best score\"][\"Std Scores (Best)\"][\"f1Std\"]]\n",
    "acc_RF_best = [RF_classifier[\"Best score\"][\"Mean Scores (Best)\"][\"accMean\"], \n",
    "               RF_classifier[\"Best score\"][\"Std Scores (Best)\"][\"accStd\"]]\n",
    "rec_RF_best = [RF_classifier[\"Best score\"][\"Mean Scores (Best)\"][\"recMean\"], \n",
    "               RF_classifier[\"Best score\"][\"Std Scores (Best)\"][\"recStd\"]]\n",
    "prec_RF_best = [RF_classifier[\"Best score\"][\"Mean Scores (Best)\"][\"precMean\"], \n",
    "                RF_classifier[\"Best score\"][\"Std Scores (Best)\"][\"precStd\"]]\n",
    "\n",
    "# Worst score variables\n",
    "f1_RF_worst = [RF_classifier[\"Worst score\"][\"Mean Scores (Worst)\"][\"f1Mean\"], \n",
    "               RF_classifier[\"Worst score\"][\"Std Scores (Worst)\"][\"f1Std\"]]\n",
    "acc_RF_worst = [RF_classifier[\"Worst score\"][\"Mean Scores (Worst)\"][\"accMean\"], \n",
    "                RF_classifier[\"Worst score\"][\"Std Scores (Worst)\"][\"accStd\"]]\n",
    "rec_RF_worst = [RF_classifier[\"Worst score\"][\"Mean Scores (Worst)\"][\"recMean\"], \n",
    "                RF_classifier[\"Worst score\"][\"Std Scores (Worst)\"][\"recStd\"]]\n",
    "prec_RF_worst = [RF_classifier[\"Worst score\"][\"Mean Scores (Worst)\"][\"precMean\"], \n",
    "                 RF_classifier[\"Worst score\"][\"Std Scores (Worst)\"][\"precStd\"]]\n",
    "\n",
    "# Difference variables\n",
    "d_RF_acc = RF_classifier[\"Difference\"][\"Accuracy\"]\n",
    "d_RF_f1 = RF_classifier[\"Difference\"][\"F1 Score\"]\n",
    "d_RF_rec = RF_classifier[\"Difference\"][\"Recall\"]\n",
    "d_RF_prec = RF_classifier[\"Difference\"][\"Precision\"]\n",
    "\n",
    "# Output the results\n",
    "print(\"f1_RF_best =\", f1_RF_best)\n",
    "print(\"acc_RF_best =\", acc_RF_best)\n",
    "print(\"rec_RF_best =\", rec_RF_best)\n",
    "print(\"prec_RF_best =\", prec_RF_best)\n",
    "\n",
    "print(\"f1_RF_worst =\", f1_RF_worst)\n",
    "print(\"acc_RF_worst =\", acc_RF_worst)\n",
    "print(\"rec_RF_worst =\", rec_RF_worst)\n",
    "print(\"prec_RF_worst =\", prec_RF_worst)\n",
    "\n",
    "print(\"d_f1 =\", d_RF_f1)\n",
    "print(\"d_acc =\", d_RF_acc)\n",
    "print(\"d_rec =\", d_RF_rec)\n",
    "print(\"d_prec =\", d_RF_prec)"
   ]
  },
  {
   "cell_type": "code",
   "execution_count": 8,
   "metadata": {},
   "outputs": [
    {
     "name": "stdout",
     "output_type": "stream",
     "text": [
      "f1_MLP_best = [0.7058858757605757, 0.017176103209796314]\n",
      "acc_MLP_best = [0.9396982448994795, 0.0025940373557517818]\n",
      "rec_MLP_best = [0.7068976294594156, 0.02541991044042555]\n",
      "prec_MLP_best = [0.7529652554141195, 0.01629369710967945]\n",
      "f1_MLP_worst = [0.6492088099486735, 0.1176403418665107]\n",
      "acc_MLP_worst = [0.8632980506112204, 0.16082203372713053]\n",
      "rec_MLP_worst = [0.6938922911019576, 0.05655736636073002]\n",
      "prec_MLP_worst = [0.6976737003211599, 0.0868637402078548]\n",
      "d_f1 = 5.667706581190224\n",
      "d_acc = 7.640019428825906\n",
      "d_rec = 1.3005338357457985\n",
      "d_prec = 5.529155509295958\n"
     ]
    }
   ],
   "source": [
    "MLP_classifier = results_MLP\n",
    "\n",
    "# Best score variables\n",
    "f1_MLP_best = [MLP_classifier[\"Best score\"][\"Mean Scores (Best)\"][\"f1Mean\"], \n",
    "              MLP_classifier[\"Best score\"][\"Std Scores (Best)\"][\"f1Std\"]]\n",
    "acc_MLP_best = [MLP_classifier[\"Best score\"][\"Mean Scores (Best)\"][\"accMean\"], \n",
    "               MLP_classifier[\"Best score\"][\"Std Scores (Best)\"][\"accStd\"]]\n",
    "rec_MLP_best = [MLP_classifier[\"Best score\"][\"Mean Scores (Best)\"][\"recMean\"], \n",
    "               MLP_classifier[\"Best score\"][\"Std Scores (Best)\"][\"recStd\"]]\n",
    "prec_MLP_best = [MLP_classifier[\"Best score\"][\"Mean Scores (Best)\"][\"precMean\"], \n",
    "                MLP_classifier[\"Best score\"][\"Std Scores (Best)\"][\"precStd\"]]\n",
    "\n",
    "# Worst score variables\n",
    "f1_MLP_worst = [MLP_classifier[\"Worst score\"][\"Mean Scores (Worst)\"][\"f1Mean\"], \n",
    "               MLP_classifier[\"Worst score\"][\"Std Scores (Worst)\"][\"f1Std\"]]\n",
    "acc_MLP_worst = [MLP_classifier[\"Worst score\"][\"Mean Scores (Worst)\"][\"accMean\"], \n",
    "                MLP_classifier[\"Worst score\"][\"Std Scores (Worst)\"][\"accStd\"]]\n",
    "rec_MLP_worst = [MLP_classifier[\"Worst score\"][\"Mean Scores (Worst)\"][\"recMean\"], \n",
    "                MLP_classifier[\"Worst score\"][\"Std Scores (Worst)\"][\"recStd\"]]\n",
    "prec_MLP_worst = [MLP_classifier[\"Worst score\"][\"Mean Scores (Worst)\"][\"precMean\"], \n",
    "                 MLP_classifier[\"Worst score\"][\"Std Scores (Worst)\"][\"precStd\"]]\n",
    "\n",
    "# Difference variables\n",
    "d_MLP_acc = MLP_classifier[\"Difference\"][\"Accuracy\"]\n",
    "d_MLP_f1 = MLP_classifier[\"Difference\"][\"F1 Score\"]\n",
    "d_MLP_rec = MLP_classifier[\"Difference\"][\"Recall\"]\n",
    "d_MLP_prec = MLP_classifier[\"Difference\"][\"Precision\"]\n",
    "\n",
    "# Output the results\n",
    "print(\"f1_MLP_best =\", f1_MLP_best)\n",
    "print(\"acc_MLP_best =\", acc_MLP_best)\n",
    "print(\"rec_MLP_best =\", rec_MLP_best)\n",
    "print(\"prec_MLP_best =\", prec_MLP_best)\n",
    "\n",
    "print(\"f1_MLP_worst =\", f1_MLP_worst)\n",
    "print(\"acc_MLP_worst =\", acc_MLP_worst)\n",
    "print(\"rec_MLP_worst =\", rec_MLP_worst)\n",
    "print(\"prec_MLP_worst =\", prec_MLP_worst)\n",
    "\n",
    "print(\"d_f1 =\", d_MLP_f1)\n",
    "print(\"d_acc =\", d_MLP_acc)\n",
    "print(\"d_rec =\", d_MLP_rec)\n",
    "print(\"d_prec =\", d_MLP_prec)"
   ]
  },
  {
   "cell_type": "code",
   "execution_count": 9,
   "metadata": {},
   "outputs": [
    {
     "name": "stdout",
     "output_type": "stream",
     "text": [
      "\n",
      "Macro F1-score     & 72.26 $\\pm$ 0.03   & 73.74 $\\pm$ 0.03  & 70.59 $\\pm$ 0.02 & & 69.05 $\\pm$ 0.08 & 69.49 $\\pm$ 0.08 & 64.92 $\\pm$ 0.12 & & 3.2 & 4.26 & 5.67 \\\n",
      "& Macro Recall       & 72.98 $\\pm$ 0.03  & 75.35 $\\pm$ 0.03 & 70.69 $\\pm$ 0.03 & & 72.15 $\\pm$ 0.04 & 72.54 $\\pm$ 0.05 & 69.39 $\\pm$ 0.06 & & 0.84 & 2.8 & 1.3 \\\n",
      "& Macro Precision    & 73.13 $\\pm$ 0.04   & 75.76 $\\pm$ 0.04 & 75.3 $\\pm$ 0.02 & & 72.67 $\\pm$ 0.07 & 73.17 $\\pm$ 0.08 & 69.77 $\\pm$ 0.09 & & 0.46 & 2.59 & 5.53 \\\n",
      "& Accuracy           & 93.09 $\\pm$ 0.01 & 93.03 $\\pm$ 0.01 & 93.97 $\\pm$ 0.0 & & 80.76 $\\pm$ 0.25 & 80.11 $\\pm$ 0.26 & 86.33 $\\pm$ 0.16 & & 12.33 & 12.92 & 7.64 \\\n",
      "\n"
     ]
    }
   ],
   "source": [
    "latex_table = f\"\"\"\n",
    "Macro F1-score     & {round(f1_ET_best[0]*100, 2)} $\\pm$ {round(f1_ET_best[1], 2)}   & {round(f1_RF_best[0]*100, 2)} $\\pm$ {round(f1_RF_best[1], 2)}  & {round(f1_MLP_best[0]*100, 2)} $\\pm$ {round(f1_MLP_best[1], 2)} & & {round(f1_ET_worst[0]*100, 2)} $\\pm$ {round(f1_ET_worst[1], 2)} & {round(f1_RF_worst[0]*100, 2)} $\\pm$ {round(f1_RF_worst[1], 2)} & {round(f1_MLP_worst[0]*100, 2)} $\\pm$ {round(f1_MLP_worst[1], 2)} & & {round(d_ET_f1, 2)} & {round(d_RF_f1, 2)} & {round(d_MLP_f1, 2)} \\\\\n",
    "& Macro Recall       & {round(rec_ET_best[0]*100, 2)} $\\pm$ {round(rec_ET_best[1], 2)}  & {round(rec_RF_best[0]*100, 2)} $\\pm$ {round(rec_RF_best[1], 2)} & {round(rec_MLP_best[0]*100, 2)} $\\pm$ {round(rec_MLP_best[1], 2)} & & {round(rec_ET_worst[0]*100, 2)} $\\pm$ {round(rec_ET_worst[1], 2)} & {round(rec_RF_worst[0]*100, 2)} $\\pm$ {round(rec_RF_worst[1], 2)} & {round(rec_MLP_worst[0]*100, 2)} $\\pm$ {round(rec_MLP_worst[1], 2)} & & {round(d_ET_rec, 2)} & {round(d_RF_rec, 2)} & {round(d_MLP_rec, 2)} \\\\\n",
    "& Macro Precision    & {round(prec_ET_best[0]*100, 2)} $\\pm$ {round(prec_ET_best[1], 2)}   & {round(prec_RF_best[0]*100, 2)} $\\pm$ {round(prec_RF_best[1], 2)} & {round(prec_MLP_best[0]*100, 2)} $\\pm$ {round(prec_MLP_best[1], 2)} & & {round(prec_ET_worst[0]*100, 2)} $\\pm$ {round(prec_ET_worst[1], 2)} & {round(prec_RF_worst[0]*100, 2)} $\\pm$ {round(prec_RF_worst[1], 2)} & {round(prec_MLP_worst[0]*100, 2)} $\\pm$ {round(prec_MLP_worst[1], 2)} & & {round(d_ET_prec, 2)} & {round(d_RF_prec, 2)} & {round(d_MLP_prec, 2)} \\\\\n",
    "& Accuracy           & {round(acc_ET_best[0]*100, 2)} $\\pm$ {round(acc_ET_best[1], 2)} & {round(acc_RF_best[0]*100, 2)} $\\pm$ {round(acc_RF_best[1], 2)} & {round(acc_MLP_best[0]*100, 2)} $\\pm$ {round(acc_MLP_best[1], 2)} & & {round(acc_ET_worst[0]*100, 2)} $\\pm$ {round(acc_ET_worst[1], 2)} & {round(acc_RF_worst[0]*100, 2)} $\\pm$ {round(acc_RF_worst[1], 2)} & {round(acc_MLP_worst[0]*100, 2)} $\\pm$ {round(acc_MLP_worst[1], 2)} & & {round(d_ET_acc, 2)} & {round(d_RF_acc, 2)} & {round(d_MLP_acc, 2)} \\\\\n",
    "\"\"\"\n",
    "\n",
    "# Output the LaTeX table\n",
    "print(latex_table)"
   ]
  },
  {
   "cell_type": "code",
   "execution_count": null,
   "metadata": {},
   "outputs": [],
   "source": []
  }
 ],
 "metadata": {
  "kernelspec": {
   "display_name": "FedLab",
   "language": "python",
   "name": "fedlab"
  },
  "language_info": {
   "codemirror_mode": {
    "name": "ipython",
    "version": 3
   },
   "file_extension": ".py",
   "mimetype": "text/x-python",
   "name": "python",
   "nbconvert_exporter": "python",
   "pygments_lexer": "ipython3",
   "version": "3.8.5"
  }
 },
 "nbformat": 4,
 "nbformat_minor": 4
}
