{
 "cells": [
  {
   "cell_type": "code",
   "execution_count": 1,
   "metadata": {},
   "outputs": [],
   "source": [
    "import pandas as pd \n",
    "import numpy as np\n",
    "import matplotlib.pyplot as plt\n",
    "import seaborn as sns\n",
    "import glob\n",
    "from sklearn.model_selection import train_test_split\n",
    "from sklearn.model_selection import StratifiedKFold\n",
    "from sklearn.metrics import classification_report, f1_score, accuracy_score\n",
    "from sklearn.metrics import accuracy_score, precision_score, recall_score, f1_score, auc, roc_curve\n",
    "from sklearn.preprocessing import LabelEncoder, StandardScaler, MinMaxScaler\n",
    "from sklearn.ensemble import RandomForestClassifier, ExtraTreesClassifier, AdaBoostClassifier\n",
    "from sklearn.neural_network import MLPClassifier\n",
    "from sklearn.tree import DecisionTreeClassifier\n",
    "import matplotlib.pyplot as plt\n",
    "import seaborn as sns\n",
    "from statsmodels.stats.outliers_influence import variance_inflation_factor  \n",
    "import warnings\n",
    "import pickle\n",
    "import os\n",
    "import json\n",
    "\n",
    "warnings.filterwarnings(\"ignore\")\n",
    "pd.set_option('display.max_columns', 200)\n",
    "pd.set_option('display.max_rows', 200)"
   ]
  },
  {
   "cell_type": "code",
   "execution_count": 2,
   "metadata": {},
   "outputs": [],
   "source": [
    "out_dir = f'/home/meryem.janati/lustre/nlp_team-um6p-st-sccs-id7fz1zvotk/IDS/janati/IDS/Datasets/cicids17/Argus/default/CIC-IDS-2017_argus_default.csv'\n",
    "df = pd.read_csv(out_dir)"
   ]
  },
  {
   "cell_type": "code",
   "execution_count": 7,
   "metadata": {},
   "outputs": [
    {
     "data": {
      "text/plain": [
       "Index(['SrcId', 'Rank', 'StartTime', 'LastTime', 'Trans', 'Flgs', 'Seq', 'Dur',\n",
       "       'RunTime', 'IdleTime',\n",
       "       ...\n",
       "       'dVpri', 'SRange', 'ERange', 'SrcTCPBase', 'DstTCPBase', 'TcpRtt',\n",
       "       'SynAck', 'AckDat', 'TcpOpt', 'Attack'],\n",
       "      dtype='object', length=109)"
      ]
     },
     "execution_count": 7,
     "metadata": {},
     "output_type": "execute_result"
    }
   ],
   "source": [
    "df.columns"
   ]
  },
  {
   "cell_type": "code",
   "execution_count": null,
   "metadata": {},
   "outputs": [],
   "source": []
  },
  {
   "cell_type": "code",
   "execution_count": null,
   "metadata": {},
   "outputs": [],
   "source": []
  },
  {
   "cell_type": "code",
   "execution_count": 2,
   "metadata": {},
   "outputs": [],
   "source": [
    "def save_scores(timeout, meanScores, stdScore):\n",
    "    results = {\n",
    "        'Timeout': timeout,\n",
    "        'Mean of all scores': meanScores,\n",
    "        'Std of all Scores': stdScores\n",
    "\n",
    "    }\n",
    "\n",
    "    with open(f'../Checkpoints/MLP/MLP_cic17_argus_{timeout}.json', 'w') as f:\n",
    "        json.dump(results, f, indent=4)"
   ]
  },
  {
   "cell_type": "code",
   "execution_count": 3,
   "metadata": {},
   "outputs": [
    {
     "data": {
      "text/plain": [
       "28"
      ]
     },
     "execution_count": 3,
     "metadata": {},
     "output_type": "execute_result"
    }
   ],
   "source": [
    "# Features from paper 1 and paper 2\n",
    "cols = [\"Dur\", \"RunTime\", \"IdleTime\", \"Mean\", \"StdDev\", \"Sum\", \"Min\", \"Max\", \"Proto\", \"Cause\", \"TotPkts\", \"SrcPkts\", \"DstPkts\", \"TotBytes\", \"SrcBytes\",\n",
    "         \"DstBytes\", \"Load\", \"SrcLoad\", \"DstLoad\", \"Rate\", \"SrcRate\", \"DstRate\", \"Attack\",\n",
    "        \"SAppBytes\", \"DAppBytes\", \"SynAck\", \"AckDat\", \"TcpRtt\"\n",
    "        ]\n",
    "\n",
    "len(cols)"
   ]
  },
  {
   "cell_type": "code",
   "execution_count": 4,
   "metadata": {},
   "outputs": [],
   "source": [
    "timeouts = ['default', 0.5, 1, 2, 3, 4, 5, 6, 10, 30, 60]"
   ]
  },
  {
   "cell_type": "markdown",
   "metadata": {},
   "source": [
    "### Training"
   ]
  },
  {
   "cell_type": "code",
   "execution_count": 5,
   "metadata": {},
   "outputs": [
    {
     "name": "stdout",
     "output_type": "stream",
     "text": [
      "Processing timeout :  default\n",
      "Fold:  0 done!\n",
      "Fold:  1 done!\n",
      "Fold:  2 done!\n",
      "Fold:  3 done!\n",
      "Fold:  4 done!\n",
      "Mean of all scores:  {'f1Mean': 0.6891242179756331, 'accMean': 0.9417454452755856, 'recMean': 0.6932933601823696, 'precMean': 0.7456622329314995}\n",
      "Std of all scores:  {'f1Std': 0.026529470167881607, 'accStd': 0.005332333906523438, 'recStd': 0.03224483497342813, 'precStd': 0.008448639528230556}\n",
      "_______________________________________________\n",
      "Processing timeout :  0.5\n",
      "Fold:  0 done!\n",
      "Fold:  1 done!\n",
      "Fold:  2 done!\n",
      "Fold:  3 done!\n",
      "Fold:  4 done!\n",
      "Mean of all scores:  {'f1Mean': 0.6767232809467544, 'accMean': 0.9051536340097094, 'recMean': 0.7015667693979732, 'precMean': 0.7492361396108095}\n",
      "Std of all scores:  {'f1Std': 0.0527324891320327, 'accStd': 0.07705991477260635, 'recStd': 0.02357261298697192, 'precStd': 0.06321749207359992}\n",
      "_______________________________________________\n",
      "Processing timeout :  1\n",
      "Fold:  0 done!\n",
      "Fold:  1 done!\n",
      "Fold:  2 done!\n",
      "Fold:  3 done!\n",
      "Fold:  4 done!\n",
      "Mean of all scores:  {'f1Mean': 0.6864747015141759, 'accMean': 0.9384338873937471, 'recMean': 0.6943054877283292, 'precMean': 0.7231085000092445}\n",
      "Std of all scores:  {'f1Std': 0.02694108060109457, 'accStd': 0.0031071041062293698, 'recStd': 0.02465865094676195, 'precStd': 0.029626897477333474}\n",
      "_______________________________________________\n",
      "Processing timeout :  2\n",
      "Fold:  0 done!\n",
      "Fold:  1 done!\n",
      "Fold:  2 done!\n",
      "Fold:  3 done!\n",
      "Fold:  4 done!\n",
      "Mean of all scores:  {'f1Mean': 0.6593648107978377, 'accMean': 0.858864465435572, 'recMean': 0.7138430664128194, 'precMean': 0.6957234986870381}\n",
      "Std of all scores:  {'f1Std': 0.10635541608801155, 'accStd': 0.16362974672182726, 'recStd': 0.0446560434315717, 'precStd': 0.11584926089514078}\n",
      "_______________________________________________\n",
      "Processing timeout :  3\n",
      "Fold:  0 done!\n",
      "Fold:  1 done!\n",
      "Fold:  2 done!\n",
      "Fold:  3 done!\n",
      "Fold:  4 done!\n",
      "Mean of all scores:  {'f1Mean': 0.6887995541476265, 'accMean': 0.8421563188244987, 'recMean': 0.7044527590259635, 'precMean': 0.7246494017639744}\n",
      "Std of all scores:  {'f1Std': 0.0515002670879938, 'accStd': 0.20174567684909447, 'recStd': 0.032779324567913784, 'precStd': 0.06530206453250427}\n",
      "_______________________________________________\n",
      "Processing timeout :  4\n",
      "Fold:  0 done!\n",
      "Fold:  1 done!\n",
      "Fold:  2 done!\n",
      "Fold:  3 done!\n",
      "Fold:  4 done!\n",
      "Mean of all scores:  {'f1Mean': 0.6685435267358217, 'accMean': 0.907247738649464, 'recMean': 0.7026310301208425, 'precMean': 0.7426818369825602}\n",
      "Std of all scores:  {'f1Std': 0.05503901781680548, 'accStd': 0.07009952470196064, 'recStd': 0.02414169658367857, 'precStd': 0.06207040213388816}\n",
      "_______________________________________________\n",
      "Processing timeout :  5\n",
      "Fold:  0 done!\n",
      "Fold:  1 done!\n",
      "Fold:  2 done!\n",
      "Fold:  3 done!\n",
      "Fold:  4 done!\n",
      "Mean of all scores:  {'f1Mean': 0.6492088099486735, 'accMean': 0.8632980506112204, 'recMean': 0.6938922911019576, 'precMean': 0.6976737003211599}\n",
      "Std of all scores:  {'f1Std': 0.1176403418665107, 'accStd': 0.16082203372713053, 'recStd': 0.05655736636073002, 'precStd': 0.0868637402078548}\n",
      "_______________________________________________\n",
      "Processing timeout :  6\n",
      "Fold:  0 done!\n",
      "Fold:  1 done!\n",
      "Fold:  2 done!\n",
      "Fold:  3 done!\n",
      "Fold:  4 done!\n",
      "Mean of all scores:  {'f1Mean': 0.7058858757605757, 'accMean': 0.9396982448994795, 'recMean': 0.7068976294594156, 'precMean': 0.7529652554141195}\n",
      "Std of all scores:  {'f1Std': 0.017176103209796314, 'accStd': 0.0025940373557517818, 'recStd': 0.02541991044042555, 'precStd': 0.01629369710967945}\n",
      "_______________________________________________\n",
      "Processing timeout :  10\n",
      "Fold:  0 done!\n",
      "Fold:  1 done!\n",
      "Fold:  2 done!\n",
      "Fold:  3 done!\n",
      "Fold:  4 done!\n",
      "Mean of all scores:  {'f1Mean': 0.6603699609036455, 'accMean': 0.8886506348909389, 'recMean': 0.698790394685585, 'precMean': 0.7482234004672909}\n",
      "Std of all scores:  {'f1Std': 0.08124465315364815, 'accStd': 0.09911074393704587, 'recStd': 0.041174965865114196, 'precStd': 0.10968004347810226}\n",
      "_______________________________________________\n",
      "Processing timeout :  30\n",
      "Fold:  0 done!\n",
      "Fold:  1 done!\n",
      "Fold:  2 done!\n",
      "Fold:  3 done!\n",
      "Fold:  4 done!\n",
      "Mean of all scores:  {'f1Mean': 0.6853795091576207, 'accMean': 0.9006741335417153, 'recMean': 0.7138512169105479, 'precMean': 0.7485343013347903}\n",
      "Std of all scores:  {'f1Std': 0.049265291322576475, 'accStd': 0.08766856318860404, 'recStd': 0.02059634071524482, 'precStd': 0.05699247836121468}\n",
      "_______________________________________________\n",
      "Processing timeout :  60\n",
      "Fold:  0 done!\n",
      "Fold:  1 done!\n",
      "Fold:  2 done!\n",
      "Fold:  3 done!\n",
      "Fold:  4 done!\n",
      "Mean of all scores:  {'f1Mean': 0.6919640170299857, 'accMean': 0.9423327569596861, 'recMean': 0.7084683798247488, 'precMean': 0.7293923497768505}\n",
      "Std of all scores:  {'f1Std': 0.024023475787541246, 'accStd': 0.005971320023387651, 'recStd': 0.030772749920159742, 'precStd': 0.02831262442567582}\n",
      "_______________________________________________\n"
     ]
    }
   ],
   "source": [
    "best_f1 = 0\n",
    "worst_f1 = 1\n",
    "best_mean, worst_mean, best_std, worst_std = None, None, None, None\n",
    "\n",
    "save=True\n",
    "\n",
    "for timeout in timeouts:\n",
    "    print(\"Processing timeout : \", timeout)\n",
    "    \n",
    "    if timeout =='default':\n",
    "        out_dir = f'/home/meryem.janati/lustre/nlp_team-um6p-st-sccs-id7fz1zvotk/IDS/janati/IDS/Datasets/cicids17/Argus/{timeout}/CIC-IDS-2017_argus_{timeout}.csv'\n",
    "    else:\n",
    "        out_dir = f'/home/meryem.janati/lustre/nlp_team-um6p-st-sccs-id7fz1zvotk/IDS/janati/IDS/Datasets/cicids17/Argus/timeout{timeout}/CIC-IDS-2017_argus_{timeout}.csv'\n",
    "\n",
    "    df = pd.read_csv(out_dir)\n",
    "    df = df[cols]\n",
    "    \n",
    "    #df = df.drop(columns=['SrcId', 'SrcAddr', 'DstAddr', 'Sport', 'Dport', 'StartTime', 'LastTime', 'Dir', 'State', 'sIpId', 'sDSb', 'AutoId'])\n",
    "    df = df.dropna() \n",
    "    # Convert categorical variables to numerical using Label Encoding\n",
    "    label_encoders = {}\n",
    "    for column in ['Proto', 'Cause', 'Flgs' ]:\n",
    "        if column in df.columns:\n",
    "            le = LabelEncoder()\n",
    "            df[column] = le.fit_transform(df[column])\n",
    "            label_encoders[column] = le\n",
    "\n",
    "    # Split df into features and labels\n",
    "    X = df.drop(columns=['Attack'])  # Assuming 'label' is the target variable\n",
    "    y = df['Attack']\n",
    "    \n",
    "    \n",
    "    accuracy, f1, precision, recall =[], [], [], []\n",
    "    skf= StratifiedKFold(n_splits=5,random_state=None)\n",
    "    skf.get_n_splits(X,y)\n",
    "    \n",
    "    for (train_index, test_index), i in zip(skf.split(X, y), range(5)):\n",
    "        X_train,X_test=X.iloc[train_index],X.iloc[test_index]\n",
    "        y_train,y_test=y.iloc[train_index],y.iloc[test_index]\n",
    "\n",
    "\n",
    "        le = LabelEncoder()\n",
    "        y_train = le.fit_transform(y_train)\n",
    "        \n",
    "        \n",
    "        # Map unseen values to '<unknown>'\n",
    "        y_test = y_test.map(lambda s: '<unknown>' if s not in le.classes_ else s)\n",
    "\n",
    "        # Add '<unknown>' to classes and transform\n",
    "        le.classes_ = np.append(le.classes_, '<unknown>')\n",
    "        y_test = le.transform(y_test)\n",
    "        \n",
    "        \n",
    "        \n",
    "        scaler = StandardScaler()\n",
    "        X_train = scaler.fit_transform(X_train)\n",
    "        X_test = scaler.transform(X_test)\n",
    "\n",
    "        # Initialize and train Extra Trees Classifier\n",
    "        clf = MLPClassifier(random_state=123, solver='adam', max_iter=8000)\n",
    "        clf.fit(X_train, y_train)\n",
    "        pred = clf.predict(X_test)\n",
    "        \n",
    "        f1Score = f1_score(y_true=y_test, y_pred=pred, average='macro')\n",
    "        accScore=accuracy_score(y_test, pred)\n",
    "        precScore = precision_score(y_test, pred, average='macro')\n",
    "        recScrore = recall_score(y_test, pred, average='macro')\n",
    "                             \n",
    "        f1.append(f1Score)\n",
    "        accuracy.append(accScore)\n",
    "        precision.append(precScore)\n",
    "        recall.append(recScrore)\n",
    "        print('Fold: ', i, 'done!')\n",
    "        \n",
    "    meanScores, stdScores = {}, {}\n",
    "    \n",
    "    meanScores['f1Mean'] = np.array(f1).mean()\n",
    "    meanScores['accMean'] = np.array(accuracy).mean()\n",
    "    meanScores['recMean'] = np.array(recall).mean()\n",
    "    meanScores['precMean'] = np.array(precision).mean()\n",
    "    \n",
    "    stdScores['f1Std'] = np.array(f1).std()\n",
    "    stdScores['accStd'] = np.array(accuracy).std()\n",
    "    stdScores['recStd'] = np.array(recall).std()\n",
    "    stdScores['precStd'] = np.array(precision).std()\n",
    "    \n",
    "    print(\"Mean of all scores: \", meanScores)\n",
    "    print(\"Std of all scores: \", stdScores)\n",
    "\n",
    "\n",
    "    if save:\n",
    "        save_scores(timeout, meanScores, stdScores)\n",
    "\n",
    "    if meanScores['f1Mean'] > best_f1: \n",
    "        best_timeout = timeout\n",
    "        best_mean = meanScores\n",
    "        best_std = stdScores\n",
    "        best_f1 = meanScores['f1Mean']\n",
    "    \n",
    "    if meanScores['f1Mean'] <= worst_f1: \n",
    "        \n",
    "        worst_timeout = timeout\n",
    "        worst_mean = meanScores\n",
    "        worst_std = stdScores\n",
    "        worst_f1 = meanScores['f1Mean']\n",
    "               \n",
    "    print('_______________________________________________')"
   ]
  },
  {
   "cell_type": "code",
   "execution_count": null,
   "metadata": {},
   "outputs": [],
   "source": []
  },
  {
   "cell_type": "code",
   "execution_count": null,
   "metadata": {},
   "outputs": [],
   "source": []
  },
  {
   "cell_type": "code",
   "execution_count": 2,
   "metadata": {},
   "outputs": [],
   "source": [
    "def load_score(timeout):\n",
    "    with open(f'../Checkpoints/MLP/MLP_cic17_argus_{timeout}.json', 'r') as f:\n",
    "        loaded_results = json.load(f)\n",
    "    return loaded_results\n"
   ]
  },
  {
   "cell_type": "code",
   "execution_count": 3,
   "metadata": {},
   "outputs": [
    {
     "name": "stdout",
     "output_type": "stream",
     "text": [
      "{'Timeout': 'default', 'Mean of all scores': {'f1Mean': 0.6891242179756331, 'accMean': 0.9417454452755856, 'recMean': 0.6932933601823696, 'precMean': 0.7456622329314995}, 'Std of all Scores': {'f1Std': 0.026529470167881607, 'accStd': 0.005332333906523438, 'recStd': 0.03224483497342813, 'precStd': 0.008448639528230556}}\n",
      "{'Timeout': 0.5, 'Mean of all scores': {'f1Mean': 0.6767232809467544, 'accMean': 0.9051536340097094, 'recMean': 0.7015667693979732, 'precMean': 0.7492361396108095}, 'Std of all Scores': {'f1Std': 0.0527324891320327, 'accStd': 0.07705991477260635, 'recStd': 0.02357261298697192, 'precStd': 0.06321749207359992}}\n",
      "{'Timeout': 1, 'Mean of all scores': {'f1Mean': 0.6864747015141759, 'accMean': 0.9384338873937471, 'recMean': 0.6943054877283292, 'precMean': 0.7231085000092445}, 'Std of all Scores': {'f1Std': 0.02694108060109457, 'accStd': 0.0031071041062293698, 'recStd': 0.02465865094676195, 'precStd': 0.029626897477333474}}\n",
      "{'Timeout': 2, 'Mean of all scores': {'f1Mean': 0.6593648107978377, 'accMean': 0.858864465435572, 'recMean': 0.7138430664128194, 'precMean': 0.6957234986870381}, 'Std of all Scores': {'f1Std': 0.10635541608801155, 'accStd': 0.16362974672182726, 'recStd': 0.0446560434315717, 'precStd': 0.11584926089514078}}\n",
      "{'Timeout': 3, 'Mean of all scores': {'f1Mean': 0.6887995541476265, 'accMean': 0.8421563188244987, 'recMean': 0.7044527590259635, 'precMean': 0.7246494017639744}, 'Std of all Scores': {'f1Std': 0.0515002670879938, 'accStd': 0.20174567684909447, 'recStd': 0.032779324567913784, 'precStd': 0.06530206453250427}}\n",
      "{'Timeout': 4, 'Mean of all scores': {'f1Mean': 0.6685435267358217, 'accMean': 0.907247738649464, 'recMean': 0.7026310301208425, 'precMean': 0.7426818369825602}, 'Std of all Scores': {'f1Std': 0.05503901781680548, 'accStd': 0.07009952470196064, 'recStd': 0.02414169658367857, 'precStd': 0.06207040213388816}}\n",
      "{'Timeout': 5, 'Mean of all scores': {'f1Mean': 0.6492088099486735, 'accMean': 0.8632980506112204, 'recMean': 0.6938922911019576, 'precMean': 0.6976737003211599}, 'Std of all Scores': {'f1Std': 0.1176403418665107, 'accStd': 0.16082203372713053, 'recStd': 0.05655736636073002, 'precStd': 0.0868637402078548}}\n",
      "{'Timeout': 6, 'Mean of all scores': {'f1Mean': 0.7058858757605757, 'accMean': 0.9396982448994795, 'recMean': 0.7068976294594156, 'precMean': 0.7529652554141195}, 'Std of all Scores': {'f1Std': 0.017176103209796314, 'accStd': 0.0025940373557517818, 'recStd': 0.02541991044042555, 'precStd': 0.01629369710967945}}\n",
      "{'Timeout': 10, 'Mean of all scores': {'f1Mean': 0.6603699609036455, 'accMean': 0.8886506348909389, 'recMean': 0.698790394685585, 'precMean': 0.7482234004672909}, 'Std of all Scores': {'f1Std': 0.08124465315364815, 'accStd': 0.09911074393704587, 'recStd': 0.041174965865114196, 'precStd': 0.10968004347810226}}\n",
      "{'Timeout': 30, 'Mean of all scores': {'f1Mean': 0.6853795091576207, 'accMean': 0.9006741335417153, 'recMean': 0.7138512169105479, 'precMean': 0.7485343013347903}, 'Std of all Scores': {'f1Std': 0.049265291322576475, 'accStd': 0.08766856318860404, 'recStd': 0.02059634071524482, 'precStd': 0.05699247836121468}}\n",
      "{'Timeout': 60, 'Mean of all scores': {'f1Mean': 0.6919640170299857, 'accMean': 0.9423327569596861, 'recMean': 0.7084683798247488, 'precMean': 0.7293923497768505}, 'Std of all Scores': {'f1Std': 0.024023475787541246, 'accStd': 0.005971320023387651, 'recStd': 0.030772749920159742, 'precStd': 0.02831262442567582}}\n"
     ]
    }
   ],
   "source": [
    "timeouts = ['default', 0.5, 1, 2, 3, 4, 5, 6, 10, 30, 60]\n",
    "best_f1 = 0\n",
    "worst_f1 = 1\n",
    "\n",
    "\n",
    "\n",
    "for timeout in timeouts:\n",
    "    loaded_results = load_score(timeout)\n",
    "    print(loaded_results)\n",
    "        \n",
    "        \n",
    "    if loaded_results['Mean of all scores']['f1Mean'] > best_f1: \n",
    "        best_timeout = loaded_results['Timeout']\n",
    "        best_mean = loaded_results['Mean of all scores']\n",
    "        best_std = loaded_results['Std of all Scores']\n",
    "        best_f1 = loaded_results['Mean of all scores']['f1Mean'] \n",
    "    \n",
    "    if loaded_results['Mean of all scores']['f1Mean'] <= worst_f1: \n",
    "        \n",
    "        worst_timeout = loaded_results['Timeout']\n",
    "        worst_mean = loaded_results['Mean of all scores']\n",
    "        worst_std = loaded_results['Std of all Scores']\n",
    "        worst_f1 = loaded_results['Mean of all scores']['f1Mean'] \n",
    "               \n",
    "    "
   ]
  },
  {
   "cell_type": "code",
   "execution_count": 4,
   "metadata": {},
   "outputs": [
    {
     "name": "stdout",
     "output_type": "stream",
     "text": [
      "Best Timeout Combination:  6\n",
      "Mean Scores (Best):  {'f1Mean': 0.7058858757605757, 'accMean': 0.9396982448994795, 'recMean': 0.7068976294594156, 'precMean': 0.7529652554141195}\n",
      "Std Scores (Best): {'f1Std': 0.017176103209796314, 'accStd': 0.0025940373557517818, 'recStd': 0.02541991044042555, 'precStd': 0.01629369710967945}\n"
     ]
    }
   ],
   "source": [
    "print(\"Best Timeout Combination: \", best_timeout)\n",
    "print(\"Mean Scores (Best): \", best_mean)\n",
    "print('Std Scores (Best):', best_std)"
   ]
  },
  {
   "cell_type": "code",
   "execution_count": 5,
   "metadata": {},
   "outputs": [
    {
     "name": "stdout",
     "output_type": "stream",
     "text": [
      "worst Timeout Combination:  5\n",
      "Mean Scores (Worst):  {'f1Mean': 0.6492088099486735, 'accMean': 0.8632980506112204, 'recMean': 0.6938922911019576, 'precMean': 0.6976737003211599}\n",
      "Std Scores (Worst): {'f1Std': 0.1176403418665107, 'accStd': 0.16082203372713053, 'recStd': 0.05655736636073002, 'precStd': 0.0868637402078548}\n"
     ]
    }
   ],
   "source": [
    "print(\"worst Timeout Combination: \", worst_timeout)\n",
    "print(\"Mean Scores (Worst): \", worst_mean)\n",
    "print('Std Scores (Worst):', worst_std)"
   ]
  },
  {
   "cell_type": "code",
   "execution_count": 6,
   "metadata": {},
   "outputs": [],
   "source": [
    "\n",
    "results = {\n",
    "    'Best score': {\n",
    "        'Best Timeout': best_timeout,\n",
    "        'Mean Scores (Best)': best_mean,\n",
    "        'Std Scores (Best)': best_std,\n",
    "    },\n",
    "    \n",
    "    'Worst score': {\n",
    "        'Worst Timeout': worst_timeout,\n",
    "        'Mean Scores (Worst)': worst_mean,\n",
    "        'Std Scores (Worst)': worst_std,\n",
    "    },\n",
    "    \n",
    "    'Difference': {\n",
    "        'Accuracy': (best_mean['accMean'] - worst_mean['accMean'])*100,\n",
    "        'F1 Score': (best_mean['f1Mean'] - worst_mean['f1Mean'])*100,\n",
    "        'Precision': (best_mean['precMean'] - worst_mean['precMean'])*100,\n",
    "        'Recall': (best_mean['recMean'] - worst_mean['recMean'])*100\n",
    "    }\n",
    "}\n",
    "\n",
    "\n",
    "\n",
    "with open('../results/MLP_cic17_argus.json', 'w') as f:\n",
    "    json.dump(results, f, indent=4)"
   ]
  },
  {
   "cell_type": "code",
   "execution_count": null,
   "metadata": {},
   "outputs": [],
   "source": []
  },
  {
   "cell_type": "code",
   "execution_count": null,
   "metadata": {},
   "outputs": [],
   "source": []
  }
 ],
 "metadata": {
  "kernelspec": {
   "display_name": "ids_data",
   "language": "python",
   "name": "ids_data"
  },
  "language_info": {
   "codemirror_mode": {
    "name": "ipython",
    "version": 3
   },
   "file_extension": ".py",
   "mimetype": "text/x-python",
   "name": "python",
   "nbconvert_exporter": "python",
   "pygments_lexer": "ipython3",
   "version": "3.8.5"
  }
 },
 "nbformat": 4,
 "nbformat_minor": 5
}
