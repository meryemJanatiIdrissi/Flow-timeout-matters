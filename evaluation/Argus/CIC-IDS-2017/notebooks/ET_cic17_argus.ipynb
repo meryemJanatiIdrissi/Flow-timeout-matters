{
 "cells": [
  {
   "cell_type": "code",
   "execution_count": 1,
   "metadata": {},
   "outputs": [],
   "source": [
    "import pandas as pd \n",
    "import numpy as np\n",
    "import matplotlib.pyplot as plt\n",
    "import seaborn as sns\n",
    "import glob\n",
    "from sklearn.model_selection import train_test_split\n",
    "from sklearn.model_selection import StratifiedKFold\n",
    "from sklearn.metrics import classification_report, f1_score, accuracy_score\n",
    "from sklearn.metrics import accuracy_score, precision_score, recall_score, f1_score, auc, roc_curve\n",
    "from sklearn.preprocessing import LabelEncoder, StandardScaler, MinMaxScaler\n",
    "from sklearn.ensemble import RandomForestClassifier, ExtraTreesClassifier, AdaBoostClassifier\n",
    "from sklearn.neural_network import MLPClassifier\n",
    "from sklearn.tree import DecisionTreeClassifier\n",
    "import matplotlib.pyplot as plt\n",
    "import seaborn as sns\n",
    "from statsmodels.stats.outliers_influence import variance_inflation_factor  \n",
    "import warnings\n",
    "import pickle\n",
    "import os\n",
    "import json\n",
    "\n",
    "warnings.filterwarnings(\"ignore\")\n",
    "pd.set_option('display.max_columns', 200)\n",
    "pd.set_option('display.max_rows', 200)"
   ]
  },
  {
   "cell_type": "code",
   "execution_count": 6,
   "metadata": {},
   "outputs": [],
   "source": [
    "out_dir = f'/home/meryem.janati/lustre/nlp_team-um6p-st-sccs-id7fz1zvotk/IDS/janati/IDS/Datasets/cicids17/Argus/default/CIC-IDS-2017_argus_default.csv'\n",
    "df = pd.read_csv(out_dir)"
   ]
  },
  {
   "cell_type": "code",
   "execution_count": 7,
   "metadata": {},
   "outputs": [
    {
     "data": {
      "text/plain": [
       "Index(['SrcId', 'Rank', 'StartTime', 'LastTime', 'Trans', 'Flgs', 'Seq', 'Dur',\n",
       "       'RunTime', 'IdleTime',\n",
       "       ...\n",
       "       'dVpri', 'SRange', 'ERange', 'SrcTCPBase', 'DstTCPBase', 'TcpRtt',\n",
       "       'SynAck', 'AckDat', 'TcpOpt', 'Attack'],\n",
       "      dtype='object', length=109)"
      ]
     },
     "execution_count": 7,
     "metadata": {},
     "output_type": "execute_result"
    }
   ],
   "source": [
    "df.columns"
   ]
  },
  {
   "cell_type": "code",
   "execution_count": null,
   "metadata": {},
   "outputs": [],
   "source": []
  },
  {
   "cell_type": "code",
   "execution_count": null,
   "metadata": {},
   "outputs": [],
   "source": []
  },
  {
   "cell_type": "code",
   "execution_count": 2,
   "metadata": {},
   "outputs": [],
   "source": [
    "def save_scores(timeout, meanScores, stdScore):\n",
    "    results = {\n",
    "        'Timeout': timeout,\n",
    "        'Mean of all scores': meanScores,\n",
    "        'Std of all Scores': stdScores\n",
    "\n",
    "    }\n",
    "\n",
    "    with open(f'../Checkpoints/ET/ET_cic17_argus_{timeout}.json', 'w') as f:\n",
    "        json.dump(results, f, indent=4)"
   ]
  },
  {
   "cell_type": "code",
   "execution_count": 3,
   "metadata": {},
   "outputs": [
    {
     "data": {
      "text/plain": [
       "28"
      ]
     },
     "execution_count": 3,
     "metadata": {},
     "output_type": "execute_result"
    }
   ],
   "source": [
    "# Features from paper 1 and paper 2\n",
    "cols = [\"Dur\", \"RunTime\", \"IdleTime\", \"Mean\", \"StdDev\", \"Sum\", \"Min\", \"Max\", \"Proto\", \"Cause\", \"TotPkts\", \"SrcPkts\", \"DstPkts\", \"TotBytes\", \"SrcBytes\",\n",
    "         \"DstBytes\", \"Load\", \"SrcLoad\", \"DstLoad\", \"Rate\", \"SrcRate\", \"DstRate\", \"Attack\",\n",
    "        \"SAppBytes\", \"DAppBytes\", \"SynAck\", \"AckDat\", \"TcpRtt\"\n",
    "        ]\n",
    "\n",
    "len(cols)"
   ]
  },
  {
   "cell_type": "code",
   "execution_count": 4,
   "metadata": {},
   "outputs": [],
   "source": [
    "timeouts = ['default', 0.5, 1, 2, 3, 4, 5, 6, 10, 30, 60]"
   ]
  },
  {
   "cell_type": "markdown",
   "metadata": {},
   "source": [
    "### Training"
   ]
  },
  {
   "cell_type": "code",
   "execution_count": 5,
   "metadata": {},
   "outputs": [
    {
     "name": "stdout",
     "output_type": "stream",
     "text": [
      "Processing timeout :  default\n",
      "Fold:  0 done!\n",
      "Fold:  1 done!\n",
      "Fold:  2 done!\n",
      "Fold:  3 done!\n",
      "Fold:  4 done!\n",
      "Mean of all scores:  {'f1Mean': 0.7209010730886162, 'accMean': 0.928025730985401, 'recMean': 0.7203566910934713, 'precMean': 0.7508240754379731}\n",
      "Std of all scores:  {'f1Std': 0.032031555525833935, 'accStd': 0.015586317505630845, 'recStd': 0.03960463052859427, 'precStd': 0.037891509624006656}\n",
      "_______________________________________________\n",
      "Processing timeout :  0.5\n",
      "Fold:  0 done!\n",
      "Fold:  1 done!\n",
      "Fold:  2 done!\n",
      "Fold:  3 done!\n",
      "Fold:  4 done!\n",
      "Mean of all scores:  {'f1Mean': 0.7136448051338685, 'accMean': 0.9257935111056466, 'recMean': 0.7308063478677067, 'precMean': 0.7333995933053193}\n",
      "Std of all scores:  {'f1Std': 0.04103594288611955, 'accStd': 0.018642270631572234, 'recStd': 0.03448905182399094, 'precStd': 0.05627352990002832}\n",
      "_______________________________________________\n",
      "Processing timeout :  1\n",
      "Fold:  0 done!\n",
      "Fold:  1 done!\n",
      "Fold:  2 done!\n",
      "Fold:  3 done!\n",
      "Fold:  4 done!\n",
      "Mean of all scores:  {'f1Mean': 0.7159932751843037, 'accMean': 0.9307714307709573, 'recMean': 0.7229817230616231, 'precMean': 0.7243092053232932}\n",
      "Std of all scores:  {'f1Std': 0.02403365468114733, 'accStd': 0.013294523942841087, 'recStd': 0.02795750794284388, 'precStd': 0.031489683319934146}\n",
      "_______________________________________________\n",
      "Processing timeout :  2\n",
      "Fold:  0 done!\n",
      "Fold:  1 done!\n",
      "Fold:  2 done!\n",
      "Fold:  3 done!\n",
      "Fold:  4 done!\n",
      "Mean of all scores:  {'f1Mean': 0.6986302935559576, 'accMean': 0.8062745124016214, 'recMean': 0.7279987748752236, 'precMean': 0.7364886049625763}\n",
      "Std of all scores:  {'f1Std': 0.08106114657140062, 'accStd': 0.25193251516057563, 'recStd': 0.04120365225618327, 'precStd': 0.07091031714623094}\n",
      "_______________________________________________\n",
      "Processing timeout :  3\n",
      "Fold:  0 done!\n",
      "Fold:  1 done!\n",
      "Fold:  2 done!\n",
      "Fold:  3 done!\n",
      "Fold:  4 done!\n",
      "Mean of all scores:  {'f1Mean': 0.7086036445379907, 'accMean': 0.8562328426604413, 'recMean': 0.7327954837838415, 'precMean': 0.7401108643160516}\n",
      "Std of all scores:  {'f1Std': 0.052831792227853586, 'accStd': 0.14391134560322522, 'recStd': 0.03242498342743315, 'precStd': 0.043848578239363764}\n",
      "_______________________________________________\n",
      "Processing timeout :  4\n",
      "Fold:  0 done!\n",
      "Fold:  1 done!\n",
      "Fold:  2 done!\n",
      "Fold:  3 done!\n",
      "Fold:  4 done!\n",
      "Mean of all scores:  {'f1Mean': 0.7122680795591254, 'accMean': 0.9229600859176704, 'recMean': 0.729068148484222, 'precMean': 0.7347879029258264}\n",
      "Std of all scores:  {'f1Std': 0.03851653967219457, 'accStd': 0.0243994503018567, 'recStd': 0.02821360983446223, 'precStd': 0.054949050441360996}\n",
      "_______________________________________________\n",
      "Processing timeout :  5\n",
      "Fold:  0 done!\n",
      "Fold:  1 done!\n",
      "Fold:  2 done!\n",
      "Fold:  3 done!\n",
      "Fold:  4 done!\n",
      "Mean of all scores:  {'f1Mean': 0.6905388064283138, 'accMean': 0.8075857942541047, 'recMean': 0.7214773642998407, 'precMean': 0.7266761702704979}\n",
      "Std of all scores:  {'f1Std': 0.07697959244503493, 'accStd': 0.2530385828593639, 'recStd': 0.04324746877435058, 'precStd': 0.06595969630969066}\n",
      "_______________________________________________\n",
      "Processing timeout :  6\n",
      "Fold:  0 done!\n",
      "Fold:  1 done!\n",
      "Fold:  2 done!\n",
      "Fold:  3 done!\n",
      "Fold:  4 done!\n",
      "Mean of all scores:  {'f1Mean': 0.7225617672991114, 'accMean': 0.9309340287199271, 'recMean': 0.7298495705756405, 'precMean': 0.7312847197697083}\n",
      "Std of all scores:  {'f1Std': 0.03105917530715276, 'accStd': 0.01329712541636066, 'recStd': 0.028417678986760203, 'precStd': 0.035823375490539384}\n",
      "_______________________________________________\n",
      "Processing timeout :  10\n",
      "Fold:  0 done!\n",
      "Fold:  1 done!\n",
      "Fold:  2 done!\n",
      "Fold:  3 done!\n",
      "Fold:  4 done!\n",
      "Mean of all scores:  {'f1Mean': 0.7010741222918287, 'accMean': 0.9113157856865313, 'recMean': 0.7215022160742436, 'precMean': 0.7346120763858076}\n",
      "Std of all scores:  {'f1Std': 0.03969116225762278, 'accStd': 0.0328408607238805, 'recStd': 0.03955279231555787, 'precStd': 0.03661164329563876}\n",
      "_______________________________________________\n",
      "Processing timeout :  30\n",
      "Fold:  0 done!\n",
      "Fold:  1 done!\n",
      "Fold:  2 done!\n",
      "Fold:  3 done!\n",
      "Fold:  4 done!\n",
      "Mean of all scores:  {'f1Mean': 0.7157881193184634, 'accMean': 0.9259830264511283, 'recMean': 0.7328707953080315, 'precMean': 0.7459976707355007}\n",
      "Std of all scores:  {'f1Std': 0.039028548330558424, 'accStd': 0.018294159764495558, 'recStd': 0.03221121807770736, 'precStd': 0.05760907912811254}\n",
      "_______________________________________________\n",
      "Processing timeout :  60\n",
      "Fold:  0 done!\n",
      "Fold:  1 done!\n",
      "Fold:  2 done!\n",
      "Fold:  3 done!\n",
      "Fold:  4 done!\n",
      "Mean of all scores:  {'f1Mean': 0.7199877752619511, 'accMean': 0.9293929292282067, 'recMean': 0.7323372741964299, 'precMean': 0.7442079575564567}\n",
      "Std of all scores:  {'f1Std': 0.027894841423334114, 'accStd': 0.013446277654704606, 'recStd': 0.03441628601512097, 'precStd': 0.04156345652282704}\n",
      "_______________________________________________\n"
     ]
    }
   ],
   "source": [
    "best_f1 = 0\n",
    "worst_f1 = 1\n",
    "\n",
    "\n",
    "best_mean, worst_mean, best_std, worst_std = None, None, None, None\n",
    "save=True\n",
    "\n",
    "\n",
    "for timeout in timeouts:\n",
    "    print(\"Processing timeout : \", timeout)\n",
    "    \n",
    "    if timeout =='default':\n",
    "        out_dir = f'/home/meryem.janati/lustre/nlp_team-um6p-st-sccs-id7fz1zvotk/IDS/janati/IDS/Datasets/cicids17/Argus/{timeout}/CIC-IDS-2017_argus_{timeout}.csv'\n",
    "    else:\n",
    "        out_dir = f'/home/meryem.janati/lustre/nlp_team-um6p-st-sccs-id7fz1zvotk/IDS/janati/IDS/Datasets/cicids17/Argus/timeout{timeout}/CIC-IDS-2017_argus_{timeout}.csv'\n",
    "\n",
    "    df = pd.read_csv(out_dir)\n",
    "    df = df[cols]\n",
    "    \n",
    "    #df = df.drop(columns=['SrcId', 'SrcAddr', 'DstAddr', 'Sport', 'Dport', 'StartTime', 'LastTime', 'Dir', 'State', 'sIpId', 'sDSb', 'AutoId'])\n",
    "    df = df.dropna() \n",
    "    # Convert categorical variables to numerical using Label Encoding\n",
    "    label_encoders = {}\n",
    "    for column in ['Proto', 'Cause', 'Flgs' ]:\n",
    "        if column in df.columns:\n",
    "            le = LabelEncoder()\n",
    "            df[column] = le.fit_transform(df[column])\n",
    "            label_encoders[column] = le\n",
    "\n",
    "    # Split df into features and labels\n",
    "    X = df.drop(columns=['Attack'])  # Assuming 'label' is the target variable\n",
    "    y = df['Attack']\n",
    "    \n",
    "    \n",
    "    accuracy, f1, precision, recall =[], [], [], []\n",
    "    skf= StratifiedKFold(n_splits=5,random_state=None)\n",
    "    skf.get_n_splits(X,y)\n",
    "    \n",
    "    for (train_index, test_index), i in zip(skf.split(X, y), range(5)):\n",
    "        X_train,X_test=X.iloc[train_index],X.iloc[test_index]\n",
    "        y_train,y_test=y.iloc[train_index],y.iloc[test_index]\n",
    "\n",
    "\n",
    "        le = LabelEncoder()\n",
    "        y_train = le.fit_transform(y_train)\n",
    "        \n",
    "        \n",
    "        # Map unseen values to '<unknown>'\n",
    "        y_test = y_test.map(lambda s: '<unknown>' if s not in le.classes_ else s)\n",
    "\n",
    "        # Add '<unknown>' to classes and transform\n",
    "        le.classes_ = np.append(le.classes_, '<unknown>')\n",
    "        y_test = le.transform(y_test)\n",
    "        \n",
    "        \n",
    "        \n",
    "        scaler = StandardScaler()\n",
    "        X_train = scaler.fit_transform(X_train)\n",
    "        X_test = scaler.transform(X_test)\n",
    "\n",
    "        # Initialize and train Extra Trees Classifier\n",
    "        clf = ExtraTreesClassifier(n_estimators=100, random_state=42)\n",
    "        clf.fit(X_train, y_train)\n",
    "        pred = clf.predict(X_test)\n",
    "        \n",
    "        f1Score = f1_score(y_true=y_test, y_pred=pred, average='macro')\n",
    "        accScore=accuracy_score(y_test, pred)\n",
    "        precScore = precision_score(y_test, pred, average='macro')\n",
    "        recScrore = recall_score(y_test, pred, average='macro')\n",
    "                             \n",
    "        f1.append(f1Score)\n",
    "        accuracy.append(accScore)\n",
    "        precision.append(precScore)\n",
    "        recall.append(recScrore)\n",
    "        print('Fold: ', i, 'done!')\n",
    "\n",
    "\n",
    "    meanScores, stdScores = {}, {}\n",
    "    \n",
    "    meanScores['f1Mean'] = np.array(f1).mean()\n",
    "    meanScores['accMean'] = np.array(accuracy).mean()\n",
    "    meanScores['recMean'] = np.array(recall).mean()\n",
    "    meanScores['precMean'] = np.array(precision).mean()\n",
    "    \n",
    "    stdScores['f1Std'] = np.array(f1).std()\n",
    "    stdScores['accStd'] = np.array(accuracy).std()\n",
    "    stdScores['recStd'] = np.array(recall).std()\n",
    "    stdScores['precStd'] = np.array(precision).std()\n",
    "    \n",
    "    print(\"Mean of all scores: \", meanScores)\n",
    "    print(\"Std of all scores: \", stdScores)\n",
    "\n",
    "\n",
    "    if save:\n",
    "        save_scores(timeout, meanScores, stdScores)\n",
    "\n",
    "    if meanScores['f1Mean'] > best_f1: \n",
    "        best_timeout = timeout\n",
    "        best_mean = meanScores\n",
    "        best_std = stdScores\n",
    "        best_f1 = meanScores['f1Mean']\n",
    "    \n",
    "    if meanScores['f1Mean'] <= worst_f1: \n",
    "        \n",
    "        worst_timeout = timeout\n",
    "        worst_mean = meanScores\n",
    "        worst_std = stdScores\n",
    "        worst_f1 = meanScores['f1Mean']\n",
    "               \n",
    "    print('_______________________________________________')"
   ]
  },
  {
   "cell_type": "code",
   "execution_count": null,
   "metadata": {},
   "outputs": [],
   "source": []
  },
  {
   "cell_type": "code",
   "execution_count": 6,
   "metadata": {},
   "outputs": [
    {
     "name": "stdout",
     "output_type": "stream",
     "text": [
      "Best Timeout Combination:  6\n",
      "Mean Scores (Best):  {'f1Mean': 0.7225617672991114, 'accMean': 0.9309340287199271, 'recMean': 0.7298495705756405, 'precMean': 0.7312847197697083}\n",
      "Std Scores (Best): {'f1Std': 0.03105917530715276, 'accStd': 0.01329712541636066, 'recStd': 0.028417678986760203, 'precStd': 0.035823375490539384}\n"
     ]
    }
   ],
   "source": [
    "print(\"Best Timeout Combination: \", best_timeout)\n",
    "print(\"Mean Scores (Best): \", best_mean)\n",
    "print('Std Scores (Best):', best_std)"
   ]
  },
  {
   "cell_type": "code",
   "execution_count": 7,
   "metadata": {},
   "outputs": [
    {
     "name": "stdout",
     "output_type": "stream",
     "text": [
      "worst Timeout Combination:  5\n",
      "Mean Scores (Worst):  {'f1Mean': 0.6905388064283138, 'accMean': 0.8075857942541047, 'recMean': 0.7214773642998407, 'precMean': 0.7266761702704979}\n",
      "Std Scores (Worst): {'f1Std': 0.07697959244503493, 'accStd': 0.2530385828593639, 'recStd': 0.04324746877435058, 'precStd': 0.06595969630969066}\n"
     ]
    }
   ],
   "source": [
    "print(\"worst Timeout Combination: \", worst_timeout)\n",
    "print(\"Mean Scores (Worst): \", worst_mean)\n",
    "print('Std Scores (Worst):', worst_std)"
   ]
  },
  {
   "cell_type": "code",
   "execution_count": 8,
   "metadata": {},
   "outputs": [],
   "source": [
    "\n",
    "results = {\n",
    "    'Best score': {\n",
    "        'Best Timeout': best_timeout,\n",
    "        'Mean Scores (Best)': best_mean,\n",
    "        'Std Scores (Best)': best_std,\n",
    "    },\n",
    "    \n",
    "    'Worst score': {\n",
    "        'Worst Timeout': worst_timeout,\n",
    "        'Mean Scores (Worst)': worst_mean,\n",
    "        'Std Scores (Worst)': worst_std,\n",
    "    },\n",
    "    \n",
    "    'Difference': {\n",
    "        'Accuracy': (best_mean['accMean'] - worst_mean['accMean'])*100,\n",
    "        'F1 Score': (best_mean['f1Mean'] - worst_mean['f1Mean'])*100,\n",
    "        'Precision': (best_mean['precMean'] - worst_mean['precMean'])*100,\n",
    "        'Recall': (best_mean['recMean'] - worst_mean['recMean'])*100\n",
    "    }\n",
    "}\n",
    "\n",
    "\n",
    "\n",
    "with open('../results/ET_cic17_argus.json', 'w') as f:\n",
    "    json.dump(results, f, indent=4)"
   ]
  },
  {
   "cell_type": "code",
   "execution_count": null,
   "metadata": {},
   "outputs": [],
   "source": []
  },
  {
   "cell_type": "code",
   "execution_count": null,
   "metadata": {},
   "outputs": [],
   "source": []
  }
 ],
 "metadata": {
  "kernelspec": {
   "display_name": "ids_data",
   "language": "python",
   "name": "ids_data"
  },
  "language_info": {
   "codemirror_mode": {
    "name": "ipython",
    "version": 3
   },
   "file_extension": ".py",
   "mimetype": "text/x-python",
   "name": "python",
   "nbconvert_exporter": "python",
   "pygments_lexer": "ipython3",
   "version": "3.8.5"
  }
 },
 "nbformat": 4,
 "nbformat_minor": 5
}
