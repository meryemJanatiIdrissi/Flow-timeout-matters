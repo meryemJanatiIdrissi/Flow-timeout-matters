{
 "cells": [
  {
   "cell_type": "code",
   "execution_count": 1,
   "metadata": {},
   "outputs": [],
   "source": [
    "import pandas as pd \n",
    "import numpy as np\n",
    "import matplotlib.pyplot as plt\n",
    "import seaborn as sns\n",
    "import glob\n",
    "from sklearn.model_selection import train_test_split\n",
    "from sklearn.model_selection import StratifiedKFold\n",
    "from sklearn.metrics import classification_report, f1_score, accuracy_score\n",
    "from sklearn.metrics import accuracy_score, precision_score, recall_score, f1_score, auc, roc_curve\n",
    "from sklearn.preprocessing import LabelEncoder, StandardScaler, MinMaxScaler\n",
    "from sklearn.ensemble import RandomForestClassifier, ExtraTreesClassifier, AdaBoostClassifier\n",
    "from sklearn.neural_network import MLPClassifier\n",
    "from sklearn.tree import DecisionTreeClassifier\n",
    "import matplotlib.pyplot as plt\n",
    "import seaborn as sns\n",
    "from statsmodels.stats.outliers_influence import variance_inflation_factor  \n",
    "import warnings\n",
    "import pickle\n",
    "import os\n",
    "import json\n",
    "\n",
    "warnings.filterwarnings(\"ignore\")\n",
    "pd.set_option('display.max_columns', 200)\n",
    "pd.set_option('display.max_rows', 200)"
   ]
  },
  {
   "cell_type": "code",
   "execution_count": 2,
   "metadata": {},
   "outputs": [],
   "source": [
    "out_dir = f'/home/meryem.janati/lustre/nlp_team-um6p-st-sccs-id7fz1zvotk/IDS/janati/IDS/Datasets/cicids17/Argus/default/CIC-IDS-2017_argus_default.csv'\n",
    "df = pd.read_csv(out_dir)"
   ]
  },
  {
   "cell_type": "code",
   "execution_count": 7,
   "metadata": {},
   "outputs": [
    {
     "data": {
      "text/plain": [
       "Index(['SrcId', 'Rank', 'StartTime', 'LastTime', 'Trans', 'Flgs', 'Seq', 'Dur',\n",
       "       'RunTime', 'IdleTime',\n",
       "       ...\n",
       "       'dVpri', 'SRange', 'ERange', 'SrcTCPBase', 'DstTCPBase', 'TcpRtt',\n",
       "       'SynAck', 'AckDat', 'TcpOpt', 'Attack'],\n",
       "      dtype='object', length=109)"
      ]
     },
     "execution_count": 7,
     "metadata": {},
     "output_type": "execute_result"
    }
   ],
   "source": [
    "df.columns"
   ]
  },
  {
   "cell_type": "code",
   "execution_count": null,
   "metadata": {},
   "outputs": [],
   "source": []
  },
  {
   "cell_type": "code",
   "execution_count": null,
   "metadata": {},
   "outputs": [],
   "source": []
  },
  {
   "cell_type": "code",
   "execution_count": 2,
   "metadata": {},
   "outputs": [],
   "source": [
    "def save_scores(timeout, meanScores, stdScore):\n",
    "    results = {\n",
    "        'Timeout': timeout,\n",
    "        'Mean of all scores': meanScores,\n",
    "        'Std of all Scores': stdScores\n",
    "\n",
    "    }\n",
    "\n",
    "    with open(f'../Checkpoints/RF/RF_cic17_argus_{timeout}.json', 'w') as f:\n",
    "        json.dump(results, f, indent=4)\n"
   ]
  },
  {
   "cell_type": "code",
   "execution_count": 3,
   "metadata": {},
   "outputs": [
    {
     "data": {
      "text/plain": [
       "28"
      ]
     },
     "execution_count": 3,
     "metadata": {},
     "output_type": "execute_result"
    }
   ],
   "source": [
    "# Features from paper 1 and paper 2\n",
    "cols = [\"Dur\", \"RunTime\", \"IdleTime\", \"Mean\", \"StdDev\", \"Sum\", \"Min\", \"Max\", \"Proto\", \"Cause\", \"TotPkts\", \"SrcPkts\", \"DstPkts\", \"TotBytes\", \"SrcBytes\",\n",
    "         \"DstBytes\", \"Load\", \"SrcLoad\", \"DstLoad\", \"Rate\", \"SrcRate\", \"DstRate\", \"Attack\",\n",
    "        \"SAppBytes\", \"DAppBytes\", \"SynAck\", \"AckDat\", \"TcpRtt\"\n",
    "        ]\n",
    "\n",
    "len(cols)"
   ]
  },
  {
   "cell_type": "code",
   "execution_count": 4,
   "metadata": {},
   "outputs": [],
   "source": [
    "timeouts = ['default', 0.5, 1, 2, 3, 4, 5, 6, 10, 30, 60]"
   ]
  },
  {
   "cell_type": "code",
   "execution_count": 5,
   "metadata": {},
   "outputs": [],
   "source": [
    "timeouts = [60]"
   ]
  },
  {
   "cell_type": "markdown",
   "metadata": {},
   "source": [
    "### Training"
   ]
  },
  {
   "cell_type": "code",
   "execution_count": 6,
   "metadata": {},
   "outputs": [
    {
     "name": "stdout",
     "output_type": "stream",
     "text": [
      "Processing timeout :  60\n",
      "Fold:  0 done!\n",
      "Fold:  1 done!\n",
      "Fold:  2 done!\n",
      "Fold:  3 done!\n",
      "Fold:  4 done!\n",
      "Mean of all scores:  {'f1Mean': 0.7374421308423391, 'accMean': 0.9302939236743153, 'recMean': 0.7534504862763042, 'precMean': 0.7575933430675039}\n",
      "Std of all scores:  {'f1Std': 0.02608738144787576, 'accStd': 0.013567467037712456, 'recStd': 0.026344092405562427, 'precStd': 0.0394928840812096}\n",
      "_______________________________________________\n"
     ]
    }
   ],
   "source": [
    "best_f1 = 0\n",
    "worst_f1 = 1\n",
    "\n",
    "\n",
    "best_mean, worst_mean, best_std, worst_std = None, None, None, None\n",
    "save=True\n",
    "\n",
    "for timeout in timeouts:\n",
    "    print(\"Processing timeout : \", timeout)\n",
    "    \n",
    "    if timeout =='default':\n",
    "        out_dir = f'/home/meryem.janati/lustre/nlp_team-um6p-st-sccs-id7fz1zvotk/IDS/janati/IDS/Datasets/cicids17/Argus/{timeout}/CIC-IDS-2017_argus_{timeout}.csv'\n",
    "    else:\n",
    "        out_dir = f'/home/meryem.janati/lustre/nlp_team-um6p-st-sccs-id7fz1zvotk/IDS/janati/IDS/Datasets/cicids17/Argus/timeout{timeout}/CIC-IDS-2017_argus_{timeout}.csv'\n",
    "\n",
    "    df = pd.read_csv(out_dir)\n",
    "    df = df[cols]\n",
    "    \n",
    "    #df = df.drop(columns=['SrcId', 'SrcAddr', 'DstAddr', 'Sport', 'Dport', 'StartTime', 'LastTime', 'Dir', 'State', 'sIpId', 'sDSb', 'AutoId'])\n",
    "    df = df.dropna() \n",
    "    # Convert categorical variables to numerical using Label Encoding\n",
    "    label_encoders = {}\n",
    "    for column in ['Proto', 'Cause', 'Flgs' ]:\n",
    "        if column in df.columns:\n",
    "            le = LabelEncoder()\n",
    "            df[column] = le.fit_transform(df[column])\n",
    "            label_encoders[column] = le\n",
    "\n",
    "    # Split df into features and labels\n",
    "    X = df.drop(columns=['Attack'])  # Assuming 'label' is the target variable\n",
    "    y = df['Attack']\n",
    "    \n",
    "    \n",
    "    accuracy, f1, precision, recall =[], [], [], []\n",
    "    skf= StratifiedKFold(n_splits=5,random_state=None)\n",
    "    skf.get_n_splits(X,y)\n",
    "    \n",
    "    for (train_index, test_index), i in zip(skf.split(X, y), range(5)):\n",
    "        X_train,X_test=X.iloc[train_index],X.iloc[test_index]\n",
    "        y_train,y_test=y.iloc[train_index],y.iloc[test_index]\n",
    "\n",
    "\n",
    "        le = LabelEncoder()\n",
    "        y_train = le.fit_transform(y_train)\n",
    "        \n",
    "        \n",
    "        # Map unseen values to '<unknown>'\n",
    "        y_test = y_test.map(lambda s: '<unknown>' if s not in le.classes_ else s)\n",
    "\n",
    "        # Add '<unknown>' to classes and transform\n",
    "        le.classes_ = np.append(le.classes_, '<unknown>')\n",
    "        y_test = le.transform(y_test)\n",
    "        \n",
    "        \n",
    "        \n",
    "        scaler = StandardScaler()\n",
    "        X_train = scaler.fit_transform(X_train)\n",
    "        X_test = scaler.transform(X_test)\n",
    "\n",
    "        # Initialize and train Extra Trees Classifier\n",
    "        clf = RandomForestClassifier(random_state=42)\n",
    "        clf.fit(X_train, y_train)\n",
    "        pred = clf.predict(X_test)\n",
    "        \n",
    "        f1Score = f1_score(y_true=y_test, y_pred=pred, average='macro')\n",
    "        accScore=accuracy_score(y_test, pred)\n",
    "        precScore = precision_score(y_test, pred, average='macro')\n",
    "        recScrore = recall_score(y_test, pred, average='macro')\n",
    "                             \n",
    "        f1.append(f1Score)\n",
    "        accuracy.append(accScore)\n",
    "        precision.append(precScore)\n",
    "        recall.append(recScrore)\n",
    "        print('Fold: ', i, 'done!')\n",
    "\n",
    "\n",
    "    meanScores, stdScores = {}, {}\n",
    "    \n",
    "    meanScores['f1Mean'] = np.array(f1).mean()\n",
    "    meanScores['accMean'] = np.array(accuracy).mean()\n",
    "    meanScores['recMean'] = np.array(recall).mean()\n",
    "    meanScores['precMean'] = np.array(precision).mean()\n",
    "    \n",
    "    stdScores['f1Std'] = np.array(f1).std()\n",
    "    stdScores['accStd'] = np.array(accuracy).std()\n",
    "    stdScores['recStd'] = np.array(recall).std()\n",
    "    stdScores['precStd'] = np.array(precision).std()\n",
    "    \n",
    "    print(\"Mean of all scores: \", meanScores)\n",
    "    print(\"Std of all scores: \", stdScores)\n",
    "\n",
    "\n",
    "    if save:\n",
    "        save_scores(timeout, meanScores, stdScores)\n",
    "\n",
    "    if meanScores['f1Mean'] > best_f1: \n",
    "        best_timeout = timeout\n",
    "        best_mean = meanScores\n",
    "        best_std = stdScores\n",
    "        best_f1 = meanScores['f1Mean']\n",
    "    \n",
    "    if meanScores['f1Mean'] <= worst_f1: \n",
    "        \n",
    "        worst_timeout = timeout\n",
    "        worst_mean = meanScores\n",
    "        worst_std = stdScores\n",
    "        worst_f1 = meanScores['f1Mean']\n",
    "               \n",
    "    print('_______________________________________________')"
   ]
  },
  {
   "cell_type": "code",
   "execution_count": null,
   "metadata": {},
   "outputs": [],
   "source": []
  },
  {
   "cell_type": "code",
   "execution_count": 7,
   "metadata": {},
   "outputs": [],
   "source": [
    "def load_score(timeout):\n",
    "    with open(f'../Checkpoints/RF/RF_cic17_argus_{timeout}.json', 'r') as f:\n",
    "        loaded_results = json.load(f)\n",
    "    return loaded_results\n"
   ]
  },
  {
   "cell_type": "code",
   "execution_count": 11,
   "metadata": {},
   "outputs": [
    {
     "name": "stdout",
     "output_type": "stream",
     "text": [
      "{'Timeout': 'default', 'Mean of all scores': {'f1Mean': 0.7320885266267163, 'accMean': 0.9287703640829141, 'recMean': 0.7372224034619704, 'precMean': 0.7580518988976799}, 'Std of all Scores': {'f1Std': 0.0288975400103571, 'accStd': 0.015057692770265951, 'recStd': 0.031202221464852516, 'precStd': 0.038208942581265774}}\n",
      "{'Timeout': 0.5, 'Mean of all scores': {'f1Mean': 0.7240960527423905, 'accMean': 0.9074031174162505, 'recMean': 0.7434369954855957, 'precMean': 0.745031265262327}, 'Std of all Scores': {'f1Std': 0.04274675519871018, 'accStd': 0.052459329713154486, 'recStd': 0.024399675724951823, 'precStd': 0.05777342158931095}}\n",
      "{'Timeout': 1, 'Mean of all scores': {'f1Mean': 0.7291073269368177, 'accMean': 0.9312608303899577, 'recMean': 0.7332337655554978, 'precMean': 0.7464108129043451}, 'Std of all Scores': {'f1Std': 0.024985036719104212, 'accStd': 0.012998270814233085, 'recStd': 0.028718499835145832, 'precStd': 0.039841684297358015}}\n",
      "{'Timeout': 2, 'Mean of all scores': {'f1Mean': 0.6948634354615117, 'accMean': 0.8011268126721214, 'recMean': 0.7254118760083714, 'precMean': 0.7316749289122335}, 'Std of all Scores': {'f1Std': 0.08297667646452608, 'accStd': 0.26278286905341725, 'recStd': 0.050115068299183385, 'precStd': 0.07974239232168276}}\n",
      "{'Timeout': 3, 'Mean of all scores': {'f1Mean': 0.706384906712561, 'accMean': 0.8686360830709446, 'recMean': 0.7357335307786764, 'precMean': 0.7301844808739447}, 'Std of all Scores': {'f1Std': 0.05184766479763407, 'accStd': 0.12042033588462847, 'recStd': 0.0323714733315666, 'precStd': 0.05068855566414801}}\n",
      "{'Timeout': 4, 'Mean of all scores': {'f1Mean': 0.713754405755468, 'accMean': 0.9271346275453745, 'recMean': 0.7338707788302571, 'precMean': 0.7339535350627975}, 'Std of all Scores': {'f1Std': 0.038779947688862365, 'accStd': 0.018073341256114768, 'recStd': 0.028432237422086164, 'precStd': 0.05276639082392734}}\n",
      "{'Timeout': 5, 'Mean of all scores': {'f1Mean': 0.6979662233337967, 'accMean': 0.7925685336534556, 'recMean': 0.7290997657192834, 'precMean': 0.7320630056842422}, 'Std of all Scores': {'f1Std': 0.08391847794129675, 'accStd': 0.2834275680616238, 'recStd': 0.048422879669504294, 'precStd': 0.0828991233781279}}\n",
      "{'Timeout': 6, 'Mean of all scores': {'f1Mean': 0.7296482902409627, 'accMean': 0.9314328168324633, 'recMean': 0.7403101025639103, 'precMean': 0.7472686015305035}, 'Std of all Scores': {'f1Std': 0.02408375313930622, 'accStd': 0.013060669761193484, 'recStd': 0.017893129741083917, 'precStd': 0.04407637563080992}}\n",
      "{'Timeout': 10, 'Mean of all scores': {'f1Mean': 0.6951423615064378, 'accMean': 0.8606331639971027, 'recMean': 0.7244307845903356, 'precMean': 0.7234462336365146}, 'Std of all Scores': {'f1Std': 0.06465684658496251, 'accStd': 0.1341187738188365, 'recStd': 0.038205350170463025, 'precStd': 0.07190320709032065}}\n",
      "{'Timeout': 30, 'Mean of all scores': {'f1Mean': 0.7207239393226298, 'accMean': 0.9281692643848919, 'recMean': 0.7406838312596861, 'precMean': 0.7428747876612635}, 'Std of all Scores': {'f1Std': 0.036737059060008674, 'accStd': 0.015659328024501016, 'recStd': 0.01804130744697554, 'precStd': 0.05712195345801224}}\n",
      "{'Timeout': 60, 'Mean of all scores': {'f1Mean': 0.7374421308423391, 'accMean': 0.9302939236743153, 'recMean': 0.7534504862763042, 'precMean': 0.7575933430675039}, 'Std of all Scores': {'f1Std': 0.02608738144787576, 'accStd': 0.013567467037712456, 'recStd': 0.026344092405562427, 'precStd': 0.0394928840812096}}\n"
     ]
    }
   ],
   "source": [
    "timeouts = ['default', 0.5, 1, 2, 3, 4, 5, 6, 10, 30, 60]\n",
    "best_f1 = 0\n",
    "worst_f1 = 1\n",
    "\n",
    "\n",
    "\n",
    "for timeout in timeouts:\n",
    "    loaded_results = load_score(timeout)\n",
    "    print(loaded_results)\n",
    "        \n",
    "        \n",
    "    if loaded_results['Mean of all scores']['f1Mean'] > best_f1: \n",
    "        best_timeout = loaded_results['Timeout']\n",
    "        best_mean = loaded_results['Mean of all scores']\n",
    "        best_std = loaded_results['Std of all Scores']\n",
    "        best_f1 = loaded_results['Mean of all scores']['f1Mean'] \n",
    "    \n",
    "    if loaded_results['Mean of all scores']['f1Mean'] <= worst_f1: \n",
    "        \n",
    "        worst_timeout = loaded_results['Timeout']\n",
    "        worst_mean = loaded_results['Mean of all scores']\n",
    "        worst_std = loaded_results['Std of all Scores']\n",
    "        worst_f1 = loaded_results['Mean of all scores']['f1Mean'] \n",
    "               \n",
    "    "
   ]
  },
  {
   "cell_type": "code",
   "execution_count": 12,
   "metadata": {},
   "outputs": [
    {
     "name": "stdout",
     "output_type": "stream",
     "text": [
      "Best Timeout Combination:  60\n",
      "Mean Scores (Best):  {'f1Mean': 0.7374421308423391, 'accMean': 0.9302939236743153, 'recMean': 0.7534504862763042, 'precMean': 0.7575933430675039}\n",
      "Std Scores (Best): {'f1Std': 0.02608738144787576, 'accStd': 0.013567467037712456, 'recStd': 0.026344092405562427, 'precStd': 0.0394928840812096}\n"
     ]
    }
   ],
   "source": [
    "print(\"Best Timeout Combination: \", best_timeout)\n",
    "print(\"Mean Scores (Best): \", best_mean)\n",
    "print('Std Scores (Best):', best_std)"
   ]
  },
  {
   "cell_type": "code",
   "execution_count": 13,
   "metadata": {},
   "outputs": [
    {
     "name": "stdout",
     "output_type": "stream",
     "text": [
      "worst Timeout Combination:  2\n",
      "Mean Scores (Worst):  {'f1Mean': 0.6948634354615117, 'accMean': 0.8011268126721214, 'recMean': 0.7254118760083714, 'precMean': 0.7316749289122335}\n",
      "Std Scores (Worst): {'f1Std': 0.08297667646452608, 'accStd': 0.26278286905341725, 'recStd': 0.050115068299183385, 'precStd': 0.07974239232168276}\n"
     ]
    }
   ],
   "source": [
    "print(\"worst Timeout Combination: \", worst_timeout)\n",
    "print(\"Mean Scores (Worst): \", worst_mean)\n",
    "print('Std Scores (Worst):', worst_std)"
   ]
  },
  {
   "cell_type": "code",
   "execution_count": 14,
   "metadata": {},
   "outputs": [],
   "source": [
    "\n",
    "results = {\n",
    "    'Best score': {\n",
    "        'Best Timeout': best_timeout,\n",
    "        'Mean Scores (Best)': best_mean,\n",
    "        'Std Scores (Best)': best_std,\n",
    "    },\n",
    "    \n",
    "    'Worst score': {\n",
    "        'Worst Timeout': worst_timeout,\n",
    "        'Mean Scores (Worst)': worst_mean,\n",
    "        'Std Scores (Worst)': worst_std,\n",
    "    },\n",
    "    \n",
    "    'Difference': {\n",
    "        'Accuracy': (best_mean['accMean'] - worst_mean['accMean'])*100,\n",
    "        'F1 Score': (best_mean['f1Mean'] - worst_mean['f1Mean'])*100,\n",
    "        'Precision': (best_mean['precMean'] - worst_mean['precMean'])*100,\n",
    "        'Recall': (best_mean['recMean'] - worst_mean['recMean'])*100\n",
    "    }\n",
    "}\n",
    "\n",
    "\n",
    "\n",
    "with open('../results/RF_cic17_argus.json', 'w') as f:\n",
    "    json.dump(results, f, indent=4)"
   ]
  },
  {
   "cell_type": "code",
   "execution_count": null,
   "metadata": {},
   "outputs": [],
   "source": []
  },
  {
   "cell_type": "code",
   "execution_count": null,
   "metadata": {},
   "outputs": [],
   "source": []
  },
  {
   "cell_type": "code",
   "execution_count": null,
   "metadata": {},
   "outputs": [],
   "source": []
  },
  {
   "cell_type": "code",
   "execution_count": null,
   "metadata": {},
   "outputs": [],
   "source": []
  }
 ],
 "metadata": {
  "kernelspec": {
   "display_name": "ids_data",
   "language": "python",
   "name": "ids_data"
  },
  "language_info": {
   "codemirror_mode": {
    "name": "ipython",
    "version": 3
   },
   "file_extension": ".py",
   "mimetype": "text/x-python",
   "name": "python",
   "nbconvert_exporter": "python",
   "pygments_lexer": "ipython3",
   "version": "3.8.5"
  }
 },
 "nbformat": 4,
 "nbformat_minor": 5
}
