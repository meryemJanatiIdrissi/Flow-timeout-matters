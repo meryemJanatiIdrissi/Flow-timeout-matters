{
 "cells": [
  {
   "cell_type": "code",
   "execution_count": 1,
   "metadata": {},
   "outputs": [],
   "source": [
    "import pandas as pd\n",
    "import numpy as np\n",
    "import polars as pl\n",
    "import glob\n",
    "import re\n",
    "import mapply\n",
    "from math import isnan\n",
    "pd.set_option('display.max_columns', 400)\n",
    "pd.set_option('display.max_rows', 400)\n",
    "pl.Config.set_tbl_cols(400)\n",
    "\n",
    "from numpy import asarray\n",
    "from numpy import savetxt"
   ]
  },
  {
   "cell_type": "code",
   "execution_count": null,
   "metadata": {},
   "outputs": [],
   "source": []
  },
  {
   "cell_type": "code",
   "execution_count": 2,
   "metadata": {},
   "outputs": [],
   "source": [
    "mapply.init(n_workers=-1)"
   ]
  },
  {
   "cell_type": "code",
   "execution_count": 3,
   "metadata": {},
   "outputs": [],
   "source": [
    "main_dir='/home/meryem.janati/lustre/nlp_team-um6p-st-sccs-id7fz1zvotk/IDS/janati/IDS/Datasets/cicids17/publicCSVs/CNS22_cic17'"
   ]
  },
  {
   "cell_type": "code",
   "execution_count": 4,
   "metadata": {},
   "outputs": [],
   "source": [
    "def extract_id(row):\n",
    "    return row['id.orig_h']+'-'+row['id.resp_h']+'-'+str(row['id.orig_p']).replace('.0', '')+'-'+str(row['id.resp_p']).replace('.0', '')+'-'+str(row['protocol'])"
   ]
  },
  {
   "cell_type": "code",
   "execution_count": 5,
   "metadata": {},
   "outputs": [],
   "source": [
    "dic_proto = {\n",
    "    'tcp': 6,              # Transmission Control Protocol\n",
    "    'udp': 17,             # User Datagram Protocol\n",
    "    'icmp': 1,             # Internet Control Message Protocol\n",
    "    'igmp': 2,             # Internet Group Management Protocol\n",
    "    'ipv6-icmp': 58,       # ICMP for IPv6\n",
    "    'sctp': 132,           # Stream Control Transmission Protocol\n",
    "    'rtp': 5004,           # Real-time Transport Protocol (Typically uses port 5004/5005)\n",
    "    'rtcp': 5005,          # Real-time Transport Control Protocol (Typically uses port 5005)\n",
    "    'udt': None,           # UDT is an application-level protocol, not an IP protocol, so no number\n",
    "    'arp': 'EtherType 0x0806',  # Address Resolution Protocol, uses EtherType 0x0806\n",
    "    'lldp': 'EtherType 0x88CC', # Link Layer Discovery Protocol, uses EtherType 0x88CC\n",
    "    'llc': 'Sub-layer of Data Link Layer',  # Logical Link Control is a sublayer, not a protocol number\n",
    "    'man': None            # No specific IP protocol number, possibly a custom or context-specific protocol\n",
    "}"
   ]
  },
  {
   "cell_type": "code",
   "execution_count": 6,
   "metadata": {},
   "outputs": [],
   "source": [
    "days = ['Friday-WorkingHours',  'Monday-WorkingHours',  'Thursday-WorkingHours',  'Tuesday-WorkingHours',  'Wednesday-workingHours']    \n",
    "timeouts = [0.5, 1, 2, 3, 4, 5, 6, 10, 30, 60]"
   ]
  },
  {
   "cell_type": "code",
   "execution_count": null,
   "metadata": {},
   "outputs": [],
   "source": []
  },
  {
   "cell_type": "markdown",
   "metadata": {},
   "source": [
    "# Process data extracted by Argus"
   ]
  },
  {
   "cell_type": "markdown",
   "metadata": {},
   "source": [
    "The following cells are to update the dict of port mapping"
   ]
  },
  {
   "cell_type": "code",
   "execution_count": 42,
   "metadata": {},
   "outputs": [],
   "source": [
    "def read_dataset_argus(out_dir):\n",
    "    files = glob.glob(out_dir+\"/features/*.csv\")\n",
    "    dfs = []\n",
    "    for file in files:\n",
    "        name = file.split('/')[-1].split('.')[0]\n",
    "        name = name.split('_features')[0]\n",
    "        dfi = pd.read_csv(file)\n",
    "        dfi['name'] = name\n",
    "        dfs.append(dfi)\n",
    "    df = pd.concat(dfs)\n",
    "    # df['Sport'] = pd.to_numeric(df['Sport'], errors='coerce', downcast='float')\n",
    "    # df['Dport'] = pd.to_numeric(df['Dport'], errors='coerce', downcast='float')\n",
    "    return df"
   ]
  },
  {
   "cell_type": "code",
   "execution_count": 43,
   "metadata": {},
   "outputs": [],
   "source": [
    "out_dir=f'/home/meryem.janati/lustre/nlp_team-um6p-st-sccs-id7fz1zvotk/IDS/janati/IDS/Datasets/cicids17/Argus/timeout1/'\n",
    "df = read_dataset_argus(out_dir)"
   ]
  },
  {
   "cell_type": "code",
   "execution_count": 44,
   "metadata": {},
   "outputs": [],
   "source": [
    "from numpy import asarray\n",
    "from numpy import savetxt\n",
    "\n",
    "list_ports = []\n",
    "def get_port_names(value):\n",
    "    try:\n",
    "        # Try to convert to an integer with base 10\n",
    "        int_value = int(value)\n",
    "        return int_value\n",
    "    except ValueError:\n",
    "        # If ValueError occurs, check if it's a valid hexadecimal\n",
    "        if str(value).startswith(\"0x\"):\n",
    "            try:\n",
    "                int_value = int(value, 16)  # Convert using base 16 for hex\n",
    "                return int_value\n",
    "            except ValueError:\n",
    "                list_ports.append(value)\n",
    "                return value\n",
    "        else:\n",
    "            list_ports.append(value)\n",
    "            return value"
   ]
  },
  {
   "cell_type": "code",
   "execution_count": 45,
   "metadata": {},
   "outputs": [],
   "source": [
    "df['Sport'].apply(get_port_names)\n",
    "unique_Sports = list(set(list_ports))\n",
    "Sports_data = [x for x in unique_Sports if x == x] # This is to remove nan rows\n",
    "savetxt('Sport_cic17_strings.txt', Sports_data , delimiter=',', fmt='%s')"
   ]
  },
  {
   "cell_type": "code",
   "execution_count": 46,
   "metadata": {},
   "outputs": [],
   "source": [
    "list_ports = []\n",
    "df['Dport'].apply(get_port_names)\n",
    "\n",
    "unique_Dports = list(set(list_ports))\n",
    "Dports_data = [x for x in unique_Dports if x == x] # This is to remove nan rows\n",
    "savetxt('Dport_cic17_strings.txt', Dports_data , delimiter=',', fmt='%s')"
   ]
  },
  {
   "cell_type": "code",
   "execution_count": 55,
   "metadata": {},
   "outputs": [
    {
     "data": {
      "text/plain": [
       "[]"
      ]
     },
     "execution_count": 55,
     "metadata": {},
     "output_type": "execute_result"
    }
   ],
   "source": [
    "combines_Sports_Dports = Dports_data + list(set(Sports_data) - set(Dports_data))\n",
    "lports = list(port_mapping.keys())\n",
    "\n",
    "diff = list(set(combines_Sports_Dports) - set(lports))\n",
    "diff"
   ]
  },
  {
   "cell_type": "code",
   "execution_count": 7,
   "metadata": {},
   "outputs": [],
   "source": [
    "port_mapping = {\n",
    "    # Ports from AutomaticallyGeneratedAttacks\n",
    "    'domain': 53,\n",
    "    'bgpd': 179,\n",
    "    'tcpmux': 1,\n",
    "    'ldaps': 636,\n",
    "    'kshell': 544,\n",
    "    'auth': 113,\n",
    "    'microsoft-ds': 445,\n",
    "    'whois': 43,\n",
    "    'ntp': 123,\n",
    "    'ssh': 22,\n",
    "    'enbd-cstatd': 2020,\n",
    "    'x11-4': 6004,\n",
    "    'spamd': 783,\n",
    "    'xmpp-client': 5222,\n",
    "    'ospfapi': 10101,\n",
    "    'imaps': 993,\n",
    "    'rmiregistry': 1099,\n",
    "    'chargen': 19,\n",
    "    'exec': 512,\n",
    "    'bootps': 67,\n",
    "    'pop3': 110,\n",
    "    'time': 37,\n",
    "    'cmip-man': 101,\n",
    "    'imap2': 143,\n",
    "    'sip-tls': 5061,\n",
    "    'https': 443,\n",
    "    'proofd': 4456,\n",
    "    'xmpp-server': 5269,\n",
    "    'http': 80,\n",
    "    'telnets': 23,\n",
    "    'bacula-fd': 9102,\n",
    "    'x11-2': 6002,\n",
    "    'amandaidx': 10080,\n",
    "    'netbios-dgm': 138,\n",
    "    'klogin': 543,\n",
    "    'moira-update': 8766,\n",
    "    'ripd': 520,\n",
    "    'afs3-callback': 7001,\n",
    "    'radmin-port': 4899,\n",
    "    'nfs': 2049,\n",
    "    'sane-port': 6566,\n",
    "    'webmin': 10000,\n",
    "    'kerberos': 88,\n",
    "    'ingreslock': 1524,\n",
    "    'rmtcfg': 4777,\n",
    "    'font-service': 7100,\n",
    "    'mdns': 5353,\n",
    "    'afs3-kaserver': 7000,\n",
    "    'poppassd': 106,\n",
    "    'kpasswd': 464,\n",
    "    'bacula-dir': 9101,\n",
    "    'sunrpc': 111,\n",
    "    'afs3-bos': 7002,\n",
    "    'bootpc': 68,\n",
    "    'shell': 514,\n",
    "    'sip': 5060,\n",
    "    'socks': 1080,\n",
    "    'ircd': 6667,\n",
    "    'radius': 1812,\n",
    "    'svrloc': 427,\n",
    "    'zope-ftp': 8021,\n",
    "    'bacula-sd': 9103,\n",
    "    'postgresql': 5432,\n",
    "    'hostmon': 8080,\n",
    "    'ms-sql-s': 1433,\n",
    "    'isisd': 4786,\n",
    "    'nrpe': 5666,\n",
    "    'x11-7': 6007,\n",
    "    'cisco-sccp': 2000,\n",
    "    'zebra': 2601,\n",
    "    'x11-5': 6005,\n",
    "    'ms-wbt-server': 3389,\n",
    "    'afpovertcp': 548,\n",
    "    'x11-1': 6001,\n",
    "    'ms-sql-m': 1434,\n",
    "    'smux': 199,\n",
    "    'login': 513,\n",
    "    'gris': 254,\n",
    "    'tacacs': 49,\n",
    "    'daap': 3689,\n",
    "    'cvspserver': 2401,\n",
    "    'submissions': 587,\n",
    "    'afs3-fileserver': 7003,\n",
    "    'telnet': 23,\n",
    "    'kerberos-adm': 749,\n",
    "    'bgp': 179,\n",
    "    'gsigatekeeper': 31112,\n",
    "    'epmap': 135,\n",
    "    'rootd': 1097,\n",
    "    'nntps': 563,\n",
    "    'ftps': 990,\n",
    "    'x11': 6000,\n",
    "    'ospfd': 520,\n",
    "    'ftp': 21,\n",
    "    'smtp': 25,\n",
    "    'echo': 7,\n",
    "    'ldap': 389,\n",
    "    'netbios-ns': 137,\n",
    "    'discard': 9,\n",
    "    'daytime': 13,\n",
    "    'svn': 3690,\n",
    "    'nntp': 119,\n",
    "    'gopher': 70,\n",
    "    'printer': 515,\n",
    "    'ipp': 631,\n",
    "    'afs3-prserver': 7004,\n",
    "    'mysql': 3306,\n",
    "    'tproxy': 12345,\n",
    "    'finger': 79,\n",
    "    'git': 9418,\n",
    "    'gsiftp': 2811,\n",
    "    'iprop': 4444,\n",
    "    'snmp': 161,\n",
    "    'rsync': 873,\n",
    "    'submission': 587,\n",
    "    'nut': 3493,\n",
    "    'gnutella-svc': 6346,\n",
    "    'iscsi-target': 3260,\n",
    "    'netbios-ssn': 139,\n",
    "    'pop3s': 995,\n",
    "    'cfinger': 10010,\n",
    "    'snpp': 444,\n",
    "    'x11-6': 6006,\n",
    "    'dhcpv6-server': 547,\n",
    "    'rtsp': 554,\n",
    "    'http-alt': 8080,\n",
    "    'lotusnote': 1352,\n",
    "    'ftp-data': 20,\n",
    "    'qotd': 17,\n",
    "    'omniorb': 2809,\n",
    "    'x11-3': 6003,\n",
    "    \n",
    "    'dircproxy': 12345,  # Example port number for dircproxy; adjust if needed\n",
    "    'dhcpv6-client': 546,  # Standard port number for DHCPv6 client\n",
    "    \n",
    "    # This is the updated ports from Baselines\n",
    "    'zabbix-agent': 10050,      # Zabbix agent port\n",
    "    'zope': 9673,              # Zope application server port\n",
    "    'xinetd': 513,             # xinetd (internet services daemon) port\n",
    "    'binkp': 2201,             # BINKP (BINKP mail transfer protocol) port\n",
    "    'sgi-cad': 5000,           # SGI CAD (Computer Aided Design) port\n",
    "    'xmms2': 5010,            # XMMS2 media player port\n",
    "    'asp': 80,                 # ASP (Active Server Pages) port (same as HTTP)\n",
    "    'nbd': 10809,              # NBD (Network Block Device) port\n",
    "    'dcap': 22128,             # DCAP (Distributed Component Object Model) port\n",
    "    'amidxtape': 3233,         # AMIDXTAPE (Amiga MIDI tape) port\n",
    "    'wnn6': 2040,              # WNN6 (Japanese input method) port\n",
    "    'db-lsp': 9999,            # DB-LSP (Database Language Service Protocol) port\n",
    "    'zabbix-trapper': 10051,   # Zabbix trapper port\n",
    "    'gnutella-rtr': 6346,      # Gnutella router port\n",
    "    'tfido': 6010,             # TFIDO (T-FIDO mail transfer protocol) port\n",
    "    'hkp': 11371,              # HKP (HTTP Keyserver Protocol) port\n",
    "    'kamanda': 9101,           # Kamanda (backup software) port\n",
    "    'gsidcap': 6500,           # GSIDCAP (Grid Security Infrastructure) port\n",
    "    'afs3-vlserver': 7005,     # AFS3 VLserver (Andrew File System version 3) port\n",
    "    'xpilot': 1790,            # XPilot (networked multiplayer game) port\n",
    "    'smsqp': 9010,             # SMSQP (SMS Queue Protocol) port\n",
    "    'amanda': 10080,           # Amanda (backup software) port\n",
    "    'clc-build-daemon': 10010, # CLC Build Daemon port\n",
    "    'fido': 3600,               # Fido (FidoNet mail transfer) port\n",
    "    \n",
    "    \n",
    "    #  the updated ports from HumanGeneratedAttackData\n",
    "    'csync2': 3480,            # CSYNC2 (file synchronization) port\n",
    "    'epmd': 4369,              # EPMD (Erlang Port Mapper Daemon) port\n",
    "    'qmqp': 209,               # QMQP (Quick Mail Queue Protocol) port\n",
    "    'skkserv': 117,            # SKK (Japanese Input Method) server port\n",
    "    'gpsd': 2947,              # GPSD (GPS Daemon) port\n",
    "    'afs3-errors': 7006,       # AFS3 Errors (Andrew File System version 3) port\n",
    "    'silc': 706,               # SILC (Secure Internet Live Conferencing) port\n",
    "    'radius-acct': 1813,       # RADIUS Accounting port\n",
    "    'cfengine': 5308,          # CFEngine (configuration management) port\n",
    "    'noclog': 6789,            # Noclog (network monitoring) port\n",
    "    'systat': 11,              # SYSTAT (system status) port\n",
    "    'support': 8081,           # SUPPORT (customer support) port\n",
    "    'acr-nema': 104,           # ACR-NEMA (DICOM) port\n",
    "    'iax': 4569,              # IAX (Inter-Asterisk eXchange) port\n",
    "    'iso-tsap': 2000,          # ISO-TSAP (ISO Transport Service Access Point) port\n",
    "    'kerberos4': 750,          # Kerberos 4 (authentication) port\n",
    "    'codasrv-se': 3200,        # CODASRV-SE (CODA file system) port\n",
    "    'datametrics': 15500,      # DataMetrics (data metrics) port\n",
    "    'mon': 6250,               # MON (monitoring) port\n",
    "    'snmp-trap': 162,          # SNMP Trap port\n",
    "    'gnunet': 2086,            # GNUnet (decentralized network) port\n",
    "    'dict': 2628,              # DICT (Dictionary server) port\n",
    "    'mtn': 3790,               # MTN (Monotone) port\n",
    "    'hylafax': 4559,           # Hylafax (fax server) port\n",
    "    'amqp': 5672,             # AMQP (Advanced Message Queuing Protocol) port\n",
    "    'zebrasrv': 2601,          # Zebra (routing) server port\n",
    "    'afs3-update': 7007,       # AFS3 Update (Andrew File System version 3) port\n",
    "    'qmtp': 209,               # QMTP (Quick Mail Transfer Protocol) port\n",
    "    'puppet': 8140,            # Puppet (configuration management) port\n",
    "    'venus-se': 3200,          # Venus SE (Coda file system) port\n",
    "    'zserv': 3100,             # Zserv (Zebra server) port\n",
    "    'amqps': 5671,             # AMQPS (AMQP Secure) port\n",
    "    'uucp': 540,               # UUCP (Unix-to-Unix Copy Protocol) port\n",
    "    'icpv2': 65000,            # ICPv2 (InterCluster Protocol version 2) port\n",
    "    'domain-s': 53,            # DOMAIN-S (alternative port for DNS) port\n",
    "    'venus': 2430,             # Venus (Coda file system) port\n",
    "    'ircs-u': 6697,            # IRCS-U (secure IRC) port\n",
    "    'sa-msg-port': 12000,      # SA MSG PORT (Message Port) port\n",
    "    'sysrqd': 5280,            # SYSRQD (System Request Daemon) port\n",
    "    'munin': 4949,             # Munin (network monitoring) port\n",
    "    'isdnlog': 3306,           # ISDN Log (ISDN logging) port\n",
    "    'ripngd': 521,             # RIPng (Routing Information Protocol next generation) port\n",
    "    'pcrd': 3001,              # PCRD (Pervasive Computing Radio Device) port\n",
    "    'bgpsim': 4500,            # BGPSIM (BGP Simulator) port\n",
    "    'afmbackup': 10001,        # AFM Backup (Advanced File Manager) port\n",
    "    'pawserv': 9100,           # PAWS (Printer Access and Web Services) port\n",
    "    'codaauth2': 389,          # CODA Authentication 2 (Coda file system) port\n",
    "    'freeciv': 5555,           # Freeciv (game server) port\n",
    "    'ospf6d': 2601,            # OSPF6D (Open Shortest Path First version 6) port\n",
    "    'codasrv': 3201,            # CODASRV (CODA file system) port\n",
    "    \n",
    "    ## Updated using CIC-IDS17 dataset\n",
    "    'vboxd': 20012,            # VBoxD (VirtualBox Daemon)\n",
    "    'sgi-gcd': 472,            # SGI GCD (Graphics Cluster Daemon)\n",
    "    'ipsec-nat-t': 4500,       # IPsec NAT-T (Network Address Translation Traversal)\n",
    "    'zephyr-clt': 2103,        # Zephyr Client\n",
    "    'sgi-cmsd': 490,           # SGI CMSD (Content Management Service Daemon)\n",
    "    'babel': 6696,             # Babel (routing protocol)\n",
    "    'f5-globalsite': 2792,     # F5 Global Site\n",
    "    'supfiledbg': 1127,        # SUPFILD DBG\n",
    "    'afs3-volser': 7005,       # AFS3 Volser (Andrew File System)\n",
    "    'canna': 5680,             # Canna (Japanese Input Method)\n",
    "    'mandelspawn': 9359,       # Mandelspawn\n",
    "    'suucp': 4031,             # SUUCP\n",
    "    'distmp3': 4600,           # Distmp3 (Distributed MP3 Encoding)\n",
    "    'sge-execd': 6445,         # SGE Execd (Sun Grid Engine execution daemon)\n",
    "    'afs3-rmtsys': 7500,       # AFS3 RmtSys (Andrew File System)\n",
    "    'f5-iquery': 4353,         # F5 iQuery\n",
    "    'distcc': 3632,            # Distcc (Distributed C Compiler)\n",
    "    'rplay': 5555,             # RPlay (audio player)\n",
    "    'groupwise': 1677,         # GroupWise (Novell)\n",
    "    'mysql-proxy': 4040,       # MySQL Proxy\n",
    "    'sieve': 4190,             # Sieve (Email Filtering)\n",
    "    'remctl': 4373,            # Remctl (Remote Command Execution)\n",
    "    'nsca': 5667,              # NSCA (Nagios Service Check Acceptor)\n",
    "    'predict': 1210,           # Predict\n",
    "    'fsp': 21,                 # FSP (File Service Protocol)\n",
    "    'dicom': 104,              # DICOM (Digital Imaging and Communications in Medicine)\n",
    "    'syslog-tls': 6514,        # Syslog over TLS\n",
    "    'kermit': 1649,            # Kermit (file transfer protocol)\n",
    "    'xtelw': 1313,             # XTELW\n",
    "    'sge-qmaster': 6444,       # SGE Qmaster (Sun Grid Engine master daemon)\n",
    "    'sgi-crsd': 491,           # SGI CRSD (Content Repository Service Daemon)\n",
    "    'mrtd': 5725,              # MRTD (Multicast Routing)\n",
    "    'gds-db': 3050,            # GDS DB (Firebird)\n",
    "    'fax': 4557,               # Fax (HylaFAX)\n",
    "    'afbackup': 2988,          # AFBackup (Client-Server Backup System)\n",
    "    'zephyr-srv': 2102,        # Zephyr Server\n",
    "    'isns': 3205,              # iSNS (Internet Storage Name Service)\n",
    "    'enbd-sstatd': 4910,       # ENBD SSTATD (Enhanced Network Block Device)\n",
    "    'openvpn': 1194,           # OpenVPN\n",
    "    'xtel': 1313,              # XTEL\n",
    "    'zephyr-hm': 2104,         # Zephyr HostManager\n",
    "    'rtcm-sc104': 2101,        # RTCM-SC104 (Real-Time Correction Messages)\n",
    "    'l2f': 1701,               # L2F (Layer 2 Forwarding)\n",
    "    'snap': 2030               # SNAP (Simple Network Audio Protocol)\n",
    "    \n",
    "}"
   ]
  },
  {
   "cell_type": "code",
   "execution_count": null,
   "metadata": {},
   "outputs": [],
   "source": []
  },
  {
   "cell_type": "markdown",
   "metadata": {},
   "source": [
    "Now we have an updated dict, we can continue ..."
   ]
  },
  {
   "cell_type": "code",
   "execution_count": 8,
   "metadata": {},
   "outputs": [],
   "source": [
    "def extract_id(row):\n",
    "    return row['SrcAddr']+'-'+row['DstAddr']+'-'+str(row['Sport_number']).replace('.0', '')+'-'+str(row['Dport_number']).replace('.0', '')+'-'+str(row['protocol'])"
   ]
  },
  {
   "cell_type": "code",
   "execution_count": 9,
   "metadata": {},
   "outputs": [],
   "source": [
    "# Function to check if the value is a string, decimal number, or hexadecimal number\n",
    "def get_port_numbers(value):\n",
    "    if value in port_mapping:\n",
    "        return port_mapping[value]\n",
    "    \n",
    "    try:\n",
    "        # Try to convert to an integer with base 10\n",
    "        int_value = int(value)\n",
    "        return int_value\n",
    "    except ValueError:\n",
    "        # If ValueError occurs, check if it's a valid hexadecimal\n",
    "        if str(value).startswith(\"0x\"):\n",
    "            try:\n",
    "                int_value = int(value, 16)  # Convert using base 16 for hex\n",
    "                return int_value\n",
    "            except ValueError:\n",
    "                return value\n",
    "        else:\n",
    "            return value\n"
   ]
  },
  {
   "cell_type": "code",
   "execution_count": null,
   "metadata": {},
   "outputs": [],
   "source": []
  },
  {
   "cell_type": "code",
   "execution_count": 10,
   "metadata": {},
   "outputs": [],
   "source": [
    "def load_years_dfs(path):\n",
    "    dfs = []\n",
    "    for day in days:\n",
    "        dd = day.split('-')[0].lower()\n",
    "        file = path+f'{day}_features.csv'\n",
    "        dfi = pd.read_csv(file)\n",
    "        \n",
    "        dfi['protocol'] = dfi['Proto'].map(dic_proto)\n",
    "        dfi['Dport_number'] = dfi['Dport'].apply(lambda x: pd.Series(get_port_numbers(x)))\n",
    "        dfi['Sport_number'] = dfi['Sport'].apply(lambda x: pd.Series(get_port_numbers(x)))\n",
    "        dfi['Dport_number'] = dfi['Dport_number'].astype('Int64')\n",
    "        dfi['Sport_number'] = dfi['Sport_number'].astype('Int64')\n",
    "        dfi = dfi.drop(columns=['Label']) # Drop the column 'Label' generated by Argus which is empty (NaN), and this to prevent problems when merging (Label_y)\n",
    "        dfi['Flow ID'] = dfi.mapply(extract_id, axis=1)\n",
    "        \n",
    "        df_labels = pd.read_csv(f'{main_dir}/{dd}.csv')\n",
    "        df_labels = df_labels[['Flow ID', 'Label', 'Attempted Category']]\n",
    "        print('labels shape before dedup', df_labels.shape)\n",
    "        df_labels = df_labels.drop_duplicates()\n",
    "        print('labels shape after dedup', df_labels.shape)\n",
    "        df_labeled = pd.merge(dfi, df_labels, on='Flow ID')\n",
    "        \n",
    "        df_labeled = df_labeled.drop_duplicates()\n",
    "\n",
    "        dfs.append(df_labeled)\n",
    "    df = pd.concat(dfs)  \n",
    "    return df"
   ]
  },
  {
   "cell_type": "code",
   "execution_count": null,
   "metadata": {},
   "outputs": [],
   "source": []
  },
  {
   "cell_type": "code",
   "execution_count": 11,
   "metadata": {},
   "outputs": [
    {
     "name": "stdout",
     "output_type": "stream",
     "text": [
      "Processing timeout  0.5 ...\n"
     ]
    },
    {
     "data": {
      "application/vnd.jupyter.widget-view+json": {
       "model_id": "b45642ade0e24de4b060d9fbfba3ef10",
       "version_major": 2,
       "version_minor": 0
      },
      "text/plain": [
       "  0%|          | 0/232 [00:00<?, ?it/s]"
      ]
     },
     "metadata": {},
     "output_type": "display_data"
    },
    {
     "name": "stdout",
     "output_type": "stream",
     "text": [
      "labels shape before dedup (547557, 3)\n",
      "labels shape after dedup (396761, 3)\n"
     ]
    },
    {
     "data": {
      "application/vnd.jupyter.widget-view+json": {
       "model_id": "66a1ea717af946d4af565e9997895da1",
       "version_major": 2,
       "version_minor": 0
      },
      "text/plain": [
       "  0%|          | 0/232 [00:00<?, ?it/s]"
      ]
     },
     "metadata": {},
     "output_type": "display_data"
    },
    {
     "name": "stdout",
     "output_type": "stream",
     "text": [
      "labels shape before dedup (371624, 3)\n",
      "labels shape after dedup (249126, 3)\n"
     ]
    },
    {
     "data": {
      "application/vnd.jupyter.widget-view+json": {
       "model_id": "b0ceb5dc5b9b4113a32b5c52901f1afd",
       "version_major": 2,
       "version_minor": 0
      },
      "text/plain": [
       "  0%|          | 0/232 [00:00<?, ?it/s]"
      ]
     },
     "metadata": {},
     "output_type": "display_data"
    },
    {
     "name": "stdout",
     "output_type": "stream",
     "text": [
      "labels shape before dedup (362076, 3)\n",
      "labels shape after dedup (258728, 3)\n"
     ]
    },
    {
     "data": {
      "application/vnd.jupyter.widget-view+json": {
       "model_id": "0e9af51dac95467baf250f79270d6939",
       "version_major": 2,
       "version_minor": 0
      },
      "text/plain": [
       "  0%|          | 0/232 [00:00<?, ?it/s]"
      ]
     },
     "metadata": {},
     "output_type": "display_data"
    },
    {
     "name": "stdout",
     "output_type": "stream",
     "text": [
      "labels shape before dedup (322078, 3)\n",
      "labels shape after dedup (211729, 3)\n"
     ]
    },
    {
     "data": {
      "application/vnd.jupyter.widget-view+json": {
       "model_id": "5db8654566e142499d9056495602e2ed",
       "version_major": 2,
       "version_minor": 0
      },
      "text/plain": [
       "  0%|          | 0/232 [00:00<?, ?it/s]"
      ]
     },
     "metadata": {},
     "output_type": "display_data"
    },
    {
     "name": "stdout",
     "output_type": "stream",
     "text": [
      "labels shape before dedup (496641, 3)\n",
      "labels shape after dedup (243486, 3)\n",
      "Index(['SrcId', 'Rank', 'StartTime', 'LastTime', 'Trans', 'Flgs', 'Seq', 'Dur',\n",
      "       'RunTime', 'IdleTime',\n",
      "       ...\n",
      "       'TcpRtt', 'SynAck', 'AckDat', 'TcpOpt', 'protocol', 'Dport_number',\n",
      "       'Sport_number', 'Flow ID', 'Label', 'Attempted Category'],\n",
      "      dtype='object', length=114)\n",
      "Benign                        3351486\n",
      "DoS Hulk                       225202\n",
      "Portscan                       157550\n",
      "DDoS                           155487\n",
      "DoS GoldenEye                  128904\n",
      "Infiltration - Portscan         60812\n",
      "DoS Slowloris                   45804\n",
      "DoS Slowhttptest                25875\n",
      "SSH-Patator                      8717\n",
      "FTP-Patator                      7941\n",
      "Botnet                            742\n",
      "Web Attack - Brute Force          504\n",
      "Infiltration                      288\n",
      "Web Attack - XSS                  253\n",
      "Heartbleed                        246\n",
      "Web Attack - SQL Injection         26\n",
      "Name: Attack, dtype: int64\n",
      "______________________________________________\n",
      "Processing timeout  1 ...\n"
     ]
    },
    {
     "data": {
      "application/vnd.jupyter.widget-view+json": {
       "model_id": "d8be76b56c5248808b48c1783dc147c0",
       "version_major": 2,
       "version_minor": 0
      },
      "text/plain": [
       "  0%|          | 0/232 [00:00<?, ?it/s]"
      ]
     },
     "metadata": {},
     "output_type": "display_data"
    },
    {
     "name": "stdout",
     "output_type": "stream",
     "text": [
      "labels shape before dedup (547557, 3)\n",
      "labels shape after dedup (396761, 3)\n"
     ]
    },
    {
     "data": {
      "application/vnd.jupyter.widget-view+json": {
       "model_id": "88522015bdc24192a1eee784ae7e8a29",
       "version_major": 2,
       "version_minor": 0
      },
      "text/plain": [
       "  0%|          | 0/232 [00:00<?, ?it/s]"
      ]
     },
     "metadata": {},
     "output_type": "display_data"
    },
    {
     "name": "stdout",
     "output_type": "stream",
     "text": [
      "labels shape before dedup (371624, 3)\n",
      "labels shape after dedup (249126, 3)\n"
     ]
    },
    {
     "data": {
      "application/vnd.jupyter.widget-view+json": {
       "model_id": "3bdf0dba08d3423590602d351db7da05",
       "version_major": 2,
       "version_minor": 0
      },
      "text/plain": [
       "  0%|          | 0/232 [00:00<?, ?it/s]"
      ]
     },
     "metadata": {},
     "output_type": "display_data"
    },
    {
     "name": "stdout",
     "output_type": "stream",
     "text": [
      "labels shape before dedup (362076, 3)\n",
      "labels shape after dedup (258728, 3)\n"
     ]
    },
    {
     "data": {
      "application/vnd.jupyter.widget-view+json": {
       "model_id": "ef232e73817344aab7a1dc3ed579c11e",
       "version_major": 2,
       "version_minor": 0
      },
      "text/plain": [
       "  0%|          | 0/232 [00:00<?, ?it/s]"
      ]
     },
     "metadata": {},
     "output_type": "display_data"
    },
    {
     "name": "stdout",
     "output_type": "stream",
     "text": [
      "labels shape before dedup (322078, 3)\n",
      "labels shape after dedup (211729, 3)\n"
     ]
    },
    {
     "data": {
      "application/vnd.jupyter.widget-view+json": {
       "model_id": "2bc8f4415bfe4c20a35fdcc613c33c20",
       "version_major": 2,
       "version_minor": 0
      },
      "text/plain": [
       "  0%|          | 0/232 [00:00<?, ?it/s]"
      ]
     },
     "metadata": {},
     "output_type": "display_data"
    },
    {
     "name": "stdout",
     "output_type": "stream",
     "text": [
      "labels shape before dedup (496641, 3)\n",
      "labels shape after dedup (243486, 3)\n",
      "Index(['SrcId', 'Rank', 'StartTime', 'LastTime', 'Trans', 'Flgs', 'Seq', 'Dur',\n",
      "       'RunTime', 'IdleTime',\n",
      "       ...\n",
      "       'TcpRtt', 'SynAck', 'AckDat', 'TcpOpt', 'protocol', 'Dport_number',\n",
      "       'Sport_number', 'Flow ID', 'Label', 'Attempted Category'],\n",
      "      dtype='object', length=114)\n",
      "Benign                        3349757\n",
      "DoS Hulk                       223064\n",
      "Portscan                       157549\n",
      "DDoS                           155412\n",
      "DoS GoldenEye                  127964\n",
      "Infiltration - Portscan         60154\n",
      "DoS Slowloris                   44008\n",
      "DoS Slowhttptest                25616\n",
      "SSH-Patator                      8717\n",
      "FTP-Patator                      7941\n",
      "Botnet                            742\n",
      "Web Attack - Brute Force          504\n",
      "Infiltration                      288\n",
      "Web Attack - XSS                  253\n",
      "Heartbleed                        246\n",
      "Web Attack - SQL Injection         26\n",
      "Name: Attack, dtype: int64\n",
      "______________________________________________\n",
      "Processing timeout  2 ...\n"
     ]
    },
    {
     "data": {
      "application/vnd.jupyter.widget-view+json": {
       "model_id": "f1262878b65048f7bbcc99da280ba32e",
       "version_major": 2,
       "version_minor": 0
      },
      "text/plain": [
       "  0%|          | 0/232 [00:00<?, ?it/s]"
      ]
     },
     "metadata": {},
     "output_type": "display_data"
    },
    {
     "name": "stdout",
     "output_type": "stream",
     "text": [
      "labels shape before dedup (547557, 3)\n",
      "labels shape after dedup (396761, 3)\n"
     ]
    },
    {
     "data": {
      "application/vnd.jupyter.widget-view+json": {
       "model_id": "9ea349e8f4764eb39c4517bb60e5887f",
       "version_major": 2,
       "version_minor": 0
      },
      "text/plain": [
       "  0%|          | 0/232 [00:00<?, ?it/s]"
      ]
     },
     "metadata": {},
     "output_type": "display_data"
    },
    {
     "name": "stdout",
     "output_type": "stream",
     "text": [
      "labels shape before dedup (371624, 3)\n",
      "labels shape after dedup (249126, 3)\n"
     ]
    },
    {
     "data": {
      "application/vnd.jupyter.widget-view+json": {
       "model_id": "23380ca36f3740ee97a8a8d3d0555cc5",
       "version_major": 2,
       "version_minor": 0
      },
      "text/plain": [
       "  0%|          | 0/232 [00:00<?, ?it/s]"
      ]
     },
     "metadata": {},
     "output_type": "display_data"
    },
    {
     "name": "stdout",
     "output_type": "stream",
     "text": [
      "labels shape before dedup (362076, 3)\n",
      "labels shape after dedup (258728, 3)\n"
     ]
    },
    {
     "data": {
      "application/vnd.jupyter.widget-view+json": {
       "model_id": "439a8fea8bb14f98be3717ac597d3457",
       "version_major": 2,
       "version_minor": 0
      },
      "text/plain": [
       "  0%|          | 0/232 [00:00<?, ?it/s]"
      ]
     },
     "metadata": {},
     "output_type": "display_data"
    },
    {
     "name": "stdout",
     "output_type": "stream",
     "text": [
      "labels shape before dedup (322078, 3)\n",
      "labels shape after dedup (211729, 3)\n"
     ]
    },
    {
     "data": {
      "application/vnd.jupyter.widget-view+json": {
       "model_id": "1764696901384b5a884d9f66bc26b560",
       "version_major": 2,
       "version_minor": 0
      },
      "text/plain": [
       "  0%|          | 0/232 [00:00<?, ?it/s]"
      ]
     },
     "metadata": {},
     "output_type": "display_data"
    },
    {
     "name": "stdout",
     "output_type": "stream",
     "text": [
      "labels shape before dedup (496641, 3)\n",
      "labels shape after dedup (243486, 3)\n",
      "Index(['SrcId', 'Rank', 'StartTime', 'LastTime', 'Trans', 'Flgs', 'Seq', 'Dur',\n",
      "       'RunTime', 'IdleTime',\n",
      "       ...\n",
      "       'TcpRtt', 'SynAck', 'AckDat', 'TcpOpt', 'protocol', 'Dport_number',\n",
      "       'Sport_number', 'Flow ID', 'Label', 'Attempted Category'],\n",
      "      dtype='object', length=114)\n",
      "Benign                        3350246\n",
      "DoS Hulk                       223086\n",
      "Portscan                       157549\n",
      "DDoS                           155412\n",
      "DoS GoldenEye                  127980\n",
      "Infiltration - Portscan         60208\n",
      "DoS Slowloris                   44006\n",
      "DoS Slowhttptest                25622\n",
      "SSH-Patator                      8717\n",
      "FTP-Patator                      7941\n",
      "Botnet                            742\n",
      "Web Attack - Brute Force          504\n",
      "Infiltration                      288\n",
      "Web Attack - XSS                  253\n",
      "Heartbleed                        246\n",
      "Web Attack - SQL Injection         26\n",
      "Name: Attack, dtype: int64\n",
      "______________________________________________\n",
      "Processing timeout  3 ...\n"
     ]
    },
    {
     "data": {
      "application/vnd.jupyter.widget-view+json": {
       "model_id": "af96c12ddb19436d9de18a6949c7ac52",
       "version_major": 2,
       "version_minor": 0
      },
      "text/plain": [
       "  0%|          | 0/232 [00:00<?, ?it/s]"
      ]
     },
     "metadata": {},
     "output_type": "display_data"
    },
    {
     "name": "stdout",
     "output_type": "stream",
     "text": [
      "labels shape before dedup (547557, 3)\n",
      "labels shape after dedup (396761, 3)\n"
     ]
    },
    {
     "data": {
      "application/vnd.jupyter.widget-view+json": {
       "model_id": "5bc7a6523e3941c88dd8f4f61fbcd36c",
       "version_major": 2,
       "version_minor": 0
      },
      "text/plain": [
       "  0%|          | 0/232 [00:00<?, ?it/s]"
      ]
     },
     "metadata": {},
     "output_type": "display_data"
    },
    {
     "name": "stdout",
     "output_type": "stream",
     "text": [
      "labels shape before dedup (371624, 3)\n",
      "labels shape after dedup (249126, 3)\n"
     ]
    },
    {
     "data": {
      "application/vnd.jupyter.widget-view+json": {
       "model_id": "e76924f68be44d689650a82e1681d518",
       "version_major": 2,
       "version_minor": 0
      },
      "text/plain": [
       "  0%|          | 0/232 [00:00<?, ?it/s]"
      ]
     },
     "metadata": {},
     "output_type": "display_data"
    },
    {
     "name": "stdout",
     "output_type": "stream",
     "text": [
      "labels shape before dedup (362076, 3)\n",
      "labels shape after dedup (258728, 3)\n"
     ]
    },
    {
     "data": {
      "application/vnd.jupyter.widget-view+json": {
       "model_id": "2f922d07677c4c18a07504722eaacc3e",
       "version_major": 2,
       "version_minor": 0
      },
      "text/plain": [
       "  0%|          | 0/232 [00:00<?, ?it/s]"
      ]
     },
     "metadata": {},
     "output_type": "display_data"
    },
    {
     "name": "stdout",
     "output_type": "stream",
     "text": [
      "labels shape before dedup (322078, 3)\n",
      "labels shape after dedup (211729, 3)\n"
     ]
    },
    {
     "data": {
      "application/vnd.jupyter.widget-view+json": {
       "model_id": "d2e5a8affae14938b558e0cc65f43fc7",
       "version_major": 2,
       "version_minor": 0
      },
      "text/plain": [
       "  0%|          | 0/232 [00:00<?, ?it/s]"
      ]
     },
     "metadata": {},
     "output_type": "display_data"
    },
    {
     "name": "stdout",
     "output_type": "stream",
     "text": [
      "labels shape before dedup (496641, 3)\n",
      "labels shape after dedup (243486, 3)\n",
      "Index(['SrcId', 'Rank', 'StartTime', 'LastTime', 'Trans', 'Flgs', 'Seq', 'Dur',\n",
      "       'RunTime', 'IdleTime',\n",
      "       ...\n",
      "       'TcpRtt', 'SynAck', 'AckDat', 'TcpOpt', 'protocol', 'Dport_number',\n",
      "       'Sport_number', 'Flow ID', 'Label', 'Attempted Category'],\n",
      "      dtype='object', length=114)\n",
      "Benign                        3350889\n",
      "DoS Hulk                       223086\n",
      "Portscan                       157549\n",
      "DDoS                           155416\n",
      "DoS GoldenEye                  127980\n",
      "Infiltration - Portscan         60405\n",
      "DoS Slowloris                   44004\n",
      "DoS Slowhttptest                25624\n",
      "SSH-Patator                      8717\n",
      "FTP-Patator                      7941\n",
      "Botnet                            742\n",
      "Web Attack - Brute Force          504\n",
      "Infiltration                      288\n",
      "Web Attack - XSS                  253\n",
      "Heartbleed                        246\n",
      "Web Attack - SQL Injection         26\n",
      "Name: Attack, dtype: int64\n",
      "______________________________________________\n",
      "Processing timeout  4 ...\n"
     ]
    },
    {
     "data": {
      "application/vnd.jupyter.widget-view+json": {
       "model_id": "ea1ae2202842498e91d4f0a0cec8434b",
       "version_major": 2,
       "version_minor": 0
      },
      "text/plain": [
       "  0%|          | 0/232 [00:00<?, ?it/s]"
      ]
     },
     "metadata": {},
     "output_type": "display_data"
    },
    {
     "name": "stdout",
     "output_type": "stream",
     "text": [
      "labels shape before dedup (547557, 3)\n",
      "labels shape after dedup (396761, 3)\n"
     ]
    },
    {
     "data": {
      "application/vnd.jupyter.widget-view+json": {
       "model_id": "bb90ec03b5f643de9f2d0d8244070901",
       "version_major": 2,
       "version_minor": 0
      },
      "text/plain": [
       "  0%|          | 0/232 [00:00<?, ?it/s]"
      ]
     },
     "metadata": {},
     "output_type": "display_data"
    },
    {
     "name": "stdout",
     "output_type": "stream",
     "text": [
      "labels shape before dedup (371624, 3)\n",
      "labels shape after dedup (249126, 3)\n"
     ]
    },
    {
     "data": {
      "application/vnd.jupyter.widget-view+json": {
       "model_id": "0285aa338eff46be8395ab055ba14580",
       "version_major": 2,
       "version_minor": 0
      },
      "text/plain": [
       "  0%|          | 0/232 [00:00<?, ?it/s]"
      ]
     },
     "metadata": {},
     "output_type": "display_data"
    },
    {
     "name": "stdout",
     "output_type": "stream",
     "text": [
      "labels shape before dedup (362076, 3)\n",
      "labels shape after dedup (258728, 3)\n"
     ]
    },
    {
     "data": {
      "application/vnd.jupyter.widget-view+json": {
       "model_id": "7349b0181fdc4c1dbcb778355ff1275c",
       "version_major": 2,
       "version_minor": 0
      },
      "text/plain": [
       "  0%|          | 0/232 [00:00<?, ?it/s]"
      ]
     },
     "metadata": {},
     "output_type": "display_data"
    },
    {
     "name": "stdout",
     "output_type": "stream",
     "text": [
      "labels shape before dedup (322078, 3)\n",
      "labels shape after dedup (211729, 3)\n"
     ]
    },
    {
     "data": {
      "application/vnd.jupyter.widget-view+json": {
       "model_id": "64250a4fe3fc47e68cf9fa1497d1f9f9",
       "version_major": 2,
       "version_minor": 0
      },
      "text/plain": [
       "  0%|          | 0/232 [00:00<?, ?it/s]"
      ]
     },
     "metadata": {},
     "output_type": "display_data"
    },
    {
     "name": "stdout",
     "output_type": "stream",
     "text": [
      "labels shape before dedup (496641, 3)\n",
      "labels shape after dedup (243486, 3)\n",
      "Index(['SrcId', 'Rank', 'StartTime', 'LastTime', 'Trans', 'Flgs', 'Seq', 'Dur',\n",
      "       'RunTime', 'IdleTime',\n",
      "       ...\n",
      "       'TcpRtt', 'SynAck', 'AckDat', 'TcpOpt', 'protocol', 'Dport_number',\n",
      "       'Sport_number', 'Flow ID', 'Label', 'Attempted Category'],\n",
      "      dtype='object', length=114)\n",
      "Benign                        3351007\n",
      "DoS Hulk                       223084\n",
      "Portscan                       157549\n",
      "DDoS                           155422\n",
      "DoS GoldenEye                  127978\n",
      "Infiltration - Portscan         60666\n",
      "DoS Slowloris                   44002\n",
      "DoS Slowhttptest                25624\n",
      "SSH-Patator                      8717\n",
      "FTP-Patator                      7941\n",
      "Botnet                            742\n",
      "Web Attack - Brute Force          504\n",
      "Infiltration                      288\n",
      "Web Attack - XSS                  253\n",
      "Heartbleed                        246\n",
      "Web Attack - SQL Injection         26\n",
      "Name: Attack, dtype: int64\n",
      "______________________________________________\n",
      "Processing timeout  5 ...\n"
     ]
    },
    {
     "data": {
      "application/vnd.jupyter.widget-view+json": {
       "model_id": "417aa77fcdff4a6592ccd46a948b7b9a",
       "version_major": 2,
       "version_minor": 0
      },
      "text/plain": [
       "  0%|          | 0/232 [00:00<?, ?it/s]"
      ]
     },
     "metadata": {},
     "output_type": "display_data"
    },
    {
     "name": "stdout",
     "output_type": "stream",
     "text": [
      "labels shape before dedup (547557, 3)\n",
      "labels shape after dedup (396761, 3)\n"
     ]
    },
    {
     "data": {
      "application/vnd.jupyter.widget-view+json": {
       "model_id": "ea5f19b3057a47cb8a61dc17bcf09a04",
       "version_major": 2,
       "version_minor": 0
      },
      "text/plain": [
       "  0%|          | 0/232 [00:00<?, ?it/s]"
      ]
     },
     "metadata": {},
     "output_type": "display_data"
    },
    {
     "name": "stdout",
     "output_type": "stream",
     "text": [
      "labels shape before dedup (371624, 3)\n",
      "labels shape after dedup (249126, 3)\n"
     ]
    },
    {
     "data": {
      "application/vnd.jupyter.widget-view+json": {
       "model_id": "a5095080c66742a18e118ff8a04615a7",
       "version_major": 2,
       "version_minor": 0
      },
      "text/plain": [
       "  0%|          | 0/232 [00:00<?, ?it/s]"
      ]
     },
     "metadata": {},
     "output_type": "display_data"
    },
    {
     "name": "stdout",
     "output_type": "stream",
     "text": [
      "labels shape before dedup (362076, 3)\n",
      "labels shape after dedup (258728, 3)\n"
     ]
    },
    {
     "data": {
      "application/vnd.jupyter.widget-view+json": {
       "model_id": "d72c344e98554e60b16e33696c66999d",
       "version_major": 2,
       "version_minor": 0
      },
      "text/plain": [
       "  0%|          | 0/232 [00:00<?, ?it/s]"
      ]
     },
     "metadata": {},
     "output_type": "display_data"
    },
    {
     "name": "stdout",
     "output_type": "stream",
     "text": [
      "labels shape before dedup (322078, 3)\n",
      "labels shape after dedup (211729, 3)\n"
     ]
    },
    {
     "data": {
      "application/vnd.jupyter.widget-view+json": {
       "model_id": "d8d2b242bcd94593a0ce67e24d405778",
       "version_major": 2,
       "version_minor": 0
      },
      "text/plain": [
       "  0%|          | 0/232 [00:00<?, ?it/s]"
      ]
     },
     "metadata": {},
     "output_type": "display_data"
    },
    {
     "name": "stdout",
     "output_type": "stream",
     "text": [
      "labels shape before dedup (496641, 3)\n",
      "labels shape after dedup (243486, 3)\n",
      "Index(['SrcId', 'Rank', 'StartTime', 'LastTime', 'Trans', 'Flgs', 'Seq', 'Dur',\n",
      "       'RunTime', 'IdleTime',\n",
      "       ...\n",
      "       'TcpRtt', 'SynAck', 'AckDat', 'TcpOpt', 'protocol', 'Dport_number',\n",
      "       'Sport_number', 'Flow ID', 'Label', 'Attempted Category'],\n",
      "      dtype='object', length=114)\n",
      "Benign                        3351014\n",
      "DoS Hulk                       223084\n",
      "Portscan                       157549\n",
      "DDoS                           155435\n",
      "DoS GoldenEye                  127978\n",
      "Infiltration - Portscan         60669\n",
      "DoS Slowloris                   44002\n",
      "DoS Slowhttptest                25624\n",
      "SSH-Patator                      8717\n",
      "FTP-Patator                      7941\n",
      "Botnet                            742\n",
      "Web Attack - Brute Force          504\n",
      "Infiltration                      288\n",
      "Web Attack - XSS                  253\n",
      "Heartbleed                        246\n",
      "Web Attack - SQL Injection         26\n",
      "Name: Attack, dtype: int64\n",
      "______________________________________________\n",
      "Processing timeout  6 ...\n"
     ]
    },
    {
     "data": {
      "application/vnd.jupyter.widget-view+json": {
       "model_id": "aeb08e6ca5e24e348909355cf6009413",
       "version_major": 2,
       "version_minor": 0
      },
      "text/plain": [
       "  0%|          | 0/232 [00:00<?, ?it/s]"
      ]
     },
     "metadata": {},
     "output_type": "display_data"
    },
    {
     "name": "stdout",
     "output_type": "stream",
     "text": [
      "labels shape before dedup (547557, 3)\n",
      "labels shape after dedup (396761, 3)\n"
     ]
    },
    {
     "data": {
      "application/vnd.jupyter.widget-view+json": {
       "model_id": "bc6431d677e54e7bbdca4083c6266964",
       "version_major": 2,
       "version_minor": 0
      },
      "text/plain": [
       "  0%|          | 0/232 [00:00<?, ?it/s]"
      ]
     },
     "metadata": {},
     "output_type": "display_data"
    },
    {
     "name": "stdout",
     "output_type": "stream",
     "text": [
      "labels shape before dedup (371624, 3)\n",
      "labels shape after dedup (249126, 3)\n"
     ]
    },
    {
     "data": {
      "application/vnd.jupyter.widget-view+json": {
       "model_id": "061f4f2ee4714dc6af129aec9632cddf",
       "version_major": 2,
       "version_minor": 0
      },
      "text/plain": [
       "  0%|          | 0/232 [00:00<?, ?it/s]"
      ]
     },
     "metadata": {},
     "output_type": "display_data"
    },
    {
     "name": "stdout",
     "output_type": "stream",
     "text": [
      "labels shape before dedup (362076, 3)\n",
      "labels shape after dedup (258728, 3)\n"
     ]
    },
    {
     "data": {
      "application/vnd.jupyter.widget-view+json": {
       "model_id": "24a001b448264a9ca5564b769c0104fa",
       "version_major": 2,
       "version_minor": 0
      },
      "text/plain": [
       "  0%|          | 0/232 [00:00<?, ?it/s]"
      ]
     },
     "metadata": {},
     "output_type": "display_data"
    },
    {
     "name": "stdout",
     "output_type": "stream",
     "text": [
      "labels shape before dedup (322078, 3)\n",
      "labels shape after dedup (211729, 3)\n"
     ]
    },
    {
     "data": {
      "application/vnd.jupyter.widget-view+json": {
       "model_id": "689c16cafbd040e191c82f73ace9a205",
       "version_major": 2,
       "version_minor": 0
      },
      "text/plain": [
       "  0%|          | 0/232 [00:00<?, ?it/s]"
      ]
     },
     "metadata": {},
     "output_type": "display_data"
    },
    {
     "name": "stdout",
     "output_type": "stream",
     "text": [
      "labels shape before dedup (496641, 3)\n",
      "labels shape after dedup (243486, 3)\n",
      "Index(['SrcId', 'Rank', 'StartTime', 'LastTime', 'Trans', 'Flgs', 'Seq', 'Dur',\n",
      "       'RunTime', 'IdleTime',\n",
      "       ...\n",
      "       'TcpRtt', 'SynAck', 'AckDat', 'TcpOpt', 'protocol', 'Dport_number',\n",
      "       'Sport_number', 'Flow ID', 'Label', 'Attempted Category'],\n",
      "      dtype='object', length=114)\n",
      "Benign                        3351051\n",
      "DoS Hulk                       223078\n",
      "Portscan                       157549\n",
      "DDoS                           155435\n",
      "DoS GoldenEye                  127972\n",
      "Infiltration - Portscan         60669\n",
      "DoS Slowloris                   43996\n",
      "DoS Slowhttptest                25624\n",
      "SSH-Patator                      8717\n",
      "FTP-Patator                      7941\n",
      "Botnet                            742\n",
      "Web Attack - Brute Force          504\n",
      "Infiltration                      288\n",
      "Web Attack - XSS                  253\n",
      "Heartbleed                        246\n",
      "Web Attack - SQL Injection         26\n",
      "Name: Attack, dtype: int64\n",
      "______________________________________________\n",
      "Processing timeout  10 ...\n"
     ]
    },
    {
     "data": {
      "application/vnd.jupyter.widget-view+json": {
       "model_id": "f651c935956542ea87e67ff3b4867e61",
       "version_major": 2,
       "version_minor": 0
      },
      "text/plain": [
       "  0%|          | 0/232 [00:00<?, ?it/s]"
      ]
     },
     "metadata": {},
     "output_type": "display_data"
    },
    {
     "name": "stdout",
     "output_type": "stream",
     "text": [
      "labels shape before dedup (547557, 3)\n",
      "labels shape after dedup (396761, 3)\n"
     ]
    },
    {
     "data": {
      "application/vnd.jupyter.widget-view+json": {
       "model_id": "25a772e1209f43a8a624482c2a18ca78",
       "version_major": 2,
       "version_minor": 0
      },
      "text/plain": [
       "  0%|          | 0/232 [00:00<?, ?it/s]"
      ]
     },
     "metadata": {},
     "output_type": "display_data"
    },
    {
     "name": "stdout",
     "output_type": "stream",
     "text": [
      "labels shape before dedup (371624, 3)\n",
      "labels shape after dedup (249126, 3)\n"
     ]
    },
    {
     "data": {
      "application/vnd.jupyter.widget-view+json": {
       "model_id": "6e74cb5c30a148be8a55cc99806e2e46",
       "version_major": 2,
       "version_minor": 0
      },
      "text/plain": [
       "  0%|          | 0/232 [00:00<?, ?it/s]"
      ]
     },
     "metadata": {},
     "output_type": "display_data"
    },
    {
     "name": "stdout",
     "output_type": "stream",
     "text": [
      "labels shape before dedup (362076, 3)\n",
      "labels shape after dedup (258728, 3)\n"
     ]
    },
    {
     "data": {
      "application/vnd.jupyter.widget-view+json": {
       "model_id": "8617f21bc6254f29bfceec7c91825944",
       "version_major": 2,
       "version_minor": 0
      },
      "text/plain": [
       "  0%|          | 0/232 [00:00<?, ?it/s]"
      ]
     },
     "metadata": {},
     "output_type": "display_data"
    },
    {
     "name": "stdout",
     "output_type": "stream",
     "text": [
      "labels shape before dedup (322078, 3)\n",
      "labels shape after dedup (211729, 3)\n"
     ]
    },
    {
     "data": {
      "application/vnd.jupyter.widget-view+json": {
       "model_id": "16c09c5bc01d407eab85569e9398e732",
       "version_major": 2,
       "version_minor": 0
      },
      "text/plain": [
       "  0%|          | 0/232 [00:00<?, ?it/s]"
      ]
     },
     "metadata": {},
     "output_type": "display_data"
    },
    {
     "name": "stdout",
     "output_type": "stream",
     "text": [
      "labels shape before dedup (496641, 3)\n",
      "labels shape after dedup (243486, 3)\n",
      "Index(['SrcId', 'Rank', 'StartTime', 'LastTime', 'Trans', 'Flgs', 'Seq', 'Dur',\n",
      "       'RunTime', 'IdleTime',\n",
      "       ...\n",
      "       'TcpRtt', 'SynAck', 'AckDat', 'TcpOpt', 'protocol', 'Dport_number',\n",
      "       'Sport_number', 'Flow ID', 'Label', 'Attempted Category'],\n",
      "      dtype='object', length=114)\n",
      "Benign                        3351190\n",
      "DoS Hulk                       225138\n",
      "Portscan                       157549\n",
      "DDoS                           155435\n",
      "DoS GoldenEye                  128883\n",
      "Infiltration - Portscan         60669\n",
      "DoS Slowloris                   45777\n",
      "DoS Slowhttptest                25862\n",
      "SSH-Patator                      8717\n",
      "FTP-Patator                      7941\n",
      "Botnet                            742\n",
      "Web Attack - Brute Force          504\n",
      "Infiltration                      288\n",
      "Web Attack - XSS                  253\n",
      "Heartbleed                        246\n",
      "Web Attack - SQL Injection         26\n",
      "Name: Attack, dtype: int64\n",
      "______________________________________________\n",
      "Processing timeout  30 ...\n"
     ]
    },
    {
     "data": {
      "application/vnd.jupyter.widget-view+json": {
       "model_id": "84a89221211e492391931ce70b5da3e5",
       "version_major": 2,
       "version_minor": 0
      },
      "text/plain": [
       "  0%|          | 0/232 [00:00<?, ?it/s]"
      ]
     },
     "metadata": {},
     "output_type": "display_data"
    },
    {
     "name": "stdout",
     "output_type": "stream",
     "text": [
      "labels shape before dedup (547557, 3)\n",
      "labels shape after dedup (396761, 3)\n"
     ]
    },
    {
     "data": {
      "application/vnd.jupyter.widget-view+json": {
       "model_id": "d5f1eb2038b34fe6bf887dceb42fca48",
       "version_major": 2,
       "version_minor": 0
      },
      "text/plain": [
       "  0%|          | 0/232 [00:00<?, ?it/s]"
      ]
     },
     "metadata": {},
     "output_type": "display_data"
    },
    {
     "name": "stdout",
     "output_type": "stream",
     "text": [
      "labels shape before dedup (371624, 3)\n",
      "labels shape after dedup (249126, 3)\n"
     ]
    },
    {
     "data": {
      "application/vnd.jupyter.widget-view+json": {
       "model_id": "334ef25963e14c6682a40167e2f60b83",
       "version_major": 2,
       "version_minor": 0
      },
      "text/plain": [
       "  0%|          | 0/232 [00:00<?, ?it/s]"
      ]
     },
     "metadata": {},
     "output_type": "display_data"
    },
    {
     "name": "stdout",
     "output_type": "stream",
     "text": [
      "labels shape before dedup (362076, 3)\n",
      "labels shape after dedup (258728, 3)\n"
     ]
    },
    {
     "data": {
      "application/vnd.jupyter.widget-view+json": {
       "model_id": "f2ef0c66f7a143bab4653e113ab12f6b",
       "version_major": 2,
       "version_minor": 0
      },
      "text/plain": [
       "  0%|          | 0/232 [00:00<?, ?it/s]"
      ]
     },
     "metadata": {},
     "output_type": "display_data"
    },
    {
     "name": "stdout",
     "output_type": "stream",
     "text": [
      "labels shape before dedup (322078, 3)\n",
      "labels shape after dedup (211729, 3)\n"
     ]
    },
    {
     "data": {
      "application/vnd.jupyter.widget-view+json": {
       "model_id": "92c6d886de574a5a89abc945f5f86416",
       "version_major": 2,
       "version_minor": 0
      },
      "text/plain": [
       "  0%|          | 0/232 [00:00<?, ?it/s]"
      ]
     },
     "metadata": {},
     "output_type": "display_data"
    },
    {
     "name": "stdout",
     "output_type": "stream",
     "text": [
      "labels shape before dedup (496641, 3)\n",
      "labels shape after dedup (243486, 3)\n",
      "Index(['SrcId', 'Rank', 'StartTime', 'LastTime', 'Trans', 'Flgs', 'Seq', 'Dur',\n",
      "       'RunTime', 'IdleTime',\n",
      "       ...\n",
      "       'TcpRtt', 'SynAck', 'AckDat', 'TcpOpt', 'protocol', 'Dport_number',\n",
      "       'Sport_number', 'Flow ID', 'Label', 'Attempted Category'],\n",
      "      dtype='object', length=114)\n",
      "Benign                        3351463\n",
      "DoS Hulk                       225179\n",
      "Portscan                       157549\n",
      "DDoS                           155435\n",
      "DoS GoldenEye                  128891\n",
      "Infiltration - Portscan         60812\n",
      "DoS Slowloris                   45803\n",
      "DoS Slowhttptest                25870\n",
      "SSH-Patator                      8717\n",
      "FTP-Patator                      7941\n",
      "Botnet                            742\n",
      "Web Attack - Brute Force          504\n",
      "Infiltration                      288\n",
      "Web Attack - XSS                  253\n",
      "Heartbleed                        246\n",
      "Web Attack - SQL Injection         26\n",
      "Name: Attack, dtype: int64\n",
      "______________________________________________\n",
      "Processing timeout  60 ...\n"
     ]
    },
    {
     "data": {
      "application/vnd.jupyter.widget-view+json": {
       "model_id": "aa9f71592f3948108575289f09814805",
       "version_major": 2,
       "version_minor": 0
      },
      "text/plain": [
       "  0%|          | 0/232 [00:00<?, ?it/s]"
      ]
     },
     "metadata": {},
     "output_type": "display_data"
    },
    {
     "name": "stdout",
     "output_type": "stream",
     "text": [
      "labels shape before dedup (547557, 3)\n",
      "labels shape after dedup (396761, 3)\n"
     ]
    },
    {
     "data": {
      "application/vnd.jupyter.widget-view+json": {
       "model_id": "0717e1d8b0b34b608b3a1ef5c5f717a7",
       "version_major": 2,
       "version_minor": 0
      },
      "text/plain": [
       "  0%|          | 0/232 [00:00<?, ?it/s]"
      ]
     },
     "metadata": {},
     "output_type": "display_data"
    },
    {
     "name": "stdout",
     "output_type": "stream",
     "text": [
      "labels shape before dedup (371624, 3)\n",
      "labels shape after dedup (249126, 3)\n"
     ]
    },
    {
     "data": {
      "application/vnd.jupyter.widget-view+json": {
       "model_id": "204e973481064ea59a1d5a6fa7f6320e",
       "version_major": 2,
       "version_minor": 0
      },
      "text/plain": [
       "  0%|          | 0/232 [00:00<?, ?it/s]"
      ]
     },
     "metadata": {},
     "output_type": "display_data"
    },
    {
     "name": "stdout",
     "output_type": "stream",
     "text": [
      "labels shape before dedup (362076, 3)\n",
      "labels shape after dedup (258728, 3)\n"
     ]
    },
    {
     "data": {
      "application/vnd.jupyter.widget-view+json": {
       "model_id": "05e9a08dee1e4f22a059f01c95eb133e",
       "version_major": 2,
       "version_minor": 0
      },
      "text/plain": [
       "  0%|          | 0/232 [00:00<?, ?it/s]"
      ]
     },
     "metadata": {},
     "output_type": "display_data"
    },
    {
     "name": "stdout",
     "output_type": "stream",
     "text": [
      "labels shape before dedup (322078, 3)\n",
      "labels shape after dedup (211729, 3)\n"
     ]
    },
    {
     "data": {
      "application/vnd.jupyter.widget-view+json": {
       "model_id": "b4a473a100c041fa8625319fe9c7555a",
       "version_major": 2,
       "version_minor": 0
      },
      "text/plain": [
       "  0%|          | 0/232 [00:00<?, ?it/s]"
      ]
     },
     "metadata": {},
     "output_type": "display_data"
    },
    {
     "name": "stdout",
     "output_type": "stream",
     "text": [
      "labels shape before dedup (496641, 3)\n",
      "labels shape after dedup (243486, 3)\n",
      "Index(['SrcId', 'Rank', 'StartTime', 'LastTime', 'Trans', 'Flgs', 'Seq', 'Dur',\n",
      "       'RunTime', 'IdleTime',\n",
      "       ...\n",
      "       'TcpRtt', 'SynAck', 'AckDat', 'TcpOpt', 'protocol', 'Dport_number',\n",
      "       'Sport_number', 'Flow ID', 'Label', 'Attempted Category'],\n",
      "      dtype='object', length=114)\n",
      "Benign                        3351486\n",
      "DoS Hulk                       225202\n",
      "Portscan                       157550\n",
      "DDoS                           155487\n",
      "DoS GoldenEye                  128904\n",
      "Infiltration - Portscan         60812\n",
      "DoS Slowloris                   45804\n",
      "DoS Slowhttptest                25875\n",
      "SSH-Patator                      8717\n",
      "FTP-Patator                      7941\n",
      "Botnet                            742\n",
      "Web Attack - Brute Force          504\n",
      "Infiltration                      288\n",
      "Web Attack - XSS                  253\n",
      "Heartbleed                        246\n",
      "Web Attack - SQL Injection         26\n",
      "Name: Attack, dtype: int64\n",
      "______________________________________________\n"
     ]
    }
   ],
   "source": [
    "for timeout in timeouts:\n",
    "    print(\"Processing timeout \", timeout, \"...\")\n",
    "    #out_dir = f'/home/abdelkader.elmahdaou/lustre/data_sec-um6p-st-sccs-6sevvl76uja/IDS/mahdaouy/fixed_timeouts_v2/new_idle_{idle}min_active_{active}min/CUPID'\n",
    "    out_dir=f'/home/meryem.janati/lustre/nlp_team-um6p-st-sccs-id7fz1zvotk/IDS/janati/IDS/Datasets/cicids17/Argus/timeout{timeout}/'\n",
    "    path=f'/home/meryem.janati/lustre/nlp_team-um6p-st-sccs-id7fz1zvotk/IDS/janati/IDS/Datasets/cicids17/Argus/timeout{timeout}/features/'\n",
    "\n",
    "    df = load_years_dfs(path)\n",
    "    print(df.columns)\n",
    "    df = df.rename(columns={\"Label\": \"Attack\"})\n",
    "    df.loc[df['Attack'] == 'BENIGN', 'Attack' ] = 'Benign'\n",
    "    df = df[df['Attempted Category'] == -1]\n",
    "    df = df.drop(columns=['Flow ID', 'Attempted Category', 'protocol', 'Dport_number', 'Sport_number'])\n",
    "    print(df['Attack'].value_counts())\n",
    "    df.to_csv(f'{out_dir}/CIC-IDS-2017_zeek_{timeout}.csv', index=False, header=True)\n",
    "    print(\"______________________________________________\")\n",
    "    "
   ]
  },
  {
   "cell_type": "code",
   "execution_count": null,
   "metadata": {},
   "outputs": [],
   "source": []
  },
  {
   "cell_type": "markdown",
   "metadata": {},
   "source": [
    "Processing with default timeout parameter"
   ]
  },
  {
   "cell_type": "code",
   "execution_count": 12,
   "metadata": {},
   "outputs": [
    {
     "name": "stdout",
     "output_type": "stream",
     "text": [
      "Processing with default timeout parameters ...\n"
     ]
    },
    {
     "data": {
      "application/vnd.jupyter.widget-view+json": {
       "model_id": "23331f3b2784461186f4faa864b77fd9",
       "version_major": 2,
       "version_minor": 0
      },
      "text/plain": [
       "  0%|          | 0/232 [00:00<?, ?it/s]"
      ]
     },
     "metadata": {},
     "output_type": "display_data"
    },
    {
     "name": "stdout",
     "output_type": "stream",
     "text": [
      "labels shape before dedup (547557, 3)\n",
      "labels shape after dedup (396761, 3)\n"
     ]
    },
    {
     "data": {
      "application/vnd.jupyter.widget-view+json": {
       "model_id": "64e9557ca40e4a69953ae88089c136fa",
       "version_major": 2,
       "version_minor": 0
      },
      "text/plain": [
       "  0%|          | 0/232 [00:00<?, ?it/s]"
      ]
     },
     "metadata": {},
     "output_type": "display_data"
    },
    {
     "name": "stdout",
     "output_type": "stream",
     "text": [
      "labels shape before dedup (371624, 3)\n",
      "labels shape after dedup (249126, 3)\n"
     ]
    },
    {
     "data": {
      "application/vnd.jupyter.widget-view+json": {
       "model_id": "f472932f64bc4be9aa688bf86b9fc565",
       "version_major": 2,
       "version_minor": 0
      },
      "text/plain": [
       "  0%|          | 0/232 [00:00<?, ?it/s]"
      ]
     },
     "metadata": {},
     "output_type": "display_data"
    },
    {
     "name": "stdout",
     "output_type": "stream",
     "text": [
      "labels shape before dedup (362076, 3)\n",
      "labels shape after dedup (258728, 3)\n"
     ]
    },
    {
     "data": {
      "application/vnd.jupyter.widget-view+json": {
       "model_id": "6347d03d8ea34352a0438ea2c25d65f0",
       "version_major": 2,
       "version_minor": 0
      },
      "text/plain": [
       "  0%|          | 0/232 [00:00<?, ?it/s]"
      ]
     },
     "metadata": {},
     "output_type": "display_data"
    },
    {
     "name": "stdout",
     "output_type": "stream",
     "text": [
      "labels shape before dedup (322078, 3)\n",
      "labels shape after dedup (211729, 3)\n"
     ]
    },
    {
     "data": {
      "application/vnd.jupyter.widget-view+json": {
       "model_id": "1659c2e82b23491d968c9090cbf6d18f",
       "version_major": 2,
       "version_minor": 0
      },
      "text/plain": [
       "  0%|          | 0/232 [00:00<?, ?it/s]"
      ]
     },
     "metadata": {},
     "output_type": "display_data"
    },
    {
     "name": "stdout",
     "output_type": "stream",
     "text": [
      "labels shape before dedup (496641, 3)\n",
      "labels shape after dedup (243486, 3)\n",
      "Index(['SrcId', 'Rank', 'StartTime', 'LastTime', 'Trans', 'Flgs', 'Seq', 'Dur',\n",
      "       'RunTime', 'IdleTime',\n",
      "       ...\n",
      "       'TcpRtt', 'SynAck', 'AckDat', 'TcpOpt', 'protocol', 'Dport_number',\n",
      "       'Sport_number', 'Flow ID', 'Label', 'Attempted Category'],\n",
      "      dtype='object', length=114)\n",
      "Benign                        3351486\n",
      "DoS Hulk                       225202\n",
      "Portscan                       157550\n",
      "DDoS                           155487\n",
      "DoS GoldenEye                  128904\n",
      "Infiltration - Portscan         60812\n",
      "DoS Slowloris                   45804\n",
      "DoS Slowhttptest                25875\n",
      "SSH-Patator                      8717\n",
      "FTP-Patator                      7941\n",
      "Botnet                            742\n",
      "Web Attack - Brute Force          504\n",
      "Infiltration                      288\n",
      "Web Attack - XSS                  253\n",
      "Heartbleed                        246\n",
      "Web Attack - SQL Injection         26\n",
      "Name: Attack, dtype: int64\n",
      "______________________________________________\n"
     ]
    }
   ],
   "source": [
    "print(\"Processing with default timeout parameters ...\")\n",
    "#out_dir = f'/home/abdelkader.elmahdaou/lustre/data_sec-um6p-st-sccs-6sevvl76uja/IDS/mahdaouy/fixed_timeouts_v2/new_idle_{idle}min_active_{active}min/CUPID'\n",
    "out_dir=f'/home/meryem.janati/lustre/nlp_team-um6p-st-sccs-id7fz1zvotk/IDS/janati/IDS/Datasets/cicids17/Argus/default/'\n",
    "path=f'/home/meryem.janati/lustre/nlp_team-um6p-st-sccs-id7fz1zvotk/IDS/janati/IDS/Datasets/cicids17/Argus/default/features/'\n",
    "\n",
    "df = load_years_dfs(path)\n",
    "print(df.columns)\n",
    "df = df.rename(columns={\"Label\": \"Attack\"})\n",
    "df.loc[df['Attack'] == 'BENIGN', 'Attack' ] = 'Benign'\n",
    "df = df[df['Attempted Category'] == -1]\n",
    "df = df.drop(columns=['Flow ID', 'Attempted Category', 'protocol', 'Dport_number', 'Sport_number'])\n",
    "print(df['Attack'].value_counts())\n",
    "df.to_csv(f'{out_dir}/CIC-IDS-2017_zeek_default.csv', index=False, header=True)\n",
    "print(\"______________________________________________\")\n"
   ]
  },
  {
   "cell_type": "code",
   "execution_count": null,
   "metadata": {},
   "outputs": [],
   "source": []
  }
 ],
 "metadata": {
  "kernelspec": {
   "display_name": "FedLab",
   "language": "python",
   "name": "fedlab"
  },
  "language_info": {
   "codemirror_mode": {
    "name": "ipython",
    "version": 3
   },
   "file_extension": ".py",
   "mimetype": "text/x-python",
   "name": "python",
   "nbconvert_exporter": "python",
   "pygments_lexer": "ipython3",
   "version": "3.8.5"
  }
 },
 "nbformat": 4,
 "nbformat_minor": 5
}
