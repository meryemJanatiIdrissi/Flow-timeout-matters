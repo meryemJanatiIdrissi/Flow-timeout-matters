{
 "cells": [
  {
   "cell_type": "code",
   "execution_count": 1,
   "metadata": {},
   "outputs": [],
   "source": [
    "import pandas as pd\n",
    "import numpy as np\n",
    "import polars as pl\n",
    "import glob\n",
    "import re\n",
    "import mapply\n",
    "from math import isnan\n",
    "pd.set_option('display.max_columns', 400)\n",
    "pd.set_option('display.max_rows', 400)\n",
    "pl.Config.set_tbl_cols(400)\n",
    "\n",
    "from numpy import asarray\n",
    "from numpy import savetxt"
   ]
  },
  {
   "cell_type": "code",
   "execution_count": null,
   "metadata": {},
   "outputs": [],
   "source": []
  },
  {
   "cell_type": "code",
   "execution_count": 2,
   "metadata": {},
   "outputs": [],
   "source": [
    "mapply.init(n_workers=-1)"
   ]
  },
  {
   "cell_type": "code",
   "execution_count": 3,
   "metadata": {},
   "outputs": [],
   "source": [
    "main_dir='/home/meryem.janati/lustre/nlp_team-um6p-st-sccs-id7fz1zvotk/IDS/janati/IDS/Datasets/cicids17/publicCSVs/CNS22_cic17'"
   ]
  },
  {
   "cell_type": "code",
   "execution_count": 4,
   "metadata": {},
   "outputs": [],
   "source": [
    "def extract_id(row):\n",
    "    return row['id.orig_h']+'-'+row['id.resp_h']+'-'+str(row['id.orig_p']).replace('.0', '')+'-'+str(row['id.resp_p']).replace('.0', '')+'-'+str(row['protocol'])"
   ]
  },
  {
   "cell_type": "code",
   "execution_count": 5,
   "metadata": {},
   "outputs": [],
   "source": [
    "dic_proto = {\n",
    "    'tcp': 6,              # Transmission Control Protocol\n",
    "    'udp': 17,             # User Datagram Protocol\n",
    "    'icmp': 1,             # Internet Control Message Protocol\n",
    "    'igmp': 2,             # Internet Group Management Protocol\n",
    "    'ipv6-icmp': 58,       # ICMP for IPv6\n",
    "    'sctp': 132,           # Stream Control Transmission Protocol\n",
    "    'rtp': 5004,           # Real-time Transport Protocol (Typically uses port 5004/5005)\n",
    "    'rtcp': 5005,          # Real-time Transport Control Protocol (Typically uses port 5005)\n",
    "    'udt': None,           # UDT is an application-level protocol, not an IP protocol, so no number\n",
    "    'arp': 'EtherType 0x0806',  # Address Resolution Protocol, uses EtherType 0x0806\n",
    "    'lldp': 'EtherType 0x88CC', # Link Layer Discovery Protocol, uses EtherType 0x88CC\n",
    "    'llc': 'Sub-layer of Data Link Layer',  # Logical Link Control is a sublayer, not a protocol number\n",
    "    'man': None            # No specific IP protocol number, possibly a custom or context-specific protocol\n",
    "}"
   ]
  },
  {
   "cell_type": "code",
   "execution_count": 6,
   "metadata": {},
   "outputs": [],
   "source": [
    "days = ['Friday-WorkingHours',  'Monday-WorkingHours',  'Thursday-WorkingHours',  'Tuesday-WorkingHours',  'Wednesday-workingHours']    \n",
    "timeouts = [0.5, 1, 2, 3, 4, 5, 6, 10, 30, 60]"
   ]
  },
  {
   "cell_type": "code",
   "execution_count": null,
   "metadata": {},
   "outputs": [],
   "source": []
  },
  {
   "cell_type": "code",
   "execution_count": 15,
   "metadata": {},
   "outputs": [],
   "source": [
    "def load_years_dfs(path):\n",
    "    dfs = []\n",
    "    for day in days:\n",
    "        dd = day.split('-')[0].lower()\n",
    "        file = path+f'{day}_conn.log'\n",
    "        dfi = pd.read_csv(file, sep=\"\\t\", comment='#',\n",
    "                         names=['ts', 'uid', 'id.orig_h', 'id.orig_p',\n",
    "                                'id.resp_h', 'id.resp_p', 'proto', 'service',\n",
    "                                'duration',  'orig_bytes', 'resp_bytes',\n",
    "                                'conn_state', 'local_orig', 'local_resp',\n",
    "                                'missed_bytes',  'history', 'orig_pkts',\n",
    "                                'orig_ip_bytes', 'resp_pkts', 'resp_ip_bytes',\n",
    "                                'tunnel_parents'])\n",
    "        \n",
    "        dfi['protocol'] = dfi['proto'].map(dic_proto)\n",
    "        dfi['Flow ID'] = dfi.mapply(extract_id, axis=1)\n",
    "        \n",
    "        df_labels = pd.read_csv(f'{main_dir}/{dd}.csv')\n",
    "        df_labels = df_labels[['Flow ID', 'Label', 'Attempted Category']]\n",
    "        print('labels shape before dedup', df_labels.shape)\n",
    "        df_labels = df_labels.drop_duplicates()\n",
    "        print('labels shape after dedup', df_labels.shape)\n",
    "        df_labeled = pd.merge(dfi, df_labels, on='Flow ID')\n",
    "        \n",
    "        df_labeled = df_labeled.drop_duplicates()\n",
    "\n",
    "        dfs.append(df_labeled)\n",
    "    df = pd.concat(dfs)  \n",
    "    return df"
   ]
  },
  {
   "cell_type": "code",
   "execution_count": 16,
   "metadata": {},
   "outputs": [
    {
     "name": "stdout",
     "output_type": "stream",
     "text": [
      "Processing timeout  0.5 ...\n"
     ]
    },
    {
     "data": {
      "application/vnd.jupyter.widget-view+json": {
       "model_id": "ab7974aa57fc45d4b7c6bddac2980942",
       "version_major": 2,
       "version_minor": 0
      },
      "text/plain": [
       "  0%|          | 0/232 [00:00<?, ?it/s]"
      ]
     },
     "metadata": {},
     "output_type": "display_data"
    },
    {
     "name": "stdout",
     "output_type": "stream",
     "text": [
      "labels shape before dedup (547557, 3)\n",
      "labels shape after dedup (396761, 3)\n"
     ]
    },
    {
     "data": {
      "application/vnd.jupyter.widget-view+json": {
       "model_id": "0d9bc04bb3dc414c8e7094cabfe42897",
       "version_major": 2,
       "version_minor": 0
      },
      "text/plain": [
       "  0%|          | 0/232 [00:00<?, ?it/s]"
      ]
     },
     "metadata": {},
     "output_type": "display_data"
    },
    {
     "name": "stdout",
     "output_type": "stream",
     "text": [
      "labels shape before dedup (371624, 3)\n",
      "labels shape after dedup (249126, 3)\n"
     ]
    },
    {
     "data": {
      "application/vnd.jupyter.widget-view+json": {
       "model_id": "d83c9d25144744be9bd15a05ca3b524e",
       "version_major": 2,
       "version_minor": 0
      },
      "text/plain": [
       "  0%|          | 0/232 [00:00<?, ?it/s]"
      ]
     },
     "metadata": {},
     "output_type": "display_data"
    },
    {
     "name": "stdout",
     "output_type": "stream",
     "text": [
      "labels shape before dedup (362076, 3)\n",
      "labels shape after dedup (258728, 3)\n"
     ]
    },
    {
     "data": {
      "application/vnd.jupyter.widget-view+json": {
       "model_id": "66395401ce364bd49a71331125de2238",
       "version_major": 2,
       "version_minor": 0
      },
      "text/plain": [
       "  0%|          | 0/232 [00:00<?, ?it/s]"
      ]
     },
     "metadata": {},
     "output_type": "display_data"
    },
    {
     "name": "stdout",
     "output_type": "stream",
     "text": [
      "labels shape before dedup (322078, 3)\n",
      "labels shape after dedup (211729, 3)\n"
     ]
    },
    {
     "data": {
      "application/vnd.jupyter.widget-view+json": {
       "model_id": "4d2e93bf5e2f4f4f98cf8cc21ecabff0",
       "version_major": 2,
       "version_minor": 0
      },
      "text/plain": [
       "  0%|          | 0/232 [00:00<?, ?it/s]"
      ]
     },
     "metadata": {},
     "output_type": "display_data"
    },
    {
     "name": "stdout",
     "output_type": "stream",
     "text": [
      "labels shape before dedup (496641, 3)\n",
      "labels shape after dedup (243486, 3)\n",
      "Benign                        1700398\n",
      "DoS Hulk                       199162\n",
      "Portscan                       159747\n",
      "DoS GoldenEye                  108901\n",
      "DDoS                            94884\n",
      "Infiltration - Portscan         68493\n",
      "DoS Slowloris                   35198\n",
      "DoS Slowhttptest                21245\n",
      "FTP-Patator                      3972\n",
      "SSH-Patator                      2960\n",
      "Botnet                            757\n",
      "Web Attack - Brute Force           74\n",
      "Infiltration                       41\n",
      "Web Attack - XSS                   21\n",
      "Web Attack - SQL Injection         13\n",
      "Heartbleed                          1\n",
      "Name: Attack, dtype: int64\n",
      "______________________________________________\n",
      "Processing timeout  1 ...\n"
     ]
    },
    {
     "data": {
      "application/vnd.jupyter.widget-view+json": {
       "model_id": "cd1a27cd39a64c4ab55b2660e76a6119",
       "version_major": 2,
       "version_minor": 0
      },
      "text/plain": [
       "  0%|          | 0/232 [00:00<?, ?it/s]"
      ]
     },
     "metadata": {},
     "output_type": "display_data"
    },
    {
     "name": "stdout",
     "output_type": "stream",
     "text": [
      "labels shape before dedup (547557, 3)\n",
      "labels shape after dedup (396761, 3)\n"
     ]
    },
    {
     "data": {
      "application/vnd.jupyter.widget-view+json": {
       "model_id": "d2d766a4114e4cecac4ee2c4c5344b9a",
       "version_major": 2,
       "version_minor": 0
      },
      "text/plain": [
       "  0%|          | 0/232 [00:00<?, ?it/s]"
      ]
     },
     "metadata": {},
     "output_type": "display_data"
    },
    {
     "name": "stdout",
     "output_type": "stream",
     "text": [
      "labels shape before dedup (371624, 3)\n",
      "labels shape after dedup (249126, 3)\n"
     ]
    },
    {
     "data": {
      "application/vnd.jupyter.widget-view+json": {
       "model_id": "42f745096bad4a6d9b4eebd868bab9e5",
       "version_major": 2,
       "version_minor": 0
      },
      "text/plain": [
       "  0%|          | 0/232 [00:00<?, ?it/s]"
      ]
     },
     "metadata": {},
     "output_type": "display_data"
    },
    {
     "name": "stdout",
     "output_type": "stream",
     "text": [
      "labels shape before dedup (362076, 3)\n",
      "labels shape after dedup (258728, 3)\n"
     ]
    },
    {
     "data": {
      "application/vnd.jupyter.widget-view+json": {
       "model_id": "e0f6a8e62fc942f98f332207be2d9c10",
       "version_major": 2,
       "version_minor": 0
      },
      "text/plain": [
       "  0%|          | 0/232 [00:00<?, ?it/s]"
      ]
     },
     "metadata": {},
     "output_type": "display_data"
    },
    {
     "name": "stdout",
     "output_type": "stream",
     "text": [
      "labels shape before dedup (322078, 3)\n",
      "labels shape after dedup (211729, 3)\n"
     ]
    },
    {
     "data": {
      "application/vnd.jupyter.widget-view+json": {
       "model_id": "48f27b79918f4188bb76f5c4cc90a5cc",
       "version_major": 2,
       "version_minor": 0
      },
      "text/plain": [
       "  0%|          | 0/232 [00:00<?, ?it/s]"
      ]
     },
     "metadata": {},
     "output_type": "display_data"
    },
    {
     "name": "stdout",
     "output_type": "stream",
     "text": [
      "labels shape before dedup (496641, 3)\n",
      "labels shape after dedup (243486, 3)\n",
      "Benign                        1588174\n",
      "DoS Hulk                       196001\n",
      "Portscan                       159747\n",
      "DoS GoldenEye                  107304\n",
      "DDoS                            94826\n",
      "Infiltration - Portscan         68493\n",
      "DoS Slowloris                   33182\n",
      "DoS Slowhttptest                20872\n",
      "FTP-Patator                      3972\n",
      "SSH-Patator                      2960\n",
      "Botnet                            757\n",
      "Web Attack - Brute Force           74\n",
      "Web Attack - XSS                   21\n",
      "Infiltration                       16\n",
      "Web Attack - SQL Injection         13\n",
      "Heartbleed                          1\n",
      "Name: Attack, dtype: int64\n",
      "______________________________________________\n",
      "Processing timeout  2 ...\n"
     ]
    },
    {
     "data": {
      "application/vnd.jupyter.widget-view+json": {
       "model_id": "9a45682d06c2459b8b06ba1045b79d1b",
       "version_major": 2,
       "version_minor": 0
      },
      "text/plain": [
       "  0%|          | 0/232 [00:00<?, ?it/s]"
      ]
     },
     "metadata": {},
     "output_type": "display_data"
    },
    {
     "name": "stdout",
     "output_type": "stream",
     "text": [
      "labels shape before dedup (547557, 3)\n",
      "labels shape after dedup (396761, 3)\n"
     ]
    },
    {
     "data": {
      "application/vnd.jupyter.widget-view+json": {
       "model_id": "a0e061e5bb6b4bec9a155c8f0322abea",
       "version_major": 2,
       "version_minor": 0
      },
      "text/plain": [
       "  0%|          | 0/232 [00:00<?, ?it/s]"
      ]
     },
     "metadata": {},
     "output_type": "display_data"
    },
    {
     "name": "stdout",
     "output_type": "stream",
     "text": [
      "labels shape before dedup (371624, 3)\n",
      "labels shape after dedup (249126, 3)\n"
     ]
    },
    {
     "data": {
      "application/vnd.jupyter.widget-view+json": {
       "model_id": "3a622b61ef4640389c12e1d6a83bfb86",
       "version_major": 2,
       "version_minor": 0
      },
      "text/plain": [
       "  0%|          | 0/232 [00:00<?, ?it/s]"
      ]
     },
     "metadata": {},
     "output_type": "display_data"
    },
    {
     "name": "stdout",
     "output_type": "stream",
     "text": [
      "labels shape before dedup (362076, 3)\n",
      "labels shape after dedup (258728, 3)\n"
     ]
    },
    {
     "data": {
      "application/vnd.jupyter.widget-view+json": {
       "model_id": "f1e60f7ec5ee424094f0505567d6941f",
       "version_major": 2,
       "version_minor": 0
      },
      "text/plain": [
       "  0%|          | 0/232 [00:00<?, ?it/s]"
      ]
     },
     "metadata": {},
     "output_type": "display_data"
    },
    {
     "name": "stdout",
     "output_type": "stream",
     "text": [
      "labels shape before dedup (322078, 3)\n",
      "labels shape after dedup (211729, 3)\n"
     ]
    },
    {
     "data": {
      "application/vnd.jupyter.widget-view+json": {
       "model_id": "c422b9ef8ec1466ba16a41e0ffd79926",
       "version_major": 2,
       "version_minor": 0
      },
      "text/plain": [
       "  0%|          | 0/232 [00:00<?, ?it/s]"
      ]
     },
     "metadata": {},
     "output_type": "display_data"
    },
    {
     "name": "stdout",
     "output_type": "stream",
     "text": [
      "labels shape before dedup (496641, 3)\n",
      "labels shape after dedup (243486, 3)\n",
      "Benign                        1570251\n",
      "DoS Hulk                       190837\n",
      "Portscan                       159747\n",
      "DoS GoldenEye                  104781\n",
      "DDoS                            94783\n",
      "Infiltration - Portscan         68493\n",
      "DoS Slowloris                   30694\n",
      "DoS Slowhttptest                18992\n",
      "FTP-Patator                      3972\n",
      "SSH-Patator                      2960\n",
      "Botnet                            757\n",
      "Web Attack - Brute Force           74\n",
      "Web Attack - XSS                   21\n",
      "Web Attack - SQL Injection         13\n",
      "Infiltration                        7\n",
      "Heartbleed                          1\n",
      "Name: Attack, dtype: int64\n",
      "______________________________________________\n",
      "Processing timeout  3 ...\n"
     ]
    },
    {
     "data": {
      "application/vnd.jupyter.widget-view+json": {
       "model_id": "9924e9b587ae4177a2836216b892bcda",
       "version_major": 2,
       "version_minor": 0
      },
      "text/plain": [
       "  0%|          | 0/232 [00:00<?, ?it/s]"
      ]
     },
     "metadata": {},
     "output_type": "display_data"
    },
    {
     "name": "stdout",
     "output_type": "stream",
     "text": [
      "labels shape before dedup (547557, 3)\n",
      "labels shape after dedup (396761, 3)\n"
     ]
    },
    {
     "data": {
      "application/vnd.jupyter.widget-view+json": {
       "model_id": "0a52c8fd96ff416aa63c8777e783412f",
       "version_major": 2,
       "version_minor": 0
      },
      "text/plain": [
       "  0%|          | 0/232 [00:00<?, ?it/s]"
      ]
     },
     "metadata": {},
     "output_type": "display_data"
    },
    {
     "name": "stdout",
     "output_type": "stream",
     "text": [
      "labels shape before dedup (371624, 3)\n",
      "labels shape after dedup (249126, 3)\n"
     ]
    },
    {
     "data": {
      "application/vnd.jupyter.widget-view+json": {
       "model_id": "26bee05f3a75428dab036611314cb86c",
       "version_major": 2,
       "version_minor": 0
      },
      "text/plain": [
       "  0%|          | 0/232 [00:00<?, ?it/s]"
      ]
     },
     "metadata": {},
     "output_type": "display_data"
    },
    {
     "name": "stdout",
     "output_type": "stream",
     "text": [
      "labels shape before dedup (362076, 3)\n",
      "labels shape after dedup (258728, 3)\n"
     ]
    },
    {
     "data": {
      "application/vnd.jupyter.widget-view+json": {
       "model_id": "d2f316f390b243e29e12768413807df5",
       "version_major": 2,
       "version_minor": 0
      },
      "text/plain": [
       "  0%|          | 0/232 [00:00<?, ?it/s]"
      ]
     },
     "metadata": {},
     "output_type": "display_data"
    },
    {
     "name": "stdout",
     "output_type": "stream",
     "text": [
      "labels shape before dedup (322078, 3)\n",
      "labels shape after dedup (211729, 3)\n"
     ]
    },
    {
     "data": {
      "application/vnd.jupyter.widget-view+json": {
       "model_id": "89adb20edfc245d59869eb74210e3405",
       "version_major": 2,
       "version_minor": 0
      },
      "text/plain": [
       "  0%|          | 0/232 [00:00<?, ?it/s]"
      ]
     },
     "metadata": {},
     "output_type": "display_data"
    },
    {
     "name": "stdout",
     "output_type": "stream",
     "text": [
      "labels shape before dedup (496641, 3)\n",
      "labels shape after dedup (243486, 3)\n",
      "Benign                        1563559\n",
      "DoS Hulk                       190221\n",
      "Portscan                       159747\n",
      "DoS GoldenEye                  104772\n",
      "DDoS                            94783\n",
      "Infiltration - Portscan         68493\n",
      "DoS Slowloris                   30087\n",
      "DoS Slowhttptest                18985\n",
      "FTP-Patator                      3972\n",
      "SSH-Patator                      2960\n",
      "Botnet                            757\n",
      "Web Attack - Brute Force           74\n",
      "Web Attack - XSS                   21\n",
      "Web Attack - SQL Injection         13\n",
      "Infiltration                        7\n",
      "Heartbleed                          1\n",
      "Name: Attack, dtype: int64\n",
      "______________________________________________\n",
      "Processing timeout  4 ...\n"
     ]
    },
    {
     "data": {
      "application/vnd.jupyter.widget-view+json": {
       "model_id": "778e1bf7a80d49d3b4b068771610308e",
       "version_major": 2,
       "version_minor": 0
      },
      "text/plain": [
       "  0%|          | 0/232 [00:00<?, ?it/s]"
      ]
     },
     "metadata": {},
     "output_type": "display_data"
    },
    {
     "name": "stdout",
     "output_type": "stream",
     "text": [
      "labels shape before dedup (547557, 3)\n",
      "labels shape after dedup (396761, 3)\n"
     ]
    },
    {
     "data": {
      "application/vnd.jupyter.widget-view+json": {
       "model_id": "3295c0befaac4c50b393157a8f06a1ae",
       "version_major": 2,
       "version_minor": 0
      },
      "text/plain": [
       "  0%|          | 0/232 [00:00<?, ?it/s]"
      ]
     },
     "metadata": {},
     "output_type": "display_data"
    },
    {
     "name": "stdout",
     "output_type": "stream",
     "text": [
      "labels shape before dedup (371624, 3)\n",
      "labels shape after dedup (249126, 3)\n"
     ]
    },
    {
     "data": {
      "application/vnd.jupyter.widget-view+json": {
       "model_id": "fe8792f1bcae47c5a62ab2d3284b93c1",
       "version_major": 2,
       "version_minor": 0
      },
      "text/plain": [
       "  0%|          | 0/232 [00:00<?, ?it/s]"
      ]
     },
     "metadata": {},
     "output_type": "display_data"
    },
    {
     "name": "stdout",
     "output_type": "stream",
     "text": [
      "labels shape before dedup (362076, 3)\n",
      "labels shape after dedup (258728, 3)\n"
     ]
    },
    {
     "data": {
      "application/vnd.jupyter.widget-view+json": {
       "model_id": "479e4456c96e415cac4a76b0c9ae5609",
       "version_major": 2,
       "version_minor": 0
      },
      "text/plain": [
       "  0%|          | 0/232 [00:00<?, ?it/s]"
      ]
     },
     "metadata": {},
     "output_type": "display_data"
    },
    {
     "name": "stdout",
     "output_type": "stream",
     "text": [
      "labels shape before dedup (322078, 3)\n",
      "labels shape after dedup (211729, 3)\n"
     ]
    },
    {
     "data": {
      "application/vnd.jupyter.widget-view+json": {
       "model_id": "9305795ed6f84ac3bd2465ad67b0342b",
       "version_major": 2,
       "version_minor": 0
      },
      "text/plain": [
       "  0%|          | 0/232 [00:00<?, ?it/s]"
      ]
     },
     "metadata": {},
     "output_type": "display_data"
    },
    {
     "name": "stdout",
     "output_type": "stream",
     "text": [
      "labels shape before dedup (496641, 3)\n",
      "labels shape after dedup (243486, 3)\n",
      "Benign                        1562947\n",
      "DoS Hulk                       190208\n",
      "Portscan                       159747\n",
      "DoS GoldenEye                  104770\n",
      "DDoS                            94783\n",
      "Infiltration - Portscan         68493\n",
      "DoS Slowloris                   30076\n",
      "DoS Slowhttptest                18983\n",
      "FTP-Patator                      3972\n",
      "SSH-Patator                      2960\n",
      "Botnet                            757\n",
      "Web Attack - Brute Force           74\n",
      "Web Attack - XSS                   21\n",
      "Web Attack - SQL Injection         13\n",
      "Infiltration                        7\n",
      "Heartbleed                          1\n",
      "Name: Attack, dtype: int64\n",
      "______________________________________________\n",
      "Processing timeout  5 ...\n"
     ]
    },
    {
     "data": {
      "application/vnd.jupyter.widget-view+json": {
       "model_id": "ee23f7116a2e445899f16e1e96f6caaa",
       "version_major": 2,
       "version_minor": 0
      },
      "text/plain": [
       "  0%|          | 0/232 [00:00<?, ?it/s]"
      ]
     },
     "metadata": {},
     "output_type": "display_data"
    },
    {
     "name": "stdout",
     "output_type": "stream",
     "text": [
      "labels shape before dedup (547557, 3)\n",
      "labels shape after dedup (396761, 3)\n"
     ]
    },
    {
     "data": {
      "application/vnd.jupyter.widget-view+json": {
       "model_id": "e698147577164e968dce179c3ce398ce",
       "version_major": 2,
       "version_minor": 0
      },
      "text/plain": [
       "  0%|          | 0/232 [00:00<?, ?it/s]"
      ]
     },
     "metadata": {},
     "output_type": "display_data"
    },
    {
     "name": "stdout",
     "output_type": "stream",
     "text": [
      "labels shape before dedup (371624, 3)\n",
      "labels shape after dedup (249126, 3)\n"
     ]
    },
    {
     "data": {
      "application/vnd.jupyter.widget-view+json": {
       "model_id": "a2b7765d0e3a4a759cf849eb1c016bcc",
       "version_major": 2,
       "version_minor": 0
      },
      "text/plain": [
       "  0%|          | 0/232 [00:00<?, ?it/s]"
      ]
     },
     "metadata": {},
     "output_type": "display_data"
    },
    {
     "name": "stdout",
     "output_type": "stream",
     "text": [
      "labels shape before dedup (362076, 3)\n",
      "labels shape after dedup (258728, 3)\n"
     ]
    },
    {
     "data": {
      "application/vnd.jupyter.widget-view+json": {
       "model_id": "c3ba9591db3f412b98c2d61aea127f89",
       "version_major": 2,
       "version_minor": 0
      },
      "text/plain": [
       "  0%|          | 0/232 [00:00<?, ?it/s]"
      ]
     },
     "metadata": {},
     "output_type": "display_data"
    },
    {
     "name": "stdout",
     "output_type": "stream",
     "text": [
      "labels shape before dedup (322078, 3)\n",
      "labels shape after dedup (211729, 3)\n"
     ]
    },
    {
     "data": {
      "application/vnd.jupyter.widget-view+json": {
       "model_id": "968c5112a7af487ab84a7263c80116e4",
       "version_major": 2,
       "version_minor": 0
      },
      "text/plain": [
       "  0%|          | 0/232 [00:00<?, ?it/s]"
      ]
     },
     "metadata": {},
     "output_type": "display_data"
    },
    {
     "name": "stdout",
     "output_type": "stream",
     "text": [
      "labels shape before dedup (496641, 3)\n",
      "labels shape after dedup (243486, 3)\n",
      "Benign                        1557772\n",
      "DoS Hulk                       190208\n",
      "Portscan                       159747\n",
      "DoS GoldenEye                  104770\n",
      "DDoS                            94783\n",
      "Infiltration - Portscan         68493\n",
      "DoS Slowloris                   30076\n",
      "DoS Slowhttptest                18983\n",
      "FTP-Patator                      3972\n",
      "SSH-Patator                      2960\n",
      "Botnet                            757\n",
      "Web Attack - Brute Force           74\n",
      "Web Attack - XSS                   21\n",
      "Web Attack - SQL Injection         13\n",
      "Infiltration                        7\n",
      "Heartbleed                          1\n",
      "Name: Attack, dtype: int64\n",
      "______________________________________________\n",
      "Processing timeout  6 ...\n"
     ]
    },
    {
     "data": {
      "application/vnd.jupyter.widget-view+json": {
       "model_id": "56ab8362c23044fe9f4dd4e778eb9a9c",
       "version_major": 2,
       "version_minor": 0
      },
      "text/plain": [
       "  0%|          | 0/232 [00:00<?, ?it/s]"
      ]
     },
     "metadata": {},
     "output_type": "display_data"
    },
    {
     "name": "stdout",
     "output_type": "stream",
     "text": [
      "labels shape before dedup (547557, 3)\n",
      "labels shape after dedup (396761, 3)\n"
     ]
    },
    {
     "data": {
      "application/vnd.jupyter.widget-view+json": {
       "model_id": "599c9c22c68d41188a2df53223f4c7dc",
       "version_major": 2,
       "version_minor": 0
      },
      "text/plain": [
       "  0%|          | 0/232 [00:00<?, ?it/s]"
      ]
     },
     "metadata": {},
     "output_type": "display_data"
    },
    {
     "name": "stdout",
     "output_type": "stream",
     "text": [
      "labels shape before dedup (371624, 3)\n",
      "labels shape after dedup (249126, 3)\n"
     ]
    },
    {
     "data": {
      "application/vnd.jupyter.widget-view+json": {
       "model_id": "b912d05f08ea4f6dbb8b9a869606e607",
       "version_major": 2,
       "version_minor": 0
      },
      "text/plain": [
       "  0%|          | 0/232 [00:00<?, ?it/s]"
      ]
     },
     "metadata": {},
     "output_type": "display_data"
    },
    {
     "name": "stdout",
     "output_type": "stream",
     "text": [
      "labels shape before dedup (362076, 3)\n",
      "labels shape after dedup (258728, 3)\n"
     ]
    },
    {
     "data": {
      "application/vnd.jupyter.widget-view+json": {
       "model_id": "5d8ddd6a139a467b86b7fedbb3399c94",
       "version_major": 2,
       "version_minor": 0
      },
      "text/plain": [
       "  0%|          | 0/232 [00:00<?, ?it/s]"
      ]
     },
     "metadata": {},
     "output_type": "display_data"
    },
    {
     "name": "stdout",
     "output_type": "stream",
     "text": [
      "labels shape before dedup (322078, 3)\n",
      "labels shape after dedup (211729, 3)\n"
     ]
    },
    {
     "data": {
      "application/vnd.jupyter.widget-view+json": {
       "model_id": "9bba6b59ef66476cab99034a2eb87108",
       "version_major": 2,
       "version_minor": 0
      },
      "text/plain": [
       "  0%|          | 0/232 [00:00<?, ?it/s]"
      ]
     },
     "metadata": {},
     "output_type": "display_data"
    },
    {
     "name": "stdout",
     "output_type": "stream",
     "text": [
      "labels shape before dedup (496641, 3)\n",
      "labels shape after dedup (243486, 3)\n",
      "Benign                        1556712\n",
      "DoS Hulk                       189908\n",
      "Portscan                       159747\n",
      "DoS GoldenEye                  104620\n",
      "DDoS                            94783\n",
      "Infiltration - Portscan         68493\n",
      "DoS Slowloris                   29997\n",
      "DoS Slowhttptest                18833\n",
      "FTP-Patator                      3972\n",
      "SSH-Patator                      2960\n",
      "Botnet                            757\n",
      "Web Attack - Brute Force           74\n",
      "Web Attack - XSS                   21\n",
      "Web Attack - SQL Injection         13\n",
      "Infiltration                        7\n",
      "Heartbleed                          1\n",
      "Name: Attack, dtype: int64\n",
      "______________________________________________\n",
      "Processing timeout  10 ...\n"
     ]
    },
    {
     "data": {
      "application/vnd.jupyter.widget-view+json": {
       "model_id": "e664a35aebb04c3ab45535fcf7df96c4",
       "version_major": 2,
       "version_minor": 0
      },
      "text/plain": [
       "  0%|          | 0/232 [00:00<?, ?it/s]"
      ]
     },
     "metadata": {},
     "output_type": "display_data"
    },
    {
     "name": "stdout",
     "output_type": "stream",
     "text": [
      "labels shape before dedup (547557, 3)\n",
      "labels shape after dedup (396761, 3)\n"
     ]
    },
    {
     "data": {
      "application/vnd.jupyter.widget-view+json": {
       "model_id": "5d353f774c574b8cb3ba8cc2a0030fe9",
       "version_major": 2,
       "version_minor": 0
      },
      "text/plain": [
       "  0%|          | 0/232 [00:00<?, ?it/s]"
      ]
     },
     "metadata": {},
     "output_type": "display_data"
    },
    {
     "name": "stdout",
     "output_type": "stream",
     "text": [
      "labels shape before dedup (371624, 3)\n",
      "labels shape after dedup (249126, 3)\n"
     ]
    },
    {
     "data": {
      "application/vnd.jupyter.widget-view+json": {
       "model_id": "1013179b774e4d069defaabb4e9088c6",
       "version_major": 2,
       "version_minor": 0
      },
      "text/plain": [
       "  0%|          | 0/232 [00:00<?, ?it/s]"
      ]
     },
     "metadata": {},
     "output_type": "display_data"
    },
    {
     "name": "stdout",
     "output_type": "stream",
     "text": [
      "labels shape before dedup (362076, 3)\n",
      "labels shape after dedup (258728, 3)\n"
     ]
    },
    {
     "data": {
      "application/vnd.jupyter.widget-view+json": {
       "model_id": "d579d0d3a8c542abbd04674257b42523",
       "version_major": 2,
       "version_minor": 0
      },
      "text/plain": [
       "  0%|          | 0/232 [00:00<?, ?it/s]"
      ]
     },
     "metadata": {},
     "output_type": "display_data"
    },
    {
     "name": "stdout",
     "output_type": "stream",
     "text": [
      "labels shape before dedup (322078, 3)\n",
      "labels shape after dedup (211729, 3)\n"
     ]
    },
    {
     "data": {
      "application/vnd.jupyter.widget-view+json": {
       "model_id": "f3dd73363ef143d294a7174ce3219473",
       "version_major": 2,
       "version_minor": 0
      },
      "text/plain": [
       "  0%|          | 0/232 [00:00<?, ?it/s]"
      ]
     },
     "metadata": {},
     "output_type": "display_data"
    },
    {
     "name": "stdout",
     "output_type": "stream",
     "text": [
      "labels shape before dedup (496641, 3)\n",
      "labels shape after dedup (243486, 3)\n",
      "Benign                        1553464\n",
      "DoS Hulk                       189828\n",
      "Portscan                       159747\n",
      "DoS GoldenEye                  104618\n",
      "DDoS                            94783\n",
      "Infiltration - Portscan         68492\n",
      "DoS Slowloris                   29947\n",
      "DoS Slowhttptest                18831\n",
      "FTP-Patator                      3972\n",
      "SSH-Patator                      2960\n",
      "Botnet                            757\n",
      "Web Attack - Brute Force           74\n",
      "Web Attack - XSS                   21\n",
      "Web Attack - SQL Injection         13\n",
      "Infiltration                        6\n",
      "Heartbleed                          1\n",
      "Name: Attack, dtype: int64\n",
      "______________________________________________\n",
      "Processing timeout  30 ...\n"
     ]
    },
    {
     "data": {
      "application/vnd.jupyter.widget-view+json": {
       "model_id": "21930bb7982b4d8b866bf4a52358816d",
       "version_major": 2,
       "version_minor": 0
      },
      "text/plain": [
       "  0%|          | 0/232 [00:00<?, ?it/s]"
      ]
     },
     "metadata": {},
     "output_type": "display_data"
    },
    {
     "name": "stdout",
     "output_type": "stream",
     "text": [
      "labels shape before dedup (547557, 3)\n",
      "labels shape after dedup (396761, 3)\n"
     ]
    },
    {
     "data": {
      "application/vnd.jupyter.widget-view+json": {
       "model_id": "3eb1f19c40b243659acd0684e6eae7bf",
       "version_major": 2,
       "version_minor": 0
      },
      "text/plain": [
       "  0%|          | 0/232 [00:00<?, ?it/s]"
      ]
     },
     "metadata": {},
     "output_type": "display_data"
    },
    {
     "name": "stdout",
     "output_type": "stream",
     "text": [
      "labels shape before dedup (371624, 3)\n",
      "labels shape after dedup (249126, 3)\n"
     ]
    },
    {
     "data": {
      "application/vnd.jupyter.widget-view+json": {
       "model_id": "87b403516d7442c4b2eff87b20a82122",
       "version_major": 2,
       "version_minor": 0
      },
      "text/plain": [
       "  0%|          | 0/232 [00:00<?, ?it/s]"
      ]
     },
     "metadata": {},
     "output_type": "display_data"
    },
    {
     "name": "stdout",
     "output_type": "stream",
     "text": [
      "labels shape before dedup (362076, 3)\n",
      "labels shape after dedup (258728, 3)\n"
     ]
    },
    {
     "data": {
      "application/vnd.jupyter.widget-view+json": {
       "model_id": "acb46a184b494e8294052bd943a482d8",
       "version_major": 2,
       "version_minor": 0
      },
      "text/plain": [
       "  0%|          | 0/232 [00:00<?, ?it/s]"
      ]
     },
     "metadata": {},
     "output_type": "display_data"
    },
    {
     "name": "stdout",
     "output_type": "stream",
     "text": [
      "labels shape before dedup (322078, 3)\n",
      "labels shape after dedup (211729, 3)\n"
     ]
    },
    {
     "data": {
      "application/vnd.jupyter.widget-view+json": {
       "model_id": "3feae70152534a79bba0d10ca10f9f84",
       "version_major": 2,
       "version_minor": 0
      },
      "text/plain": [
       "  0%|          | 0/232 [00:00<?, ?it/s]"
      ]
     },
     "metadata": {},
     "output_type": "display_data"
    },
    {
     "name": "stdout",
     "output_type": "stream",
     "text": [
      "labels shape before dedup (496641, 3)\n",
      "labels shape after dedup (243486, 3)\n",
      "Benign                        1547140\n",
      "DoS Hulk                       189705\n",
      "Portscan                       159747\n",
      "DoS GoldenEye                  104496\n",
      "DDoS                            94783\n",
      "Infiltration - Portscan         68492\n",
      "DoS Slowloris                   29947\n",
      "DoS Slowhttptest                18705\n",
      "FTP-Patator                      3972\n",
      "SSH-Patator                      2960\n",
      "Botnet                            757\n",
      "Web Attack - Brute Force           74\n",
      "Web Attack - XSS                   21\n",
      "Web Attack - SQL Injection         13\n",
      "Infiltration                        6\n",
      "Heartbleed                          1\n",
      "Name: Attack, dtype: int64\n",
      "______________________________________________\n",
      "Processing timeout  60 ...\n"
     ]
    },
    {
     "data": {
      "application/vnd.jupyter.widget-view+json": {
       "model_id": "dc59113f725249e7bf864327bf9f812d",
       "version_major": 2,
       "version_minor": 0
      },
      "text/plain": [
       "  0%|          | 0/232 [00:00<?, ?it/s]"
      ]
     },
     "metadata": {},
     "output_type": "display_data"
    },
    {
     "name": "stdout",
     "output_type": "stream",
     "text": [
      "labels shape before dedup (547557, 3)\n",
      "labels shape after dedup (396761, 3)\n"
     ]
    },
    {
     "data": {
      "application/vnd.jupyter.widget-view+json": {
       "model_id": "0cd39c1d6ddd42e780d30ff119234663",
       "version_major": 2,
       "version_minor": 0
      },
      "text/plain": [
       "  0%|          | 0/232 [00:00<?, ?it/s]"
      ]
     },
     "metadata": {},
     "output_type": "display_data"
    },
    {
     "name": "stdout",
     "output_type": "stream",
     "text": [
      "labels shape before dedup (371624, 3)\n",
      "labels shape after dedup (249126, 3)\n"
     ]
    },
    {
     "data": {
      "application/vnd.jupyter.widget-view+json": {
       "model_id": "2540e42bff164f029e68a91c13afac6f",
       "version_major": 2,
       "version_minor": 0
      },
      "text/plain": [
       "  0%|          | 0/232 [00:00<?, ?it/s]"
      ]
     },
     "metadata": {},
     "output_type": "display_data"
    },
    {
     "name": "stdout",
     "output_type": "stream",
     "text": [
      "labels shape before dedup (362076, 3)\n",
      "labels shape after dedup (258728, 3)\n"
     ]
    },
    {
     "data": {
      "application/vnd.jupyter.widget-view+json": {
       "model_id": "e12038874d884ca483a6cb773e7c93e1",
       "version_major": 2,
       "version_minor": 0
      },
      "text/plain": [
       "  0%|          | 0/232 [00:00<?, ?it/s]"
      ]
     },
     "metadata": {},
     "output_type": "display_data"
    },
    {
     "name": "stdout",
     "output_type": "stream",
     "text": [
      "labels shape before dedup (322078, 3)\n",
      "labels shape after dedup (211729, 3)\n"
     ]
    },
    {
     "data": {
      "application/vnd.jupyter.widget-view+json": {
       "model_id": "93c0cb3012744d59a1204e5696919bc0",
       "version_major": 2,
       "version_minor": 0
      },
      "text/plain": [
       "  0%|          | 0/232 [00:00<?, ?it/s]"
      ]
     },
     "metadata": {},
     "output_type": "display_data"
    },
    {
     "name": "stdout",
     "output_type": "stream",
     "text": [
      "labels shape before dedup (496641, 3)\n",
      "labels shape after dedup (243486, 3)\n",
      "Benign                        1546954\n",
      "DoS Hulk                       189705\n",
      "Portscan                       159747\n",
      "DoS GoldenEye                  104496\n",
      "DDoS                            94783\n",
      "Infiltration - Portscan         68492\n",
      "DoS Slowloris                   29947\n",
      "DoS Slowhttptest                18705\n",
      "FTP-Patator                      3972\n",
      "SSH-Patator                      2960\n",
      "Botnet                            757\n",
      "Web Attack - Brute Force           74\n",
      "Web Attack - XSS                   21\n",
      "Web Attack - SQL Injection         13\n",
      "Infiltration                        6\n",
      "Heartbleed                          1\n",
      "Name: Attack, dtype: int64\n",
      "______________________________________________\n"
     ]
    }
   ],
   "source": [
    "for timeout in timeouts:\n",
    "    print(\"Processing timeout \", timeout, \"...\")\n",
    "    #out_dir = f'/home/abdelkader.elmahdaou/lustre/data_sec-um6p-st-sccs-6sevvl76uja/IDS/mahdaouy/fixed_timeouts_v2/new_idle_{idle}min_active_{active}min/CUPID'\n",
    "    out_dir=f'/home/meryem.janati/lustre/nlp_team-um6p-st-sccs-id7fz1zvotk/IDS/janati/IDS/Datasets/cicids17/Zeek/timeout{timeout}/'\n",
    "    path=f'/home/meryem.janati/lustre/nlp_team-um6p-st-sccs-id7fz1zvotk/IDS/janati/IDS/Datasets/cicids17/Zeek/timeout{timeout}/conn_logs/'\n",
    "\n",
    "    df = load_years_dfs(path)\n",
    "    df = df.rename(columns={\"Label\": \"Attack\"})\n",
    "    df.loc[df['Attack'] == 'BENIGN', 'Attack' ] = 'Benign'\n",
    "    df = df[df['Attempted Category'] == -1]\n",
    "    df = df.drop(columns=['Flow ID', 'Attempted Category', 'protocol'])\n",
    "    print(df['Attack'].value_counts())\n",
    "    df.to_csv(f'{out_dir}/CIC-IDS-2017_zeek_{timeout}.csv', index=False, header=True)\n",
    "    print(\"______________________________________________\")\n",
    "    "
   ]
  },
  {
   "cell_type": "code",
   "execution_count": null,
   "metadata": {},
   "outputs": [],
   "source": []
  },
  {
   "cell_type": "markdown",
   "metadata": {},
   "source": [
    "Processing with default timeout parameter"
   ]
  },
  {
   "cell_type": "code",
   "execution_count": null,
   "metadata": {},
   "outputs": [],
   "source": [
    "print(\"Processing with default timeout parameters ...\")\n",
    "#out_dir = f'/home/abdelkader.elmahdaou/lustre/data_sec-um6p-st-sccs-6sevvl76uja/IDS/mahdaouy/fixed_timeouts_v2/new_idle_{idle}min_active_{active}min/CUPID'\n",
    "out_dir=f'/home/meryem.janati/lustre/nlp_team-um6p-st-sccs-id7fz1zvotk/IDS/janati/IDS/Datasets/cicids17/Zeek/default/'\n",
    "path=f'/home/meryem.janati/lustre/nlp_team-um6p-st-sccs-id7fz1zvotk/IDS/janati/IDS/Datasets/cicids17/Zeek/default/conn_logs/'\n",
    "\n",
    "df = load_years_dfs(path)\n",
    "df = df.rename(columns={\"Label\": \"Attack\"})\n",
    "df.loc[df['Attack'] == 'BENIGN', 'Attack' ] = 'Benign'\n",
    "df = df[df['Attempted Category'] == -1]\n",
    "df = df.drop(columns=['Flow ID', 'Attempted Category', 'protocol'])\n",
    "print(df['Attack'].value_counts())\n",
    "df.to_csv(f'{out_dir}/CIC-IDS-2017_zeek_default.csv', index=False, header=True)\n",
    "print(\"______________________________________________\")\n"
   ]
  },
  {
   "cell_type": "code",
   "execution_count": null,
   "metadata": {},
   "outputs": [],
   "source": []
  }
 ],
 "metadata": {
  "kernelspec": {
   "display_name": "FedLab",
   "language": "python",
   "name": "fedlab"
  },
  "language_info": {
   "codemirror_mode": {
    "name": "ipython",
    "version": 3
   },
   "file_extension": ".py",
   "mimetype": "text/x-python",
   "name": "python",
   "nbconvert_exporter": "python",
   "pygments_lexer": "ipython3",
   "version": "3.8.5"
  }
 },
 "nbformat": 4,
 "nbformat_minor": 5
}
