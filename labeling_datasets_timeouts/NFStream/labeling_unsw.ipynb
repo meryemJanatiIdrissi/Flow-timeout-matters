{
 "cells": [
  {
   "cell_type": "code",
   "execution_count": 1,
   "metadata": {},
   "outputs": [],
   "source": [
    "import pandas as pd\n",
    "import socket\n",
    "import numpy as np\n",
    "import glob\n",
    "from datetime import datetime, timedelta\n",
    "pd.set_option('display.max_columns', 200)\n",
    "pd.set_option('display.max_rows', 200)\n",
    "import warnings\n",
    "warnings.filterwarnings(\"ignore\")"
   ]
  },
  {
   "cell_type": "code",
   "execution_count": 2,
   "metadata": {},
   "outputs": [],
   "source": [
    "def get_proto_bysocket(proto_name, proto_dict):\n",
    "    try:\n",
    "        proto_num = socket.getprotobyname(proto_name)\n",
    "\n",
    "    except:\n",
    "        proto_num = proto_dict[proto_name]\n",
    "    return proto_num\n",
    "\n",
    "def get_proto_dict(path='protocol-numbers-1-1.csv'):\n",
    "    '''\n",
    "    protocol-numbers-1.csv from 'https://www.iana.org/assignments/protocol-numbers/protocol-numbers.xhtml'\n",
    "    and a part of proto dict from 'https://datatracker.ietf.org/doc/html/rfc1340'\n",
    "    '''\n",
    "\n",
    "    proto_df = pd.read_csv(path)\n",
    "    proto_df = proto_df.drop(proto_df[proto_df['Decimal']=='144-252'].index)\n",
    "    proto_df[proto_df['Decimal']=='61']=proto_df[proto_df['Decimal']=='61'].fillna('any')\n",
    "    proto_df[proto_df['Decimal']=='63']=proto_df[proto_df['Decimal']=='63'].fillna('any')\n",
    "    proto_df[proto_df['Decimal']=='68']=proto_df[proto_df['Decimal']=='68'].fillna('any')\n",
    "    proto_df[proto_df['Decimal']=='99']=proto_df[proto_df['Decimal']=='99'].fillna('any')\n",
    "    proto_df[proto_df['Decimal']=='114']=proto_df[proto_df['Decimal']=='114'].fillna('any')\n",
    "    proto_df[proto_df['Decimal']=='253']=proto_df[proto_df['Decimal']=='253'].fillna('Use for experimentation and testing')\n",
    "    proto_df[proto_df['Decimal']=='254']=proto_df[proto_df['Decimal']=='254'].fillna('Use for experimentation and testing')\n",
    "    print(proto_df.shape)\n",
    "    for i in range(144, 253):\n",
    "        proto_df = pd.concat([proto_df, pd.DataFrame([{'Decimal': i, 'Keyword': 'unas'}])]) #proto_df.append({'Decimal': i, 'Keyword': 'unas'}, ignore_index=True)\n",
    "    print(proto_df.shape)\n",
    "    proto_df['Keyword'] = proto_df['Keyword'].apply(lambda x: str(x).lower())\n",
    "    proto_df['Keyword'] = proto_df['Keyword'].apply(lambda x: str(x).replace(' (deprecated)', ''))\n",
    "    proto_df['Decimal'] = proto_df['Decimal'].apply(lambda x: int(x))\n",
    "\n",
    "    proto_df = proto_df.sort_values('Decimal')\n",
    "    proto_df = proto_df.reset_index()\n",
    "    proto_df = proto_df[['Keyword', 'Decimal']]\n",
    "\n",
    "    proto_dict = proto_df.set_index('Keyword')['Decimal'].to_dict()#proto_df.set_index('Keyword').to_dict('Decimal')['Decimal']\n",
    "\n",
    "    proto_dict['ipnip'] = 4\n",
    "    proto_dict['st2'] = 5\n",
    "    proto_dict['bbn-rcc'] = 10\n",
    "    proto_dict['nvp'] = 11\n",
    "    proto_dict['dcn'] = 19\n",
    "    proto_dict['sep'] = 33\n",
    "    proto_dict['mhrp'] = 48\n",
    "    proto_dict['ipv6-no'] = 59\n",
    "    proto_dict['aes-sp3-d'] = 96\n",
    "    proto_dict['ipx-n-ip'] = 111\n",
    "    proto_dict['sccopmce'] = 128\n",
    "\n",
    "    proto_dict['zero'] = -1\n",
    "    proto_dict['ib'] = -1\n",
    "    proto_dict['pri-enc'] = -1\n",
    "    return proto_dict\n",
    "\n",
    "def convert_proto_num(proto_num):\n",
    "    if proto_num in [61, 63, 68, 99, 114]:\n",
    "        proto_num = 114\n",
    "    elif proto_num == 253 or proto_num == 254:\n",
    "         proto_num = 254\n",
    "    elif 144 <= proto_num <= 252:\n",
    "        proto_num = 252\n",
    "    else:\n",
    "        return proto_num\n",
    "    return proto_num\n",
    "\n",
    "\n",
    "\n",
    "def read_label(path, proto_dict):\n",
    "    data = pd.read_csv(path)\n",
    "\n",
    "    data_cols = ['Start time', 'Last time', 'Source IP', 'Source Port', 'Destination IP', 'Destination Port', 'Protocol', 'Attack category']\n",
    "    col_list = ['Start time', 'Last time','src_ip', 'src_port', 'dst_ip', 'dst_port', 'protocol', 'label']\n",
    "\n",
    "    label_df=pd.DataFrame()\n",
    "    label_df[col_list] = data[data_cols]       \n",
    "    label_df['protocol'] = label_df['protocol'].apply(lambda x: get_proto_bysocket(x, proto_dict))\n",
    "    label_df['protocol'] = label_df['protocol'].astype('int')\n",
    "    return label_df\n",
    "\n",
    "def convert_time(time):\n",
    "    new_time = time / 1000 \n",
    "    return int(new_time)\n"
   ]
  },
  {
   "cell_type": "code",
   "execution_count": 3,
   "metadata": {},
   "outputs": [],
   "source": [
    "def add_directionflip(lbl):\n",
    "    if lbl ==\"Normal\":\n",
    "        return lbl\n",
    "    else:\n",
    "        return \"direction_flip:\"+lbl"
   ]
  },
  {
   "cell_type": "code",
   "execution_count": 4,
   "metadata": {},
   "outputs": [],
   "source": [
    " def add_label(label_df, nfs_data):\n",
    "        \n",
    "        nfs_data['ori_protocol'] = nfs_data['protocol']\n",
    "        nfs_data['protocol'] = nfs_data['protocol'].apply(lambda x: convert_proto_num(x))\n",
    "        #nfs_data['timestamp'] = nfs_data['bidirectional_first_seen_ms'].apply(lambda x: convert_time(x))\n",
    "        \n",
    "        mer_key = ['src_ip', 'src_port', 'dst_ip', 'dst_port', 'protocol']\n",
    "        labeled_data_1 = pd.merge(nfs_data, label_df, on=mer_key, how='left')\n",
    "        labeled_data_1['label'] = labeled_data_1['label'].fillna('Normal')\n",
    "        labeled_data_1['label'] = labeled_data_1['label'].str.strip()\n",
    "\n",
    "        labeled_data_1.drop_duplicates(subset=['id'], keep=False, inplace=True) \n",
    "        \n",
    "        label_df_2 = label_df.rename(columns={'src_ip': 'dst_ip', 'dst_ip': \"src_ip\", 'src_port': 'dst_port', 'dst_port': \"src_port\"})\n",
    "        labeled_data_2 = pd.merge(nfs_data, label_df_2, on=mer_key, how='left')\n",
    "        labeled_data_2['label'] = labeled_data_2['label'].fillna('Normal')\n",
    "        labeled_data_2['label'] = labeled_data_2['label'].str.strip()\n",
    "        labeled_data_2['label'] = labeled_data_2['label'].apply(lambda x: add_directionflip(x))\n",
    "        \n",
    "        labeled_data_2.drop_duplicates(subset=['id'], keep=False, inplace=True) \n",
    "        # label conuts\n",
    "        print('-------merge_label 1-------')\n",
    "        print(labeled_data_1['label'].value_counts())\n",
    "        print(labeled_data_1.shape[0])\n",
    "        \n",
    "        print('-------merge_label 2-------')\n",
    "        print(labeled_data_2['label'].value_counts())\n",
    "        print(labeled_data_2.shape[0])\n",
    "        return labeled_data_1, labeled_data_2"
   ]
  },
  {
   "cell_type": "code",
   "execution_count": 5,
   "metadata": {},
   "outputs": [],
   "source": [
    "import math\n",
    "def validate_row(row):\n",
    "    flow_start = math.ceil(row['bidirectional_first_seen_ms']/1000)\n",
    "    flow_end = math.floor(row['bidirectional_last_seen_ms']/1000)\n",
    "    if row['label'] != \"Normal\":\n",
    "        condition = (flow_start >= row['Start time'] and  flow_start <= row['Last time']) or (flow_end >= row['Start time'] and  flow_end <= row['Last time'])             \n",
    "        if condition:\n",
    "            return \"valide\"\n",
    "        else:\n",
    "            return \"invalid\"\n",
    "    else:\n",
    "        return \"Check Dupp Normal\""
   ]
  },
  {
   "cell_type": "code",
   "execution_count": 6,
   "metadata": {},
   "outputs": [
    {
     "name": "stdout",
     "output_type": "stream",
     "text": [
      "(148, 5)\n",
      "(257, 5)\n"
     ]
    }
   ],
   "source": [
    "proto_dict = get_proto_dict()"
   ]
  },
  {
   "cell_type": "code",
   "execution_count": 7,
   "metadata": {},
   "outputs": [
    {
     "data": {
      "text/plain": [
       "[('hopopt', 0),\n",
       " ('icmp', 1),\n",
       " ('igmp', 2),\n",
       " ('ggp', 3),\n",
       " ('ipv4', 4),\n",
       " ('st', 5),\n",
       " ('tcp', 6),\n",
       " ('cbt', 7),\n",
       " ('egp', 8),\n",
       " ('igp', 9)]"
      ]
     },
     "execution_count": 7,
     "metadata": {},
     "output_type": "execute_result"
    }
   ],
   "source": [
    "list(proto_dict.items())[:10]"
   ]
  },
  {
   "cell_type": "code",
   "execution_count": 8,
   "metadata": {},
   "outputs": [],
   "source": [
    "label_df = read_label(\"NUSW-NB15_GT.csv\", proto_dict)"
   ]
  },
  {
   "cell_type": "code",
   "execution_count": 9,
   "metadata": {},
   "outputs": [
    {
     "data": {
      "text/html": [
       "<div>\n",
       "<style scoped>\n",
       "    .dataframe tbody tr th:only-of-type {\n",
       "        vertical-align: middle;\n",
       "    }\n",
       "\n",
       "    .dataframe tbody tr th {\n",
       "        vertical-align: top;\n",
       "    }\n",
       "\n",
       "    .dataframe thead th {\n",
       "        text-align: right;\n",
       "    }\n",
       "</style>\n",
       "<table border=\"1\" class=\"dataframe\">\n",
       "  <thead>\n",
       "    <tr style=\"text-align: right;\">\n",
       "      <th></th>\n",
       "      <th>Start time</th>\n",
       "      <th>Last time</th>\n",
       "      <th>src_ip</th>\n",
       "      <th>src_port</th>\n",
       "      <th>dst_ip</th>\n",
       "      <th>dst_port</th>\n",
       "      <th>protocol</th>\n",
       "      <th>label</th>\n",
       "    </tr>\n",
       "  </thead>\n",
       "  <tbody>\n",
       "    <tr>\n",
       "      <th>0</th>\n",
       "      <td>1421927414</td>\n",
       "      <td>1421927416</td>\n",
       "      <td>175.45.176.0</td>\n",
       "      <td>13284</td>\n",
       "      <td>149.171.126.16</td>\n",
       "      <td>80</td>\n",
       "      <td>6</td>\n",
       "      <td>Reconnaissance</td>\n",
       "    </tr>\n",
       "    <tr>\n",
       "      <th>1</th>\n",
       "      <td>1421927415</td>\n",
       "      <td>1421927415</td>\n",
       "      <td>175.45.176.3</td>\n",
       "      <td>21223</td>\n",
       "      <td>149.171.126.18</td>\n",
       "      <td>32780</td>\n",
       "      <td>17</td>\n",
       "      <td>Exploits</td>\n",
       "    </tr>\n",
       "    <tr>\n",
       "      <th>2</th>\n",
       "      <td>1421927416</td>\n",
       "      <td>1421927416</td>\n",
       "      <td>175.45.176.2</td>\n",
       "      <td>23357</td>\n",
       "      <td>149.171.126.16</td>\n",
       "      <td>80</td>\n",
       "      <td>6</td>\n",
       "      <td>Exploits</td>\n",
       "    </tr>\n",
       "    <tr>\n",
       "      <th>3</th>\n",
       "      <td>1421927417</td>\n",
       "      <td>1421927417</td>\n",
       "      <td>175.45.176.2</td>\n",
       "      <td>13792</td>\n",
       "      <td>149.171.126.16</td>\n",
       "      <td>5555</td>\n",
       "      <td>6</td>\n",
       "      <td>Exploits</td>\n",
       "    </tr>\n",
       "    <tr>\n",
       "      <th>4</th>\n",
       "      <td>1421927418</td>\n",
       "      <td>1421927418</td>\n",
       "      <td>175.45.176.2</td>\n",
       "      <td>26939</td>\n",
       "      <td>149.171.126.10</td>\n",
       "      <td>80</td>\n",
       "      <td>6</td>\n",
       "      <td>Exploits</td>\n",
       "    </tr>\n",
       "  </tbody>\n",
       "</table>\n",
       "</div>"
      ],
      "text/plain": [
       "   Start time   Last time        src_ip  src_port          dst_ip  dst_port   \n",
       "0  1421927414  1421927416  175.45.176.0     13284  149.171.126.16        80  \\\n",
       "1  1421927415  1421927415  175.45.176.3     21223  149.171.126.18     32780   \n",
       "2  1421927416  1421927416  175.45.176.2     23357  149.171.126.16        80   \n",
       "3  1421927417  1421927417  175.45.176.2     13792  149.171.126.16      5555   \n",
       "4  1421927418  1421927418  175.45.176.2     26939  149.171.126.10        80   \n",
       "\n",
       "   protocol           label  \n",
       "0         6  Reconnaissance  \n",
       "1        17        Exploits  \n",
       "2         6        Exploits  \n",
       "3         6        Exploits  \n",
       "4         6        Exploits  "
      ]
     },
     "execution_count": 9,
     "metadata": {},
     "output_type": "execute_result"
    }
   ],
   "source": [
    "label_df.head()"
   ]
  },
  {
   "cell_type": "code",
   "execution_count": 10,
   "metadata": {},
   "outputs": [],
   "source": [
    "timeouts = [(3,30)]#[(0.5,2), (1, 2), (2,2), (0.5,3), (1,3), (2, 3), (3,3), (0.5,4), (1, 4), (2,4), (3,4), (4,4), (0.5,5), (1,5), (2,5), (3,5), (4,5), (5,5), (0.5, 30), (1, 30), (2,30), (3,30), (4,30), (5,30), (10, 30), (0.5, 60), (1, 60), (2,60), (3,60), (4,60), (5,60), (10, 60)]"
   ]
  },
  {
   "cell_type": "code",
   "execution_count": 11,
   "metadata": {},
   "outputs": [
    {
     "name": "stdout",
     "output_type": "stream",
     "text": [
      "-------merge_label 1-------\n",
      "label\n",
      "Normal            1979370\n",
      "Exploits            22598\n",
      "Fuzzers             18451\n",
      "Reconnaissance      11506\n",
      "Generic              3646\n",
      "DoS                  3473\n",
      "Shellcode            1511\n",
      "Analysis              307\n",
      "Backdoor              302\n",
      "Worms                 158\n",
      "Backdoors              46\n",
      "Name: count, dtype: int64\n",
      "2041368\n",
      "-------merge_label 2-------\n",
      "label\n",
      "Normal                           2047273\n",
      "direction_flip:Exploits               27\n",
      "direction_flip:Fuzzers                16\n",
      "direction_flip:Reconnaissance          7\n",
      "direction_flip:DoS                     6\n",
      "direction_flip:Generic                 5\n",
      "direction_flip:Worms                   1\n",
      "Name: count, dtype: int64\n",
      "2047335\n",
      "True\n",
      "Attack\n",
      "Benign                           1985340\n",
      "Exploits                           22593\n",
      "Fuzzers                            18415\n",
      "Reconnaissance                     11504\n",
      "Generic                             3646\n",
      "DoS                                 3468\n",
      "Shellcode                           1511\n",
      "Backdoors                            348\n",
      "Analysis                             307\n",
      "Worms                                158\n",
      "direction_flip:Exploits               23\n",
      "direction_flip:Fuzzers                16\n",
      "direction_flip:Reconnaissance          7\n",
      "direction_flip:DoS                     4\n",
      "direction_flip:Generic                 3\n",
      "direction_flip:Worms                   1\n",
      "Name: count, dtype: int64\n"
     ]
    }
   ],
   "source": [
    "for timeout in timeouts:\n",
    "    idle, active = timeout\n",
    "    out_dir = f'/home/abdelkader.elmahdaou/lustre/data_sec-um6p-st-sccs-6sevvl76uja/IDS/mahdaouy/fixed_timeouts_v2/new_idle_{idle}min_active_{active}min/UNSW-NB15'\n",
    "    files = glob.glob(out_dir+'/temp/*.csv')\n",
    "    dfs = []\n",
    "    for file in files:\n",
    "        df = pd.read_csv(file)\n",
    "        dfs.append(df)\n",
    "    data_nfs = pd.concat(dfs)\n",
    "    data_nfs[\"id\"] = range(0, data_nfs.shape[0])\n",
    "    \n",
    "    labeled_data_1, labeled_data_2  = add_label(label_df, data_nfs)\n",
    "    \n",
    "    df_all = pd.concat([labeled_data_1, labeled_data_2])\n",
    "    df_all[\"valid\"] = df_all.apply(lambda x: validate_row(x), axis = 1)\n",
    "    \n",
    "    df_all_normal = df_all[df_all.label =='Normal']\n",
    "    df_all_valid_attacks = df_all[df_all.valid =='valide']\n",
    "    \n",
    "    df_all_normal.drop_duplicates(subset=['id'], keep='first', inplace=True) \n",
    "    df_all_valid_attacks.drop_duplicates(subset=['id'], keep=False, inplace=True) \n",
    "    df_valid_ids = df_all_valid_attacks.id.tolist()\n",
    "    df_all_normal = df_all_normal[~df_all_normal.id.isin(df_valid_ids)]\n",
    "    \n",
    "    df_labeled = pd.concat([df_all_normal, df_all_valid_attacks])\n",
    "    df_labeled.drop_duplicates(subset=['id'], keep=False, inplace=True) \n",
    "    df_labeled['protocol'] = df_labeled['ori_protocol']\n",
    "    \n",
    "    df_labeled = df_labeled.drop(['Start time', 'Last time', 'valid', 'ori_protocol'], axis=1)\n",
    "    df_labeled = df_labeled.rename(columns={'label': 'Attack'})\n",
    "    df_labeled['Attack'] = df_labeled['Attack'].replace({'Backdoor':'Backdoors'})\n",
    "    df_labeled['Attack'] = df_labeled['Attack'].replace({'Normal':'Benign'})\n",
    "    \n",
    "    print(df_labeled.shape[0] == data_nfs.shape[0])\n",
    "    print(df_labeled.Attack.value_counts())\n",
    "    df_labeled.to_csv(out_dir+\"/UNSW-NB15.csv\", index=False, header=True)"
   ]
  },
  {
   "cell_type": "code",
   "execution_count": 12,
   "metadata": {},
   "outputs": [
    {
     "data": {
      "text/plain": [
       "1"
      ]
     },
     "execution_count": 12,
     "metadata": {},
     "output_type": "execute_result"
    }
   ],
   "source": [
    "1"
   ]
  },
  {
   "cell_type": "code",
   "execution_count": 13,
   "metadata": {},
   "outputs": [
    {
     "data": {
      "text/plain": [
       "1"
      ]
     },
     "execution_count": 13,
     "metadata": {},
     "output_type": "execute_result"
    }
   ],
   "source": [
    "1"
   ]
  },
  {
   "cell_type": "code",
   "execution_count": null,
   "metadata": {},
   "outputs": [],
   "source": []
  }
 ],
 "metadata": {
  "kernelspec": {
   "display_name": "FedLab",
   "language": "python",
   "name": "fedlab"
  },
  "language_info": {
   "codemirror_mode": {
    "name": "ipython",
    "version": 3
   },
   "file_extension": ".py",
   "mimetype": "text/x-python",
   "name": "python",
   "nbconvert_exporter": "python",
   "pygments_lexer": "ipython3",
   "version": "3.8.5"
  }
 },
 "nbformat": 4,
 "nbformat_minor": 5
}
